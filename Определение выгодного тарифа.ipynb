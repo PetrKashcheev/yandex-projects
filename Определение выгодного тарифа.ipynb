{
 "cells": [
  {
   "cell_type": "markdown",
   "metadata": {},
   "source": [
    "# Определение перспективного тарифа"
   ]
  },
  {
   "cell_type": "markdown",
   "metadata": {},
   "source": [
    "Нам предстоит определить какой из двух тарифов(смарт или ультра) выгоднее продвигать компании Мегалайн\n",
    "Узнаем мы это исходя из данных о пользователях предоставленных Мегалайном. \n"
   ]
  },
  {
   "cell_type": "markdown",
   "metadata": {},
   "source": [
    "## Изучение данных"
   ]
  },
  {
   "cell_type": "code",
   "execution_count": 1,
   "metadata": {},
   "outputs": [],
   "source": [
    "import pandas as pd\n",
    "from IPython.display import HTML, display\n",
    "import numpy as np\n",
    "import matplotlib.pyplot as plt \n",
    "from scipy import stats as st"
   ]
  },
  {
   "cell_type": "code",
   "execution_count": 2,
   "metadata": {},
   "outputs": [],
   "source": [
    "df = pd.read_csv('C:\\\\Users\\\\SpectNSK\\\\Desktop\\\\projects\\\\data set\\\\stat_analiz\\\\calls.csv')\n",
    "df2 = pd.read_csv('C:\\\\Users\\\\SpectNSK\\\\Desktop\\\\projects\\\\data set\\\\stat_analiz\\\\internet.csv', index_col=0 )\n",
    "df3 = pd.read_csv('C:\\\\Users\\\\SpectNSK\\\\Desktop\\\\projects\\\\data set\\\\stat_analiz\\\\messages.csv')\n",
    "df4 = pd.read_csv('C:\\\\Users\\\\SpectNSK\\\\Desktop\\\\projects\\\\data set\\\\stat_analiz\\\\tariffs.csv')\n",
    "df5 = pd.read_csv('C:\\\\Users\\\\SpectNSK\\\\Desktop\\\\projects\\\\data set\\\\stat_analiz\\\\users.csv')"
   ]
  },
  {
   "cell_type": "code",
   "execution_count": 3,
   "metadata": {},
   "outputs": [
    {
     "name": "stdout",
     "output_type": "stream",
     "text": [
      "<class 'pandas.core.frame.DataFrame'>\n",
      "RangeIndex: 202607 entries, 0 to 202606\n",
      "Data columns (total 4 columns):\n",
      " #   Column     Non-Null Count   Dtype  \n",
      "---  ------     --------------   -----  \n",
      " 0   id         202607 non-null  object \n",
      " 1   call_date  202607 non-null  object \n",
      " 2   duration   202607 non-null  float64\n",
      " 3   user_id    202607 non-null  int64  \n",
      "dtypes: float64(1), int64(1), object(2)\n",
      "memory usage: 6.2+ MB\n"
     ]
    },
    {
     "data": {
      "text/html": [
       "<div>\n",
       "<style scoped>\n",
       "    .dataframe tbody tr th:only-of-type {\n",
       "        vertical-align: middle;\n",
       "    }\n",
       "\n",
       "    .dataframe tbody tr th {\n",
       "        vertical-align: top;\n",
       "    }\n",
       "\n",
       "    .dataframe thead th {\n",
       "        text-align: right;\n",
       "    }\n",
       "</style>\n",
       "<table border=\"1\" class=\"dataframe\">\n",
       "  <thead>\n",
       "    <tr style=\"text-align: right;\">\n",
       "      <th></th>\n",
       "      <th>id</th>\n",
       "      <th>call_date</th>\n",
       "      <th>duration</th>\n",
       "      <th>user_id</th>\n",
       "    </tr>\n",
       "  </thead>\n",
       "  <tbody>\n",
       "    <tr>\n",
       "      <th>0</th>\n",
       "      <td>1000_0</td>\n",
       "      <td>2018-07-25</td>\n",
       "      <td>0.00</td>\n",
       "      <td>1000</td>\n",
       "    </tr>\n",
       "    <tr>\n",
       "      <th>1</th>\n",
       "      <td>1000_1</td>\n",
       "      <td>2018-08-17</td>\n",
       "      <td>0.00</td>\n",
       "      <td>1000</td>\n",
       "    </tr>\n",
       "    <tr>\n",
       "      <th>2</th>\n",
       "      <td>1000_2</td>\n",
       "      <td>2018-06-11</td>\n",
       "      <td>2.85</td>\n",
       "      <td>1000</td>\n",
       "    </tr>\n",
       "    <tr>\n",
       "      <th>3</th>\n",
       "      <td>1000_3</td>\n",
       "      <td>2018-09-21</td>\n",
       "      <td>13.80</td>\n",
       "      <td>1000</td>\n",
       "    </tr>\n",
       "    <tr>\n",
       "      <th>4</th>\n",
       "      <td>1000_4</td>\n",
       "      <td>2018-12-15</td>\n",
       "      <td>5.18</td>\n",
       "      <td>1000</td>\n",
       "    </tr>\n",
       "  </tbody>\n",
       "</table>\n",
       "</div>"
      ],
      "text/plain": [
       "       id   call_date  duration  user_id\n",
       "0  1000_0  2018-07-25      0.00     1000\n",
       "1  1000_1  2018-08-17      0.00     1000\n",
       "2  1000_2  2018-06-11      2.85     1000\n",
       "3  1000_3  2018-09-21     13.80     1000\n",
       "4  1000_4  2018-12-15      5.18     1000"
      ]
     },
     "metadata": {},
     "output_type": "display_data"
    },
    {
     "name": "stdout",
     "output_type": "stream",
     "text": [
      "id           0.0\n",
      "call_date    0.0\n",
      "duration     0.0\n",
      "user_id      0.0\n",
      "dtype: float64\n"
     ]
    }
   ],
   "source": [
    "df.info()\n",
    "display(df.head())\n",
    "print(df.isna().mean())"
   ]
  },
  {
   "cell_type": "code",
   "execution_count": 4,
   "metadata": {},
   "outputs": [
    {
     "name": "stdout",
     "output_type": "stream",
     "text": [
      "<class 'pandas.core.frame.DataFrame'>\n",
      "Int64Index: 149396 entries, 0 to 149395\n",
      "Data columns (total 4 columns):\n",
      " #   Column        Non-Null Count   Dtype  \n",
      "---  ------        --------------   -----  \n",
      " 0   id            149396 non-null  object \n",
      " 1   mb_used       149396 non-null  float64\n",
      " 2   session_date  149396 non-null  object \n",
      " 3   user_id       149396 non-null  int64  \n",
      "dtypes: float64(1), int64(1), object(2)\n",
      "memory usage: 5.7+ MB\n"
     ]
    },
    {
     "data": {
      "text/html": [
       "<div>\n",
       "<style scoped>\n",
       "    .dataframe tbody tr th:only-of-type {\n",
       "        vertical-align: middle;\n",
       "    }\n",
       "\n",
       "    .dataframe tbody tr th {\n",
       "        vertical-align: top;\n",
       "    }\n",
       "\n",
       "    .dataframe thead th {\n",
       "        text-align: right;\n",
       "    }\n",
       "</style>\n",
       "<table border=\"1\" class=\"dataframe\">\n",
       "  <thead>\n",
       "    <tr style=\"text-align: right;\">\n",
       "      <th></th>\n",
       "      <th>id</th>\n",
       "      <th>mb_used</th>\n",
       "      <th>session_date</th>\n",
       "      <th>user_id</th>\n",
       "    </tr>\n",
       "  </thead>\n",
       "  <tbody>\n",
       "    <tr>\n",
       "      <th>149391</th>\n",
       "      <td>1499_152</td>\n",
       "      <td>318.90</td>\n",
       "      <td>2018-10-03</td>\n",
       "      <td>1499</td>\n",
       "    </tr>\n",
       "    <tr>\n",
       "      <th>149392</th>\n",
       "      <td>1499_153</td>\n",
       "      <td>490.13</td>\n",
       "      <td>2018-12-14</td>\n",
       "      <td>1499</td>\n",
       "    </tr>\n",
       "    <tr>\n",
       "      <th>149393</th>\n",
       "      <td>1499_154</td>\n",
       "      <td>0.00</td>\n",
       "      <td>2018-10-27</td>\n",
       "      <td>1499</td>\n",
       "    </tr>\n",
       "    <tr>\n",
       "      <th>149394</th>\n",
       "      <td>1499_155</td>\n",
       "      <td>1246.32</td>\n",
       "      <td>2018-11-26</td>\n",
       "      <td>1499</td>\n",
       "    </tr>\n",
       "    <tr>\n",
       "      <th>149395</th>\n",
       "      <td>1499_156</td>\n",
       "      <td>544.37</td>\n",
       "      <td>2018-10-26</td>\n",
       "      <td>1499</td>\n",
       "    </tr>\n",
       "  </tbody>\n",
       "</table>\n",
       "</div>"
      ],
      "text/plain": [
       "              id  mb_used session_date  user_id\n",
       "149391  1499_152   318.90   2018-10-03     1499\n",
       "149392  1499_153   490.13   2018-12-14     1499\n",
       "149393  1499_154     0.00   2018-10-27     1499\n",
       "149394  1499_155  1246.32   2018-11-26     1499\n",
       "149395  1499_156   544.37   2018-10-26     1499"
      ]
     },
     "metadata": {},
     "output_type": "display_data"
    },
    {
     "name": "stdout",
     "output_type": "stream",
     "text": [
      "id              0.0\n",
      "mb_used         0.0\n",
      "session_date    0.0\n",
      "user_id         0.0\n",
      "dtype: float64\n"
     ]
    }
   ],
   "source": [
    "df2.info()\n",
    "display(df2.tail())\n",
    "print(df2.isna().mean())"
   ]
  },
  {
   "cell_type": "code",
   "execution_count": 5,
   "metadata": {},
   "outputs": [
    {
     "name": "stdout",
     "output_type": "stream",
     "text": [
      "<class 'pandas.core.frame.DataFrame'>\n",
      "RangeIndex: 123036 entries, 0 to 123035\n",
      "Data columns (total 3 columns):\n",
      " #   Column        Non-Null Count   Dtype \n",
      "---  ------        --------------   ----- \n",
      " 0   id            123036 non-null  object\n",
      " 1   message_date  123036 non-null  object\n",
      " 2   user_id       123036 non-null  int64 \n",
      "dtypes: int64(1), object(2)\n",
      "memory usage: 2.8+ MB\n"
     ]
    },
    {
     "data": {
      "text/html": [
       "<div>\n",
       "<style scoped>\n",
       "    .dataframe tbody tr th:only-of-type {\n",
       "        vertical-align: middle;\n",
       "    }\n",
       "\n",
       "    .dataframe tbody tr th {\n",
       "        vertical-align: top;\n",
       "    }\n",
       "\n",
       "    .dataframe thead th {\n",
       "        text-align: right;\n",
       "    }\n",
       "</style>\n",
       "<table border=\"1\" class=\"dataframe\">\n",
       "  <thead>\n",
       "    <tr style=\"text-align: right;\">\n",
       "      <th></th>\n",
       "      <th>id</th>\n",
       "      <th>message_date</th>\n",
       "      <th>user_id</th>\n",
       "    </tr>\n",
       "  </thead>\n",
       "  <tbody>\n",
       "    <tr>\n",
       "      <th>0</th>\n",
       "      <td>1000_0</td>\n",
       "      <td>2018-06-27</td>\n",
       "      <td>1000</td>\n",
       "    </tr>\n",
       "    <tr>\n",
       "      <th>1</th>\n",
       "      <td>1000_1</td>\n",
       "      <td>2018-10-08</td>\n",
       "      <td>1000</td>\n",
       "    </tr>\n",
       "    <tr>\n",
       "      <th>2</th>\n",
       "      <td>1000_2</td>\n",
       "      <td>2018-08-04</td>\n",
       "      <td>1000</td>\n",
       "    </tr>\n",
       "    <tr>\n",
       "      <th>3</th>\n",
       "      <td>1000_3</td>\n",
       "      <td>2018-06-16</td>\n",
       "      <td>1000</td>\n",
       "    </tr>\n",
       "    <tr>\n",
       "      <th>4</th>\n",
       "      <td>1000_4</td>\n",
       "      <td>2018-12-05</td>\n",
       "      <td>1000</td>\n",
       "    </tr>\n",
       "  </tbody>\n",
       "</table>\n",
       "</div>"
      ],
      "text/plain": [
       "       id message_date  user_id\n",
       "0  1000_0   2018-06-27     1000\n",
       "1  1000_1   2018-10-08     1000\n",
       "2  1000_2   2018-08-04     1000\n",
       "3  1000_3   2018-06-16     1000\n",
       "4  1000_4   2018-12-05     1000"
      ]
     },
     "metadata": {},
     "output_type": "display_data"
    },
    {
     "name": "stdout",
     "output_type": "stream",
     "text": [
      "id              0.0\n",
      "message_date    0.0\n",
      "user_id         0.0\n",
      "dtype: float64\n"
     ]
    }
   ],
   "source": [
    "df3.info()\n",
    "display(df3.head())\n",
    "print(df3.isna().mean())"
   ]
  },
  {
   "cell_type": "code",
   "execution_count": 6,
   "metadata": {},
   "outputs": [
    {
     "name": "stdout",
     "output_type": "stream",
     "text": [
      "<class 'pandas.core.frame.DataFrame'>\n",
      "RangeIndex: 2 entries, 0 to 1\n",
      "Data columns (total 8 columns):\n",
      " #   Column                 Non-Null Count  Dtype \n",
      "---  ------                 --------------  ----- \n",
      " 0   messages_included      2 non-null      int64 \n",
      " 1   mb_per_month_included  2 non-null      int64 \n",
      " 2   minutes_included       2 non-null      int64 \n",
      " 3   rub_monthly_fee        2 non-null      int64 \n",
      " 4   rub_per_gb             2 non-null      int64 \n",
      " 5   rub_per_message        2 non-null      int64 \n",
      " 6   rub_per_minute         2 non-null      int64 \n",
      " 7   tariff_name            2 non-null      object\n",
      "dtypes: int64(7), object(1)\n",
      "memory usage: 256.0+ bytes\n"
     ]
    },
    {
     "data": {
      "text/html": [
       "<div>\n",
       "<style scoped>\n",
       "    .dataframe tbody tr th:only-of-type {\n",
       "        vertical-align: middle;\n",
       "    }\n",
       "\n",
       "    .dataframe tbody tr th {\n",
       "        vertical-align: top;\n",
       "    }\n",
       "\n",
       "    .dataframe thead th {\n",
       "        text-align: right;\n",
       "    }\n",
       "</style>\n",
       "<table border=\"1\" class=\"dataframe\">\n",
       "  <thead>\n",
       "    <tr style=\"text-align: right;\">\n",
       "      <th></th>\n",
       "      <th>messages_included</th>\n",
       "      <th>mb_per_month_included</th>\n",
       "      <th>minutes_included</th>\n",
       "      <th>rub_monthly_fee</th>\n",
       "      <th>rub_per_gb</th>\n",
       "      <th>rub_per_message</th>\n",
       "      <th>rub_per_minute</th>\n",
       "      <th>tariff_name</th>\n",
       "    </tr>\n",
       "  </thead>\n",
       "  <tbody>\n",
       "    <tr>\n",
       "      <th>0</th>\n",
       "      <td>50</td>\n",
       "      <td>15360</td>\n",
       "      <td>500</td>\n",
       "      <td>550</td>\n",
       "      <td>200</td>\n",
       "      <td>3</td>\n",
       "      <td>3</td>\n",
       "      <td>smart</td>\n",
       "    </tr>\n",
       "    <tr>\n",
       "      <th>1</th>\n",
       "      <td>1000</td>\n",
       "      <td>30720</td>\n",
       "      <td>3000</td>\n",
       "      <td>1950</td>\n",
       "      <td>150</td>\n",
       "      <td>1</td>\n",
       "      <td>1</td>\n",
       "      <td>ultra</td>\n",
       "    </tr>\n",
       "  </tbody>\n",
       "</table>\n",
       "</div>"
      ],
      "text/plain": [
       "   messages_included  mb_per_month_included  minutes_included  \\\n",
       "0                 50                  15360               500   \n",
       "1               1000                  30720              3000   \n",
       "\n",
       "   rub_monthly_fee  rub_per_gb  rub_per_message  rub_per_minute tariff_name  \n",
       "0              550         200                3               3       smart  \n",
       "1             1950         150                1               1       ultra  "
      ]
     },
     "metadata": {},
     "output_type": "display_data"
    },
    {
     "name": "stdout",
     "output_type": "stream",
     "text": [
      "messages_included        0.0\n",
      "mb_per_month_included    0.0\n",
      "minutes_included         0.0\n",
      "rub_monthly_fee          0.0\n",
      "rub_per_gb               0.0\n",
      "rub_per_message          0.0\n",
      "rub_per_minute           0.0\n",
      "tariff_name              0.0\n",
      "dtype: float64\n"
     ]
    }
   ],
   "source": [
    "df4.info()\n",
    "display(df4.head())\n",
    "print(df4.isna().mean())"
   ]
  },
  {
   "cell_type": "code",
   "execution_count": 7,
   "metadata": {
    "scrolled": true
   },
   "outputs": [
    {
     "name": "stdout",
     "output_type": "stream",
     "text": [
      "<class 'pandas.core.frame.DataFrame'>\n",
      "RangeIndex: 500 entries, 0 to 499\n",
      "Data columns (total 8 columns):\n",
      " #   Column      Non-Null Count  Dtype \n",
      "---  ------      --------------  ----- \n",
      " 0   user_id     500 non-null    int64 \n",
      " 1   age         500 non-null    int64 \n",
      " 2   churn_date  38 non-null     object\n",
      " 3   city        500 non-null    object\n",
      " 4   first_name  500 non-null    object\n",
      " 5   last_name   500 non-null    object\n",
      " 6   reg_date    500 non-null    object\n",
      " 7   tariff      500 non-null    object\n",
      "dtypes: int64(2), object(6)\n",
      "memory usage: 31.4+ KB\n"
     ]
    },
    {
     "data": {
      "text/html": [
       "<div>\n",
       "<style scoped>\n",
       "    .dataframe tbody tr th:only-of-type {\n",
       "        vertical-align: middle;\n",
       "    }\n",
       "\n",
       "    .dataframe tbody tr th {\n",
       "        vertical-align: top;\n",
       "    }\n",
       "\n",
       "    .dataframe thead th {\n",
       "        text-align: right;\n",
       "    }\n",
       "</style>\n",
       "<table border=\"1\" class=\"dataframe\">\n",
       "  <thead>\n",
       "    <tr style=\"text-align: right;\">\n",
       "      <th></th>\n",
       "      <th>user_id</th>\n",
       "      <th>age</th>\n",
       "      <th>churn_date</th>\n",
       "      <th>city</th>\n",
       "      <th>first_name</th>\n",
       "      <th>last_name</th>\n",
       "      <th>reg_date</th>\n",
       "      <th>tariff</th>\n",
       "    </tr>\n",
       "  </thead>\n",
       "  <tbody>\n",
       "    <tr>\n",
       "      <th>0</th>\n",
       "      <td>1000</td>\n",
       "      <td>52</td>\n",
       "      <td>NaN</td>\n",
       "      <td>Краснодар</td>\n",
       "      <td>Рафаил</td>\n",
       "      <td>Верещагин</td>\n",
       "      <td>2018-05-25</td>\n",
       "      <td>ultra</td>\n",
       "    </tr>\n",
       "    <tr>\n",
       "      <th>1</th>\n",
       "      <td>1001</td>\n",
       "      <td>41</td>\n",
       "      <td>NaN</td>\n",
       "      <td>Москва</td>\n",
       "      <td>Иван</td>\n",
       "      <td>Ежов</td>\n",
       "      <td>2018-11-01</td>\n",
       "      <td>smart</td>\n",
       "    </tr>\n",
       "    <tr>\n",
       "      <th>2</th>\n",
       "      <td>1002</td>\n",
       "      <td>59</td>\n",
       "      <td>NaN</td>\n",
       "      <td>Стерлитамак</td>\n",
       "      <td>Евгений</td>\n",
       "      <td>Абрамович</td>\n",
       "      <td>2018-06-17</td>\n",
       "      <td>smart</td>\n",
       "    </tr>\n",
       "    <tr>\n",
       "      <th>3</th>\n",
       "      <td>1003</td>\n",
       "      <td>23</td>\n",
       "      <td>NaN</td>\n",
       "      <td>Москва</td>\n",
       "      <td>Белла</td>\n",
       "      <td>Белякова</td>\n",
       "      <td>2018-08-17</td>\n",
       "      <td>ultra</td>\n",
       "    </tr>\n",
       "    <tr>\n",
       "      <th>4</th>\n",
       "      <td>1004</td>\n",
       "      <td>68</td>\n",
       "      <td>NaN</td>\n",
       "      <td>Новокузнецк</td>\n",
       "      <td>Татьяна</td>\n",
       "      <td>Авдеенко</td>\n",
       "      <td>2018-05-14</td>\n",
       "      <td>ultra</td>\n",
       "    </tr>\n",
       "  </tbody>\n",
       "</table>\n",
       "</div>"
      ],
      "text/plain": [
       "   user_id  age churn_date         city first_name  last_name    reg_date  \\\n",
       "0     1000   52        NaN    Краснодар     Рафаил  Верещагин  2018-05-25   \n",
       "1     1001   41        NaN       Москва       Иван       Ежов  2018-11-01   \n",
       "2     1002   59        NaN  Стерлитамак    Евгений  Абрамович  2018-06-17   \n",
       "3     1003   23        NaN       Москва      Белла   Белякова  2018-08-17   \n",
       "4     1004   68        NaN  Новокузнецк    Татьяна   Авдеенко  2018-05-14   \n",
       "\n",
       "  tariff  \n",
       "0  ultra  \n",
       "1  smart  \n",
       "2  smart  \n",
       "3  ultra  \n",
       "4  ultra  "
      ]
     },
     "metadata": {},
     "output_type": "display_data"
    },
    {
     "name": "stdout",
     "output_type": "stream",
     "text": [
      "user_id       0.000\n",
      "age           0.000\n",
      "churn_date    0.924\n",
      "city          0.000\n",
      "first_name    0.000\n",
      "last_name     0.000\n",
      "reg_date      0.000\n",
      "tariff        0.000\n",
      "dtype: float64\n"
     ]
    }
   ],
   "source": [
    "df5.info()\n",
    "display(df5.head())\n",
    "print(df5.isna().mean())"
   ]
  },
  {
   "cell_type": "markdown",
   "metadata": {},
   "source": [
    "### Вывод: У нас 5 маленьких таблиц, в которых отсутствуют пропуски.  Это отличная новость, ведь я в цейтноте. Плохая новость в том,что их 5"
   ]
  },
  {
   "cell_type": "markdown",
   "metadata": {},
   "source": [
    "## Подготовка данных"
   ]
  },
  {
   "cell_type": "markdown",
   "metadata": {},
   "source": [
    "Нулевые значения в звонках могут быть как недозвоны так и входящие звонки. С нулевыми значениями в данных транифика сложнее, кроме сбоев можно предположить какие-то минимальные значения, например получения уведомления. Из-за округления до мб,они могли просто отобразиться 0\n",
    "    И те и другие данные,не сильно искажают общие показатели,не вижу смысла их удалять. Как обработать я придумать не смог\n",
    "\n"
   ]
  },
  {
   "cell_type": "code",
   "execution_count": 8,
   "metadata": {
    "scrolled": false
   },
   "outputs": [
    {
     "name": "stdout",
     "output_type": "stream",
     "text": [
      "   user_id  month  duration\n",
      "0     1000      5     159.0\n",
      "1     1000      6     172.0\n",
      "2     1000      7     340.0\n",
      "3     1000      8     408.0\n",
      "4     1000      9     466.0\n"
     ]
    }
   ],
   "source": [
    "df['call_date'] = pd.to_datetime(df['call_date'], format='%Y-%m-%dT%H:%M:%S')\n",
    "df['month'] = df['call_date'].dt.month\n",
    "df['duration'] = np.ceil(df['duration'])\n",
    "calls = df.groupby(['user_id','month']).agg({'duration':'sum'}).reset_index()\n",
    "print(calls.head())"
   ]
  },
  {
   "cell_type": "code",
   "execution_count": 9,
   "metadata": {},
   "outputs": [
    {
     "data": {
      "text/html": [
       "<div>\n",
       "<style scoped>\n",
       "    .dataframe tbody tr th:only-of-type {\n",
       "        vertical-align: middle;\n",
       "    }\n",
       "\n",
       "    .dataframe tbody tr th {\n",
       "        vertical-align: top;\n",
       "    }\n",
       "\n",
       "    .dataframe thead th {\n",
       "        text-align: right;\n",
       "    }\n",
       "</style>\n",
       "<table border=\"1\" class=\"dataframe\">\n",
       "  <thead>\n",
       "    <tr style=\"text-align: right;\">\n",
       "      <th></th>\n",
       "      <th>user_id</th>\n",
       "      <th>month</th>\n",
       "      <th>mb_used</th>\n",
       "    </tr>\n",
       "  </thead>\n",
       "  <tbody>\n",
       "    <tr>\n",
       "      <th>0</th>\n",
       "      <td>1000</td>\n",
       "      <td>5</td>\n",
       "      <td>2253.49</td>\n",
       "    </tr>\n",
       "    <tr>\n",
       "      <th>1</th>\n",
       "      <td>1000</td>\n",
       "      <td>6</td>\n",
       "      <td>23233.77</td>\n",
       "    </tr>\n",
       "    <tr>\n",
       "      <th>2</th>\n",
       "      <td>1000</td>\n",
       "      <td>7</td>\n",
       "      <td>14003.64</td>\n",
       "    </tr>\n",
       "    <tr>\n",
       "      <th>3</th>\n",
       "      <td>1000</td>\n",
       "      <td>8</td>\n",
       "      <td>14055.93</td>\n",
       "    </tr>\n",
       "    <tr>\n",
       "      <th>4</th>\n",
       "      <td>1000</td>\n",
       "      <td>9</td>\n",
       "      <td>14568.91</td>\n",
       "    </tr>\n",
       "  </tbody>\n",
       "</table>\n",
       "</div>"
      ],
      "text/plain": [
       "   user_id  month   mb_used\n",
       "0     1000      5   2253.49\n",
       "1     1000      6  23233.77\n",
       "2     1000      7  14003.64\n",
       "3     1000      8  14055.93\n",
       "4     1000      9  14568.91"
      ]
     },
     "metadata": {},
     "output_type": "display_data"
    }
   ],
   "source": [
    "df2['session_date'] = pd.to_datetime(df2['session_date'], format='%Y-%m-%dT%H:%M:%S')\n",
    "df2['month'] = df2['session_date'].dt.month\n",
    "internet = df2.groupby(['user_id','month']).agg({'mb_used':'sum'}).reset_index()\n",
    "display(internet.head())"
   ]
  },
  {
   "cell_type": "code",
   "execution_count": 10,
   "metadata": {},
   "outputs": [
    {
     "data": {
      "text/html": [
       "<div>\n",
       "<style scoped>\n",
       "    .dataframe tbody tr th:only-of-type {\n",
       "        vertical-align: middle;\n",
       "    }\n",
       "\n",
       "    .dataframe tbody tr th {\n",
       "        vertical-align: top;\n",
       "    }\n",
       "\n",
       "    .dataframe thead th {\n",
       "        text-align: right;\n",
       "    }\n",
       "</style>\n",
       "<table border=\"1\" class=\"dataframe\">\n",
       "  <thead>\n",
       "    <tr style=\"text-align: right;\">\n",
       "      <th></th>\n",
       "      <th>user_id</th>\n",
       "      <th>month</th>\n",
       "      <th>message_count</th>\n",
       "    </tr>\n",
       "  </thead>\n",
       "  <tbody>\n",
       "    <tr>\n",
       "      <th>0</th>\n",
       "      <td>1000</td>\n",
       "      <td>5</td>\n",
       "      <td>22</td>\n",
       "    </tr>\n",
       "    <tr>\n",
       "      <th>1</th>\n",
       "      <td>1000</td>\n",
       "      <td>6</td>\n",
       "      <td>60</td>\n",
       "    </tr>\n",
       "    <tr>\n",
       "      <th>2</th>\n",
       "      <td>1000</td>\n",
       "      <td>7</td>\n",
       "      <td>75</td>\n",
       "    </tr>\n",
       "    <tr>\n",
       "      <th>3</th>\n",
       "      <td>1000</td>\n",
       "      <td>8</td>\n",
       "      <td>81</td>\n",
       "    </tr>\n",
       "    <tr>\n",
       "      <th>4</th>\n",
       "      <td>1000</td>\n",
       "      <td>9</td>\n",
       "      <td>57</td>\n",
       "    </tr>\n",
       "  </tbody>\n",
       "</table>\n",
       "</div>"
      ],
      "text/plain": [
       "   user_id  month  message_count\n",
       "0     1000      5             22\n",
       "1     1000      6             60\n",
       "2     1000      7             75\n",
       "3     1000      8             81\n",
       "4     1000      9             57"
      ]
     },
     "metadata": {},
     "output_type": "display_data"
    }
   ],
   "source": [
    "df3['message_date'] = pd.to_datetime(df3['message_date'], format='%Y-%m-%dT%H:%M:%S')\n",
    "df3['month'] = df3['message_date'].dt.month\n",
    "message = df3.groupby(['user_id','month']).agg({'message_date':'count'}).reset_index()\n",
    "message.columns = ['user_id', 'month', 'message_count']\n",
    "display(message.head())"
   ]
  },
  {
   "cell_type": "markdown",
   "metadata": {},
   "source": [
    "Помесячные показатели рассчитаны. Данные подготовлены к дальнейшим расчетам."
   ]
  },
  {
   "cell_type": "code",
   "execution_count": 11,
   "metadata": {},
   "outputs": [
    {
     "data": {
      "text/html": [
       "<div>\n",
       "<style scoped>\n",
       "    .dataframe tbody tr th:only-of-type {\n",
       "        vertical-align: middle;\n",
       "    }\n",
       "\n",
       "    .dataframe tbody tr th {\n",
       "        vertical-align: top;\n",
       "    }\n",
       "\n",
       "    .dataframe thead th {\n",
       "        text-align: right;\n",
       "    }\n",
       "</style>\n",
       "<table border=\"1\" class=\"dataframe\">\n",
       "  <thead>\n",
       "    <tr style=\"text-align: right;\">\n",
       "      <th></th>\n",
       "      <th>user_id</th>\n",
       "      <th>month</th>\n",
       "      <th>tariff</th>\n",
       "      <th>city</th>\n",
       "    </tr>\n",
       "  </thead>\n",
       "  <tbody>\n",
       "    <tr>\n",
       "      <th>0</th>\n",
       "      <td>1000</td>\n",
       "      <td>5</td>\n",
       "      <td>ultra</td>\n",
       "      <td>Краснодар</td>\n",
       "    </tr>\n",
       "    <tr>\n",
       "      <th>1</th>\n",
       "      <td>1001</td>\n",
       "      <td>11</td>\n",
       "      <td>smart</td>\n",
       "      <td>Москва</td>\n",
       "    </tr>\n",
       "    <tr>\n",
       "      <th>2</th>\n",
       "      <td>1002</td>\n",
       "      <td>6</td>\n",
       "      <td>smart</td>\n",
       "      <td>Стерлитамак</td>\n",
       "    </tr>\n",
       "    <tr>\n",
       "      <th>3</th>\n",
       "      <td>1003</td>\n",
       "      <td>8</td>\n",
       "      <td>ultra</td>\n",
       "      <td>Москва</td>\n",
       "    </tr>\n",
       "    <tr>\n",
       "      <th>4</th>\n",
       "      <td>1004</td>\n",
       "      <td>5</td>\n",
       "      <td>ultra</td>\n",
       "      <td>Новокузнецк</td>\n",
       "    </tr>\n",
       "  </tbody>\n",
       "</table>\n",
       "</div>"
      ],
      "text/plain": [
       "   user_id  month tariff         city\n",
       "0     1000      5  ultra    Краснодар\n",
       "1     1001     11  smart       Москва\n",
       "2     1002      6  smart  Стерлитамак\n",
       "3     1003      8  ultra       Москва\n",
       "4     1004      5  ultra  Новокузнецк"
      ]
     },
     "metadata": {},
     "output_type": "display_data"
    }
   ],
   "source": [
    "df5['reg_date'] = pd.to_datetime(df5['reg_date'], format='%Y-%m-%dT%H:%M:%S')\n",
    "df5['month'] = df5['reg_date'].dt.month\n",
    "users = df5.groupby(['user_id','month']).agg({'tariff':'first','city':'first'}).reset_index()\n",
    "\n",
    "display(users.head())"
   ]
  },
  {
   "cell_type": "code",
   "execution_count": 12,
   "metadata": {
    "scrolled": false
   },
   "outputs": [
    {
     "name": "stdout",
     "output_type": "stream",
     "text": [
      "<class 'pandas.core.frame.DataFrame'>\n",
      "RangeIndex: 2 entries, 0 to 1\n",
      "Data columns (total 8 columns):\n",
      " #   Column                 Non-Null Count  Dtype \n",
      "---  ------                 --------------  ----- \n",
      " 0   messages_included      2 non-null      int64 \n",
      " 1   mb_per_month_included  2 non-null      int64 \n",
      " 2   minutes_included       2 non-null      int64 \n",
      " 3   rub_monthly_fee        2 non-null      int64 \n",
      " 4   rub_per_gb             2 non-null      int64 \n",
      " 5   rub_per_message        2 non-null      int64 \n",
      " 6   rub_per_minute         2 non-null      int64 \n",
      " 7   tariff                 2 non-null      object\n",
      "dtypes: int64(7), object(1)\n",
      "memory usage: 256.0+ bytes\n"
     ]
    }
   ],
   "source": [
    "df4.columns = ['messages_included', 'mb_per_month_included', 'minutes_included' , 'rub_monthly_fee', 'rub_per_gb', 'rub_per_message', 'rub_per_minute', 'tariff' ]\n",
    "df4.info()  "
   ]
  },
  {
   "cell_type": "code",
   "execution_count": 13,
   "metadata": {},
   "outputs": [
    {
     "data": {
      "text/html": [
       "<div>\n",
       "<style scoped>\n",
       "    .dataframe tbody tr th:only-of-type {\n",
       "        vertical-align: middle;\n",
       "    }\n",
       "\n",
       "    .dataframe tbody tr th {\n",
       "        vertical-align: top;\n",
       "    }\n",
       "\n",
       "    .dataframe thead th {\n",
       "        text-align: right;\n",
       "    }\n",
       "</style>\n",
       "<table border=\"1\" class=\"dataframe\">\n",
       "  <thead>\n",
       "    <tr style=\"text-align: right;\">\n",
       "      <th></th>\n",
       "      <th>user_id</th>\n",
       "      <th>month</th>\n",
       "      <th>duration</th>\n",
       "      <th>message_count</th>\n",
       "      <th>mb_used</th>\n",
       "      <th>tariff</th>\n",
       "      <th>city</th>\n",
       "    </tr>\n",
       "  </thead>\n",
       "  <tbody>\n",
       "    <tr>\n",
       "      <th>0</th>\n",
       "      <td>1000</td>\n",
       "      <td>5</td>\n",
       "      <td>159.0</td>\n",
       "      <td>22.0</td>\n",
       "      <td>2253.49</td>\n",
       "      <td>ultra</td>\n",
       "      <td>Краснодар</td>\n",
       "    </tr>\n",
       "    <tr>\n",
       "      <th>1</th>\n",
       "      <td>1000</td>\n",
       "      <td>6</td>\n",
       "      <td>172.0</td>\n",
       "      <td>60.0</td>\n",
       "      <td>23233.77</td>\n",
       "      <td>ultra</td>\n",
       "      <td>Краснодар</td>\n",
       "    </tr>\n",
       "    <tr>\n",
       "      <th>2</th>\n",
       "      <td>1000</td>\n",
       "      <td>7</td>\n",
       "      <td>340.0</td>\n",
       "      <td>75.0</td>\n",
       "      <td>14003.64</td>\n",
       "      <td>ultra</td>\n",
       "      <td>Краснодар</td>\n",
       "    </tr>\n",
       "    <tr>\n",
       "      <th>3</th>\n",
       "      <td>1000</td>\n",
       "      <td>8</td>\n",
       "      <td>408.0</td>\n",
       "      <td>81.0</td>\n",
       "      <td>14055.93</td>\n",
       "      <td>ultra</td>\n",
       "      <td>Краснодар</td>\n",
       "    </tr>\n",
       "    <tr>\n",
       "      <th>4</th>\n",
       "      <td>1000</td>\n",
       "      <td>9</td>\n",
       "      <td>466.0</td>\n",
       "      <td>57.0</td>\n",
       "      <td>14568.91</td>\n",
       "      <td>ultra</td>\n",
       "      <td>Краснодар</td>\n",
       "    </tr>\n",
       "    <tr>\n",
       "      <th>5</th>\n",
       "      <td>1000</td>\n",
       "      <td>10</td>\n",
       "      <td>350.0</td>\n",
       "      <td>73.0</td>\n",
       "      <td>14702.49</td>\n",
       "      <td>ultra</td>\n",
       "      <td>Краснодар</td>\n",
       "    </tr>\n",
       "    <tr>\n",
       "      <th>6</th>\n",
       "      <td>1000</td>\n",
       "      <td>11</td>\n",
       "      <td>338.0</td>\n",
       "      <td>58.0</td>\n",
       "      <td>14756.47</td>\n",
       "      <td>ultra</td>\n",
       "      <td>Краснодар</td>\n",
       "    </tr>\n",
       "    <tr>\n",
       "      <th>7</th>\n",
       "      <td>1000</td>\n",
       "      <td>12</td>\n",
       "      <td>333.0</td>\n",
       "      <td>70.0</td>\n",
       "      <td>9817.61</td>\n",
       "      <td>ultra</td>\n",
       "      <td>Краснодар</td>\n",
       "    </tr>\n",
       "    <tr>\n",
       "      <th>8</th>\n",
       "      <td>1001</td>\n",
       "      <td>11</td>\n",
       "      <td>430.0</td>\n",
       "      <td>NaN</td>\n",
       "      <td>18429.34</td>\n",
       "      <td>smart</td>\n",
       "      <td>Москва</td>\n",
       "    </tr>\n",
       "    <tr>\n",
       "      <th>9</th>\n",
       "      <td>1001</td>\n",
       "      <td>12</td>\n",
       "      <td>414.0</td>\n",
       "      <td>NaN</td>\n",
       "      <td>14036.66</td>\n",
       "      <td>smart</td>\n",
       "      <td>Москва</td>\n",
       "    </tr>\n",
       "  </tbody>\n",
       "</table>\n",
       "</div>"
      ],
      "text/plain": [
       "   user_id  month  duration  message_count   mb_used tariff       city\n",
       "0     1000      5     159.0           22.0   2253.49  ultra  Краснодар\n",
       "1     1000      6     172.0           60.0  23233.77  ultra  Краснодар\n",
       "2     1000      7     340.0           75.0  14003.64  ultra  Краснодар\n",
       "3     1000      8     408.0           81.0  14055.93  ultra  Краснодар\n",
       "4     1000      9     466.0           57.0  14568.91  ultra  Краснодар\n",
       "5     1000     10     350.0           73.0  14702.49  ultra  Краснодар\n",
       "6     1000     11     338.0           58.0  14756.47  ultra  Краснодар\n",
       "7     1000     12     333.0           70.0   9817.61  ultra  Краснодар\n",
       "8     1001     11     430.0            NaN  18429.34  smart     Москва\n",
       "9     1001     12     414.0            NaN  14036.66  smart     Москва"
      ]
     },
     "metadata": {},
     "output_type": "display_data"
    }
   ],
   "source": [
    "data = calls.merge(message,  how = 'outer', on = ['user_id', 'month']).merge(internet,  how = 'outer', on =\n",
    "['user_id', 'month']).merge(users[['user_id', 'tariff', 'city']], how = 'left', on = 'user_id')\n",
    "display(data.head(10))"
   ]
  },
  {
   "cell_type": "code",
   "execution_count": 14,
   "metadata": {
    "scrolled": true
   },
   "outputs": [
    {
     "data": {
      "text/html": [
       "<div>\n",
       "<style scoped>\n",
       "    .dataframe tbody tr th:only-of-type {\n",
       "        vertical-align: middle;\n",
       "    }\n",
       "\n",
       "    .dataframe tbody tr th {\n",
       "        vertical-align: top;\n",
       "    }\n",
       "\n",
       "    .dataframe thead th {\n",
       "        text-align: right;\n",
       "    }\n",
       "</style>\n",
       "<table border=\"1\" class=\"dataframe\">\n",
       "  <thead>\n",
       "    <tr style=\"text-align: right;\">\n",
       "      <th></th>\n",
       "      <th>user_id</th>\n",
       "      <th>month</th>\n",
       "      <th>duration</th>\n",
       "      <th>message_count</th>\n",
       "      <th>mb_used</th>\n",
       "      <th>tariff</th>\n",
       "      <th>city</th>\n",
       "      <th>index</th>\n",
       "      <th>messages_included</th>\n",
       "      <th>mb_per_month_included</th>\n",
       "      <th>minutes_included</th>\n",
       "      <th>rub_monthly_fee</th>\n",
       "      <th>rub_per_gb</th>\n",
       "      <th>rub_per_message</th>\n",
       "      <th>rub_per_minute</th>\n",
       "    </tr>\n",
       "  </thead>\n",
       "  <tbody>\n",
       "    <tr>\n",
       "      <th>0</th>\n",
       "      <td>1000</td>\n",
       "      <td>5</td>\n",
       "      <td>159.0</td>\n",
       "      <td>22.0</td>\n",
       "      <td>2253.49</td>\n",
       "      <td>ultra</td>\n",
       "      <td>Краснодар</td>\n",
       "      <td>1</td>\n",
       "      <td>1000</td>\n",
       "      <td>30720</td>\n",
       "      <td>3000</td>\n",
       "      <td>1950</td>\n",
       "      <td>150</td>\n",
       "      <td>1</td>\n",
       "      <td>1</td>\n",
       "    </tr>\n",
       "    <tr>\n",
       "      <th>1</th>\n",
       "      <td>1000</td>\n",
       "      <td>6</td>\n",
       "      <td>172.0</td>\n",
       "      <td>60.0</td>\n",
       "      <td>23233.77</td>\n",
       "      <td>ultra</td>\n",
       "      <td>Краснодар</td>\n",
       "      <td>1</td>\n",
       "      <td>1000</td>\n",
       "      <td>30720</td>\n",
       "      <td>3000</td>\n",
       "      <td>1950</td>\n",
       "      <td>150</td>\n",
       "      <td>1</td>\n",
       "      <td>1</td>\n",
       "    </tr>\n",
       "    <tr>\n",
       "      <th>2</th>\n",
       "      <td>1000</td>\n",
       "      <td>7</td>\n",
       "      <td>340.0</td>\n",
       "      <td>75.0</td>\n",
       "      <td>14003.64</td>\n",
       "      <td>ultra</td>\n",
       "      <td>Краснодар</td>\n",
       "      <td>1</td>\n",
       "      <td>1000</td>\n",
       "      <td>30720</td>\n",
       "      <td>3000</td>\n",
       "      <td>1950</td>\n",
       "      <td>150</td>\n",
       "      <td>1</td>\n",
       "      <td>1</td>\n",
       "    </tr>\n",
       "    <tr>\n",
       "      <th>3</th>\n",
       "      <td>1000</td>\n",
       "      <td>8</td>\n",
       "      <td>408.0</td>\n",
       "      <td>81.0</td>\n",
       "      <td>14055.93</td>\n",
       "      <td>ultra</td>\n",
       "      <td>Краснодар</td>\n",
       "      <td>1</td>\n",
       "      <td>1000</td>\n",
       "      <td>30720</td>\n",
       "      <td>3000</td>\n",
       "      <td>1950</td>\n",
       "      <td>150</td>\n",
       "      <td>1</td>\n",
       "      <td>1</td>\n",
       "    </tr>\n",
       "    <tr>\n",
       "      <th>4</th>\n",
       "      <td>1000</td>\n",
       "      <td>9</td>\n",
       "      <td>466.0</td>\n",
       "      <td>57.0</td>\n",
       "      <td>14568.91</td>\n",
       "      <td>ultra</td>\n",
       "      <td>Краснодар</td>\n",
       "      <td>1</td>\n",
       "      <td>1000</td>\n",
       "      <td>30720</td>\n",
       "      <td>3000</td>\n",
       "      <td>1950</td>\n",
       "      <td>150</td>\n",
       "      <td>1</td>\n",
       "      <td>1</td>\n",
       "    </tr>\n",
       "    <tr>\n",
       "      <th>...</th>\n",
       "      <td>...</td>\n",
       "      <td>...</td>\n",
       "      <td>...</td>\n",
       "      <td>...</td>\n",
       "      <td>...</td>\n",
       "      <td>...</td>\n",
       "      <td>...</td>\n",
       "      <td>...</td>\n",
       "      <td>...</td>\n",
       "      <td>...</td>\n",
       "      <td>...</td>\n",
       "      <td>...</td>\n",
       "      <td>...</td>\n",
       "      <td>...</td>\n",
       "      <td>...</td>\n",
       "    </tr>\n",
       "    <tr>\n",
       "      <th>3209</th>\n",
       "      <td>1489</td>\n",
       "      <td>8</td>\n",
       "      <td>0.0</td>\n",
       "      <td>17.0</td>\n",
       "      <td>11050.56</td>\n",
       "      <td>smart</td>\n",
       "      <td>Санкт-Петербург</td>\n",
       "      <td>0</td>\n",
       "      <td>50</td>\n",
       "      <td>15360</td>\n",
       "      <td>500</td>\n",
       "      <td>550</td>\n",
       "      <td>200</td>\n",
       "      <td>3</td>\n",
       "      <td>3</td>\n",
       "    </tr>\n",
       "    <tr>\n",
       "      <th>3210</th>\n",
       "      <td>1489</td>\n",
       "      <td>9</td>\n",
       "      <td>0.0</td>\n",
       "      <td>32.0</td>\n",
       "      <td>17206.30</td>\n",
       "      <td>smart</td>\n",
       "      <td>Санкт-Петербург</td>\n",
       "      <td>0</td>\n",
       "      <td>50</td>\n",
       "      <td>15360</td>\n",
       "      <td>500</td>\n",
       "      <td>550</td>\n",
       "      <td>200</td>\n",
       "      <td>3</td>\n",
       "      <td>3</td>\n",
       "    </tr>\n",
       "    <tr>\n",
       "      <th>3211</th>\n",
       "      <td>1489</td>\n",
       "      <td>10</td>\n",
       "      <td>0.0</td>\n",
       "      <td>21.0</td>\n",
       "      <td>19559.44</td>\n",
       "      <td>smart</td>\n",
       "      <td>Санкт-Петербург</td>\n",
       "      <td>0</td>\n",
       "      <td>50</td>\n",
       "      <td>15360</td>\n",
       "      <td>500</td>\n",
       "      <td>550</td>\n",
       "      <td>200</td>\n",
       "      <td>3</td>\n",
       "      <td>3</td>\n",
       "    </tr>\n",
       "    <tr>\n",
       "      <th>3212</th>\n",
       "      <td>1489</td>\n",
       "      <td>11</td>\n",
       "      <td>0.0</td>\n",
       "      <td>20.0</td>\n",
       "      <td>17491.56</td>\n",
       "      <td>smart</td>\n",
       "      <td>Санкт-Петербург</td>\n",
       "      <td>0</td>\n",
       "      <td>50</td>\n",
       "      <td>15360</td>\n",
       "      <td>500</td>\n",
       "      <td>550</td>\n",
       "      <td>200</td>\n",
       "      <td>3</td>\n",
       "      <td>3</td>\n",
       "    </tr>\n",
       "    <tr>\n",
       "      <th>3213</th>\n",
       "      <td>1489</td>\n",
       "      <td>12</td>\n",
       "      <td>0.0</td>\n",
       "      <td>35.0</td>\n",
       "      <td>17322.51</td>\n",
       "      <td>smart</td>\n",
       "      <td>Санкт-Петербург</td>\n",
       "      <td>0</td>\n",
       "      <td>50</td>\n",
       "      <td>15360</td>\n",
       "      <td>500</td>\n",
       "      <td>550</td>\n",
       "      <td>200</td>\n",
       "      <td>3</td>\n",
       "      <td>3</td>\n",
       "    </tr>\n",
       "  </tbody>\n",
       "</table>\n",
       "<p>3214 rows × 15 columns</p>\n",
       "</div>"
      ],
      "text/plain": [
       "      user_id  month  duration  message_count   mb_used tariff  \\\n",
       "0        1000      5     159.0           22.0   2253.49  ultra   \n",
       "1        1000      6     172.0           60.0  23233.77  ultra   \n",
       "2        1000      7     340.0           75.0  14003.64  ultra   \n",
       "3        1000      8     408.0           81.0  14055.93  ultra   \n",
       "4        1000      9     466.0           57.0  14568.91  ultra   \n",
       "...       ...    ...       ...            ...       ...    ...   \n",
       "3209     1489      8       0.0           17.0  11050.56  smart   \n",
       "3210     1489      9       0.0           32.0  17206.30  smart   \n",
       "3211     1489     10       0.0           21.0  19559.44  smart   \n",
       "3212     1489     11       0.0           20.0  17491.56  smart   \n",
       "3213     1489     12       0.0           35.0  17322.51  smart   \n",
       "\n",
       "                 city  index  messages_included  mb_per_month_included  \\\n",
       "0           Краснодар      1               1000                  30720   \n",
       "1           Краснодар      1               1000                  30720   \n",
       "2           Краснодар      1               1000                  30720   \n",
       "3           Краснодар      1               1000                  30720   \n",
       "4           Краснодар      1               1000                  30720   \n",
       "...               ...    ...                ...                    ...   \n",
       "3209  Санкт-Петербург      0                 50                  15360   \n",
       "3210  Санкт-Петербург      0                 50                  15360   \n",
       "3211  Санкт-Петербург      0                 50                  15360   \n",
       "3212  Санкт-Петербург      0                 50                  15360   \n",
       "3213  Санкт-Петербург      0                 50                  15360   \n",
       "\n",
       "      minutes_included  rub_monthly_fee  rub_per_gb  rub_per_message  \\\n",
       "0                 3000             1950         150                1   \n",
       "1                 3000             1950         150                1   \n",
       "2                 3000             1950         150                1   \n",
       "3                 3000             1950         150                1   \n",
       "4                 3000             1950         150                1   \n",
       "...                ...              ...         ...              ...   \n",
       "3209               500              550         200                3   \n",
       "3210               500              550         200                3   \n",
       "3211               500              550         200                3   \n",
       "3212               500              550         200                3   \n",
       "3213               500              550         200                3   \n",
       "\n",
       "      rub_per_minute  \n",
       "0                  1  \n",
       "1                  1  \n",
       "2                  1  \n",
       "3                  1  \n",
       "4                  1  \n",
       "...              ...  \n",
       "3209               3  \n",
       "3210               3  \n",
       "3211               3  \n",
       "3212               3  \n",
       "3213               3  \n",
       "\n",
       "[3214 rows x 15 columns]"
      ]
     },
     "metadata": {},
     "output_type": "display_data"
    }
   ],
   "source": [
    "data = data.fillna(value=0)\n",
    "data2 = data.merge(df4.reset_index(), on='tariff', how = 'outer')\n",
    "display(data2)"
   ]
  },
  {
   "cell_type": "markdown",
   "metadata": {},
   "source": [
    "У нас слишком мало данных,чтобы легко избавляться от строк с пропусками.\n",
    "Замена 0 кажется наиболее оптимальной так как скорее всего люди просто не пользовались данными услугами    \n"
   ]
  },
  {
   "cell_type": "code",
   "execution_count": 15,
   "metadata": {},
   "outputs": [
    {
     "data": {
      "text/html": [
       "<div>\n",
       "<style scoped>\n",
       "    .dataframe tbody tr th:only-of-type {\n",
       "        vertical-align: middle;\n",
       "    }\n",
       "\n",
       "    .dataframe tbody tr th {\n",
       "        vertical-align: top;\n",
       "    }\n",
       "\n",
       "    .dataframe thead th {\n",
       "        text-align: right;\n",
       "    }\n",
       "</style>\n",
       "<table border=\"1\" class=\"dataframe\">\n",
       "  <thead>\n",
       "    <tr style=\"text-align: right;\">\n",
       "      <th></th>\n",
       "      <th>user_id</th>\n",
       "      <th>month</th>\n",
       "      <th>duration</th>\n",
       "      <th>message_count</th>\n",
       "      <th>mb_used</th>\n",
       "      <th>tariff</th>\n",
       "      <th>city</th>\n",
       "      <th>index</th>\n",
       "      <th>messages_included</th>\n",
       "      <th>mb_per_month_included</th>\n",
       "      <th>minutes_included</th>\n",
       "      <th>rub_monthly_fee</th>\n",
       "      <th>rub_per_gb</th>\n",
       "      <th>rub_per_message</th>\n",
       "      <th>rub_per_minute</th>\n",
       "      <th>perebor_minut</th>\n",
       "      <th>perebor_message</th>\n",
       "      <th>perebor_mb</th>\n",
       "      <th>perebor_gb</th>\n",
       "      <th>gb_used</th>\n",
       "    </tr>\n",
       "  </thead>\n",
       "  <tbody>\n",
       "    <tr>\n",
       "      <th>0</th>\n",
       "      <td>1000</td>\n",
       "      <td>5</td>\n",
       "      <td>159.0</td>\n",
       "      <td>22.0</td>\n",
       "      <td>2253.49</td>\n",
       "      <td>ultra</td>\n",
       "      <td>Краснодар</td>\n",
       "      <td>1</td>\n",
       "      <td>1000</td>\n",
       "      <td>30720</td>\n",
       "      <td>3000</td>\n",
       "      <td>1950</td>\n",
       "      <td>150</td>\n",
       "      <td>1</td>\n",
       "      <td>1</td>\n",
       "      <td>0</td>\n",
       "      <td>0</td>\n",
       "      <td>0.00</td>\n",
       "      <td>0</td>\n",
       "      <td>3.0</td>\n",
       "    </tr>\n",
       "    <tr>\n",
       "      <th>1</th>\n",
       "      <td>1000</td>\n",
       "      <td>6</td>\n",
       "      <td>172.0</td>\n",
       "      <td>60.0</td>\n",
       "      <td>23233.77</td>\n",
       "      <td>ultra</td>\n",
       "      <td>Краснодар</td>\n",
       "      <td>1</td>\n",
       "      <td>1000</td>\n",
       "      <td>30720</td>\n",
       "      <td>3000</td>\n",
       "      <td>1950</td>\n",
       "      <td>150</td>\n",
       "      <td>1</td>\n",
       "      <td>1</td>\n",
       "      <td>0</td>\n",
       "      <td>0</td>\n",
       "      <td>0.00</td>\n",
       "      <td>0</td>\n",
       "      <td>23.0</td>\n",
       "    </tr>\n",
       "    <tr>\n",
       "      <th>2</th>\n",
       "      <td>1000</td>\n",
       "      <td>7</td>\n",
       "      <td>340.0</td>\n",
       "      <td>75.0</td>\n",
       "      <td>14003.64</td>\n",
       "      <td>ultra</td>\n",
       "      <td>Краснодар</td>\n",
       "      <td>1</td>\n",
       "      <td>1000</td>\n",
       "      <td>30720</td>\n",
       "      <td>3000</td>\n",
       "      <td>1950</td>\n",
       "      <td>150</td>\n",
       "      <td>1</td>\n",
       "      <td>1</td>\n",
       "      <td>0</td>\n",
       "      <td>0</td>\n",
       "      <td>0.00</td>\n",
       "      <td>0</td>\n",
       "      <td>14.0</td>\n",
       "    </tr>\n",
       "    <tr>\n",
       "      <th>3</th>\n",
       "      <td>1000</td>\n",
       "      <td>8</td>\n",
       "      <td>408.0</td>\n",
       "      <td>81.0</td>\n",
       "      <td>14055.93</td>\n",
       "      <td>ultra</td>\n",
       "      <td>Краснодар</td>\n",
       "      <td>1</td>\n",
       "      <td>1000</td>\n",
       "      <td>30720</td>\n",
       "      <td>3000</td>\n",
       "      <td>1950</td>\n",
       "      <td>150</td>\n",
       "      <td>1</td>\n",
       "      <td>1</td>\n",
       "      <td>0</td>\n",
       "      <td>0</td>\n",
       "      <td>0.00</td>\n",
       "      <td>0</td>\n",
       "      <td>14.0</td>\n",
       "    </tr>\n",
       "    <tr>\n",
       "      <th>4</th>\n",
       "      <td>1000</td>\n",
       "      <td>9</td>\n",
       "      <td>466.0</td>\n",
       "      <td>57.0</td>\n",
       "      <td>14568.91</td>\n",
       "      <td>ultra</td>\n",
       "      <td>Краснодар</td>\n",
       "      <td>1</td>\n",
       "      <td>1000</td>\n",
       "      <td>30720</td>\n",
       "      <td>3000</td>\n",
       "      <td>1950</td>\n",
       "      <td>150</td>\n",
       "      <td>1</td>\n",
       "      <td>1</td>\n",
       "      <td>0</td>\n",
       "      <td>0</td>\n",
       "      <td>0.00</td>\n",
       "      <td>0</td>\n",
       "      <td>15.0</td>\n",
       "    </tr>\n",
       "    <tr>\n",
       "      <th>...</th>\n",
       "      <td>...</td>\n",
       "      <td>...</td>\n",
       "      <td>...</td>\n",
       "      <td>...</td>\n",
       "      <td>...</td>\n",
       "      <td>...</td>\n",
       "      <td>...</td>\n",
       "      <td>...</td>\n",
       "      <td>...</td>\n",
       "      <td>...</td>\n",
       "      <td>...</td>\n",
       "      <td>...</td>\n",
       "      <td>...</td>\n",
       "      <td>...</td>\n",
       "      <td>...</td>\n",
       "      <td>...</td>\n",
       "      <td>...</td>\n",
       "      <td>...</td>\n",
       "      <td>...</td>\n",
       "      <td>...</td>\n",
       "    </tr>\n",
       "    <tr>\n",
       "      <th>3209</th>\n",
       "      <td>1489</td>\n",
       "      <td>8</td>\n",
       "      <td>0.0</td>\n",
       "      <td>17.0</td>\n",
       "      <td>11050.56</td>\n",
       "      <td>smart</td>\n",
       "      <td>Санкт-Петербург</td>\n",
       "      <td>0</td>\n",
       "      <td>50</td>\n",
       "      <td>15360</td>\n",
       "      <td>500</td>\n",
       "      <td>550</td>\n",
       "      <td>200</td>\n",
       "      <td>3</td>\n",
       "      <td>3</td>\n",
       "      <td>0</td>\n",
       "      <td>0</td>\n",
       "      <td>0.00</td>\n",
       "      <td>0</td>\n",
       "      <td>11.0</td>\n",
       "    </tr>\n",
       "    <tr>\n",
       "      <th>3210</th>\n",
       "      <td>1489</td>\n",
       "      <td>9</td>\n",
       "      <td>0.0</td>\n",
       "      <td>32.0</td>\n",
       "      <td>17206.30</td>\n",
       "      <td>smart</td>\n",
       "      <td>Санкт-Петербург</td>\n",
       "      <td>0</td>\n",
       "      <td>50</td>\n",
       "      <td>15360</td>\n",
       "      <td>500</td>\n",
       "      <td>550</td>\n",
       "      <td>200</td>\n",
       "      <td>3</td>\n",
       "      <td>3</td>\n",
       "      <td>0</td>\n",
       "      <td>0</td>\n",
       "      <td>1846.30</td>\n",
       "      <td>2</td>\n",
       "      <td>17.0</td>\n",
       "    </tr>\n",
       "    <tr>\n",
       "      <th>3211</th>\n",
       "      <td>1489</td>\n",
       "      <td>10</td>\n",
       "      <td>0.0</td>\n",
       "      <td>21.0</td>\n",
       "      <td>19559.44</td>\n",
       "      <td>smart</td>\n",
       "      <td>Санкт-Петербург</td>\n",
       "      <td>0</td>\n",
       "      <td>50</td>\n",
       "      <td>15360</td>\n",
       "      <td>500</td>\n",
       "      <td>550</td>\n",
       "      <td>200</td>\n",
       "      <td>3</td>\n",
       "      <td>3</td>\n",
       "      <td>0</td>\n",
       "      <td>0</td>\n",
       "      <td>4199.44</td>\n",
       "      <td>5</td>\n",
       "      <td>20.0</td>\n",
       "    </tr>\n",
       "    <tr>\n",
       "      <th>3212</th>\n",
       "      <td>1489</td>\n",
       "      <td>11</td>\n",
       "      <td>0.0</td>\n",
       "      <td>20.0</td>\n",
       "      <td>17491.56</td>\n",
       "      <td>smart</td>\n",
       "      <td>Санкт-Петербург</td>\n",
       "      <td>0</td>\n",
       "      <td>50</td>\n",
       "      <td>15360</td>\n",
       "      <td>500</td>\n",
       "      <td>550</td>\n",
       "      <td>200</td>\n",
       "      <td>3</td>\n",
       "      <td>3</td>\n",
       "      <td>0</td>\n",
       "      <td>0</td>\n",
       "      <td>2131.56</td>\n",
       "      <td>3</td>\n",
       "      <td>18.0</td>\n",
       "    </tr>\n",
       "    <tr>\n",
       "      <th>3213</th>\n",
       "      <td>1489</td>\n",
       "      <td>12</td>\n",
       "      <td>0.0</td>\n",
       "      <td>35.0</td>\n",
       "      <td>17322.51</td>\n",
       "      <td>smart</td>\n",
       "      <td>Санкт-Петербург</td>\n",
       "      <td>0</td>\n",
       "      <td>50</td>\n",
       "      <td>15360</td>\n",
       "      <td>500</td>\n",
       "      <td>550</td>\n",
       "      <td>200</td>\n",
       "      <td>3</td>\n",
       "      <td>3</td>\n",
       "      <td>0</td>\n",
       "      <td>0</td>\n",
       "      <td>1962.51</td>\n",
       "      <td>2</td>\n",
       "      <td>17.0</td>\n",
       "    </tr>\n",
       "  </tbody>\n",
       "</table>\n",
       "<p>3214 rows × 20 columns</p>\n",
       "</div>"
      ],
      "text/plain": [
       "      user_id  month  duration  message_count   mb_used tariff  \\\n",
       "0        1000      5     159.0           22.0   2253.49  ultra   \n",
       "1        1000      6     172.0           60.0  23233.77  ultra   \n",
       "2        1000      7     340.0           75.0  14003.64  ultra   \n",
       "3        1000      8     408.0           81.0  14055.93  ultra   \n",
       "4        1000      9     466.0           57.0  14568.91  ultra   \n",
       "...       ...    ...       ...            ...       ...    ...   \n",
       "3209     1489      8       0.0           17.0  11050.56  smart   \n",
       "3210     1489      9       0.0           32.0  17206.30  smart   \n",
       "3211     1489     10       0.0           21.0  19559.44  smart   \n",
       "3212     1489     11       0.0           20.0  17491.56  smart   \n",
       "3213     1489     12       0.0           35.0  17322.51  smart   \n",
       "\n",
       "                 city  index  messages_included  mb_per_month_included  \\\n",
       "0           Краснодар      1               1000                  30720   \n",
       "1           Краснодар      1               1000                  30720   \n",
       "2           Краснодар      1               1000                  30720   \n",
       "3           Краснодар      1               1000                  30720   \n",
       "4           Краснодар      1               1000                  30720   \n",
       "...               ...    ...                ...                    ...   \n",
       "3209  Санкт-Петербург      0                 50                  15360   \n",
       "3210  Санкт-Петербург      0                 50                  15360   \n",
       "3211  Санкт-Петербург      0                 50                  15360   \n",
       "3212  Санкт-Петербург      0                 50                  15360   \n",
       "3213  Санкт-Петербург      0                 50                  15360   \n",
       "\n",
       "      minutes_included  rub_monthly_fee  rub_per_gb  rub_per_message  \\\n",
       "0                 3000             1950         150                1   \n",
       "1                 3000             1950         150                1   \n",
       "2                 3000             1950         150                1   \n",
       "3                 3000             1950         150                1   \n",
       "4                 3000             1950         150                1   \n",
       "...                ...              ...         ...              ...   \n",
       "3209               500              550         200                3   \n",
       "3210               500              550         200                3   \n",
       "3211               500              550         200                3   \n",
       "3212               500              550         200                3   \n",
       "3213               500              550         200                3   \n",
       "\n",
       "      rub_per_minute  perebor_minut  perebor_message  perebor_mb  perebor_gb  \\\n",
       "0                  1              0                0        0.00           0   \n",
       "1                  1              0                0        0.00           0   \n",
       "2                  1              0                0        0.00           0   \n",
       "3                  1              0                0        0.00           0   \n",
       "4                  1              0                0        0.00           0   \n",
       "...              ...            ...              ...         ...         ...   \n",
       "3209               3              0                0        0.00           0   \n",
       "3210               3              0                0     1846.30           2   \n",
       "3211               3              0                0     4199.44           5   \n",
       "3212               3              0                0     2131.56           3   \n",
       "3213               3              0                0     1962.51           2   \n",
       "\n",
       "      gb_used  \n",
       "0         3.0  \n",
       "1        23.0  \n",
       "2        14.0  \n",
       "3        14.0  \n",
       "4        15.0  \n",
       "...       ...  \n",
       "3209     11.0  \n",
       "3210     17.0  \n",
       "3211     20.0  \n",
       "3212     18.0  \n",
       "3213     17.0  \n",
       "\n",
       "[3214 rows x 20 columns]"
      ]
     },
     "metadata": {},
     "output_type": "display_data"
    },
    {
     "name": "stdout",
     "output_type": "stream",
     "text": [
      "<class 'pandas.core.frame.DataFrame'>\n",
      "Int64Index: 3214 entries, 0 to 3213\n",
      "Data columns (total 20 columns):\n",
      " #   Column                 Non-Null Count  Dtype  \n",
      "---  ------                 --------------  -----  \n",
      " 0   user_id                3214 non-null   int64  \n",
      " 1   month                  3214 non-null   int64  \n",
      " 2   duration               3214 non-null   float64\n",
      " 3   message_count          3214 non-null   float64\n",
      " 4   mb_used                3214 non-null   float64\n",
      " 5   tariff                 3214 non-null   object \n",
      " 6   city                   3214 non-null   object \n",
      " 7   index                  3214 non-null   int64  \n",
      " 8   messages_included      3214 non-null   int64  \n",
      " 9   mb_per_month_included  3214 non-null   int64  \n",
      " 10  minutes_included       3214 non-null   int64  \n",
      " 11  rub_monthly_fee        3214 non-null   int64  \n",
      " 12  rub_per_gb             3214 non-null   int64  \n",
      " 13  rub_per_message        3214 non-null   int64  \n",
      " 14  rub_per_minute         3214 non-null   int64  \n",
      " 15  perebor_minut          3214 non-null   int32  \n",
      " 16  perebor_message        3214 non-null   int32  \n",
      " 17  perebor_mb             3214 non-null   float64\n",
      " 18  perebor_gb             3214 non-null   int32  \n",
      " 19  gb_used                3214 non-null   float64\n",
      "dtypes: float64(5), int32(3), int64(10), object(2)\n",
      "memory usage: 489.6+ KB\n"
     ]
    }
   ],
   "source": [
    "data2['perebor_minut'] = data2['duration'] - data2['minutes_included']\n",
    "data2['perebor_message'] = data2['message_count'] - data2['messages_included']\n",
    "data2['perebor_mb'] = data2['mb_used'] - data2['mb_per_month_included']\n",
    "data2.loc[data2['perebor_minut'] < 0, 'perebor_minut'] = 0\n",
    "data2.loc[data2['perebor_message'] < 0, 'perebor_message'] = 0\n",
    "data2.loc[data2['perebor_mb'] < 0, 'perebor_mb'] = 0\n",
    "data2['perebor_gb'] = data2['perebor_mb'] / 1024\n",
    "data2['gb_used'] = data2['mb_used'] / 1024\n",
    "data2['perebor_gb'] = np.ceil(data2['perebor_gb'])\n",
    "data2['gb_used'] = np.ceil(data2['gb_used'])\n",
    "data2['perebor_minut'] = data2['perebor_minut'].astype('int')\n",
    "data2['perebor_message'] = data2['perebor_message'].astype('int')\n",
    "data2['perebor_gb'] = data2['perebor_gb'].astype('int')\n",
    "\n",
    "display(data2)\n",
    "data2.info()"
   ]
  },
  {
   "cell_type": "code",
   "execution_count": 16,
   "metadata": {},
   "outputs": [
    {
     "data": {
      "text/html": [
       "<div>\n",
       "<style scoped>\n",
       "    .dataframe tbody tr th:only-of-type {\n",
       "        vertical-align: middle;\n",
       "    }\n",
       "\n",
       "    .dataframe tbody tr th {\n",
       "        vertical-align: top;\n",
       "    }\n",
       "\n",
       "    .dataframe thead th {\n",
       "        text-align: right;\n",
       "    }\n",
       "</style>\n",
       "<table border=\"1\" class=\"dataframe\">\n",
       "  <thead>\n",
       "    <tr style=\"text-align: right;\">\n",
       "      <th></th>\n",
       "      <th>user_id</th>\n",
       "      <th>month</th>\n",
       "      <th>duration</th>\n",
       "      <th>message_count</th>\n",
       "      <th>mb_used</th>\n",
       "      <th>tariff</th>\n",
       "      <th>city</th>\n",
       "      <th>index</th>\n",
       "      <th>messages_included</th>\n",
       "      <th>mb_per_month_included</th>\n",
       "      <th>...</th>\n",
       "      <th>rub_per_minute</th>\n",
       "      <th>perebor_minut</th>\n",
       "      <th>perebor_message</th>\n",
       "      <th>perebor_mb</th>\n",
       "      <th>perebor_gb</th>\n",
       "      <th>gb_used</th>\n",
       "      <th>pereplata_minut</th>\n",
       "      <th>pereplata_message</th>\n",
       "      <th>pereplata_gb</th>\n",
       "      <th>plata</th>\n",
       "    </tr>\n",
       "  </thead>\n",
       "  <tbody>\n",
       "    <tr>\n",
       "      <th>0</th>\n",
       "      <td>1000</td>\n",
       "      <td>5</td>\n",
       "      <td>159.0</td>\n",
       "      <td>22.0</td>\n",
       "      <td>2253.49</td>\n",
       "      <td>ultra</td>\n",
       "      <td>Краснодар</td>\n",
       "      <td>1</td>\n",
       "      <td>1000</td>\n",
       "      <td>30720</td>\n",
       "      <td>...</td>\n",
       "      <td>1</td>\n",
       "      <td>0</td>\n",
       "      <td>0</td>\n",
       "      <td>0.00</td>\n",
       "      <td>0</td>\n",
       "      <td>3.0</td>\n",
       "      <td>0</td>\n",
       "      <td>0</td>\n",
       "      <td>0</td>\n",
       "      <td>1950</td>\n",
       "    </tr>\n",
       "    <tr>\n",
       "      <th>1</th>\n",
       "      <td>1000</td>\n",
       "      <td>6</td>\n",
       "      <td>172.0</td>\n",
       "      <td>60.0</td>\n",
       "      <td>23233.77</td>\n",
       "      <td>ultra</td>\n",
       "      <td>Краснодар</td>\n",
       "      <td>1</td>\n",
       "      <td>1000</td>\n",
       "      <td>30720</td>\n",
       "      <td>...</td>\n",
       "      <td>1</td>\n",
       "      <td>0</td>\n",
       "      <td>0</td>\n",
       "      <td>0.00</td>\n",
       "      <td>0</td>\n",
       "      <td>23.0</td>\n",
       "      <td>0</td>\n",
       "      <td>0</td>\n",
       "      <td>0</td>\n",
       "      <td>1950</td>\n",
       "    </tr>\n",
       "    <tr>\n",
       "      <th>2</th>\n",
       "      <td>1000</td>\n",
       "      <td>7</td>\n",
       "      <td>340.0</td>\n",
       "      <td>75.0</td>\n",
       "      <td>14003.64</td>\n",
       "      <td>ultra</td>\n",
       "      <td>Краснодар</td>\n",
       "      <td>1</td>\n",
       "      <td>1000</td>\n",
       "      <td>30720</td>\n",
       "      <td>...</td>\n",
       "      <td>1</td>\n",
       "      <td>0</td>\n",
       "      <td>0</td>\n",
       "      <td>0.00</td>\n",
       "      <td>0</td>\n",
       "      <td>14.0</td>\n",
       "      <td>0</td>\n",
       "      <td>0</td>\n",
       "      <td>0</td>\n",
       "      <td>1950</td>\n",
       "    </tr>\n",
       "    <tr>\n",
       "      <th>3</th>\n",
       "      <td>1000</td>\n",
       "      <td>8</td>\n",
       "      <td>408.0</td>\n",
       "      <td>81.0</td>\n",
       "      <td>14055.93</td>\n",
       "      <td>ultra</td>\n",
       "      <td>Краснодар</td>\n",
       "      <td>1</td>\n",
       "      <td>1000</td>\n",
       "      <td>30720</td>\n",
       "      <td>...</td>\n",
       "      <td>1</td>\n",
       "      <td>0</td>\n",
       "      <td>0</td>\n",
       "      <td>0.00</td>\n",
       "      <td>0</td>\n",
       "      <td>14.0</td>\n",
       "      <td>0</td>\n",
       "      <td>0</td>\n",
       "      <td>0</td>\n",
       "      <td>1950</td>\n",
       "    </tr>\n",
       "    <tr>\n",
       "      <th>4</th>\n",
       "      <td>1000</td>\n",
       "      <td>9</td>\n",
       "      <td>466.0</td>\n",
       "      <td>57.0</td>\n",
       "      <td>14568.91</td>\n",
       "      <td>ultra</td>\n",
       "      <td>Краснодар</td>\n",
       "      <td>1</td>\n",
       "      <td>1000</td>\n",
       "      <td>30720</td>\n",
       "      <td>...</td>\n",
       "      <td>1</td>\n",
       "      <td>0</td>\n",
       "      <td>0</td>\n",
       "      <td>0.00</td>\n",
       "      <td>0</td>\n",
       "      <td>15.0</td>\n",
       "      <td>0</td>\n",
       "      <td>0</td>\n",
       "      <td>0</td>\n",
       "      <td>1950</td>\n",
       "    </tr>\n",
       "    <tr>\n",
       "      <th>...</th>\n",
       "      <td>...</td>\n",
       "      <td>...</td>\n",
       "      <td>...</td>\n",
       "      <td>...</td>\n",
       "      <td>...</td>\n",
       "      <td>...</td>\n",
       "      <td>...</td>\n",
       "      <td>...</td>\n",
       "      <td>...</td>\n",
       "      <td>...</td>\n",
       "      <td>...</td>\n",
       "      <td>...</td>\n",
       "      <td>...</td>\n",
       "      <td>...</td>\n",
       "      <td>...</td>\n",
       "      <td>...</td>\n",
       "      <td>...</td>\n",
       "      <td>...</td>\n",
       "      <td>...</td>\n",
       "      <td>...</td>\n",
       "      <td>...</td>\n",
       "    </tr>\n",
       "    <tr>\n",
       "      <th>3209</th>\n",
       "      <td>1489</td>\n",
       "      <td>8</td>\n",
       "      <td>0.0</td>\n",
       "      <td>17.0</td>\n",
       "      <td>11050.56</td>\n",
       "      <td>smart</td>\n",
       "      <td>Санкт-Петербург</td>\n",
       "      <td>0</td>\n",
       "      <td>50</td>\n",
       "      <td>15360</td>\n",
       "      <td>...</td>\n",
       "      <td>3</td>\n",
       "      <td>0</td>\n",
       "      <td>0</td>\n",
       "      <td>0.00</td>\n",
       "      <td>0</td>\n",
       "      <td>11.0</td>\n",
       "      <td>0</td>\n",
       "      <td>0</td>\n",
       "      <td>0</td>\n",
       "      <td>550</td>\n",
       "    </tr>\n",
       "    <tr>\n",
       "      <th>3210</th>\n",
       "      <td>1489</td>\n",
       "      <td>9</td>\n",
       "      <td>0.0</td>\n",
       "      <td>32.0</td>\n",
       "      <td>17206.30</td>\n",
       "      <td>smart</td>\n",
       "      <td>Санкт-Петербург</td>\n",
       "      <td>0</td>\n",
       "      <td>50</td>\n",
       "      <td>15360</td>\n",
       "      <td>...</td>\n",
       "      <td>3</td>\n",
       "      <td>0</td>\n",
       "      <td>0</td>\n",
       "      <td>1846.30</td>\n",
       "      <td>2</td>\n",
       "      <td>17.0</td>\n",
       "      <td>0</td>\n",
       "      <td>0</td>\n",
       "      <td>400</td>\n",
       "      <td>950</td>\n",
       "    </tr>\n",
       "    <tr>\n",
       "      <th>3211</th>\n",
       "      <td>1489</td>\n",
       "      <td>10</td>\n",
       "      <td>0.0</td>\n",
       "      <td>21.0</td>\n",
       "      <td>19559.44</td>\n",
       "      <td>smart</td>\n",
       "      <td>Санкт-Петербург</td>\n",
       "      <td>0</td>\n",
       "      <td>50</td>\n",
       "      <td>15360</td>\n",
       "      <td>...</td>\n",
       "      <td>3</td>\n",
       "      <td>0</td>\n",
       "      <td>0</td>\n",
       "      <td>4199.44</td>\n",
       "      <td>5</td>\n",
       "      <td>20.0</td>\n",
       "      <td>0</td>\n",
       "      <td>0</td>\n",
       "      <td>1000</td>\n",
       "      <td>1550</td>\n",
       "    </tr>\n",
       "    <tr>\n",
       "      <th>3212</th>\n",
       "      <td>1489</td>\n",
       "      <td>11</td>\n",
       "      <td>0.0</td>\n",
       "      <td>20.0</td>\n",
       "      <td>17491.56</td>\n",
       "      <td>smart</td>\n",
       "      <td>Санкт-Петербург</td>\n",
       "      <td>0</td>\n",
       "      <td>50</td>\n",
       "      <td>15360</td>\n",
       "      <td>...</td>\n",
       "      <td>3</td>\n",
       "      <td>0</td>\n",
       "      <td>0</td>\n",
       "      <td>2131.56</td>\n",
       "      <td>3</td>\n",
       "      <td>18.0</td>\n",
       "      <td>0</td>\n",
       "      <td>0</td>\n",
       "      <td>600</td>\n",
       "      <td>1150</td>\n",
       "    </tr>\n",
       "    <tr>\n",
       "      <th>3213</th>\n",
       "      <td>1489</td>\n",
       "      <td>12</td>\n",
       "      <td>0.0</td>\n",
       "      <td>35.0</td>\n",
       "      <td>17322.51</td>\n",
       "      <td>smart</td>\n",
       "      <td>Санкт-Петербург</td>\n",
       "      <td>0</td>\n",
       "      <td>50</td>\n",
       "      <td>15360</td>\n",
       "      <td>...</td>\n",
       "      <td>3</td>\n",
       "      <td>0</td>\n",
       "      <td>0</td>\n",
       "      <td>1962.51</td>\n",
       "      <td>2</td>\n",
       "      <td>17.0</td>\n",
       "      <td>0</td>\n",
       "      <td>0</td>\n",
       "      <td>400</td>\n",
       "      <td>950</td>\n",
       "    </tr>\n",
       "  </tbody>\n",
       "</table>\n",
       "<p>3214 rows × 24 columns</p>\n",
       "</div>"
      ],
      "text/plain": [
       "      user_id  month  duration  message_count   mb_used tariff  \\\n",
       "0        1000      5     159.0           22.0   2253.49  ultra   \n",
       "1        1000      6     172.0           60.0  23233.77  ultra   \n",
       "2        1000      7     340.0           75.0  14003.64  ultra   \n",
       "3        1000      8     408.0           81.0  14055.93  ultra   \n",
       "4        1000      9     466.0           57.0  14568.91  ultra   \n",
       "...       ...    ...       ...            ...       ...    ...   \n",
       "3209     1489      8       0.0           17.0  11050.56  smart   \n",
       "3210     1489      9       0.0           32.0  17206.30  smart   \n",
       "3211     1489     10       0.0           21.0  19559.44  smart   \n",
       "3212     1489     11       0.0           20.0  17491.56  smart   \n",
       "3213     1489     12       0.0           35.0  17322.51  smart   \n",
       "\n",
       "                 city  index  messages_included  mb_per_month_included  ...  \\\n",
       "0           Краснодар      1               1000                  30720  ...   \n",
       "1           Краснодар      1               1000                  30720  ...   \n",
       "2           Краснодар      1               1000                  30720  ...   \n",
       "3           Краснодар      1               1000                  30720  ...   \n",
       "4           Краснодар      1               1000                  30720  ...   \n",
       "...               ...    ...                ...                    ...  ...   \n",
       "3209  Санкт-Петербург      0                 50                  15360  ...   \n",
       "3210  Санкт-Петербург      0                 50                  15360  ...   \n",
       "3211  Санкт-Петербург      0                 50                  15360  ...   \n",
       "3212  Санкт-Петербург      0                 50                  15360  ...   \n",
       "3213  Санкт-Петербург      0                 50                  15360  ...   \n",
       "\n",
       "      rub_per_minute  perebor_minut  perebor_message  perebor_mb  perebor_gb  \\\n",
       "0                  1              0                0        0.00           0   \n",
       "1                  1              0                0        0.00           0   \n",
       "2                  1              0                0        0.00           0   \n",
       "3                  1              0                0        0.00           0   \n",
       "4                  1              0                0        0.00           0   \n",
       "...              ...            ...              ...         ...         ...   \n",
       "3209               3              0                0        0.00           0   \n",
       "3210               3              0                0     1846.30           2   \n",
       "3211               3              0                0     4199.44           5   \n",
       "3212               3              0                0     2131.56           3   \n",
       "3213               3              0                0     1962.51           2   \n",
       "\n",
       "      gb_used  pereplata_minut  pereplata_message  pereplata_gb  plata  \n",
       "0         3.0                0                  0             0   1950  \n",
       "1        23.0                0                  0             0   1950  \n",
       "2        14.0                0                  0             0   1950  \n",
       "3        14.0                0                  0             0   1950  \n",
       "4        15.0                0                  0             0   1950  \n",
       "...       ...              ...                ...           ...    ...  \n",
       "3209     11.0                0                  0             0    550  \n",
       "3210     17.0                0                  0           400    950  \n",
       "3211     20.0                0                  0          1000   1550  \n",
       "3212     18.0                0                  0           600   1150  \n",
       "3213     17.0                0                  0           400    950  \n",
       "\n",
       "[3214 rows x 24 columns]"
      ]
     },
     "metadata": {},
     "output_type": "display_data"
    }
   ],
   "source": [
    "data2['pereplata_minut'] = data2['perebor_minut'] * data2['rub_per_minute']\n",
    "data2['pereplata_message'] = data2['perebor_message'] * data2['rub_per_message']\n",
    "data2['pereplata_gb'] = data2['perebor_gb'] * data2['rub_per_gb']\n",
    "data2['plata'] = data2['pereplata_minut'] + data2['pereplata_message'] + data2['pereplata_gb'] + data2['rub_monthly_fee']\n",
    "display(data2)"
   ]
  },
  {
   "cell_type": "markdown",
   "metadata": {},
   "source": [
    "### Вывод: Расчитали недостающие показатели. Ошибок не выявлено. Приступаем к анализу"
   ]
  },
  {
   "cell_type": "markdown",
   "metadata": {},
   "source": [
    "## Анализ данных"
   ]
  },
  {
   "cell_type": "code",
   "execution_count": 17,
   "metadata": {
    "scrolled": false
   },
   "outputs": [
    {
     "data": {
      "text/plain": [
       "0             Краснодар\n",
       "1             Краснодар\n",
       "2             Краснодар\n",
       "3             Краснодар\n",
       "4             Краснодар\n",
       "             ...       \n",
       "3209    Санкт-Петербург\n",
       "3210    Санкт-Петербург\n",
       "3211    Санкт-Петербург\n",
       "3212    Санкт-Петербург\n",
       "3213    Санкт-Петербург\n",
       "Name: city, Length: 3214, dtype: object"
      ]
     },
     "metadata": {},
     "output_type": "display_data"
    }
   ],
   "source": [
    "display(data2['city'])"
   ]
  },
  {
   "cell_type": "code",
   "execution_count": 18,
   "metadata": {},
   "outputs": [
    {
     "data": {
      "image/png": "[encoded data removed]",
      "text/plain": [
       "<Figure size 432x288 with 1 Axes>"
      ]
     },
     "metadata": {
      "needs_background": "light"
     },
     "output_type": "display_data"
    }
   ],
   "source": [
    "tariff_smart = data2.query('tariff == \"smart\"')\n",
    "tariff_smart['duration'].hist(bins=100)\n",
    "plt.title('duration_smart')\n",
    "plt.xlabel('duration')\n",
    "plt.ylabel('count')\n",
    "plt.show()"
   ]
  },
  {
   "cell_type": "code",
   "execution_count": 19,
   "metadata": {},
   "outputs": [
    {
     "data": {
      "image/png": "[encoded data removed]",
      "text/plain": [
       "<Figure size 432x288 with 1 Axes>"
      ]
     },
     "metadata": {
      "needs_background": "light"
     },
     "output_type": "display_data"
    }
   ],
   "source": [
    "#analiz = data2.pivot_table(index=['tariff'], values='duration',aggfunc='sum')\n",
    "tariff_ultra = data2.query('tariff == \"ultra\"')                          \n",
    "tariff_ultra['duration'].hist(bins=100)\n",
    "plt.title('duration_ultra')\n",
    "plt.xlabel('duration')\n",
    "plt.ylabel('count')\n",
    "plt.show()\n",
    "#data2.sort_values('duration').plot(x='duration',y='', kind='scatter', grid=True)                           "
   ]
  },
  {
   "cell_type": "markdown",
   "metadata": {},
   "source": [
    "### Оба графика распределены нормально. На тарифе ультра большое количество 0, что означает,что тарифом пользуются ради интернета\n",
    "### Пользователям тарифа ультра всегда хватает включенных минут, а вот на тарифе смарт многим не хватает пакетных минут и они переплачивают"
   ]
  },
  {
   "cell_type": "code",
   "execution_count": 20,
   "metadata": {},
   "outputs": [
    {
     "data": {
      "image/png": "[encoded data removed]",
      "text/plain": [
       "<Figure size 432x288 with 1 Axes>"
      ]
     },
     "metadata": {
      "needs_background": "light"
     },
     "output_type": "display_data"
    }
   ],
   "source": [
    "tariff_smart['message_count'].hist(bins=100)\n",
    "plt.title('message_smart')\n",
    "plt.xlabel('message')\n",
    "plt.ylabel('count')\n",
    "plt.show()\n"
   ]
  },
  {
   "cell_type": "code",
   "execution_count": 21,
   "metadata": {},
   "outputs": [
    {
     "data": {
      "image/png": "[encoded data removed]",
      "text/plain": [
       "<Figure size 432x288 with 1 Axes>"
      ]
     },
     "metadata": {
      "needs_background": "light"
     },
     "output_type": "display_data"
    }
   ],
   "source": [
    "tariff_ultra['message_count'].hist(bins=100)\n",
    "plt.title('message_smart')\n",
    "plt.xlabel('message')\n",
    "plt.ylabel('count')\n",
    "plt.show()"
   ]
  },
  {
   "cell_type": "markdown",
   "metadata": {},
   "source": [
    "### Ситуация аналогична звонкам,разве что СМС безразличны многим пользователям обоих тарифов "
   ]
  },
  {
   "cell_type": "code",
   "execution_count": 22,
   "metadata": {},
   "outputs": [
    {
     "data": {
      "image/png": "[encoded data removed]",
      "text/plain": [
       "<Figure size 432x288 with 1 Axes>"
      ]
     },
     "metadata": {
      "needs_background": "light"
     },
     "output_type": "display_data"
    },
    {
     "data": {
      "image/png": "[encoded data removed]",
      "text/plain": [
       "<Figure size 432x288 with 1 Axes>"
      ]
     },
     "metadata": {
      "needs_background": "light"
     },
     "output_type": "display_data"
    }
   ],
   "source": [
    "tariff_smart['gb_used'].hist(bins=100)\n",
    "plt.title('gb_used_smart')\n",
    "plt.xlabel('gb')\n",
    "plt.ylabel('count')\n",
    "plt.show()\n",
    "tariff_ultra['gb_used'].hist(bins=100)\n",
    "plt.title('gb_used_ultra')\n",
    "plt.xlabel('gb')\n",
    "plt.ylabel('count')\n",
    "plt.show()"
   ]
  },
  {
   "cell_type": "markdown",
   "metadata": {},
   "source": [
    "### За интернет переплачивают пользователи обоих тарифов, На смарте интернета не хватает больше половины пользователям"
   ]
  },
  {
   "cell_type": "code",
   "execution_count": 23,
   "metadata": {},
   "outputs": [
    {
     "name": "stdout",
     "output_type": "stream",
     "text": [
      "417.9349484073576\n",
      "526.6233502538071\n"
     ]
    }
   ],
   "source": [
    "print(tariff_smart['duration'].mean())\n",
    "print(tariff_ultra['duration'].mean())"
   ]
  },
  {
   "cell_type": "code",
   "execution_count": 24,
   "metadata": {},
   "outputs": [
    {
     "name": "stdout",
     "output_type": "stream",
     "text": [
      "33.384028712427096\n",
      "49.36345177664975\n"
     ]
    }
   ],
   "source": [
    "print(tariff_smart['message_count'].mean())\n",
    "print(tariff_ultra['message_count'].mean())"
   ]
  },
  {
   "cell_type": "code",
   "execution_count": 25,
   "metadata": {},
   "outputs": [
    {
     "name": "stdout",
     "output_type": "stream",
     "text": [
      "16.328847016599372\n",
      "19.494416243654822\n"
     ]
    }
   ],
   "source": [
    "print(tariff_smart['gb_used'].mean())\n",
    "print(tariff_ultra['gb_used'].mean())"
   ]
  },
  {
   "cell_type": "code",
   "execution_count": 26,
   "metadata": {},
   "outputs": [
    {
     "name": "stdout",
     "output_type": "stream",
     "text": [
      "1289.9735307312696\n",
      "2070.1522842639592\n"
     ]
    }
   ],
   "source": [
    "print(tariff_smart['plata'].mean())\n",
    "print(tariff_ultra['plata'].mean())"
   ]
  },
  {
   "cell_type": "code",
   "execution_count": 27,
   "metadata": {},
   "outputs": [
    {
     "name": "stdout",
     "output_type": "stream",
     "text": [
      "36203.06665209465\n",
      "100771.22361720211\n",
      "190.27103471651864\n",
      "317.444835549741\n"
     ]
    }
   ],
   "source": [
    "var_smart_duration = np.var(tariff_smart['duration'])\n",
    "print(var_smart_duration)\n",
    "var_ultra_duration = np.var(tariff_ultra['duration'])\n",
    "print(var_ultra_duration)\n",
    "std_smart_duration = np.sqrt(var_smart_duration)\n",
    "print(std_smart_duration)\n",
    "std_ultra_duration = np.sqrt(var_ultra_duration)\n",
    "print(std_ultra_duration)"
   ]
  },
  {
   "cell_type": "code",
   "execution_count": 28,
   "metadata": {},
   "outputs": [
    {
     "name": "stdout",
     "output_type": "stream",
     "text": [
      "796.455482917076\n",
      "2282.94607539489\n",
      "28.221542886898938\n",
      "47.78018496610169\n"
     ]
    }
   ],
   "source": [
    "var_smart_message = np.var(tariff_smart['message_count'])\n",
    "print(var_smart_message)\n",
    "var_ultra_message = np.var(tariff_ultra['message_count'])\n",
    "print(var_ultra_message)\n",
    "std_smart_message = np.sqrt(var_smart_message)\n",
    "print(std_smart_message)\n",
    "std_ultra_message = np.sqrt(var_ultra_message)\n",
    "print(std_ultra_message)"
   ]
  },
  {
   "cell_type": "code",
   "execution_count": 29,
   "metadata": {},
   "outputs": [
    {
     "name": "stdout",
     "output_type": "stream",
     "text": [
      "33.01388745483741\n",
      "96.99311602978705\n",
      "5.7457712671874965\n",
      "9.8485083149575\n"
     ]
    }
   ],
   "source": [
    "var_smart_gb = np.var(tariff_smart['gb_used'])\n",
    "print(var_smart_gb)\n",
    "var_ultra_gb = np.var(tariff_ultra['gb_used'])\n",
    "print(var_ultra_gb)\n",
    "std_smart_gb = np.sqrt(var_smart_gb)\n",
    "print(std_smart_gb)\n",
    "std_ultra_gb = np.sqrt(var_ultra_gb)\n",
    "print(std_ultra_gb)"
   ]
  },
  {
   "cell_type": "markdown",
   "metadata": {},
   "source": [
    "## Проверка гипотез:"
   ]
  },
  {
   "cell_type": "markdown",
   "metadata": {},
   "source": [
    "### Нулевая гипотеза: средняя выручка пользователей тарифов «Ультра» и «Смарт» равны\n",
    "### альтернативная: средняя выручка пользователей тарифов «Ультра» и «Смарт» различаются"
   ]
  },
  {
   "cell_type": "code",
   "execution_count": 30,
   "metadata": {},
   "outputs": [
    {
     "name": "stdout",
     "output_type": "stream",
     "text": [
      "Отвергаем нулевую гипотезу\n"
     ]
    }
   ],
   "source": [
    "\n",
    "alpha = 0.05\n",
    "results = st.ttest_ind(tariff_smart['plata'], tariff_ultra['plata'])\n",
    "if results.pvalue < alpha:\n",
    "    print(\"Отвергаем нулевую гипотезу\")\n",
    "else:\n",
    "    print(\"Не получилось отвергнуть нулевую гипотезу\")"
   ]
  },
  {
   "cell_type": "code",
   "execution_count": 31,
   "metadata": {},
   "outputs": [
    {
     "data": {
      "text/html": [
       "<div>\n",
       "<style scoped>\n",
       "    .dataframe tbody tr th:only-of-type {\n",
       "        vertical-align: middle;\n",
       "    }\n",
       "\n",
       "    .dataframe tbody tr th {\n",
       "        vertical-align: top;\n",
       "    }\n",
       "\n",
       "    .dataframe thead th {\n",
       "        text-align: right;\n",
       "    }\n",
       "</style>\n",
       "<table border=\"1\" class=\"dataframe\">\n",
       "  <thead>\n",
       "    <tr style=\"text-align: right;\">\n",
       "      <th></th>\n",
       "      <th>user_id</th>\n",
       "      <th>month</th>\n",
       "      <th>duration</th>\n",
       "      <th>message_count</th>\n",
       "      <th>mb_used</th>\n",
       "      <th>tariff</th>\n",
       "      <th>city</th>\n",
       "      <th>index</th>\n",
       "      <th>messages_included</th>\n",
       "      <th>mb_per_month_included</th>\n",
       "      <th>...</th>\n",
       "      <th>perebor_minut</th>\n",
       "      <th>perebor_message</th>\n",
       "      <th>perebor_mb</th>\n",
       "      <th>perebor_gb</th>\n",
       "      <th>gb_used</th>\n",
       "      <th>pereplata_minut</th>\n",
       "      <th>pereplata_message</th>\n",
       "      <th>pereplata_gb</th>\n",
       "      <th>plata</th>\n",
       "      <th>city_group</th>\n",
       "    </tr>\n",
       "  </thead>\n",
       "  <tbody>\n",
       "    <tr>\n",
       "      <th>0</th>\n",
       "      <td>1000</td>\n",
       "      <td>5</td>\n",
       "      <td>159.0</td>\n",
       "      <td>22.0</td>\n",
       "      <td>2253.49</td>\n",
       "      <td>ultra</td>\n",
       "      <td>Краснодар</td>\n",
       "      <td>1</td>\n",
       "      <td>1000</td>\n",
       "      <td>30720</td>\n",
       "      <td>...</td>\n",
       "      <td>0</td>\n",
       "      <td>0</td>\n",
       "      <td>0.00</td>\n",
       "      <td>0</td>\n",
       "      <td>3.0</td>\n",
       "      <td>0</td>\n",
       "      <td>0</td>\n",
       "      <td>0</td>\n",
       "      <td>1950</td>\n",
       "      <td>Другой</td>\n",
       "    </tr>\n",
       "    <tr>\n",
       "      <th>1</th>\n",
       "      <td>1000</td>\n",
       "      <td>6</td>\n",
       "      <td>172.0</td>\n",
       "      <td>60.0</td>\n",
       "      <td>23233.77</td>\n",
       "      <td>ultra</td>\n",
       "      <td>Краснодар</td>\n",
       "      <td>1</td>\n",
       "      <td>1000</td>\n",
       "      <td>30720</td>\n",
       "      <td>...</td>\n",
       "      <td>0</td>\n",
       "      <td>0</td>\n",
       "      <td>0.00</td>\n",
       "      <td>0</td>\n",
       "      <td>23.0</td>\n",
       "      <td>0</td>\n",
       "      <td>0</td>\n",
       "      <td>0</td>\n",
       "      <td>1950</td>\n",
       "      <td>Другой</td>\n",
       "    </tr>\n",
       "    <tr>\n",
       "      <th>2</th>\n",
       "      <td>1000</td>\n",
       "      <td>7</td>\n",
       "      <td>340.0</td>\n",
       "      <td>75.0</td>\n",
       "      <td>14003.64</td>\n",
       "      <td>ultra</td>\n",
       "      <td>Краснодар</td>\n",
       "      <td>1</td>\n",
       "      <td>1000</td>\n",
       "      <td>30720</td>\n",
       "      <td>...</td>\n",
       "      <td>0</td>\n",
       "      <td>0</td>\n",
       "      <td>0.00</td>\n",
       "      <td>0</td>\n",
       "      <td>14.0</td>\n",
       "      <td>0</td>\n",
       "      <td>0</td>\n",
       "      <td>0</td>\n",
       "      <td>1950</td>\n",
       "      <td>Другой</td>\n",
       "    </tr>\n",
       "    <tr>\n",
       "      <th>3</th>\n",
       "      <td>1000</td>\n",
       "      <td>8</td>\n",
       "      <td>408.0</td>\n",
       "      <td>81.0</td>\n",
       "      <td>14055.93</td>\n",
       "      <td>ultra</td>\n",
       "      <td>Краснодар</td>\n",
       "      <td>1</td>\n",
       "      <td>1000</td>\n",
       "      <td>30720</td>\n",
       "      <td>...</td>\n",
       "      <td>0</td>\n",
       "      <td>0</td>\n",
       "      <td>0.00</td>\n",
       "      <td>0</td>\n",
       "      <td>14.0</td>\n",
       "      <td>0</td>\n",
       "      <td>0</td>\n",
       "      <td>0</td>\n",
       "      <td>1950</td>\n",
       "      <td>Другой</td>\n",
       "    </tr>\n",
       "    <tr>\n",
       "      <th>4</th>\n",
       "      <td>1000</td>\n",
       "      <td>9</td>\n",
       "      <td>466.0</td>\n",
       "      <td>57.0</td>\n",
       "      <td>14568.91</td>\n",
       "      <td>ultra</td>\n",
       "      <td>Краснодар</td>\n",
       "      <td>1</td>\n",
       "      <td>1000</td>\n",
       "      <td>30720</td>\n",
       "      <td>...</td>\n",
       "      <td>0</td>\n",
       "      <td>0</td>\n",
       "      <td>0.00</td>\n",
       "      <td>0</td>\n",
       "      <td>15.0</td>\n",
       "      <td>0</td>\n",
       "      <td>0</td>\n",
       "      <td>0</td>\n",
       "      <td>1950</td>\n",
       "      <td>Другой</td>\n",
       "    </tr>\n",
       "    <tr>\n",
       "      <th>...</th>\n",
       "      <td>...</td>\n",
       "      <td>...</td>\n",
       "      <td>...</td>\n",
       "      <td>...</td>\n",
       "      <td>...</td>\n",
       "      <td>...</td>\n",
       "      <td>...</td>\n",
       "      <td>...</td>\n",
       "      <td>...</td>\n",
       "      <td>...</td>\n",
       "      <td>...</td>\n",
       "      <td>...</td>\n",
       "      <td>...</td>\n",
       "      <td>...</td>\n",
       "      <td>...</td>\n",
       "      <td>...</td>\n",
       "      <td>...</td>\n",
       "      <td>...</td>\n",
       "      <td>...</td>\n",
       "      <td>...</td>\n",
       "      <td>...</td>\n",
       "    </tr>\n",
       "    <tr>\n",
       "      <th>3209</th>\n",
       "      <td>1489</td>\n",
       "      <td>8</td>\n",
       "      <td>0.0</td>\n",
       "      <td>17.0</td>\n",
       "      <td>11050.56</td>\n",
       "      <td>smart</td>\n",
       "      <td>Санкт-Петербург</td>\n",
       "      <td>0</td>\n",
       "      <td>50</td>\n",
       "      <td>15360</td>\n",
       "      <td>...</td>\n",
       "      <td>0</td>\n",
       "      <td>0</td>\n",
       "      <td>0.00</td>\n",
       "      <td>0</td>\n",
       "      <td>11.0</td>\n",
       "      <td>0</td>\n",
       "      <td>0</td>\n",
       "      <td>0</td>\n",
       "      <td>550</td>\n",
       "      <td>Другой</td>\n",
       "    </tr>\n",
       "    <tr>\n",
       "      <th>3210</th>\n",
       "      <td>1489</td>\n",
       "      <td>9</td>\n",
       "      <td>0.0</td>\n",
       "      <td>32.0</td>\n",
       "      <td>17206.30</td>\n",
       "      <td>smart</td>\n",
       "      <td>Санкт-Петербург</td>\n",
       "      <td>0</td>\n",
       "      <td>50</td>\n",
       "      <td>15360</td>\n",
       "      <td>...</td>\n",
       "      <td>0</td>\n",
       "      <td>0</td>\n",
       "      <td>1846.30</td>\n",
       "      <td>2</td>\n",
       "      <td>17.0</td>\n",
       "      <td>0</td>\n",
       "      <td>0</td>\n",
       "      <td>400</td>\n",
       "      <td>950</td>\n",
       "      <td>Другой</td>\n",
       "    </tr>\n",
       "    <tr>\n",
       "      <th>3211</th>\n",
       "      <td>1489</td>\n",
       "      <td>10</td>\n",
       "      <td>0.0</td>\n",
       "      <td>21.0</td>\n",
       "      <td>19559.44</td>\n",
       "      <td>smart</td>\n",
       "      <td>Санкт-Петербург</td>\n",
       "      <td>0</td>\n",
       "      <td>50</td>\n",
       "      <td>15360</td>\n",
       "      <td>...</td>\n",
       "      <td>0</td>\n",
       "      <td>0</td>\n",
       "      <td>4199.44</td>\n",
       "      <td>5</td>\n",
       "      <td>20.0</td>\n",
       "      <td>0</td>\n",
       "      <td>0</td>\n",
       "      <td>1000</td>\n",
       "      <td>1550</td>\n",
       "      <td>Другой</td>\n",
       "    </tr>\n",
       "    <tr>\n",
       "      <th>3212</th>\n",
       "      <td>1489</td>\n",
       "      <td>11</td>\n",
       "      <td>0.0</td>\n",
       "      <td>20.0</td>\n",
       "      <td>17491.56</td>\n",
       "      <td>smart</td>\n",
       "      <td>Санкт-Петербург</td>\n",
       "      <td>0</td>\n",
       "      <td>50</td>\n",
       "      <td>15360</td>\n",
       "      <td>...</td>\n",
       "      <td>0</td>\n",
       "      <td>0</td>\n",
       "      <td>2131.56</td>\n",
       "      <td>3</td>\n",
       "      <td>18.0</td>\n",
       "      <td>0</td>\n",
       "      <td>0</td>\n",
       "      <td>600</td>\n",
       "      <td>1150</td>\n",
       "      <td>Другой</td>\n",
       "    </tr>\n",
       "    <tr>\n",
       "      <th>3213</th>\n",
       "      <td>1489</td>\n",
       "      <td>12</td>\n",
       "      <td>0.0</td>\n",
       "      <td>35.0</td>\n",
       "      <td>17322.51</td>\n",
       "      <td>smart</td>\n",
       "      <td>Санкт-Петербург</td>\n",
       "      <td>0</td>\n",
       "      <td>50</td>\n",
       "      <td>15360</td>\n",
       "      <td>...</td>\n",
       "      <td>0</td>\n",
       "      <td>0</td>\n",
       "      <td>1962.51</td>\n",
       "      <td>2</td>\n",
       "      <td>17.0</td>\n",
       "      <td>0</td>\n",
       "      <td>0</td>\n",
       "      <td>400</td>\n",
       "      <td>950</td>\n",
       "      <td>Другой</td>\n",
       "    </tr>\n",
       "  </tbody>\n",
       "</table>\n",
       "<p>3214 rows × 25 columns</p>\n",
       "</div>"
      ],
      "text/plain": [
       "      user_id  month  duration  message_count   mb_used tariff  \\\n",
       "0        1000      5     159.0           22.0   2253.49  ultra   \n",
       "1        1000      6     172.0           60.0  23233.77  ultra   \n",
       "2        1000      7     340.0           75.0  14003.64  ultra   \n",
       "3        1000      8     408.0           81.0  14055.93  ultra   \n",
       "4        1000      9     466.0           57.0  14568.91  ultra   \n",
       "...       ...    ...       ...            ...       ...    ...   \n",
       "3209     1489      8       0.0           17.0  11050.56  smart   \n",
       "3210     1489      9       0.0           32.0  17206.30  smart   \n",
       "3211     1489     10       0.0           21.0  19559.44  smart   \n",
       "3212     1489     11       0.0           20.0  17491.56  smart   \n",
       "3213     1489     12       0.0           35.0  17322.51  smart   \n",
       "\n",
       "                 city  index  messages_included  mb_per_month_included  ...  \\\n",
       "0           Краснодар      1               1000                  30720  ...   \n",
       "1           Краснодар      1               1000                  30720  ...   \n",
       "2           Краснодар      1               1000                  30720  ...   \n",
       "3           Краснодар      1               1000                  30720  ...   \n",
       "4           Краснодар      1               1000                  30720  ...   \n",
       "...               ...    ...                ...                    ...  ...   \n",
       "3209  Санкт-Петербург      0                 50                  15360  ...   \n",
       "3210  Санкт-Петербург      0                 50                  15360  ...   \n",
       "3211  Санкт-Петербург      0                 50                  15360  ...   \n",
       "3212  Санкт-Петербург      0                 50                  15360  ...   \n",
       "3213  Санкт-Петербург      0                 50                  15360  ...   \n",
       "\n",
       "      perebor_minut  perebor_message  perebor_mb  perebor_gb  gb_used  \\\n",
       "0                 0                0        0.00           0      3.0   \n",
       "1                 0                0        0.00           0     23.0   \n",
       "2                 0                0        0.00           0     14.0   \n",
       "3                 0                0        0.00           0     14.0   \n",
       "4                 0                0        0.00           0     15.0   \n",
       "...             ...              ...         ...         ...      ...   \n",
       "3209              0                0        0.00           0     11.0   \n",
       "3210              0                0     1846.30           2     17.0   \n",
       "3211              0                0     4199.44           5     20.0   \n",
       "3212              0                0     2131.56           3     18.0   \n",
       "3213              0                0     1962.51           2     17.0   \n",
       "\n",
       "      pereplata_minut  pereplata_message  pereplata_gb  plata  city_group  \n",
       "0                   0                  0             0   1950      Другой  \n",
       "1                   0                  0             0   1950      Другой  \n",
       "2                   0                  0             0   1950      Другой  \n",
       "3                   0                  0             0   1950      Другой  \n",
       "4                   0                  0             0   1950      Другой  \n",
       "...               ...                ...           ...    ...         ...  \n",
       "3209                0                  0             0    550      Другой  \n",
       "3210                0                  0           400    950      Другой  \n",
       "3211                0                  0          1000   1550      Другой  \n",
       "3212                0                  0           600   1150      Другой  \n",
       "3213                0                  0           400    950      Другой  \n",
       "\n",
       "[3214 rows x 25 columns]"
      ]
     },
     "metadata": {},
     "output_type": "display_data"
    }
   ],
   "source": [
    "def city_group(row):\n",
    "    if row['city'] == 'Москва':\n",
    "        return 'Москва'\n",
    "    return 'Другой'\n",
    "data2['city_group'] = data2.apply(city_group, axis =1)\n",
    "display(data2)"
   ]
  },
  {
   "cell_type": "code",
   "execution_count": 32,
   "metadata": {},
   "outputs": [
    {
     "name": "stdout",
     "output_type": "stream",
     "text": [
      "                  plata\n",
      "city_group             \n",
      "Другой      1524.936227\n",
      "Москва      1546.713584\n"
     ]
    }
   ],
   "source": [
    "goroda = data2.pivot_table(index=['city_group'], values ='plata', aggfunc='mean')\n",
    "print(goroda)"
   ]
  },
  {
   "cell_type": "code",
   "execution_count": 33,
   "metadata": {},
   "outputs": [],
   "source": [
    "moskva = data2.query('city_group == \"Москва\"')\n",
    "drygoi = data2.query('city_group == \"Другой\"')"
   ]
  },
  {
   "cell_type": "markdown",
   "metadata": {},
   "source": [
    "### Нулевая гипотеза: средняя выручка пользователей из Москвы НЕ отличается от выручки пользователей из других регионов.\n",
    "### Альтернативная: средняя выручка пользователей из Москвы отличается от выручки пользователей из других регионов."
   ]
  },
  {
   "cell_type": "code",
   "execution_count": 34,
   "metadata": {},
   "outputs": [
    {
     "name": "stdout",
     "output_type": "stream",
     "text": [
      "Не получилось отвергнуть нулевую гипотезу\n"
     ]
    }
   ],
   "source": [
    "alpha = 0.05\n",
    "results = st.ttest_ind(moskva['plata'], drygoi['plata'])\n",
    "if results.pvalue < alpha:\n",
    "    print(\"Отвергаем нулевую гипотезу\")\n",
    "else:\n",
    "    print(\"Не получилось отвергнуть нулевую гипотезу\")"
   ]
  },
  {
   "cell_type": "markdown",
   "metadata": {},
   "source": [
    "### Вывод с большой долей вероятности средния выручка от пользователей с тарифами Смарт и Ультра различается, а вот разницы между москвой и остальными городами - нет"
   ]
  },
  {
   "cell_type": "markdown",
   "metadata": {},
   "source": [
    "## Общий вывод:\n",
    "Компания Мегалайн предоставила хорошую выборку данных для анализа. Пропуски и аномальные значения практически отсутствуют. Данные распределены нормально и соответсвенно выглядят правдоподобно. Мной  была рассчитана сумма,которую каждый пользователь тратит в месяц и для удобства сравнения итоговая таблица была разделена на 2 в зависимости от тарифа. Статистический анализ показал, что с большой долей вероятности во всём наборе данных средний пользователь тарифа Ультра,тратит больше денег,чем средний пользователь тарифа Смарт. Таким образом я рекомендую Мегалайну вложить дополнительные средства в продвижение тарифа Ультра"
   ]
  }
 ],
 "metadata": {
  "ExecuteTimeLog": [
   {
    "duration": 991,
    "start_time": "2021-11-01T11:06:56.790Z"
   },
   {
    "duration": 407,
    "start_time": "2021-11-01T11:07:09.793Z"
   },
   {
    "duration": 409,
    "start_time": "2021-11-01T11:08:04.912Z"
   },
   {
    "duration": 398,
    "start_time": "2021-11-01T11:08:41.381Z"
   },
   {
    "duration": 395,
    "start_time": "2021-11-01T11:09:00.345Z"
   },
   {
    "duration": 403,
    "start_time": "2021-11-01T11:11:17.917Z"
   },
   {
    "duration": 970,
    "start_time": "2021-11-01T11:13:03.526Z"
   },
   {
    "duration": 23,
    "start_time": "2021-11-01T11:13:04.498Z"
   },
   {
    "duration": 29,
    "start_time": "2021-11-01T11:13:04.523Z"
   },
   {
    "duration": 40,
    "start_time": "2021-11-01T11:13:04.555Z"
   },
   {
    "duration": 18,
    "start_time": "2021-11-01T11:13:04.597Z"
   },
   {
    "duration": 1167,
    "start_time": "2021-11-01T11:14:15.046Z"
   },
   {
    "duration": -1330,
    "start_time": "2021-11-01T11:14:17.545Z"
   },
   {
    "duration": -1361,
    "start_time": "2021-11-01T11:14:17.577Z"
   },
   {
    "duration": -1362,
    "start_time": "2021-11-01T11:14:17.579Z"
   },
   {
    "duration": -1371,
    "start_time": "2021-11-01T11:14:17.589Z"
   },
   {
    "duration": 1021,
    "start_time": "2021-11-01T11:14:29.506Z"
   },
   {
    "duration": 35,
    "start_time": "2021-11-01T11:14:30.529Z"
   },
   {
    "duration": 48,
    "start_time": "2021-11-01T11:14:30.565Z"
   },
   {
    "duration": 14,
    "start_time": "2021-11-01T11:14:30.615Z"
   },
   {
    "duration": 15,
    "start_time": "2021-11-01T11:14:30.631Z"
   },
   {
    "duration": 223,
    "start_time": "2021-11-01T11:38:37.237Z"
   },
   {
    "duration": 185,
    "start_time": "2021-11-01T11:39:05.058Z"
   },
   {
    "duration": 216,
    "start_time": "2021-11-01T11:40:19.953Z"
   },
   {
    "duration": 29,
    "start_time": "2021-11-01T11:43:04.498Z"
   },
   {
    "duration": 20,
    "start_time": "2021-11-01T11:43:16.806Z"
   },
   {
    "duration": 184,
    "start_time": "2021-11-01T11:43:46.770Z"
   },
   {
    "duration": 30,
    "start_time": "2021-11-01T11:44:08.886Z"
   },
   {
    "duration": 46,
    "start_time": "2021-11-01T11:51:55.582Z"
   },
   {
    "duration": 47,
    "start_time": "2021-11-01T11:52:04.074Z"
   },
   {
    "duration": 45,
    "start_time": "2021-11-01T11:52:44.415Z"
   },
   {
    "duration": 4180,
    "start_time": "2021-11-01T11:54:49.219Z"
   },
   {
    "duration": 55,
    "start_time": "2021-11-01T11:56:11.499Z"
   },
   {
    "duration": 4615,
    "start_time": "2021-11-01T12:35:05.566Z"
   },
   {
    "duration": 358,
    "start_time": "2021-11-01T12:35:54.934Z"
   },
   {
    "duration": 29,
    "start_time": "2021-11-01T12:36:58.667Z"
   },
   {
    "duration": 4952,
    "start_time": "2021-11-01T12:37:41.795Z"
   },
   {
    "duration": 27,
    "start_time": "2021-11-01T12:38:01.143Z"
   },
   {
    "duration": 10,
    "start_time": "2021-11-01T12:40:28.055Z"
   },
   {
    "duration": 13,
    "start_time": "2021-11-01T12:42:24.880Z"
   },
   {
    "duration": 177,
    "start_time": "2021-11-01T12:48:08.436Z"
   },
   {
    "duration": 179,
    "start_time": "2021-11-01T12:51:19.538Z"
   },
   {
    "duration": 4474,
    "start_time": "2021-11-01T12:55:55.933Z"
   },
   {
    "duration": 5565,
    "start_time": "2021-11-01T12:56:57.729Z"
   },
   {
    "duration": 4,
    "start_time": "2021-11-01T12:57:48.643Z"
   },
   {
    "duration": 4214,
    "start_time": "2021-11-01T13:08:40.655Z"
   },
   {
    "duration": 12,
    "start_time": "2021-11-01T13:09:14.187Z"
   },
   {
    "duration": 166,
    "start_time": "2021-11-01T13:09:33.075Z"
   },
   {
    "duration": 1357,
    "start_time": "2021-11-02T11:09:42.516Z"
   },
   {
    "duration": 66,
    "start_time": "2021-11-02T11:09:43.877Z"
   },
   {
    "duration": 42,
    "start_time": "2021-11-02T11:09:43.952Z"
   },
   {
    "duration": 51,
    "start_time": "2021-11-02T11:09:43.997Z"
   },
   {
    "duration": 23,
    "start_time": "2021-11-02T11:09:44.050Z"
   },
   {
    "duration": 142,
    "start_time": "2021-11-02T11:09:44.075Z"
   },
   {
    "duration": 72,
    "start_time": "2021-11-02T11:09:44.230Z"
   },
   {
    "duration": 80,
    "start_time": "2021-11-02T11:09:44.305Z"
   },
   {
    "duration": 17,
    "start_time": "2021-11-02T11:09:44.387Z"
   },
   {
    "duration": 33,
    "start_time": "2021-11-02T11:09:44.429Z"
   },
   {
    "duration": 34,
    "start_time": "2021-11-02T11:09:59.201Z"
   },
   {
    "duration": 31,
    "start_time": "2021-11-02T11:12:19.086Z"
   },
   {
    "duration": 862,
    "start_time": "2021-11-02T11:20:05.462Z"
   },
   {
    "duration": 41,
    "start_time": "2021-11-02T11:20:18.790Z"
   },
   {
    "duration": 1325,
    "start_time": "2021-11-02T11:20:24.837Z"
   },
   {
    "duration": 69,
    "start_time": "2021-11-02T11:20:26.165Z"
   },
   {
    "duration": 40,
    "start_time": "2021-11-02T11:20:26.237Z"
   },
   {
    "duration": 21,
    "start_time": "2021-11-02T11:20:26.280Z"
   },
   {
    "duration": 23,
    "start_time": "2021-11-02T11:20:26.330Z"
   },
   {
    "duration": 129,
    "start_time": "2021-11-02T11:20:26.356Z"
   },
   {
    "duration": 89,
    "start_time": "2021-11-02T11:20:26.487Z"
   },
   {
    "duration": 71,
    "start_time": "2021-11-02T11:20:26.579Z"
   },
   {
    "duration": 19,
    "start_time": "2021-11-02T11:20:26.653Z"
   },
   {
    "duration": 59,
    "start_time": "2021-11-02T11:20:26.675Z"
   },
   {
    "duration": 419,
    "start_time": "2021-11-02T11:25:08.588Z"
   },
   {
    "duration": 255,
    "start_time": "2021-11-02T11:26:18.548Z"
   },
   {
    "duration": 11,
    "start_time": "2021-11-02T11:31:26.222Z"
   },
   {
    "duration": 19,
    "start_time": "2021-11-02T11:31:31.509Z"
   },
   {
    "duration": 25,
    "start_time": "2021-11-02T11:31:46.789Z"
   },
   {
    "duration": 1925,
    "start_time": "2021-11-02T11:32:47.711Z"
   },
   {
    "duration": 94,
    "start_time": "2021-11-02T11:32:49.639Z"
   },
   {
    "duration": 66,
    "start_time": "2021-11-02T11:32:49.738Z"
   },
   {
    "duration": 29,
    "start_time": "2021-11-02T11:32:49.831Z"
   },
   {
    "duration": 35,
    "start_time": "2021-11-02T11:32:49.862Z"
   },
   {
    "duration": 117,
    "start_time": "2021-11-02T11:32:49.930Z"
   },
   {
    "duration": 86,
    "start_time": "2021-11-02T11:32:50.049Z"
   },
   {
    "duration": 60,
    "start_time": "2021-11-02T11:32:50.138Z"
   },
   {
    "duration": 39,
    "start_time": "2021-11-02T11:32:50.201Z"
   },
   {
    "duration": 18,
    "start_time": "2021-11-02T11:32:50.242Z"
   },
   {
    "duration": 32,
    "start_time": "2021-11-02T11:32:50.263Z"
   },
   {
    "duration": 35,
    "start_time": "2021-11-02T11:32:50.297Z"
   },
   {
    "duration": 31,
    "start_time": "2021-11-02T11:56:50.198Z"
   },
   {
    "duration": 290,
    "start_time": "2021-11-02T12:25:55.856Z"
   },
   {
    "duration": 1308,
    "start_time": "2021-11-02T12:25:56.252Z"
   },
   {
    "duration": 68,
    "start_time": "2021-11-02T12:25:57.562Z"
   },
   {
    "duration": 39,
    "start_time": "2021-11-02T12:25:57.633Z"
   },
   {
    "duration": 20,
    "start_time": "2021-11-02T12:25:57.675Z"
   },
   {
    "duration": 55,
    "start_time": "2021-11-02T12:25:57.697Z"
   },
   {
    "duration": 139,
    "start_time": "2021-11-02T12:25:57.756Z"
   },
   {
    "duration": 87,
    "start_time": "2021-11-02T12:25:57.898Z"
   },
   {
    "duration": 80,
    "start_time": "2021-11-02T12:25:57.990Z"
   },
   {
    "duration": 17,
    "start_time": "2021-11-02T12:25:58.073Z"
   },
   {
    "duration": 8,
    "start_time": "2021-11-02T12:25:58.093Z"
   },
   {
    "duration": 53,
    "start_time": "2021-11-02T12:25:58.104Z"
   },
   {
    "duration": 23,
    "start_time": "2021-11-02T12:25:58.159Z"
   },
   {
    "duration": 77,
    "start_time": "2021-11-02T12:25:58.185Z"
   },
   {
    "duration": 53,
    "start_time": "2021-11-02T12:26:26.213Z"
   },
   {
    "duration": 59,
    "start_time": "2021-11-02T12:26:51.326Z"
   },
   {
    "duration": 62,
    "start_time": "2021-11-02T12:31:00.117Z"
   },
   {
    "duration": 42,
    "start_time": "2021-11-02T12:31:43.229Z"
   },
   {
    "duration": 1343,
    "start_time": "2021-11-02T12:56:04.800Z"
   },
   {
    "duration": 51,
    "start_time": "2021-11-02T12:56:06.146Z"
   },
   {
    "duration": 60,
    "start_time": "2021-11-02T12:56:06.201Z"
   },
   {
    "duration": 22,
    "start_time": "2021-11-02T12:56:06.264Z"
   },
   {
    "duration": 59,
    "start_time": "2021-11-02T12:56:06.289Z"
   },
   {
    "duration": 140,
    "start_time": "2021-11-02T12:56:06.350Z"
   },
   {
    "duration": 85,
    "start_time": "2021-11-02T12:56:06.492Z"
   },
   {
    "duration": 74,
    "start_time": "2021-11-02T12:56:06.581Z"
   },
   {
    "duration": 19,
    "start_time": "2021-11-02T12:56:06.657Z"
   },
   {
    "duration": 10,
    "start_time": "2021-11-02T12:56:06.678Z"
   },
   {
    "duration": 64,
    "start_time": "2021-11-02T12:56:06.690Z"
   },
   {
    "duration": 33,
    "start_time": "2021-11-02T12:56:06.756Z"
   },
   {
    "duration": 4,
    "start_time": "2021-11-02T12:56:06.792Z"
   },
   {
    "duration": 428,
    "start_time": "2021-11-02T12:56:42.151Z"
   },
   {
    "duration": 3373,
    "start_time": "2021-11-02T12:57:21.709Z"
   },
   {
    "duration": 2949,
    "start_time": "2021-11-02T12:57:41.585Z"
   },
   {
    "duration": 1237,
    "start_time": "2021-11-02T12:57:58.573Z"
   },
   {
    "duration": 49,
    "start_time": "2021-11-02T12:57:59.813Z"
   },
   {
    "duration": 65,
    "start_time": "2021-11-02T12:57:59.867Z"
   },
   {
    "duration": 19,
    "start_time": "2021-11-02T12:57:59.934Z"
   },
   {
    "duration": 32,
    "start_time": "2021-11-02T12:57:59.955Z"
   },
   {
    "duration": 148,
    "start_time": "2021-11-02T12:57:59.989Z"
   },
   {
    "duration": 74,
    "start_time": "2021-11-02T12:58:00.141Z"
   },
   {
    "duration": 65,
    "start_time": "2021-11-02T12:58:00.229Z"
   },
   {
    "duration": 39,
    "start_time": "2021-11-02T12:58:00.296Z"
   },
   {
    "duration": 9,
    "start_time": "2021-11-02T12:58:00.337Z"
   },
   {
    "duration": 49,
    "start_time": "2021-11-02T12:58:00.348Z"
   },
   {
    "duration": 47,
    "start_time": "2021-11-02T12:58:00.400Z"
   },
   {
    "duration": 3,
    "start_time": "2021-11-02T12:58:00.449Z"
   },
   {
    "duration": 1308,
    "start_time": "2021-11-02T12:58:12.962Z"
   },
   {
    "duration": 68,
    "start_time": "2021-11-02T12:58:14.273Z"
   },
   {
    "duration": 39,
    "start_time": "2021-11-02T12:58:14.344Z"
   },
   {
    "duration": 48,
    "start_time": "2021-11-02T12:58:14.386Z"
   },
   {
    "duration": 23,
    "start_time": "2021-11-02T12:58:14.436Z"
   },
   {
    "duration": 135,
    "start_time": "2021-11-02T12:58:14.462Z"
   },
   {
    "duration": 84,
    "start_time": "2021-11-02T12:58:14.600Z"
   },
   {
    "duration": 66,
    "start_time": "2021-11-02T12:58:14.687Z"
   },
   {
    "duration": 19,
    "start_time": "2021-11-02T12:58:14.756Z"
   },
   {
    "duration": 9,
    "start_time": "2021-11-02T12:58:14.777Z"
   },
   {
    "duration": 64,
    "start_time": "2021-11-02T12:58:14.788Z"
   },
   {
    "duration": 30,
    "start_time": "2021-11-02T12:58:14.855Z"
   },
   {
    "duration": 3,
    "start_time": "2021-11-02T12:58:14.887Z"
   },
   {
    "duration": 5817,
    "start_time": "2021-11-02T13:04:54.222Z"
   },
   {
    "duration": 7399,
    "start_time": "2021-11-02T13:06:01.747Z"
   },
   {
    "duration": 1351,
    "start_time": "2021-11-02T13:06:44.123Z"
   },
   {
    "duration": 63,
    "start_time": "2021-11-02T13:06:45.477Z"
   },
   {
    "duration": 40,
    "start_time": "2021-11-02T13:06:45.542Z"
   },
   {
    "duration": 45,
    "start_time": "2021-11-02T13:06:45.585Z"
   },
   {
    "duration": 21,
    "start_time": "2021-11-02T13:06:45.632Z"
   },
   {
    "duration": 135,
    "start_time": "2021-11-02T13:06:45.656Z"
   },
   {
    "duration": 92,
    "start_time": "2021-11-02T13:06:45.793Z"
   },
   {
    "duration": 75,
    "start_time": "2021-11-02T13:06:45.889Z"
   },
   {
    "duration": 20,
    "start_time": "2021-11-02T13:06:45.967Z"
   },
   {
    "duration": 10,
    "start_time": "2021-11-02T13:06:45.990Z"
   },
   {
    "duration": 33,
    "start_time": "2021-11-02T13:06:46.029Z"
   },
   {
    "duration": 366,
    "start_time": "2021-11-02T13:06:46.065Z"
   },
   {
    "duration": 860,
    "start_time": "2021-11-02T13:06:45.573Z"
   },
   {
    "duration": 1426,
    "start_time": "2021-11-02T13:07:02.696Z"
   },
   {
    "duration": 54,
    "start_time": "2021-11-02T13:07:04.125Z"
   },
   {
    "duration": 57,
    "start_time": "2021-11-02T13:07:04.182Z"
   },
   {
    "duration": 20,
    "start_time": "2021-11-02T13:07:04.242Z"
   },
   {
    "duration": 27,
    "start_time": "2021-11-02T13:07:04.264Z"
   },
   {
    "duration": 151,
    "start_time": "2021-11-02T13:07:04.293Z"
   },
   {
    "duration": 87,
    "start_time": "2021-11-02T13:07:04.447Z"
   },
   {
    "duration": 60,
    "start_time": "2021-11-02T13:07:04.537Z"
   },
   {
    "duration": 41,
    "start_time": "2021-11-02T13:07:04.600Z"
   },
   {
    "duration": 10,
    "start_time": "2021-11-02T13:07:04.643Z"
   },
   {
    "duration": 44,
    "start_time": "2021-11-02T13:07:04.656Z"
   },
   {
    "duration": 46,
    "start_time": "2021-11-02T13:07:04.730Z"
   },
   {
    "duration": 5959,
    "start_time": "2021-11-02T13:07:04.779Z"
   },
   {
    "duration": 33,
    "start_time": "2021-11-02T13:10:22.207Z"
   },
   {
    "duration": 33,
    "start_time": "2021-11-02T13:10:53.363Z"
   },
   {
    "duration": 31,
    "start_time": "2021-11-02T13:11:11.807Z"
   },
   {
    "duration": 6594,
    "start_time": "2021-11-02T13:11:30.115Z"
   },
   {
    "duration": 55,
    "start_time": "2021-11-02T13:11:55.258Z"
   },
   {
    "duration": 53,
    "start_time": "2021-11-02T13:13:38.475Z"
   },
   {
    "duration": 1348,
    "start_time": "2021-11-02T13:15:46.934Z"
   },
   {
    "duration": 58,
    "start_time": "2021-11-02T13:15:48.284Z"
   },
   {
    "duration": 38,
    "start_time": "2021-11-02T13:15:48.345Z"
   },
   {
    "duration": 49,
    "start_time": "2021-11-02T13:15:48.386Z"
   },
   {
    "duration": 26,
    "start_time": "2021-11-02T13:15:48.438Z"
   },
   {
    "duration": 146,
    "start_time": "2021-11-02T13:15:48.466Z"
   },
   {
    "duration": 82,
    "start_time": "2021-11-02T13:15:48.614Z"
   },
   {
    "duration": 78,
    "start_time": "2021-11-02T13:15:48.699Z"
   },
   {
    "duration": 20,
    "start_time": "2021-11-02T13:15:48.779Z"
   },
   {
    "duration": 31,
    "start_time": "2021-11-02T13:15:48.801Z"
   },
   {
    "duration": 37,
    "start_time": "2021-11-02T13:15:48.835Z"
   },
   {
    "duration": 608,
    "start_time": "2021-11-02T13:15:48.875Z"
   },
   {
    "duration": 852,
    "start_time": "2021-11-02T13:15:48.633Z"
   },
   {
    "duration": 41,
    "start_time": "2021-11-02T13:15:56.782Z"
   },
   {
    "duration": 5603,
    "start_time": "2021-11-02T13:16:25.782Z"
   },
   {
    "duration": 39,
    "start_time": "2021-11-02T13:16:55.066Z"
   },
   {
    "duration": 49,
    "start_time": "2021-11-02T13:17:14.051Z"
   },
   {
    "duration": 53,
    "start_time": "2021-11-02T13:17:37.332Z"
   },
   {
    "duration": 55,
    "start_time": "2021-11-02T13:18:15.742Z"
   },
   {
    "duration": 1472,
    "start_time": "2021-11-02T13:18:33.414Z"
   },
   {
    "duration": 66,
    "start_time": "2021-11-02T13:18:34.890Z"
   },
   {
    "duration": 40,
    "start_time": "2021-11-02T13:18:34.959Z"
   },
   {
    "duration": 45,
    "start_time": "2021-11-02T13:18:35.002Z"
   },
   {
    "duration": 23,
    "start_time": "2021-11-02T13:18:35.049Z"
   },
   {
    "duration": 141,
    "start_time": "2021-11-02T13:18:35.074Z"
   },
   {
    "duration": 82,
    "start_time": "2021-11-02T13:18:35.217Z"
   },
   {
    "duration": 82,
    "start_time": "2021-11-02T13:18:35.301Z"
   },
   {
    "duration": 19,
    "start_time": "2021-11-02T13:18:35.387Z"
   },
   {
    "duration": 28,
    "start_time": "2021-11-02T13:18:35.408Z"
   },
   {
    "duration": 54,
    "start_time": "2021-11-02T13:18:35.439Z"
   },
   {
    "duration": 46,
    "start_time": "2021-11-02T13:18:35.495Z"
   },
   {
    "duration": 6096,
    "start_time": "2021-11-02T13:18:35.544Z"
   },
   {
    "duration": 39,
    "start_time": "2021-11-02T13:21:23.800Z"
   },
   {
    "duration": 6364,
    "start_time": "2021-11-02T13:23:31.756Z"
   },
   {
    "duration": 42,
    "start_time": "2021-11-02T13:23:45.440Z"
   },
   {
    "duration": 5730,
    "start_time": "2021-11-02T13:24:24.306Z"
   },
   {
    "duration": 646,
    "start_time": "2021-11-02T13:25:41.796Z"
   },
   {
    "duration": 86,
    "start_time": "2021-11-02T13:26:53.432Z"
   },
   {
    "duration": 57,
    "start_time": "2021-11-02T13:27:14.740Z"
   },
   {
    "duration": 50,
    "start_time": "2021-11-02T13:30:32.433Z"
   },
   {
    "duration": 1318,
    "start_time": "2021-11-02T13:31:11.468Z"
   },
   {
    "duration": 67,
    "start_time": "2021-11-02T13:31:12.789Z"
   },
   {
    "duration": 42,
    "start_time": "2021-11-02T13:31:12.859Z"
   },
   {
    "duration": 43,
    "start_time": "2021-11-02T13:31:12.904Z"
   },
   {
    "duration": 30,
    "start_time": "2021-11-02T13:31:12.950Z"
   },
   {
    "duration": 147,
    "start_time": "2021-11-02T13:31:12.983Z"
   },
   {
    "duration": 78,
    "start_time": "2021-11-02T13:31:13.134Z"
   },
   {
    "duration": 60,
    "start_time": "2021-11-02T13:31:13.232Z"
   },
   {
    "duration": 40,
    "start_time": "2021-11-02T13:31:13.295Z"
   },
   {
    "duration": 9,
    "start_time": "2021-11-02T13:31:13.337Z"
   },
   {
    "duration": 34,
    "start_time": "2021-11-02T13:31:13.348Z"
   },
   {
    "duration": 62,
    "start_time": "2021-11-02T13:31:13.385Z"
   },
   {
    "duration": 6421,
    "start_time": "2021-11-02T13:31:13.451Z"
   },
   {
    "duration": 5879,
    "start_time": "2021-11-02T13:31:30.485Z"
   },
   {
    "duration": 6333,
    "start_time": "2021-11-02T13:31:55.080Z"
   },
   {
    "duration": 40,
    "start_time": "2021-11-02T13:32:12.032Z"
   },
   {
    "duration": 46,
    "start_time": "2021-11-02T13:32:17.181Z"
   },
   {
    "duration": 1357,
    "start_time": "2021-11-02T13:54:59.102Z"
   },
   {
    "duration": 69,
    "start_time": "2021-11-02T13:55:00.462Z"
   },
   {
    "duration": 41,
    "start_time": "2021-11-02T13:55:00.534Z"
   },
   {
    "duration": 20,
    "start_time": "2021-11-02T13:55:00.578Z"
   },
   {
    "duration": 25,
    "start_time": "2021-11-02T13:55:00.629Z"
   },
   {
    "duration": 138,
    "start_time": "2021-11-02T13:55:00.657Z"
   },
   {
    "duration": 88,
    "start_time": "2021-11-02T13:55:00.798Z"
   },
   {
    "duration": 75,
    "start_time": "2021-11-02T13:55:00.890Z"
   },
   {
    "duration": 19,
    "start_time": "2021-11-02T13:55:00.968Z"
   },
   {
    "duration": 20,
    "start_time": "2021-11-02T13:55:00.990Z"
   },
   {
    "duration": 32,
    "start_time": "2021-11-02T13:55:01.030Z"
   },
   {
    "duration": 34,
    "start_time": "2021-11-02T13:55:01.065Z"
   },
   {
    "duration": 6016,
    "start_time": "2021-11-02T13:55:01.101Z"
   },
   {
    "duration": 5633,
    "start_time": "2021-11-02T13:55:12.239Z"
   },
   {
    "duration": 1327,
    "start_time": "2021-11-02T13:55:40.695Z"
   },
   {
    "duration": 47,
    "start_time": "2021-11-02T13:55:42.025Z"
   },
   {
    "duration": 60,
    "start_time": "2021-11-02T13:55:42.075Z"
   },
   {
    "duration": 20,
    "start_time": "2021-11-02T13:55:42.138Z"
   },
   {
    "duration": 23,
    "start_time": "2021-11-02T13:55:42.161Z"
   },
   {
    "duration": 153,
    "start_time": "2021-11-02T13:55:42.186Z"
   },
   {
    "duration": 90,
    "start_time": "2021-11-02T13:55:42.342Z"
   },
   {
    "duration": 60,
    "start_time": "2021-11-02T13:55:42.435Z"
   },
   {
    "duration": 39,
    "start_time": "2021-11-02T13:55:42.497Z"
   },
   {
    "duration": 9,
    "start_time": "2021-11-02T13:55:42.538Z"
   },
   {
    "duration": 42,
    "start_time": "2021-11-02T13:55:42.550Z"
   },
   {
    "duration": 55,
    "start_time": "2021-11-02T13:55:42.595Z"
   },
   {
    "duration": 5580,
    "start_time": "2021-11-02T13:55:42.653Z"
   },
   {
    "duration": 1268,
    "start_time": "2021-11-02T13:56:26.878Z"
   },
   {
    "duration": 52,
    "start_time": "2021-11-02T13:56:28.149Z"
   },
   {
    "duration": 64,
    "start_time": "2021-11-02T13:56:28.205Z"
   },
   {
    "duration": 21,
    "start_time": "2021-11-02T13:56:28.273Z"
   },
   {
    "duration": 26,
    "start_time": "2021-11-02T13:56:28.329Z"
   },
   {
    "duration": 148,
    "start_time": "2021-11-02T13:56:28.358Z"
   },
   {
    "duration": 82,
    "start_time": "2021-11-02T13:56:28.509Z"
   },
   {
    "duration": 81,
    "start_time": "2021-11-02T13:56:28.596Z"
   },
   {
    "duration": 21,
    "start_time": "2021-11-02T13:56:28.680Z"
   },
   {
    "duration": 27,
    "start_time": "2021-11-02T13:56:28.703Z"
   },
   {
    "duration": 33,
    "start_time": "2021-11-02T13:56:28.733Z"
   },
   {
    "duration": 64,
    "start_time": "2021-11-02T13:56:28.768Z"
   },
   {
    "duration": 5720,
    "start_time": "2021-11-02T13:56:28.834Z"
   },
   {
    "duration": 33,
    "start_time": "2021-11-02T13:57:16.244Z"
   },
   {
    "duration": 57,
    "start_time": "2021-11-02T14:00:40.880Z"
   },
   {
    "duration": 1360,
    "start_time": "2021-11-02T14:06:22.206Z"
   },
   {
    "duration": 76,
    "start_time": "2021-11-02T14:06:23.569Z"
   },
   {
    "duration": 39,
    "start_time": "2021-11-02T14:06:23.648Z"
   },
   {
    "duration": 44,
    "start_time": "2021-11-02T14:06:23.689Z"
   },
   {
    "duration": 23,
    "start_time": "2021-11-02T14:06:23.735Z"
   },
   {
    "duration": 134,
    "start_time": "2021-11-02T14:06:23.760Z"
   },
   {
    "duration": 84,
    "start_time": "2021-11-02T14:06:23.896Z"
   },
   {
    "duration": 69,
    "start_time": "2021-11-02T14:06:23.983Z"
   },
   {
    "duration": 19,
    "start_time": "2021-11-02T14:06:24.055Z"
   },
   {
    "duration": 9,
    "start_time": "2021-11-02T14:06:24.076Z"
   },
   {
    "duration": 58,
    "start_time": "2021-11-02T14:06:24.088Z"
   },
   {
    "duration": 33,
    "start_time": "2021-11-02T14:06:24.149Z"
   },
   {
    "duration": 54,
    "start_time": "2021-11-02T14:06:24.184Z"
   },
   {
    "duration": 31,
    "start_time": "2021-11-02T14:06:39.913Z"
   },
   {
    "duration": 64,
    "start_time": "2021-11-02T14:07:34.264Z"
   },
   {
    "duration": 69,
    "start_time": "2021-11-02T14:08:01.913Z"
   },
   {
    "duration": 1362,
    "start_time": "2021-11-02T14:08:31.886Z"
   },
   {
    "duration": 92,
    "start_time": "2021-11-02T14:08:33.252Z"
   },
   {
    "duration": 40,
    "start_time": "2021-11-02T14:08:33.347Z"
   },
   {
    "duration": 46,
    "start_time": "2021-11-02T14:08:33.390Z"
   },
   {
    "duration": 28,
    "start_time": "2021-11-02T14:08:33.439Z"
   },
   {
    "duration": 140,
    "start_time": "2021-11-02T14:08:33.469Z"
   },
   {
    "duration": 85,
    "start_time": "2021-11-02T14:08:33.611Z"
   },
   {
    "duration": 77,
    "start_time": "2021-11-02T14:08:33.699Z"
   },
   {
    "duration": 18,
    "start_time": "2021-11-02T14:08:33.779Z"
   },
   {
    "duration": 32,
    "start_time": "2021-11-02T14:08:33.800Z"
   },
   {
    "duration": 51,
    "start_time": "2021-11-02T14:08:33.835Z"
   },
   {
    "duration": 71,
    "start_time": "2021-11-02T14:08:33.889Z"
   },
   {
    "duration": 20,
    "start_time": "2021-11-02T14:08:33.963Z"
   },
   {
    "duration": 57,
    "start_time": "2021-11-02T14:09:45.066Z"
   },
   {
    "duration": 47,
    "start_time": "2021-11-02T14:11:02.626Z"
   },
   {
    "duration": 45,
    "start_time": "2021-11-02T14:11:57.278Z"
   },
   {
    "duration": 44,
    "start_time": "2021-11-02T14:12:50.841Z"
   },
   {
    "duration": 60,
    "start_time": "2021-11-02T14:13:14.842Z"
   },
   {
    "duration": 46,
    "start_time": "2021-11-02T14:13:38.314Z"
   },
   {
    "duration": 1360,
    "start_time": "2021-11-02T14:13:49.534Z"
   },
   {
    "duration": 60,
    "start_time": "2021-11-02T14:13:50.897Z"
   },
   {
    "duration": 40,
    "start_time": "2021-11-02T14:13:50.960Z"
   },
   {
    "duration": 21,
    "start_time": "2021-11-02T14:13:51.030Z"
   },
   {
    "duration": 31,
    "start_time": "2021-11-02T14:13:51.053Z"
   },
   {
    "duration": 132,
    "start_time": "2021-11-02T14:13:51.087Z"
   },
   {
    "duration": 73,
    "start_time": "2021-11-02T14:13:51.229Z"
   },
   {
    "duration": 72,
    "start_time": "2021-11-02T14:13:51.305Z"
   },
   {
    "duration": 48,
    "start_time": "2021-11-02T14:13:51.381Z"
   },
   {
    "duration": 12,
    "start_time": "2021-11-02T14:13:51.432Z"
   },
   {
    "duration": 32,
    "start_time": "2021-11-02T14:13:51.446Z"
   },
   {
    "duration": 66,
    "start_time": "2021-11-02T14:13:51.481Z"
   },
   {
    "duration": 51,
    "start_time": "2021-11-02T14:13:51.550Z"
   },
   {
    "duration": 6715,
    "start_time": "2021-11-02T14:17:32.434Z"
   },
   {
    "duration": 5979,
    "start_time": "2021-11-02T14:18:11.713Z"
   },
   {
    "duration": 37,
    "start_time": "2021-11-02T14:18:37.696Z"
   },
   {
    "duration": 6297,
    "start_time": "2021-11-02T14:19:09.797Z"
   },
   {
    "duration": 1365,
    "start_time": "2021-11-02T14:19:49.010Z"
   },
   {
    "duration": 66,
    "start_time": "2021-11-02T14:19:50.378Z"
   },
   {
    "duration": 42,
    "start_time": "2021-11-02T14:19:50.447Z"
   },
   {
    "duration": 43,
    "start_time": "2021-11-02T14:19:50.492Z"
   },
   {
    "duration": 39,
    "start_time": "2021-11-02T14:19:50.537Z"
   },
   {
    "duration": 126,
    "start_time": "2021-11-02T14:19:50.578Z"
   },
   {
    "duration": 88,
    "start_time": "2021-11-02T14:19:50.706Z"
   },
   {
    "duration": 77,
    "start_time": "2021-11-02T14:19:50.798Z"
   },
   {
    "duration": 18,
    "start_time": "2021-11-02T14:19:50.878Z"
   },
   {
    "duration": 36,
    "start_time": "2021-11-02T14:19:50.898Z"
   },
   {
    "duration": 35,
    "start_time": "2021-11-02T14:19:50.938Z"
   },
   {
    "duration": 66,
    "start_time": "2021-11-02T14:19:50.977Z"
   },
   {
    "duration": 59,
    "start_time": "2021-11-02T14:19:51.046Z"
   },
   {
    "duration": 5893,
    "start_time": "2021-11-02T14:19:51.107Z"
   },
   {
    "duration": 1794,
    "start_time": "2021-11-02T14:22:48.010Z"
   },
   {
    "duration": 61,
    "start_time": "2021-11-02T14:22:49.807Z"
   },
   {
    "duration": 70,
    "start_time": "2021-11-02T14:22:49.870Z"
   },
   {
    "duration": 21,
    "start_time": "2021-11-02T14:22:49.943Z"
   },
   {
    "duration": 24,
    "start_time": "2021-11-02T14:22:49.967Z"
   },
   {
    "duration": 120,
    "start_time": "2021-11-02T14:22:50.031Z"
   },
   {
    "duration": 80,
    "start_time": "2021-11-02T14:22:50.153Z"
   },
   {
    "duration": 62,
    "start_time": "2021-11-02T14:22:50.238Z"
   },
   {
    "duration": 40,
    "start_time": "2021-11-02T14:22:50.304Z"
   },
   {
    "duration": 15,
    "start_time": "2021-11-02T14:22:50.347Z"
   },
   {
    "duration": 37,
    "start_time": "2021-11-02T14:22:50.365Z"
   },
   {
    "duration": 69,
    "start_time": "2021-11-02T14:22:50.404Z"
   },
   {
    "duration": 82,
    "start_time": "2021-11-02T14:22:50.476Z"
   },
   {
    "duration": 7179,
    "start_time": "2021-11-02T14:22:50.560Z"
   },
   {
    "duration": 1501,
    "start_time": "2021-11-02T14:23:47.130Z"
   },
   {
    "duration": 58,
    "start_time": "2021-11-02T14:23:48.635Z"
   },
   {
    "duration": 59,
    "start_time": "2021-11-02T14:23:48.696Z"
   },
   {
    "duration": 19,
    "start_time": "2021-11-02T14:23:48.757Z"
   },
   {
    "duration": 62,
    "start_time": "2021-11-02T14:23:48.778Z"
   },
   {
    "duration": 125,
    "start_time": "2021-11-02T14:23:48.842Z"
   },
   {
    "duration": 85,
    "start_time": "2021-11-02T14:23:48.970Z"
   },
   {
    "duration": 72,
    "start_time": "2021-11-02T14:23:49.058Z"
   },
   {
    "duration": 20,
    "start_time": "2021-11-02T14:23:49.132Z"
   },
   {
    "duration": 9,
    "start_time": "2021-11-02T14:23:49.155Z"
   },
   {
    "duration": 69,
    "start_time": "2021-11-02T14:23:49.167Z"
   },
   {
    "duration": 37,
    "start_time": "2021-11-02T14:23:49.238Z"
   },
   {
    "duration": 114,
    "start_time": "2021-11-02T14:23:49.278Z"
   },
   {
    "duration": 5994,
    "start_time": "2021-11-02T14:23:49.395Z"
   },
   {
    "duration": 6938,
    "start_time": "2021-11-02T14:24:54.470Z"
   },
   {
    "duration": 38,
    "start_time": "2021-11-02T14:25:12.070Z"
   },
   {
    "duration": 5641,
    "start_time": "2021-11-02T14:27:05.689Z"
   },
   {
    "duration": 5678,
    "start_time": "2021-11-02T14:27:52.170Z"
   },
   {
    "duration": 1305,
    "start_time": "2021-11-02T14:28:32.062Z"
   },
   {
    "duration": 74,
    "start_time": "2021-11-02T14:28:33.370Z"
   },
   {
    "duration": 43,
    "start_time": "2021-11-02T14:28:33.448Z"
   },
   {
    "duration": 47,
    "start_time": "2021-11-02T14:28:33.494Z"
   },
   {
    "duration": 25,
    "start_time": "2021-11-02T14:28:33.544Z"
   },
   {
    "duration": 147,
    "start_time": "2021-11-02T14:28:33.572Z"
   },
   {
    "duration": 73,
    "start_time": "2021-11-02T14:28:33.730Z"
   },
   {
    "duration": 82,
    "start_time": "2021-11-02T14:28:33.808Z"
   },
   {
    "duration": 41,
    "start_time": "2021-11-02T14:28:33.893Z"
   },
   {
    "duration": 8,
    "start_time": "2021-11-02T14:28:33.936Z"
   },
   {
    "duration": 35,
    "start_time": "2021-11-02T14:28:33.947Z"
   },
   {
    "duration": 57,
    "start_time": "2021-11-02T14:28:33.984Z"
   },
   {
    "duration": 5724,
    "start_time": "2021-11-02T14:28:34.043Z"
   },
   {
    "duration": 751,
    "start_time": "2021-11-02T14:28:39.019Z"
   },
   {
    "duration": 2267,
    "start_time": "2021-11-02T14:29:28.843Z"
   },
   {
    "duration": 54,
    "start_time": "2021-11-02T14:29:31.113Z"
   },
   {
    "duration": 73,
    "start_time": "2021-11-02T14:29:31.171Z"
   },
   {
    "duration": 22,
    "start_time": "2021-11-02T14:29:31.247Z"
   },
   {
    "duration": 63,
    "start_time": "2021-11-02T14:29:31.273Z"
   },
   {
    "duration": 131,
    "start_time": "2021-11-02T14:29:31.339Z"
   },
   {
    "duration": 89,
    "start_time": "2021-11-02T14:29:31.473Z"
   },
   {
    "duration": 79,
    "start_time": "2021-11-02T14:29:31.567Z"
   },
   {
    "duration": 26,
    "start_time": "2021-11-02T14:29:31.649Z"
   },
   {
    "duration": 11,
    "start_time": "2021-11-02T14:29:31.678Z"
   },
   {
    "duration": 67,
    "start_time": "2021-11-02T14:29:31.692Z"
   },
   {
    "duration": 35,
    "start_time": "2021-11-02T14:29:31.762Z"
   },
   {
    "duration": 94,
    "start_time": "2021-11-02T14:29:31.799Z"
   },
   {
    "duration": 5640,
    "start_time": "2021-11-02T14:29:31.896Z"
   },
   {
    "duration": 1540,
    "start_time": "2021-11-02T14:35:18.317Z"
   },
   {
    "duration": 69,
    "start_time": "2021-11-02T14:35:19.860Z"
   },
   {
    "duration": 39,
    "start_time": "2021-11-02T14:35:19.932Z"
   },
   {
    "duration": 20,
    "start_time": "2021-11-02T14:35:19.974Z"
   },
   {
    "duration": 54,
    "start_time": "2021-11-02T14:35:19.996Z"
   },
   {
    "duration": 132,
    "start_time": "2021-11-02T14:35:20.053Z"
   },
   {
    "duration": 85,
    "start_time": "2021-11-02T14:35:20.188Z"
   },
   {
    "duration": 73,
    "start_time": "2021-11-02T14:35:20.277Z"
   },
   {
    "duration": 20,
    "start_time": "2021-11-02T14:35:20.352Z"
   },
   {
    "duration": 10,
    "start_time": "2021-11-02T14:35:20.375Z"
   },
   {
    "duration": 68,
    "start_time": "2021-11-02T14:35:20.387Z"
   },
   {
    "duration": 39,
    "start_time": "2021-11-02T14:35:20.458Z"
   },
   {
    "duration": 83,
    "start_time": "2021-11-02T14:35:20.500Z"
   },
   {
    "duration": 5793,
    "start_time": "2021-11-02T14:35:20.585Z"
   },
   {
    "duration": 1343,
    "start_time": "2021-11-02T14:36:13.408Z"
   },
   {
    "duration": 49,
    "start_time": "2021-11-02T14:36:14.754Z"
   },
   {
    "duration": 64,
    "start_time": "2021-11-02T14:36:14.806Z"
   },
   {
    "duration": 21,
    "start_time": "2021-11-02T14:36:14.873Z"
   },
   {
    "duration": 24,
    "start_time": "2021-11-02T14:36:14.930Z"
   },
   {
    "duration": 175,
    "start_time": "2021-11-02T14:36:14.957Z"
   },
   {
    "duration": 119,
    "start_time": "2021-11-02T14:36:15.135Z"
   },
   {
    "duration": 92,
    "start_time": "2021-11-02T14:36:15.256Z"
   },
   {
    "duration": 24,
    "start_time": "2021-11-02T14:36:15.352Z"
   },
   {
    "duration": 12,
    "start_time": "2021-11-02T14:36:15.379Z"
   },
   {
    "duration": 74,
    "start_time": "2021-11-02T14:36:15.393Z"
   },
   {
    "duration": 44,
    "start_time": "2021-11-02T14:36:15.470Z"
   },
   {
    "duration": 5734,
    "start_time": "2021-11-02T14:36:15.530Z"
   },
   {
    "duration": 757,
    "start_time": "2021-11-02T14:36:20.511Z"
   },
   {
    "duration": 1333,
    "start_time": "2021-11-02T14:37:29.387Z"
   },
   {
    "duration": 48,
    "start_time": "2021-11-02T14:37:30.723Z"
   },
   {
    "duration": 58,
    "start_time": "2021-11-02T14:37:30.775Z"
   },
   {
    "duration": 21,
    "start_time": "2021-11-02T14:37:30.836Z"
   },
   {
    "duration": 28,
    "start_time": "2021-11-02T14:37:30.859Z"
   },
   {
    "duration": 153,
    "start_time": "2021-11-02T14:37:30.891Z"
   },
   {
    "duration": 117,
    "start_time": "2021-11-02T14:37:31.047Z"
   },
   {
    "duration": 101,
    "start_time": "2021-11-02T14:37:31.169Z"
   },
   {
    "duration": 28,
    "start_time": "2021-11-02T14:37:31.273Z"
   },
   {
    "duration": 34,
    "start_time": "2021-11-02T14:37:31.304Z"
   },
   {
    "duration": 62,
    "start_time": "2021-11-02T14:37:31.341Z"
   },
   {
    "duration": 43,
    "start_time": "2021-11-02T14:37:31.406Z"
   },
   {
    "duration": 5735,
    "start_time": "2021-11-02T14:37:31.452Z"
   },
   {
    "duration": 758,
    "start_time": "2021-11-02T14:37:36.432Z"
   },
   {
    "duration": 1299,
    "start_time": "2021-11-02T14:38:04.024Z"
   },
   {
    "duration": 47,
    "start_time": "2021-11-02T14:38:05.326Z"
   },
   {
    "duration": 67,
    "start_time": "2021-11-02T14:38:05.376Z"
   },
   {
    "duration": 19,
    "start_time": "2021-11-02T14:38:05.446Z"
   },
   {
    "duration": 61,
    "start_time": "2021-11-02T14:38:05.468Z"
   },
   {
    "duration": 123,
    "start_time": "2021-11-02T14:38:05.532Z"
   },
   {
    "duration": 85,
    "start_time": "2021-11-02T14:38:05.657Z"
   },
   {
    "duration": 59,
    "start_time": "2021-11-02T14:38:05.746Z"
   },
   {
    "duration": 20,
    "start_time": "2021-11-02T14:38:05.828Z"
   },
   {
    "duration": 9,
    "start_time": "2021-11-02T14:38:05.851Z"
   },
   {
    "duration": 67,
    "start_time": "2021-11-02T14:38:05.862Z"
   },
   {
    "duration": 43,
    "start_time": "2021-11-02T14:38:05.932Z"
   },
   {
    "duration": 5695,
    "start_time": "2021-11-02T14:38:05.978Z"
   },
   {
    "duration": 757,
    "start_time": "2021-11-02T14:38:10.919Z"
   },
   {
    "duration": 6410,
    "start_time": "2021-11-02T14:39:25.738Z"
   },
   {
    "duration": 1331,
    "start_time": "2021-11-02T14:40:34.723Z"
   },
   {
    "duration": 49,
    "start_time": "2021-11-02T14:40:36.056Z"
   },
   {
    "duration": 42,
    "start_time": "2021-11-02T14:40:36.131Z"
   },
   {
    "duration": 55,
    "start_time": "2021-11-02T14:40:36.176Z"
   },
   {
    "duration": 23,
    "start_time": "2021-11-02T14:40:36.234Z"
   },
   {
    "duration": 143,
    "start_time": "2021-11-02T14:40:36.260Z"
   },
   {
    "duration": 91,
    "start_time": "2021-11-02T14:40:36.406Z"
   },
   {
    "duration": 74,
    "start_time": "2021-11-02T14:40:36.499Z"
   },
   {
    "duration": 21,
    "start_time": "2021-11-02T14:40:36.577Z"
   },
   {
    "duration": 30,
    "start_time": "2021-11-02T14:40:36.600Z"
   },
   {
    "duration": 36,
    "start_time": "2021-11-02T14:40:36.633Z"
   },
   {
    "duration": 5713,
    "start_time": "2021-11-02T14:40:36.671Z"
   },
   {
    "duration": 731,
    "start_time": "2021-11-02T14:40:41.656Z"
   },
   {
    "duration": 731,
    "start_time": "2021-11-02T14:40:41.657Z"
   },
   {
    "duration": 5947,
    "start_time": "2021-11-02T14:41:21.565Z"
   },
   {
    "duration": 1337,
    "start_time": "2021-11-02T14:43:18.868Z"
   },
   {
    "duration": 49,
    "start_time": "2021-11-02T14:43:20.208Z"
   },
   {
    "duration": 67,
    "start_time": "2021-11-02T14:43:20.261Z"
   },
   {
    "duration": 22,
    "start_time": "2021-11-02T14:43:20.332Z"
   },
   {
    "duration": 26,
    "start_time": "2021-11-02T14:43:20.357Z"
   },
   {
    "duration": 145,
    "start_time": "2021-11-02T14:43:20.386Z"
   },
   {
    "duration": 95,
    "start_time": "2021-11-02T14:43:20.534Z"
   },
   {
    "duration": 60,
    "start_time": "2021-11-02T14:43:20.633Z"
   },
   {
    "duration": 40,
    "start_time": "2021-11-02T14:43:20.696Z"
   },
   {
    "duration": 9,
    "start_time": "2021-11-02T14:43:20.739Z"
   },
   {
    "duration": 45,
    "start_time": "2021-11-02T14:43:20.750Z"
   },
   {
    "duration": 5946,
    "start_time": "2021-11-02T14:43:20.797Z"
   },
   {
    "duration": 746,
    "start_time": "2021-11-02T14:43:25.999Z"
   },
   {
    "duration": 745,
    "start_time": "2021-11-02T14:43:26.001Z"
   },
   {
    "duration": 6112,
    "start_time": "2021-11-02T14:43:35.581Z"
   },
   {
    "duration": 1282,
    "start_time": "2021-11-02T14:45:04.369Z"
   },
   {
    "duration": 48,
    "start_time": "2021-11-02T14:45:05.654Z"
   },
   {
    "duration": 59,
    "start_time": "2021-11-02T14:45:05.705Z"
   },
   {
    "duration": 19,
    "start_time": "2021-11-02T14:45:05.767Z"
   },
   {
    "duration": 57,
    "start_time": "2021-11-02T14:45:05.789Z"
   },
   {
    "duration": 123,
    "start_time": "2021-11-02T14:45:05.848Z"
   },
   {
    "duration": 85,
    "start_time": "2021-11-02T14:45:05.973Z"
   },
   {
    "duration": 71,
    "start_time": "2021-11-02T14:45:06.062Z"
   },
   {
    "duration": 19,
    "start_time": "2021-11-02T14:45:06.136Z"
   },
   {
    "duration": 9,
    "start_time": "2021-11-02T14:45:06.157Z"
   },
   {
    "duration": 62,
    "start_time": "2021-11-02T14:45:06.169Z"
   },
   {
    "duration": 5792,
    "start_time": "2021-11-02T14:45:06.234Z"
   },
   {
    "duration": 749,
    "start_time": "2021-11-02T14:45:11.280Z"
   },
   {
    "duration": 744,
    "start_time": "2021-11-02T14:45:11.286Z"
   },
   {
    "duration": 59,
    "start_time": "2021-11-02T14:45:22.397Z"
   },
   {
    "duration": 1286,
    "start_time": "2021-11-02T14:46:13.860Z"
   },
   {
    "duration": 47,
    "start_time": "2021-11-02T14:46:15.148Z"
   },
   {
    "duration": 57,
    "start_time": "2021-11-02T14:46:15.198Z"
   },
   {
    "duration": 21,
    "start_time": "2021-11-02T14:46:15.257Z"
   },
   {
    "duration": 60,
    "start_time": "2021-11-02T14:46:15.280Z"
   },
   {
    "duration": 118,
    "start_time": "2021-11-02T14:46:15.342Z"
   },
   {
    "duration": 85,
    "start_time": "2021-11-02T14:46:15.462Z"
   },
   {
    "duration": 60,
    "start_time": "2021-11-02T14:46:15.550Z"
   },
   {
    "duration": 21,
    "start_time": "2021-11-02T14:46:15.628Z"
   },
   {
    "duration": 12,
    "start_time": "2021-11-02T14:46:15.652Z"
   },
   {
    "duration": 72,
    "start_time": "2021-11-02T14:46:15.666Z"
   },
   {
    "duration": 37,
    "start_time": "2021-11-02T14:46:15.741Z"
   },
   {
    "duration": 5655,
    "start_time": "2021-11-02T14:46:15.781Z"
   },
   {
    "duration": 737,
    "start_time": "2021-11-02T14:46:20.701Z"
   },
   {
    "duration": 47,
    "start_time": "2021-11-02T14:46:32.411Z"
   },
   {
    "duration": 6081,
    "start_time": "2021-11-02T14:46:44.859Z"
   },
   {
    "duration": 1312,
    "start_time": "2021-11-02T14:48:06.790Z"
   },
   {
    "duration": 52,
    "start_time": "2021-11-02T14:48:08.104Z"
   },
   {
    "duration": 69,
    "start_time": "2021-11-02T14:48:08.159Z"
   },
   {
    "duration": 21,
    "start_time": "2021-11-02T14:48:08.231Z"
   },
   {
    "duration": 29,
    "start_time": "2021-11-02T14:48:08.254Z"
   },
   {
    "duration": 150,
    "start_time": "2021-11-02T14:48:08.285Z"
   },
   {
    "duration": 91,
    "start_time": "2021-11-02T14:48:08.438Z"
   },
   {
    "duration": 60,
    "start_time": "2021-11-02T14:48:08.532Z"
   },
   {
    "duration": 44,
    "start_time": "2021-11-02T14:48:08.594Z"
   },
   {
    "duration": 10,
    "start_time": "2021-11-02T14:48:08.641Z"
   },
   {
    "duration": 37,
    "start_time": "2021-11-02T14:48:08.654Z"
   },
   {
    "duration": 59,
    "start_time": "2021-11-02T14:48:08.694Z"
   },
   {
    "duration": 5821,
    "start_time": "2021-11-02T14:48:08.755Z"
   },
   {
    "duration": 731,
    "start_time": "2021-11-02T14:48:13.847Z"
   },
   {
    "duration": 1300,
    "start_time": "2021-11-02T14:50:43.589Z"
   },
   {
    "duration": 65,
    "start_time": "2021-11-02T14:50:44.892Z"
   },
   {
    "duration": 41,
    "start_time": "2021-11-02T14:50:44.960Z"
   },
   {
    "duration": 21,
    "start_time": "2021-11-02T14:50:45.030Z"
   },
   {
    "duration": 30,
    "start_time": "2021-11-02T14:50:45.054Z"
   },
   {
    "duration": 145,
    "start_time": "2021-11-02T14:50:45.087Z"
   },
   {
    "duration": 72,
    "start_time": "2021-11-02T14:50:45.234Z"
   },
   {
    "duration": 75,
    "start_time": "2021-11-02T14:50:45.310Z"
   },
   {
    "duration": 20,
    "start_time": "2021-11-02T14:50:45.388Z"
   },
   {
    "duration": 12,
    "start_time": "2021-11-02T14:50:45.430Z"
   },
   {
    "duration": 45,
    "start_time": "2021-11-02T14:50:45.445Z"
   },
   {
    "duration": 53,
    "start_time": "2021-11-02T14:50:45.492Z"
   },
   {
    "duration": 6095,
    "start_time": "2021-11-02T14:50:45.548Z"
   },
   {
    "duration": 738,
    "start_time": "2021-11-02T14:50:50.908Z"
   },
   {
    "duration": 1278,
    "start_time": "2021-11-02T14:53:18.169Z"
   },
   {
    "duration": 48,
    "start_time": "2021-11-02T14:53:19.450Z"
   },
   {
    "duration": 60,
    "start_time": "2021-11-02T14:53:19.501Z"
   },
   {
    "duration": 20,
    "start_time": "2021-11-02T14:53:19.564Z"
   },
   {
    "duration": 60,
    "start_time": "2021-11-02T14:53:19.586Z"
   },
   {
    "duration": 131,
    "start_time": "2021-11-02T14:53:19.648Z"
   },
   {
    "duration": 82,
    "start_time": "2021-11-02T14:53:19.782Z"
   },
   {
    "duration": 75,
    "start_time": "2021-11-02T14:53:19.868Z"
   },
   {
    "duration": 19,
    "start_time": "2021-11-02T14:53:19.946Z"
   },
   {
    "duration": 14,
    "start_time": "2021-11-02T14:53:19.968Z"
   },
   {
    "duration": 64,
    "start_time": "2021-11-02T14:53:19.984Z"
   },
   {
    "duration": 35,
    "start_time": "2021-11-02T14:53:20.051Z"
   },
   {
    "duration": 5911,
    "start_time": "2021-11-02T14:53:20.089Z"
   },
   {
    "duration": 738,
    "start_time": "2021-11-02T14:53:25.264Z"
   },
   {
    "duration": 1313,
    "start_time": "2021-11-02T14:58:21.674Z"
   },
   {
    "duration": 63,
    "start_time": "2021-11-02T14:58:22.990Z"
   },
   {
    "duration": 39,
    "start_time": "2021-11-02T14:58:23.055Z"
   },
   {
    "duration": 50,
    "start_time": "2021-11-02T14:58:23.097Z"
   },
   {
    "duration": 23,
    "start_time": "2021-11-02T14:58:23.150Z"
   },
   {
    "duration": 145,
    "start_time": "2021-11-02T14:58:23.175Z"
   },
   {
    "duration": 83,
    "start_time": "2021-11-02T14:58:23.329Z"
   },
   {
    "duration": 72,
    "start_time": "2021-11-02T14:58:23.431Z"
   },
   {
    "duration": 33,
    "start_time": "2021-11-02T14:58:23.506Z"
   },
   {
    "duration": 18,
    "start_time": "2021-11-02T14:58:23.541Z"
   },
   {
    "duration": 39,
    "start_time": "2021-11-02T14:58:23.562Z"
   },
   {
    "duration": 59,
    "start_time": "2021-11-02T14:58:23.603Z"
   },
   {
    "duration": 5842,
    "start_time": "2021-11-02T14:58:23.664Z"
   },
   {
    "duration": 728,
    "start_time": "2021-11-02T14:58:28.781Z"
   },
   {
    "duration": 1274,
    "start_time": "2021-11-03T03:06:39.453Z"
   },
   {
    "duration": 48,
    "start_time": "2021-11-03T03:06:40.730Z"
   },
   {
    "duration": 66,
    "start_time": "2021-11-03T03:06:40.780Z"
   },
   {
    "duration": 20,
    "start_time": "2021-11-03T03:06:40.848Z"
   },
   {
    "duration": 65,
    "start_time": "2021-11-03T03:06:40.870Z"
   },
   {
    "duration": 123,
    "start_time": "2021-11-03T03:06:40.938Z"
   },
   {
    "duration": 87,
    "start_time": "2021-11-03T03:06:41.064Z"
   },
   {
    "duration": 57,
    "start_time": "2021-11-03T03:06:41.154Z"
   },
   {
    "duration": 20,
    "start_time": "2021-11-03T03:06:41.230Z"
   },
   {
    "duration": 15,
    "start_time": "2021-11-03T03:06:41.253Z"
   },
   {
    "duration": 65,
    "start_time": "2021-11-03T03:06:41.270Z"
   },
   {
    "duration": 33,
    "start_time": "2021-11-03T03:06:41.338Z"
   },
   {
    "duration": 5534,
    "start_time": "2021-11-03T03:06:41.374Z"
   },
   {
    "duration": 3237,
    "start_time": "2021-11-03T03:06:43.675Z"
   },
   {
    "duration": 1359,
    "start_time": "2021-11-03T03:19:24.449Z"
   },
   {
    "duration": 49,
    "start_time": "2021-11-03T03:19:25.811Z"
   },
   {
    "duration": 39,
    "start_time": "2021-11-03T03:19:25.863Z"
   },
   {
    "duration": 19,
    "start_time": "2021-11-03T03:19:25.930Z"
   },
   {
    "duration": 31,
    "start_time": "2021-11-03T03:19:25.952Z"
   },
   {
    "duration": 149,
    "start_time": "2021-11-03T03:19:25.985Z"
   },
   {
    "duration": 99,
    "start_time": "2021-11-03T03:19:26.137Z"
   },
   {
    "duration": 61,
    "start_time": "2021-11-03T03:19:26.241Z"
   },
   {
    "duration": 43,
    "start_time": "2021-11-03T03:19:26.306Z"
   },
   {
    "duration": 10,
    "start_time": "2021-11-03T03:19:26.352Z"
   },
   {
    "duration": 83,
    "start_time": "2021-11-03T03:19:26.365Z"
   },
   {
    "duration": 37,
    "start_time": "2021-11-03T03:19:26.452Z"
   },
   {
    "duration": 5597,
    "start_time": "2021-11-03T03:19:26.492Z"
   },
   {
    "duration": 3203,
    "start_time": "2021-11-03T03:19:28.888Z"
   },
   {
    "duration": 5920,
    "start_time": "2021-11-03T15:05:34.019Z"
   },
   {
    "duration": 1392,
    "start_time": "2021-11-03T15:05:56.546Z"
   },
   {
    "duration": 48,
    "start_time": "2021-11-03T15:05:57.940Z"
   },
   {
    "duration": 62,
    "start_time": "2021-11-03T15:05:57.991Z"
   },
   {
    "duration": 20,
    "start_time": "2021-11-03T15:05:58.055Z"
   },
   {
    "duration": 61,
    "start_time": "2021-11-03T15:05:58.077Z"
   },
   {
    "duration": 123,
    "start_time": "2021-11-03T15:05:58.140Z"
   },
   {
    "duration": 88,
    "start_time": "2021-11-03T15:05:58.265Z"
   },
   {
    "duration": 60,
    "start_time": "2021-11-03T15:05:58.357Z"
   },
   {
    "duration": 19,
    "start_time": "2021-11-03T15:05:58.430Z"
   },
   {
    "duration": 9,
    "start_time": "2021-11-03T15:05:58.452Z"
   },
   {
    "duration": 67,
    "start_time": "2021-11-03T15:05:58.464Z"
   },
   {
    "duration": 5999,
    "start_time": "2021-11-03T15:05:58.534Z"
   },
   {
    "duration": -416,
    "start_time": "2021-11-03T15:06:04.952Z"
   },
   {
    "duration": -419,
    "start_time": "2021-11-03T15:06:04.956Z"
   },
   {
    "duration": 1611,
    "start_time": "2021-11-04T06:11:20.714Z"
   },
   {
    "duration": 49,
    "start_time": "2021-11-04T06:11:22.327Z"
   },
   {
    "duration": 68,
    "start_time": "2021-11-04T06:11:22.380Z"
   },
   {
    "duration": 20,
    "start_time": "2021-11-04T06:11:22.453Z"
   },
   {
    "duration": 53,
    "start_time": "2021-11-04T06:11:22.476Z"
   },
   {
    "duration": 132,
    "start_time": "2021-11-04T06:11:22.532Z"
   },
   {
    "duration": 97,
    "start_time": "2021-11-04T06:11:22.666Z"
   },
   {
    "duration": 85,
    "start_time": "2021-11-04T06:11:22.767Z"
   },
   {
    "duration": 23,
    "start_time": "2021-11-04T06:11:22.855Z"
   },
   {
    "duration": 12,
    "start_time": "2021-11-04T06:11:22.881Z"
   },
   {
    "duration": 72,
    "start_time": "2021-11-04T06:11:22.896Z"
   },
   {
    "duration": 6817,
    "start_time": "2021-11-04T06:11:22.971Z"
   },
   {
    "duration": -1113,
    "start_time": "2021-11-04T06:11:30.905Z"
   },
   {
    "duration": -1112,
    "start_time": "2021-11-04T06:11:30.906Z"
   },
   {
    "duration": -1111,
    "start_time": "2021-11-04T06:11:30.907Z"
   },
   {
    "duration": -1110,
    "start_time": "2021-11-04T06:11:30.908Z"
   },
   {
    "duration": 33,
    "start_time": "2021-11-04T06:12:05.950Z"
   },
   {
    "duration": 60,
    "start_time": "2021-11-04T06:12:08.930Z"
   },
   {
    "duration": 49,
    "start_time": "2021-11-04T06:12:27.694Z"
   },
   {
    "duration": 93,
    "start_time": "2021-11-04T06:13:03.985Z"
   },
   {
    "duration": 81,
    "start_time": "2021-11-04T06:14:41.662Z"
   },
   {
    "duration": 273,
    "start_time": "2021-11-04T06:14:55.766Z"
   },
   {
    "duration": 26,
    "start_time": "2021-11-04T06:15:21.394Z"
   },
   {
    "duration": 47,
    "start_time": "2021-11-04T06:15:31.790Z"
   },
   {
    "duration": 546,
    "start_time": "2021-11-04T06:17:03.458Z"
   },
   {
    "duration": 111,
    "start_time": "2021-11-04T07:00:36.235Z"
   },
   {
    "duration": 603,
    "start_time": "2021-11-04T07:00:45.867Z"
   },
   {
    "duration": 553,
    "start_time": "2021-11-04T07:06:57.452Z"
   },
   {
    "duration": 838,
    "start_time": "2021-11-04T07:07:25.325Z"
   },
   {
    "duration": 1720,
    "start_time": "2021-11-04T07:21:07.849Z"
   },
   {
    "duration": 65,
    "start_time": "2021-11-04T07:21:09.572Z"
   },
   {
    "duration": 49,
    "start_time": "2021-11-04T07:21:09.641Z"
   },
   {
    "duration": 46,
    "start_time": "2021-11-04T07:21:09.692Z"
   },
   {
    "duration": 31,
    "start_time": "2021-11-04T07:21:09.741Z"
   },
   {
    "duration": 168,
    "start_time": "2021-11-04T07:21:09.775Z"
   },
   {
    "duration": 92,
    "start_time": "2021-11-04T07:21:09.946Z"
   },
   {
    "duration": 62,
    "start_time": "2021-11-04T07:21:10.041Z"
   },
   {
    "duration": 21,
    "start_time": "2021-11-04T07:21:10.128Z"
   },
   {
    "duration": 11,
    "start_time": "2021-11-04T07:21:10.152Z"
   },
   {
    "duration": 67,
    "start_time": "2021-11-04T07:21:10.166Z"
   },
   {
    "duration": 52,
    "start_time": "2021-11-04T07:21:10.236Z"
   },
   {
    "duration": 95,
    "start_time": "2021-11-04T07:21:10.291Z"
   },
   {
    "duration": 89,
    "start_time": "2021-11-04T07:21:10.388Z"
   },
   {
    "duration": 672,
    "start_time": "2021-11-04T07:21:10.480Z"
   },
   {
    "duration": 706,
    "start_time": "2021-11-04T07:21:11.155Z"
   },
   {
    "duration": 801,
    "start_time": "2021-11-04T07:21:11.864Z"
   },
   {
    "duration": 652,
    "start_time": "2021-11-04T07:21:12.668Z"
   },
   {
    "duration": 1403,
    "start_time": "2021-11-04T07:21:13.322Z"
   },
   {
    "duration": 1244,
    "start_time": "2021-11-04T07:21:51.806Z"
   },
   {
    "duration": 1309,
    "start_time": "2021-11-04T07:22:21.833Z"
   },
   {
    "duration": 368,
    "start_time": "2021-11-04T07:31:08.275Z"
   },
   {
    "duration": 13,
    "start_time": "2021-11-04T07:31:16.122Z"
   },
   {
    "duration": 16,
    "start_time": "2021-11-04T07:31:30.371Z"
   },
   {
    "duration": 6,
    "start_time": "2021-11-04T07:33:19.354Z"
   },
   {
    "duration": 501,
    "start_time": "2021-11-04T07:33:56.880Z"
   },
   {
    "duration": 7,
    "start_time": "2021-11-04T07:34:05.070Z"
   },
   {
    "duration": 6,
    "start_time": "2021-11-04T07:34:24.116Z"
   },
   {
    "duration": 7,
    "start_time": "2021-11-04T07:34:35.417Z"
   },
   {
    "duration": 7,
    "start_time": "2021-11-04T07:34:50.758Z"
   },
   {
    "duration": 5,
    "start_time": "2021-11-04T07:35:17.290Z"
   },
   {
    "duration": 6,
    "start_time": "2021-11-04T07:35:34.470Z"
   },
   {
    "duration": 255,
    "start_time": "2021-11-04T07:38:23.776Z"
   },
   {
    "duration": 229,
    "start_time": "2021-11-04T07:38:33.963Z"
   },
   {
    "duration": 228,
    "start_time": "2021-11-04T07:39:56.015Z"
   },
   {
    "duration": 6,
    "start_time": "2021-11-04T07:40:35.449Z"
   },
   {
    "duration": 7,
    "start_time": "2021-11-04T07:45:56.975Z"
   },
   {
    "duration": 8,
    "start_time": "2021-11-04T07:47:04.151Z"
   },
   {
    "duration": 418,
    "start_time": "2021-11-06T04:09:55.232Z"
   },
   {
    "duration": 1526,
    "start_time": "2021-11-06T04:10:11.984Z"
   },
   {
    "duration": 50,
    "start_time": "2021-11-06T04:10:13.513Z"
   },
   {
    "duration": 62,
    "start_time": "2021-11-06T04:10:13.565Z"
   },
   {
    "duration": 21,
    "start_time": "2021-11-06T04:10:13.630Z"
   },
   {
    "duration": 53,
    "start_time": "2021-11-06T04:10:13.653Z"
   },
   {
    "duration": 128,
    "start_time": "2021-11-06T04:10:13.708Z"
   },
   {
    "duration": 87,
    "start_time": "2021-11-06T04:10:13.838Z"
   },
   {
    "duration": 73,
    "start_time": "2021-11-06T04:10:13.928Z"
   },
   {
    "duration": 19,
    "start_time": "2021-11-06T04:10:14.004Z"
   },
   {
    "duration": 8,
    "start_time": "2021-11-06T04:10:14.026Z"
   },
   {
    "duration": 63,
    "start_time": "2021-11-06T04:10:14.037Z"
   },
   {
    "duration": 36,
    "start_time": "2021-11-06T04:10:14.103Z"
   },
   {
    "duration": 91,
    "start_time": "2021-11-06T04:10:14.141Z"
   },
   {
    "duration": 70,
    "start_time": "2021-11-06T04:10:14.235Z"
   },
   {
    "duration": 581,
    "start_time": "2021-11-06T04:10:14.308Z"
   },
   {
    "duration": 646,
    "start_time": "2021-11-06T04:10:14.891Z"
   },
   {
    "duration": 585,
    "start_time": "2021-11-06T04:10:15.540Z"
   },
   {
    "duration": 585,
    "start_time": "2021-11-06T04:10:16.127Z"
   },
   {
    "duration": 1132,
    "start_time": "2021-11-06T04:10:16.715Z"
   },
   {
    "duration": 6,
    "start_time": "2021-11-06T04:10:17.849Z"
   },
   {
    "duration": 8,
    "start_time": "2021-11-06T04:10:17.857Z"
   },
   {
    "duration": 7,
    "start_time": "2021-11-06T04:10:17.867Z"
   },
   {
    "duration": 26,
    "start_time": "2021-11-06T04:10:17.878Z"
   },
   {
    "duration": 8,
    "start_time": "2021-11-06T04:10:17.906Z"
   },
   {
    "duration": 7,
    "start_time": "2021-11-06T04:12:16.323Z"
   },
   {
    "duration": 8,
    "start_time": "2021-11-06T04:13:38.799Z"
   },
   {
    "duration": 470,
    "start_time": "2021-11-06T04:16:27.808Z"
   },
   {
    "duration": 7,
    "start_time": "2021-11-06T04:16:36.811Z"
   },
   {
    "duration": 381,
    "start_time": "2021-11-06T04:33:02.315Z"
   },
   {
    "duration": 2029,
    "start_time": "2021-11-06T04:33:27.639Z"
   },
   {
    "duration": 55,
    "start_time": "2021-11-06T04:33:29.671Z"
   },
   {
    "duration": 41,
    "start_time": "2021-11-06T04:33:29.729Z"
   },
   {
    "duration": 49,
    "start_time": "2021-11-06T04:33:29.772Z"
   },
   {
    "duration": 26,
    "start_time": "2021-11-06T04:33:29.824Z"
   },
   {
    "duration": 152,
    "start_time": "2021-11-06T04:33:29.852Z"
   },
   {
    "duration": 74,
    "start_time": "2021-11-06T04:33:30.007Z"
   },
   {
    "duration": 75,
    "start_time": "2021-11-06T04:33:30.085Z"
   },
   {
    "duration": 44,
    "start_time": "2021-11-06T04:33:30.164Z"
   },
   {
    "duration": 9,
    "start_time": "2021-11-06T04:33:30.211Z"
   },
   {
    "duration": 56,
    "start_time": "2021-11-06T04:33:30.222Z"
   },
   {
    "duration": 42,
    "start_time": "2021-11-06T04:33:30.281Z"
   },
   {
    "duration": 82,
    "start_time": "2021-11-06T04:33:30.325Z"
   },
   {
    "duration": 55,
    "start_time": "2021-11-06T04:33:30.409Z"
   },
   {
    "duration": 609,
    "start_time": "2021-11-06T04:33:30.467Z"
   },
   {
    "duration": 591,
    "start_time": "2021-11-06T04:33:31.078Z"
   },
   {
    "duration": 580,
    "start_time": "2021-11-06T04:33:31.672Z"
   },
   {
    "duration": 583,
    "start_time": "2021-11-06T04:33:32.255Z"
   },
   {
    "duration": 1247,
    "start_time": "2021-11-06T04:33:32.840Z"
   },
   {
    "duration": 12,
    "start_time": "2021-11-06T04:33:34.089Z"
   },
   {
    "duration": 6,
    "start_time": "2021-11-06T04:33:34.103Z"
   },
   {
    "duration": 21,
    "start_time": "2021-11-06T04:33:34.111Z"
   },
   {
    "duration": 17,
    "start_time": "2021-11-06T04:33:34.136Z"
   },
   {
    "duration": 13,
    "start_time": "2021-11-06T04:33:34.156Z"
   },
   {
    "duration": 9,
    "start_time": "2021-11-06T04:33:34.172Z"
   },
   {
    "duration": 8,
    "start_time": "2021-11-06T04:33:34.199Z"
   },
   {
    "duration": 6,
    "start_time": "2021-11-06T04:33:34.209Z"
   },
   {
    "duration": 2017,
    "start_time": "2021-11-06T04:42:19.010Z"
   },
   {
    "duration": 48,
    "start_time": "2021-11-06T04:42:21.030Z"
   },
   {
    "duration": 40,
    "start_time": "2021-11-06T04:42:21.101Z"
   },
   {
    "duration": 19,
    "start_time": "2021-11-06T04:42:21.144Z"
   },
   {
    "duration": 62,
    "start_time": "2021-11-06T04:42:21.166Z"
   },
   {
    "duration": 143,
    "start_time": "2021-11-06T04:42:21.232Z"
   },
   {
    "duration": 88,
    "start_time": "2021-11-06T04:42:21.378Z"
   },
   {
    "duration": 76,
    "start_time": "2021-11-06T04:42:21.472Z"
   },
   {
    "duration": 21,
    "start_time": "2021-11-06T04:42:21.552Z"
   },
   {
    "duration": 11,
    "start_time": "2021-11-06T04:42:21.602Z"
   },
   {
    "duration": 42,
    "start_time": "2021-11-06T04:42:21.616Z"
   },
   {
    "duration": 59,
    "start_time": "2021-11-06T04:42:21.661Z"
   },
   {
    "duration": 79,
    "start_time": "2021-11-06T04:42:21.722Z"
   },
   {
    "duration": 52,
    "start_time": "2021-11-06T04:42:21.803Z"
   },
   {
    "duration": 3,
    "start_time": "2021-11-06T04:42:21.857Z"
   },
   {
    "duration": 701,
    "start_time": "2021-11-06T04:42:21.862Z"
   },
   {
    "duration": 576,
    "start_time": "2021-11-06T04:42:22.565Z"
   },
   {
    "duration": 573,
    "start_time": "2021-11-06T04:42:23.143Z"
   },
   {
    "duration": 559,
    "start_time": "2021-11-06T04:42:23.718Z"
   },
   {
    "duration": 1159,
    "start_time": "2021-11-06T04:42:24.280Z"
   },
   {
    "duration": 6,
    "start_time": "2021-11-06T04:42:25.441Z"
   },
   {
    "duration": 11,
    "start_time": "2021-11-06T04:42:25.449Z"
   },
   {
    "duration": 6,
    "start_time": "2021-11-06T04:42:25.464Z"
   },
   {
    "duration": 30,
    "start_time": "2021-11-06T04:42:25.472Z"
   },
   {
    "duration": 8,
    "start_time": "2021-11-06T04:42:25.505Z"
   },
   {
    "duration": 12,
    "start_time": "2021-11-06T04:42:25.515Z"
   },
   {
    "duration": 9,
    "start_time": "2021-11-06T04:42:25.529Z"
   },
   {
    "duration": 7,
    "start_time": "2021-11-06T04:42:25.540Z"
   },
   {
    "duration": 15,
    "start_time": "2021-11-06T04:44:29.762Z"
   },
   {
    "duration": 64,
    "start_time": "2021-11-06T04:46:20.112Z"
   },
   {
    "duration": 1987,
    "start_time": "2021-11-06T04:46:43.971Z"
   },
   {
    "duration": 63,
    "start_time": "2021-11-06T04:46:45.961Z"
   },
   {
    "duration": 40,
    "start_time": "2021-11-06T04:46:46.027Z"
   },
   {
    "duration": 49,
    "start_time": "2021-11-06T04:46:46.070Z"
   },
   {
    "duration": 24,
    "start_time": "2021-11-06T04:46:46.122Z"
   },
   {
    "duration": 146,
    "start_time": "2021-11-06T04:46:46.148Z"
   },
   {
    "duration": 71,
    "start_time": "2021-11-06T04:46:46.301Z"
   },
   {
    "duration": 71,
    "start_time": "2021-11-06T04:46:46.376Z"
   },
   {
    "duration": 19,
    "start_time": "2021-11-06T04:46:46.450Z"
   },
   {
    "duration": 30,
    "start_time": "2021-11-06T04:46:46.471Z"
   },
   {
    "duration": 35,
    "start_time": "2021-11-06T04:46:46.503Z"
   },
   {
    "duration": 32,
    "start_time": "2021-11-06T04:46:46.540Z"
   },
   {
    "duration": 70,
    "start_time": "2021-11-06T04:46:46.601Z"
   },
   {
    "duration": 77,
    "start_time": "2021-11-06T04:46:46.674Z"
   },
   {
    "duration": 81,
    "start_time": "2021-11-06T04:46:46.753Z"
   },
   {
    "duration": 600,
    "start_time": "2021-11-06T04:46:46.836Z"
   },
   {
    "duration": 566,
    "start_time": "2021-11-06T04:46:47.438Z"
   },
   {
    "duration": 567,
    "start_time": "2021-11-06T04:46:48.007Z"
   },
   {
    "duration": 563,
    "start_time": "2021-11-06T04:46:48.576Z"
   },
   {
    "duration": 1183,
    "start_time": "2021-11-06T04:46:49.141Z"
   },
   {
    "duration": 7,
    "start_time": "2021-11-06T04:46:50.327Z"
   },
   {
    "duration": 7,
    "start_time": "2021-11-06T04:46:50.337Z"
   },
   {
    "duration": 6,
    "start_time": "2021-11-06T04:46:50.350Z"
   },
   {
    "duration": 45,
    "start_time": "2021-11-06T04:46:50.359Z"
   },
   {
    "duration": 9,
    "start_time": "2021-11-06T04:46:50.406Z"
   },
   {
    "duration": 10,
    "start_time": "2021-11-06T04:46:50.418Z"
   },
   {
    "duration": 9,
    "start_time": "2021-11-06T04:46:50.431Z"
   },
   {
    "duration": 62,
    "start_time": "2021-11-06T04:46:50.443Z"
   },
   {
    "duration": 1929,
    "start_time": "2021-11-06T04:48:39.232Z"
   },
   {
    "duration": 70,
    "start_time": "2021-11-06T04:48:41.165Z"
   },
   {
    "duration": 67,
    "start_time": "2021-11-06T04:48:41.239Z"
   },
   {
    "duration": 22,
    "start_time": "2021-11-06T04:48:41.310Z"
   },
   {
    "duration": 66,
    "start_time": "2021-11-06T04:48:41.335Z"
   },
   {
    "duration": 130,
    "start_time": "2021-11-06T04:48:41.404Z"
   },
   {
    "duration": 88,
    "start_time": "2021-11-06T04:48:41.537Z"
   },
   {
    "duration": 79,
    "start_time": "2021-11-06T04:48:41.630Z"
   },
   {
    "duration": 20,
    "start_time": "2021-11-06T04:48:41.714Z"
   },
   {
    "duration": 10,
    "start_time": "2021-11-06T04:48:41.737Z"
   },
   {
    "duration": 77,
    "start_time": "2021-11-06T04:48:41.750Z"
   },
   {
    "duration": 35,
    "start_time": "2021-11-06T04:48:41.830Z"
   },
   {
    "duration": 94,
    "start_time": "2021-11-06T04:48:41.868Z"
   },
   {
    "duration": 65,
    "start_time": "2021-11-06T04:48:41.965Z"
   },
   {
    "duration": 81,
    "start_time": "2021-11-06T04:48:42.033Z"
   },
   {
    "duration": 599,
    "start_time": "2021-11-06T04:48:42.117Z"
   },
   {
    "duration": 576,
    "start_time": "2021-11-06T04:48:42.718Z"
   },
   {
    "duration": 574,
    "start_time": "2021-11-06T04:48:43.301Z"
   },
   {
    "duration": 565,
    "start_time": "2021-11-06T04:48:43.877Z"
   },
   {
    "duration": 1212,
    "start_time": "2021-11-06T04:48:44.445Z"
   },
   {
    "duration": 6,
    "start_time": "2021-11-06T04:48:45.659Z"
   },
   {
    "duration": 9,
    "start_time": "2021-11-06T04:48:45.667Z"
   },
   {
    "duration": 5,
    "start_time": "2021-11-06T04:48:45.705Z"
   },
   {
    "duration": 7,
    "start_time": "2021-11-06T04:48:45.714Z"
   },
   {
    "duration": 8,
    "start_time": "2021-11-06T04:48:45.724Z"
   },
   {
    "duration": 10,
    "start_time": "2021-11-06T04:48:45.735Z"
   },
   {
    "duration": 8,
    "start_time": "2021-11-06T04:48:45.748Z"
   },
   {
    "duration": 7,
    "start_time": "2021-11-06T04:48:45.801Z"
   },
   {
    "duration": 2000,
    "start_time": "2021-11-06T04:49:49.083Z"
   },
   {
    "duration": 51,
    "start_time": "2021-11-06T04:49:51.085Z"
   },
   {
    "duration": 66,
    "start_time": "2021-11-06T04:49:51.139Z"
   },
   {
    "duration": 22,
    "start_time": "2021-11-06T04:49:51.208Z"
   },
   {
    "duration": 30,
    "start_time": "2021-11-06T04:49:51.233Z"
   },
   {
    "duration": 154,
    "start_time": "2021-11-06T04:49:51.265Z"
   },
   {
    "duration": 81,
    "start_time": "2021-11-06T04:49:51.421Z"
   },
   {
    "duration": 61,
    "start_time": "2021-11-06T04:49:51.505Z"
   },
   {
    "duration": 40,
    "start_time": "2021-11-06T04:49:51.571Z"
   },
   {
    "duration": 17,
    "start_time": "2021-11-06T04:49:51.614Z"
   },
   {
    "duration": 39,
    "start_time": "2021-11-06T04:49:51.634Z"
   },
   {
    "duration": 51,
    "start_time": "2021-11-06T04:49:51.675Z"
   },
   {
    "duration": 82,
    "start_time": "2021-11-06T04:49:51.728Z"
   },
   {
    "duration": 51,
    "start_time": "2021-11-06T04:49:51.813Z"
   },
   {
    "duration": 89,
    "start_time": "2021-11-06T04:49:51.866Z"
   },
   {
    "duration": 620,
    "start_time": "2021-11-06T04:49:51.957Z"
   },
   {
    "duration": 608,
    "start_time": "2021-11-06T04:49:52.580Z"
   },
   {
    "duration": 749,
    "start_time": "2021-11-06T04:49:53.190Z"
   },
   {
    "duration": 810,
    "start_time": "2021-11-06T04:49:53.941Z"
   },
   {
    "duration": 1210,
    "start_time": "2021-11-06T04:49:54.754Z"
   },
   {
    "duration": 6,
    "start_time": "2021-11-06T04:49:55.966Z"
   },
   {
    "duration": 9,
    "start_time": "2021-11-06T04:49:55.974Z"
   },
   {
    "duration": 19,
    "start_time": "2021-11-06T04:49:55.985Z"
   },
   {
    "duration": 9,
    "start_time": "2021-11-06T04:49:56.006Z"
   },
   {
    "duration": 12,
    "start_time": "2021-11-06T04:49:56.018Z"
   },
   {
    "duration": 9,
    "start_time": "2021-11-06T04:49:56.032Z"
   },
   {
    "duration": 12,
    "start_time": "2021-11-06T04:49:56.045Z"
   },
   {
    "duration": 42,
    "start_time": "2021-11-06T04:49:56.059Z"
   },
   {
    "duration": 19,
    "start_time": "2021-11-06T04:52:57.555Z"
   },
   {
    "duration": 1909,
    "start_time": "2021-11-06T04:53:09.045Z"
   },
   {
    "duration": 63,
    "start_time": "2021-11-06T04:53:10.957Z"
   },
   {
    "duration": 41,
    "start_time": "2021-11-06T04:53:11.023Z"
   },
   {
    "duration": 52,
    "start_time": "2021-11-06T04:53:11.067Z"
   },
   {
    "duration": 24,
    "start_time": "2021-11-06T04:53:11.122Z"
   },
   {
    "duration": 141,
    "start_time": "2021-11-06T04:53:11.148Z"
   },
   {
    "duration": 76,
    "start_time": "2021-11-06T04:53:11.291Z"
   },
   {
    "duration": 79,
    "start_time": "2021-11-06T04:53:11.371Z"
   },
   {
    "duration": 24,
    "start_time": "2021-11-06T04:53:11.453Z"
   },
   {
    "duration": 10,
    "start_time": "2021-11-06T04:53:11.501Z"
   },
   {
    "duration": 36,
    "start_time": "2021-11-06T04:53:11.515Z"
   },
   {
    "duration": 72,
    "start_time": "2021-11-06T04:53:11.554Z"
   },
   {
    "duration": 86,
    "start_time": "2021-11-06T04:53:11.629Z"
   },
   {
    "duration": 53,
    "start_time": "2021-11-06T04:53:11.719Z"
   },
   {
    "duration": 27,
    "start_time": "2021-11-06T04:53:11.775Z"
   },
   {
    "duration": 717,
    "start_time": "2021-11-06T04:53:11.804Z"
   },
   {
    "duration": 566,
    "start_time": "2021-11-06T04:53:12.523Z"
   },
   {
    "duration": 574,
    "start_time": "2021-11-06T04:53:13.092Z"
   },
   {
    "duration": 563,
    "start_time": "2021-11-06T04:53:13.669Z"
   },
   {
    "duration": 1180,
    "start_time": "2021-11-06T04:53:14.235Z"
   },
   {
    "duration": 6,
    "start_time": "2021-11-06T04:53:15.417Z"
   },
   {
    "duration": 16,
    "start_time": "2021-11-06T04:53:15.425Z"
   },
   {
    "duration": 5,
    "start_time": "2021-11-06T04:53:15.446Z"
   },
   {
    "duration": 9,
    "start_time": "2021-11-06T04:53:15.454Z"
   },
   {
    "duration": 40,
    "start_time": "2021-11-06T04:53:15.466Z"
   },
   {
    "duration": 20,
    "start_time": "2021-11-06T04:53:15.508Z"
   },
   {
    "duration": 22,
    "start_time": "2021-11-06T04:53:15.531Z"
   },
   {
    "duration": 9,
    "start_time": "2021-11-06T04:53:15.555Z"
   },
   {
    "duration": 9963,
    "start_time": "2021-11-06T04:54:29.892Z"
   },
   {
    "duration": 36,
    "start_time": "2021-11-06T04:56:21.474Z"
   },
   {
    "duration": 1948,
    "start_time": "2021-11-06T04:56:35.914Z"
   },
   {
    "duration": 61,
    "start_time": "2021-11-06T04:56:37.865Z"
   },
   {
    "duration": 39,
    "start_time": "2021-11-06T04:56:37.928Z"
   },
   {
    "duration": 49,
    "start_time": "2021-11-06T04:56:37.970Z"
   },
   {
    "duration": 22,
    "start_time": "2021-11-06T04:56:38.021Z"
   },
   {
    "duration": 144,
    "start_time": "2021-11-06T04:56:38.046Z"
   },
   {
    "duration": 76,
    "start_time": "2021-11-06T04:56:38.193Z"
   },
   {
    "duration": 74,
    "start_time": "2021-11-06T04:56:38.272Z"
   },
   {
    "duration": 22,
    "start_time": "2021-11-06T04:56:38.348Z"
   },
   {
    "duration": 36,
    "start_time": "2021-11-06T04:56:38.372Z"
   },
   {
    "duration": 38,
    "start_time": "2021-11-06T04:56:38.411Z"
   },
   {
    "duration": 60,
    "start_time": "2021-11-06T04:56:38.451Z"
   },
   {
    "duration": 88,
    "start_time": "2021-11-06T04:56:38.513Z"
   },
   {
    "duration": 52,
    "start_time": "2021-11-06T04:56:38.604Z"
   },
   {
    "duration": 6,
    "start_time": "2021-11-06T04:56:38.659Z"
   },
   {
    "duration": 616,
    "start_time": "2021-11-06T04:56:38.668Z"
   },
   {
    "duration": 572,
    "start_time": "2021-11-06T04:56:39.286Z"
   },
   {
    "duration": 607,
    "start_time": "2021-11-06T04:56:39.860Z"
   },
   {
    "duration": 576,
    "start_time": "2021-11-06T04:56:40.469Z"
   },
   {
    "duration": 1209,
    "start_time": "2021-11-06T04:56:41.047Z"
   },
   {
    "duration": 5,
    "start_time": "2021-11-06T04:56:42.259Z"
   },
   {
    "duration": 33,
    "start_time": "2021-11-06T04:56:42.267Z"
   },
   {
    "duration": 6,
    "start_time": "2021-11-06T04:56:42.306Z"
   },
   {
    "duration": 9,
    "start_time": "2021-11-06T04:56:42.314Z"
   },
   {
    "duration": 8,
    "start_time": "2021-11-06T04:56:42.326Z"
   },
   {
    "duration": 9,
    "start_time": "2021-11-06T04:56:42.336Z"
   },
   {
    "duration": 53,
    "start_time": "2021-11-06T04:56:42.347Z"
   },
   {
    "duration": 7,
    "start_time": "2021-11-06T04:56:42.403Z"
   },
   {
    "duration": 750,
    "start_time": "2021-11-06T05:13:35.467Z"
   },
   {
    "duration": 109,
    "start_time": "2021-11-06T05:13:49.874Z"
   },
   {
    "duration": 16,
    "start_time": "2021-11-06T05:17:26.803Z"
   },
   {
    "duration": 18,
    "start_time": "2021-11-06T05:17:35.991Z"
   },
   {
    "duration": 12,
    "start_time": "2021-11-06T05:19:13.839Z"
   },
   {
    "duration": 8,
    "start_time": "2021-11-06T05:21:30.535Z"
   },
   {
    "duration": 1855,
    "start_time": "2021-11-06T08:34:07.670Z"
   },
   {
    "duration": 47,
    "start_time": "2021-11-06T08:34:09.528Z"
   },
   {
    "duration": 62,
    "start_time": "2021-11-06T08:34:09.579Z"
   },
   {
    "duration": 20,
    "start_time": "2021-11-06T08:34:09.644Z"
   },
   {
    "duration": 24,
    "start_time": "2021-11-06T08:34:09.667Z"
   },
   {
    "duration": 116,
    "start_time": "2021-11-06T08:34:09.730Z"
   },
   {
    "duration": 65,
    "start_time": "2021-11-06T08:34:09.849Z"
   },
   {
    "duration": 57,
    "start_time": "2021-11-06T08:34:09.928Z"
   },
   {
    "duration": 40,
    "start_time": "2021-11-06T08:34:09.989Z"
   },
   {
    "duration": 9,
    "start_time": "2021-11-06T08:34:10.032Z"
   },
   {
    "duration": 37,
    "start_time": "2021-11-06T08:34:10.043Z"
   },
   {
    "duration": 59,
    "start_time": "2021-11-06T08:34:10.083Z"
   },
   {
    "duration": 84,
    "start_time": "2021-11-06T08:34:10.145Z"
   },
   {
    "duration": 52,
    "start_time": "2021-11-06T08:34:10.232Z"
   },
   {
    "duration": 7,
    "start_time": "2021-11-06T08:34:10.286Z"
   },
   {
    "duration": 603,
    "start_time": "2021-11-06T08:34:10.296Z"
   },
   {
    "duration": 561,
    "start_time": "2021-11-06T08:34:10.901Z"
   },
   {
    "duration": 568,
    "start_time": "2021-11-06T08:34:11.464Z"
   },
   {
    "duration": 542,
    "start_time": "2021-11-06T08:34:12.034Z"
   },
   {
    "duration": 1256,
    "start_time": "2021-11-06T08:34:12.579Z"
   },
   {
    "duration": 6,
    "start_time": "2021-11-06T08:34:13.838Z"
   },
   {
    "duration": 8,
    "start_time": "2021-11-06T08:34:13.847Z"
   },
   {
    "duration": 9,
    "start_time": "2021-11-06T08:34:13.858Z"
   },
   {
    "duration": 11,
    "start_time": "2021-11-06T08:34:13.869Z"
   },
   {
    "duration": 9,
    "start_time": "2021-11-06T08:34:13.882Z"
   },
   {
    "duration": 8,
    "start_time": "2021-11-06T08:34:13.930Z"
   },
   {
    "duration": 8,
    "start_time": "2021-11-06T08:34:13.943Z"
   },
   {
    "duration": 7,
    "start_time": "2021-11-06T08:34:13.954Z"
   },
   {
    "duration": 151,
    "start_time": "2021-11-06T08:34:13.963Z"
   },
   {
    "duration": 26,
    "start_time": "2021-11-06T08:34:14.116Z"
   },
   {
    "duration": 11,
    "start_time": "2021-11-06T08:34:14.144Z"
   },
   {
    "duration": 10,
    "start_time": "2021-11-06T08:34:14.157Z"
   },
   {
    "duration": 7,
    "start_time": "2021-11-06T08:36:10.177Z"
   },
   {
    "duration": 6,
    "start_time": "2021-11-06T08:44:54.716Z"
   },
   {
    "duration": 6,
    "start_time": "2021-11-06T08:47:33.996Z"
   },
   {
    "duration": 4,
    "start_time": "2021-11-06T08:47:37.037Z"
   },
   {
    "duration": 6,
    "start_time": "2021-11-06T08:47:41.724Z"
   },
   {
    "duration": 5,
    "start_time": "2021-11-06T08:47:46.595Z"
   },
   {
    "duration": 1986,
    "start_time": "2021-11-06T11:05:54.576Z"
   },
   {
    "duration": 60,
    "start_time": "2021-11-06T11:05:56.565Z"
   },
   {
    "duration": 38,
    "start_time": "2021-11-06T11:05:56.628Z"
   },
   {
    "duration": 47,
    "start_time": "2021-11-06T11:05:56.669Z"
   },
   {
    "duration": 21,
    "start_time": "2021-11-06T11:05:56.718Z"
   },
   {
    "duration": 140,
    "start_time": "2021-11-06T11:05:56.742Z"
   },
   {
    "duration": 77,
    "start_time": "2021-11-06T11:05:56.884Z"
   },
   {
    "duration": 79,
    "start_time": "2021-11-06T11:05:56.963Z"
   },
   {
    "duration": 23,
    "start_time": "2021-11-06T11:05:57.046Z"
   },
   {
    "duration": 31,
    "start_time": "2021-11-06T11:05:57.072Z"
   },
   {
    "duration": 39,
    "start_time": "2021-11-06T11:05:57.106Z"
   },
   {
    "duration": 60,
    "start_time": "2021-11-06T11:05:57.148Z"
   },
   {
    "duration": 67,
    "start_time": "2021-11-06T11:05:57.211Z"
   },
   {
    "duration": 66,
    "start_time": "2021-11-06T11:05:57.280Z"
   },
   {
    "duration": 7,
    "start_time": "2021-11-06T11:05:57.349Z"
   },
   {
    "duration": 589,
    "start_time": "2021-11-06T11:05:57.359Z"
   },
   {
    "duration": 653,
    "start_time": "2021-11-06T11:05:57.950Z"
   },
   {
    "duration": 591,
    "start_time": "2021-11-06T11:05:58.605Z"
   },
   {
    "duration": 668,
    "start_time": "2021-11-06T11:05:59.201Z"
   },
   {
    "duration": 1194,
    "start_time": "2021-11-06T11:05:59.871Z"
   },
   {
    "duration": 6,
    "start_time": "2021-11-06T11:06:01.067Z"
   },
   {
    "duration": 28,
    "start_time": "2021-11-06T11:06:01.075Z"
   },
   {
    "duration": 5,
    "start_time": "2021-11-06T11:06:01.106Z"
   },
   {
    "duration": 12,
    "start_time": "2021-11-06T11:06:01.114Z"
   },
   {
    "duration": 22,
    "start_time": "2021-11-06T11:06:01.129Z"
   },
   {
    "duration": 26,
    "start_time": "2021-11-06T11:06:01.154Z"
   },
   {
    "duration": 20,
    "start_time": "2021-11-06T11:06:01.199Z"
   },
   {
    "duration": 27,
    "start_time": "2021-11-06T11:06:01.222Z"
   },
   {
    "duration": 127,
    "start_time": "2021-11-06T11:06:01.252Z"
   },
   {
    "duration": 22,
    "start_time": "2021-11-06T11:06:01.381Z"
   },
   {
    "duration": 32,
    "start_time": "2021-11-06T11:06:01.405Z"
   },
   {
    "duration": 12,
    "start_time": "2021-11-06T11:06:01.439Z"
   },
   {
    "duration": 29,
    "start_time": "2021-11-06T11:12:57.638Z"
   },
   {
    "duration": 969,
    "start_time": "2021-11-06T11:13:30.679Z"
   },
   {
    "duration": 11,
    "start_time": "2021-11-06T11:13:39.991Z"
   },
   {
    "duration": 31,
    "start_time": "2021-11-06T11:15:13.775Z"
   },
   {
    "duration": 613,
    "start_time": "2021-11-06T11:17:12.543Z"
   },
   {
    "duration": 58,
    "start_time": "2021-11-06T11:17:56.308Z"
   },
   {
    "duration": 76,
    "start_time": "2021-11-06T11:18:13.255Z"
   },
   {
    "duration": 1467,
    "start_time": "2021-11-06T12:10:11.107Z"
   },
   {
    "duration": 533,
    "start_time": "2021-11-06T12:10:12.577Z"
   },
   {
    "duration": 70,
    "start_time": "2021-11-06T12:10:13.113Z"
   },
   {
    "duration": 58,
    "start_time": "2021-11-06T12:10:13.202Z"
   },
   {
    "duration": 62,
    "start_time": "2021-11-06T12:10:13.262Z"
   },
   {
    "duration": 20,
    "start_time": "2021-11-06T12:10:13.327Z"
   },
   {
    "duration": 64,
    "start_time": "2021-11-06T12:10:13.350Z"
   },
   {
    "duration": 130,
    "start_time": "2021-11-06T12:10:13.418Z"
   },
   {
    "duration": 85,
    "start_time": "2021-11-06T12:10:13.551Z"
   },
   {
    "duration": 74,
    "start_time": "2021-11-06T12:10:13.639Z"
   },
   {
    "duration": 25,
    "start_time": "2021-11-06T12:10:13.716Z"
   },
   {
    "duration": 10,
    "start_time": "2021-11-06T12:10:13.744Z"
   },
   {
    "duration": 74,
    "start_time": "2021-11-06T12:10:13.756Z"
   },
   {
    "duration": 37,
    "start_time": "2021-11-06T12:10:13.833Z"
   },
   {
    "duration": 89,
    "start_time": "2021-11-06T12:10:13.873Z"
   },
   {
    "duration": 74,
    "start_time": "2021-11-06T12:10:13.965Z"
   },
   {
    "duration": 9,
    "start_time": "2021-11-06T12:10:14.042Z"
   },
   {
    "duration": 616,
    "start_time": "2021-11-06T12:10:14.053Z"
   },
   {
    "duration": 606,
    "start_time": "2021-11-06T12:10:14.671Z"
   },
   {
    "duration": 988,
    "start_time": "2021-11-06T12:10:15.279Z"
   },
   {
    "duration": 679,
    "start_time": "2021-11-06T12:10:16.270Z"
   },
   {
    "duration": 1232,
    "start_time": "2021-11-06T12:10:16.953Z"
   },
   {
    "duration": 14,
    "start_time": "2021-11-06T12:10:18.189Z"
   },
   {
    "duration": 8,
    "start_time": "2021-11-06T12:10:18.206Z"
   },
   {
    "duration": 6,
    "start_time": "2021-11-06T12:10:18.217Z"
   },
   {
    "duration": 9,
    "start_time": "2021-11-06T12:10:18.225Z"
   },
   {
    "duration": 7,
    "start_time": "2021-11-06T12:10:18.237Z"
   },
   {
    "duration": 53,
    "start_time": "2021-11-06T12:10:18.247Z"
   },
   {
    "duration": 8,
    "start_time": "2021-11-06T12:10:18.303Z"
   },
   {
    "duration": 8,
    "start_time": "2021-11-06T12:10:18.315Z"
   },
   {
    "duration": 145,
    "start_time": "2021-11-06T12:10:18.326Z"
   },
   {
    "duration": 36,
    "start_time": "2021-11-06T12:10:18.474Z"
   },
   {
    "duration": 14,
    "start_time": "2021-11-06T12:10:18.513Z"
   },
   {
    "duration": 14,
    "start_time": "2021-11-06T12:10:18.529Z"
   }
  ],
  "kernelspec": {
   "display_name": "Python 3 (ipykernel)",
   "language": "python",
   "name": "python3"
  },
  "language_info": {
   "codemirror_mode": {
    "name": "ipython",
    "version": 3
   },
   "file_extension": ".py",
   "mimetype": "text/x-python",
   "name": "python",
   "nbconvert_exporter": "python",
   "pygments_lexer": "ipython3",
   "version": "3.9.7"
  },
  "toc": {
   "base_numbering": 1,
   "nav_menu": {
    "height": "70px",
    "width": "182px"
   },
   "number_sections": true,
   "sideBar": true,
   "skip_h1_title": true,
   "title_cell": "Table of Contents",
   "title_sidebar": "Contents",
   "toc_cell": false,
   "toc_position": {},
   "toc_section_display": true,
   "toc_window_display": false
  }
 },
 "nbformat": 4,
 "nbformat_minor": 2
}
