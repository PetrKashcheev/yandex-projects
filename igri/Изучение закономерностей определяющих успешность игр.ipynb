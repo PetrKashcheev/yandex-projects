{
 "cells": [
  {
   "cell_type": "markdown",
   "metadata": {},
   "source": [
    "# Изучение закономерностей определяющих успешность игр"
   ]
  },
  {
   "cell_type": "markdown",
   "metadata": {},
   "source": [
    "Описание проекта: Мне, как сотруднику магазина \"Стримчик\", предстоит разобраться в том, какие платформы будут популярны в следующем году. А так же что влияет на успех или провал игры. Делать я это буду на основе данных по продаже игр за прошлые годы"
   ]
  },
  {
   "cell_type": "markdown",
   "metadata": {},
   "source": [
    "## Изучение Данных"
   ]
  },
  {
   "cell_type": "code",
   "execution_count": 1,
   "metadata": {},
   "outputs": [],
   "source": [
    "import pandas as pd\n",
    "from IPython.display import HTML, display\n",
    "import numpy as np\n",
    "import matplotlib.pyplot as plt \n",
    "from scipy import stats as st\n",
    "import seaborn as sns"
   ]
  },
  {
   "cell_type": "code",
   "execution_count": 2,
   "metadata": {},
   "outputs": [
    {
     "name": "stdout",
     "output_type": "stream",
     "text": [
      "<class 'pandas.core.frame.DataFrame'>\n",
      "RangeIndex: 16715 entries, 0 to 16714\n",
      "Data columns (total 11 columns):\n",
      " #   Column           Non-Null Count  Dtype  \n",
      "---  ------           --------------  -----  \n",
      " 0   Name             16713 non-null  object \n",
      " 1   Platform         16715 non-null  object \n",
      " 2   Year_of_Release  16446 non-null  float64\n",
      " 3   Genre            16713 non-null  object \n",
      " 4   NA_sales         16715 non-null  float64\n",
      " 5   EU_sales         16715 non-null  float64\n",
      " 6   JP_sales         16715 non-null  float64\n",
      " 7   Other_sales      16715 non-null  float64\n",
      " 8   Critic_Score     8137 non-null   float64\n",
      " 9   User_Score       10014 non-null  object \n",
      " 10  Rating           9949 non-null   object \n",
      "dtypes: float64(6), object(5)\n",
      "memory usage: 1.4+ MB\n"
     ]
    },
    {
     "data": {
      "text/html": [
       "<div>\n",
       "<style scoped>\n",
       "    .dataframe tbody tr th:only-of-type {\n",
       "        vertical-align: middle;\n",
       "    }\n",
       "\n",
       "    .dataframe tbody tr th {\n",
       "        vertical-align: top;\n",
       "    }\n",
       "\n",
       "    .dataframe thead th {\n",
       "        text-align: right;\n",
       "    }\n",
       "</style>\n",
       "<table border=\"1\" class=\"dataframe\">\n",
       "  <thead>\n",
       "    <tr style=\"text-align: right;\">\n",
       "      <th></th>\n",
       "      <th>Name</th>\n",
       "      <th>Platform</th>\n",
       "      <th>Year_of_Release</th>\n",
       "      <th>Genre</th>\n",
       "      <th>NA_sales</th>\n",
       "      <th>EU_sales</th>\n",
       "      <th>JP_sales</th>\n",
       "      <th>Other_sales</th>\n",
       "      <th>Critic_Score</th>\n",
       "      <th>User_Score</th>\n",
       "      <th>Rating</th>\n",
       "    </tr>\n",
       "  </thead>\n",
       "  <tbody>\n",
       "    <tr>\n",
       "      <th>0</th>\n",
       "      <td>Wii Sports</td>\n",
       "      <td>Wii</td>\n",
       "      <td>2006.0</td>\n",
       "      <td>Sports</td>\n",
       "      <td>41.36</td>\n",
       "      <td>28.96</td>\n",
       "      <td>3.77</td>\n",
       "      <td>8.45</td>\n",
       "      <td>76.0</td>\n",
       "      <td>8</td>\n",
       "      <td>E</td>\n",
       "    </tr>\n",
       "    <tr>\n",
       "      <th>1</th>\n",
       "      <td>Super Mario Bros.</td>\n",
       "      <td>NES</td>\n",
       "      <td>1985.0</td>\n",
       "      <td>Platform</td>\n",
       "      <td>29.08</td>\n",
       "      <td>3.58</td>\n",
       "      <td>6.81</td>\n",
       "      <td>0.77</td>\n",
       "      <td>NaN</td>\n",
       "      <td>NaN</td>\n",
       "      <td>NaN</td>\n",
       "    </tr>\n",
       "    <tr>\n",
       "      <th>2</th>\n",
       "      <td>Mario Kart Wii</td>\n",
       "      <td>Wii</td>\n",
       "      <td>2008.0</td>\n",
       "      <td>Racing</td>\n",
       "      <td>15.68</td>\n",
       "      <td>12.76</td>\n",
       "      <td>3.79</td>\n",
       "      <td>3.29</td>\n",
       "      <td>82.0</td>\n",
       "      <td>8.3</td>\n",
       "      <td>E</td>\n",
       "    </tr>\n",
       "    <tr>\n",
       "      <th>3</th>\n",
       "      <td>Wii Sports Resort</td>\n",
       "      <td>Wii</td>\n",
       "      <td>2009.0</td>\n",
       "      <td>Sports</td>\n",
       "      <td>15.61</td>\n",
       "      <td>10.93</td>\n",
       "      <td>3.28</td>\n",
       "      <td>2.95</td>\n",
       "      <td>80.0</td>\n",
       "      <td>8</td>\n",
       "      <td>E</td>\n",
       "    </tr>\n",
       "    <tr>\n",
       "      <th>4</th>\n",
       "      <td>Pokemon Red/Pokemon Blue</td>\n",
       "      <td>GB</td>\n",
       "      <td>1996.0</td>\n",
       "      <td>Role-Playing</td>\n",
       "      <td>11.27</td>\n",
       "      <td>8.89</td>\n",
       "      <td>10.22</td>\n",
       "      <td>1.00</td>\n",
       "      <td>NaN</td>\n",
       "      <td>NaN</td>\n",
       "      <td>NaN</td>\n",
       "    </tr>\n",
       "  </tbody>\n",
       "</table>\n",
       "</div>"
      ],
      "text/plain": [
       "                       Name Platform  Year_of_Release         Genre  NA_sales  \\\n",
       "0                Wii Sports      Wii           2006.0        Sports     41.36   \n",
       "1         Super Mario Bros.      NES           1985.0      Platform     29.08   \n",
       "2            Mario Kart Wii      Wii           2008.0        Racing     15.68   \n",
       "3         Wii Sports Resort      Wii           2009.0        Sports     15.61   \n",
       "4  Pokemon Red/Pokemon Blue       GB           1996.0  Role-Playing     11.27   \n",
       "\n",
       "   EU_sales  JP_sales  Other_sales  Critic_Score User_Score Rating  \n",
       "0     28.96      3.77         8.45          76.0          8      E  \n",
       "1      3.58      6.81         0.77           NaN        NaN    NaN  \n",
       "2     12.76      3.79         3.29          82.0        8.3      E  \n",
       "3     10.93      3.28         2.95          80.0          8      E  \n",
       "4      8.89     10.22         1.00           NaN        NaN    NaN  "
      ]
     },
     "metadata": {},
     "output_type": "display_data"
    },
    {
     "name": "stdout",
     "output_type": "stream",
     "text": [
      "Name               0.000120\n",
      "Platform           0.000000\n",
      "Year_of_Release    0.016093\n",
      "Genre              0.000120\n",
      "NA_sales           0.000000\n",
      "EU_sales           0.000000\n",
      "JP_sales           0.000000\n",
      "Other_sales        0.000000\n",
      "Critic_Score       0.513192\n",
      "User_Score         0.400897\n",
      "Rating             0.404786\n",
      "dtype: float64\n"
     ]
    }
   ],
   "source": [
    "df = pd.read_csv('C:\\\\Users\\\\SpectNSK\\\\Desktop\\\\projects\\\\data set\\\\sb_projects1.csv')\n",
    "df.info()\n",
    "display(df.head())\n",
    "print(df.isna().mean())"
   ]
  },
  {
   "cell_type": "markdown",
   "metadata": {},
   "source": [
    "### Вывод: \n",
    "У нас таблица с относительно небольшим число столбцов. Пропуски есть почти в каждом втором столбце. Их надо обработать"
   ]
  },
  {
   "cell_type": "markdown",
   "metadata": {},
   "source": [
    "## Подготовка данных"
   ]
  },
  {
   "cell_type": "code",
   "execution_count": 3,
   "metadata": {},
   "outputs": [],
   "source": [
    "df.columns = ['name', 'platform', 'year_of_release', 'genre', 'na_sales', 'eu_sales', 'jp_sales', 'other_sales', 'critic_score', 'user_score', 'rating']"
   ]
  },
  {
   "cell_type": "code",
   "execution_count": 4,
   "metadata": {
    "scrolled": true
   },
   "outputs": [
    {
     "name": "stdout",
     "output_type": "stream",
     "text": [
      "name               0.000000\n",
      "platform           0.000000\n",
      "year_of_release    0.000000\n",
      "genre              0.000000\n",
      "na_sales           0.000000\n",
      "eu_sales           0.000000\n",
      "jp_sales           0.000000\n",
      "other_sales        0.000000\n",
      "critic_score       0.514534\n",
      "user_score         0.401666\n",
      "rating             0.405984\n",
      "dtype: float64\n"
     ]
    }
   ],
   "source": [
    "df = df.dropna(subset = ['name', 'year_of_release'])\n",
    "print(df.isna().mean())"
   ]
  },
  {
   "cell_type": "markdown",
   "metadata": {},
   "source": [
    "Удаляем пропуски, так как в этих столбцах их процент крайне мал"
   ]
  },
  {
   "cell_type": "code",
   "execution_count": 5,
   "metadata": {},
   "outputs": [],
   "source": [
    "# Здесь заполняем пропуски маркерами, для удобства фильтрации таблицы. Так как пропусков слишком много их их нельзя удалять.\n",
    "# Для каких-то игр могло быть слишком мало оценок и рейтинг не сформировался. Какие-то игры очень старые и данных могло не быть вообще\n",
    "df['critic_score'] = df['critic_score'].fillna(-99)\n",
    "df['user_score'] = df['user_score'].fillna(-99)\n",
    "df['rating'] = df['rating'].fillna(-99)"
   ]
  },
  {
   "cell_type": "code",
   "execution_count": 6,
   "metadata": {},
   "outputs": [],
   "source": [
    "df['year_of_release'] = df['year_of_release'].astype('int')\n",
    "df['critic_score'] = df['critic_score'].astype('int')\n"
   ]
  },
  {
   "cell_type": "code",
   "execution_count": 7,
   "metadata": {},
   "outputs": [
    {
     "data": {
      "text/html": [
       "<div>\n",
       "<style scoped>\n",
       "    .dataframe tbody tr th:only-of-type {\n",
       "        vertical-align: middle;\n",
       "    }\n",
       "\n",
       "    .dataframe tbody tr th {\n",
       "        vertical-align: top;\n",
       "    }\n",
       "\n",
       "    .dataframe thead th {\n",
       "        text-align: right;\n",
       "    }\n",
       "</style>\n",
       "<table border=\"1\" class=\"dataframe\">\n",
       "  <thead>\n",
       "    <tr style=\"text-align: right;\">\n",
       "      <th></th>\n",
       "      <th>name</th>\n",
       "      <th>platform</th>\n",
       "      <th>year_of_release</th>\n",
       "      <th>genre</th>\n",
       "      <th>na_sales</th>\n",
       "      <th>eu_sales</th>\n",
       "      <th>jp_sales</th>\n",
       "      <th>other_sales</th>\n",
       "      <th>critic_score</th>\n",
       "      <th>user_score</th>\n",
       "      <th>rating</th>\n",
       "      <th>sum_sales</th>\n",
       "    </tr>\n",
       "  </thead>\n",
       "  <tbody>\n",
       "    <tr>\n",
       "      <th>0</th>\n",
       "      <td>Wii Sports</td>\n",
       "      <td>Wii</td>\n",
       "      <td>2006</td>\n",
       "      <td>Sports</td>\n",
       "      <td>41.36</td>\n",
       "      <td>28.96</td>\n",
       "      <td>3.77</td>\n",
       "      <td>8.45</td>\n",
       "      <td>76</td>\n",
       "      <td>8</td>\n",
       "      <td>E</td>\n",
       "      <td>82.54</td>\n",
       "    </tr>\n",
       "    <tr>\n",
       "      <th>1</th>\n",
       "      <td>Super Mario Bros.</td>\n",
       "      <td>NES</td>\n",
       "      <td>1985</td>\n",
       "      <td>Platform</td>\n",
       "      <td>29.08</td>\n",
       "      <td>3.58</td>\n",
       "      <td>6.81</td>\n",
       "      <td>0.77</td>\n",
       "      <td>-99</td>\n",
       "      <td>-99</td>\n",
       "      <td>-99</td>\n",
       "      <td>40.24</td>\n",
       "    </tr>\n",
       "    <tr>\n",
       "      <th>2</th>\n",
       "      <td>Mario Kart Wii</td>\n",
       "      <td>Wii</td>\n",
       "      <td>2008</td>\n",
       "      <td>Racing</td>\n",
       "      <td>15.68</td>\n",
       "      <td>12.76</td>\n",
       "      <td>3.79</td>\n",
       "      <td>3.29</td>\n",
       "      <td>82</td>\n",
       "      <td>8.3</td>\n",
       "      <td>E</td>\n",
       "      <td>35.52</td>\n",
       "    </tr>\n",
       "    <tr>\n",
       "      <th>3</th>\n",
       "      <td>Wii Sports Resort</td>\n",
       "      <td>Wii</td>\n",
       "      <td>2009</td>\n",
       "      <td>Sports</td>\n",
       "      <td>15.61</td>\n",
       "      <td>10.93</td>\n",
       "      <td>3.28</td>\n",
       "      <td>2.95</td>\n",
       "      <td>80</td>\n",
       "      <td>8</td>\n",
       "      <td>E</td>\n",
       "      <td>32.77</td>\n",
       "    </tr>\n",
       "    <tr>\n",
       "      <th>4</th>\n",
       "      <td>Pokemon Red/Pokemon Blue</td>\n",
       "      <td>GB</td>\n",
       "      <td>1996</td>\n",
       "      <td>Role-Playing</td>\n",
       "      <td>11.27</td>\n",
       "      <td>8.89</td>\n",
       "      <td>10.22</td>\n",
       "      <td>1.00</td>\n",
       "      <td>-99</td>\n",
       "      <td>-99</td>\n",
       "      <td>-99</td>\n",
       "      <td>31.38</td>\n",
       "    </tr>\n",
       "    <tr>\n",
       "      <th>...</th>\n",
       "      <td>...</td>\n",
       "      <td>...</td>\n",
       "      <td>...</td>\n",
       "      <td>...</td>\n",
       "      <td>...</td>\n",
       "      <td>...</td>\n",
       "      <td>...</td>\n",
       "      <td>...</td>\n",
       "      <td>...</td>\n",
       "      <td>...</td>\n",
       "      <td>...</td>\n",
       "      <td>...</td>\n",
       "    </tr>\n",
       "    <tr>\n",
       "      <th>16710</th>\n",
       "      <td>Samurai Warriors: Sanada Maru</td>\n",
       "      <td>PS3</td>\n",
       "      <td>2016</td>\n",
       "      <td>Action</td>\n",
       "      <td>0.00</td>\n",
       "      <td>0.00</td>\n",
       "      <td>0.01</td>\n",
       "      <td>0.00</td>\n",
       "      <td>-99</td>\n",
       "      <td>-99</td>\n",
       "      <td>-99</td>\n",
       "      <td>0.01</td>\n",
       "    </tr>\n",
       "    <tr>\n",
       "      <th>16711</th>\n",
       "      <td>LMA Manager 2007</td>\n",
       "      <td>X360</td>\n",
       "      <td>2006</td>\n",
       "      <td>Sports</td>\n",
       "      <td>0.00</td>\n",
       "      <td>0.01</td>\n",
       "      <td>0.00</td>\n",
       "      <td>0.00</td>\n",
       "      <td>-99</td>\n",
       "      <td>-99</td>\n",
       "      <td>-99</td>\n",
       "      <td>0.01</td>\n",
       "    </tr>\n",
       "    <tr>\n",
       "      <th>16712</th>\n",
       "      <td>Haitaka no Psychedelica</td>\n",
       "      <td>PSV</td>\n",
       "      <td>2016</td>\n",
       "      <td>Adventure</td>\n",
       "      <td>0.00</td>\n",
       "      <td>0.00</td>\n",
       "      <td>0.01</td>\n",
       "      <td>0.00</td>\n",
       "      <td>-99</td>\n",
       "      <td>-99</td>\n",
       "      <td>-99</td>\n",
       "      <td>0.01</td>\n",
       "    </tr>\n",
       "    <tr>\n",
       "      <th>16713</th>\n",
       "      <td>Spirits &amp; Spells</td>\n",
       "      <td>GBA</td>\n",
       "      <td>2003</td>\n",
       "      <td>Platform</td>\n",
       "      <td>0.01</td>\n",
       "      <td>0.00</td>\n",
       "      <td>0.00</td>\n",
       "      <td>0.00</td>\n",
       "      <td>-99</td>\n",
       "      <td>-99</td>\n",
       "      <td>-99</td>\n",
       "      <td>0.01</td>\n",
       "    </tr>\n",
       "    <tr>\n",
       "      <th>16714</th>\n",
       "      <td>Winning Post 8 2016</td>\n",
       "      <td>PSV</td>\n",
       "      <td>2016</td>\n",
       "      <td>Simulation</td>\n",
       "      <td>0.00</td>\n",
       "      <td>0.00</td>\n",
       "      <td>0.01</td>\n",
       "      <td>0.00</td>\n",
       "      <td>-99</td>\n",
       "      <td>-99</td>\n",
       "      <td>-99</td>\n",
       "      <td>0.01</td>\n",
       "    </tr>\n",
       "  </tbody>\n",
       "</table>\n",
       "<p>16444 rows × 12 columns</p>\n",
       "</div>"
      ],
      "text/plain": [
       "                                name platform  year_of_release         genre  \\\n",
       "0                         Wii Sports      Wii             2006        Sports   \n",
       "1                  Super Mario Bros.      NES             1985      Platform   \n",
       "2                     Mario Kart Wii      Wii             2008        Racing   \n",
       "3                  Wii Sports Resort      Wii             2009        Sports   \n",
       "4           Pokemon Red/Pokemon Blue       GB             1996  Role-Playing   \n",
       "...                              ...      ...              ...           ...   \n",
       "16710  Samurai Warriors: Sanada Maru      PS3             2016        Action   \n",
       "16711               LMA Manager 2007     X360             2006        Sports   \n",
       "16712        Haitaka no Psychedelica      PSV             2016     Adventure   \n",
       "16713               Spirits & Spells      GBA             2003      Platform   \n",
       "16714            Winning Post 8 2016      PSV             2016    Simulation   \n",
       "\n",
       "       na_sales  eu_sales  jp_sales  other_sales  critic_score user_score  \\\n",
       "0         41.36     28.96      3.77         8.45            76          8   \n",
       "1         29.08      3.58      6.81         0.77           -99        -99   \n",
       "2         15.68     12.76      3.79         3.29            82        8.3   \n",
       "3         15.61     10.93      3.28         2.95            80          8   \n",
       "4         11.27      8.89     10.22         1.00           -99        -99   \n",
       "...         ...       ...       ...          ...           ...        ...   \n",
       "16710      0.00      0.00      0.01         0.00           -99        -99   \n",
       "16711      0.00      0.01      0.00         0.00           -99        -99   \n",
       "16712      0.00      0.00      0.01         0.00           -99        -99   \n",
       "16713      0.01      0.00      0.00         0.00           -99        -99   \n",
       "16714      0.00      0.00      0.01         0.00           -99        -99   \n",
       "\n",
       "      rating  sum_sales  \n",
       "0          E      82.54  \n",
       "1        -99      40.24  \n",
       "2          E      35.52  \n",
       "3          E      32.77  \n",
       "4        -99      31.38  \n",
       "...      ...        ...  \n",
       "16710    -99       0.01  \n",
       "16711    -99       0.01  \n",
       "16712    -99       0.01  \n",
       "16713    -99       0.01  \n",
       "16714    -99       0.01  \n",
       "\n",
       "[16444 rows x 12 columns]"
      ]
     },
     "metadata": {},
     "output_type": "display_data"
    }
   ],
   "source": [
    "df['sum_sales'] = df['na_sales'] + df['eu_sales'] + df['jp_sales'] + df['other_sales']\n",
    "display(df)"
   ]
  },
  {
   "cell_type": "code",
   "execution_count": 8,
   "metadata": {},
   "outputs": [
    {
     "name": "stdout",
     "output_type": "stream",
     "text": [
      "<class 'pandas.core.frame.DataFrame'>\n",
      "Int64Index: 16444 entries, 0 to 16714\n",
      "Data columns (total 12 columns):\n",
      " #   Column           Non-Null Count  Dtype  \n",
      "---  ------           --------------  -----  \n",
      " 0   name             16444 non-null  object \n",
      " 1   platform         16444 non-null  object \n",
      " 2   year_of_release  16444 non-null  int32  \n",
      " 3   genre            16444 non-null  object \n",
      " 4   na_sales         16444 non-null  float64\n",
      " 5   eu_sales         16444 non-null  float64\n",
      " 6   jp_sales         16444 non-null  float64\n",
      " 7   other_sales      16444 non-null  float64\n",
      " 8   critic_score     16444 non-null  int32  \n",
      " 9   user_score       16444 non-null  float64\n",
      " 10  rating           16444 non-null  object \n",
      " 11  sum_sales        16444 non-null  float64\n",
      "dtypes: float64(6), int32(2), object(4)\n",
      "memory usage: 1.5+ MB\n",
      "name               0.0\n",
      "platform           0.0\n",
      "year_of_release    0.0\n",
      "genre              0.0\n",
      "na_sales           0.0\n",
      "eu_sales           0.0\n",
      "jp_sales           0.0\n",
      "other_sales        0.0\n",
      "critic_score       0.0\n",
      "user_score         0.0\n",
      "rating             0.0\n",
      "sum_sales          0.0\n",
      "dtype: float64\n"
     ]
    }
   ],
   "source": [
    "#df['user_score'] = df['user_score'].str.lower()\n",
    "df.loc[df['user_score'] == 'tbd', 'user_score'] = -99\n",
    "df['user_score'] = df['user_score'].astype('float')\n",
    "df.info()\n",
    "print(df.isna().mean())"
   ]
  },
  {
   "cell_type": "markdown",
   "metadata": {},
   "source": [
    "### Вывод: \n",
    "Данные подготовлены. Приступаем к анализу"
   ]
  },
  {
   "cell_type": "markdown",
   "metadata": {},
   "source": [
    "## Исследовательский анализ данных"
   ]
  },
  {
   "cell_type": "markdown",
   "metadata": {},
   "source": [
    "### Узнаем сколько игр выпускалось в разные годы:"
   ]
  },
  {
   "cell_type": "code",
   "execution_count": 9,
   "metadata": {},
   "outputs": [
    {
     "data": {
      "text/html": [
       "<div>\n",
       "<style scoped>\n",
       "    .dataframe tbody tr th:only-of-type {\n",
       "        vertical-align: middle;\n",
       "    }\n",
       "\n",
       "    .dataframe tbody tr th {\n",
       "        vertical-align: top;\n",
       "    }\n",
       "\n",
       "    .dataframe thead th {\n",
       "        text-align: right;\n",
       "    }\n",
       "</style>\n",
       "<table border=\"1\" class=\"dataframe\">\n",
       "  <thead>\n",
       "    <tr style=\"text-align: right;\">\n",
       "      <th></th>\n",
       "      <th>name</th>\n",
       "    </tr>\n",
       "    <tr>\n",
       "      <th>year_of_release</th>\n",
       "      <th></th>\n",
       "    </tr>\n",
       "  </thead>\n",
       "  <tbody>\n",
       "    <tr>\n",
       "      <th>1980</th>\n",
       "      <td>9</td>\n",
       "    </tr>\n",
       "    <tr>\n",
       "      <th>1981</th>\n",
       "      <td>46</td>\n",
       "    </tr>\n",
       "    <tr>\n",
       "      <th>1982</th>\n",
       "      <td>36</td>\n",
       "    </tr>\n",
       "    <tr>\n",
       "      <th>1983</th>\n",
       "      <td>17</td>\n",
       "    </tr>\n",
       "    <tr>\n",
       "      <th>1984</th>\n",
       "      <td>14</td>\n",
       "    </tr>\n",
       "    <tr>\n",
       "      <th>1985</th>\n",
       "      <td>14</td>\n",
       "    </tr>\n",
       "    <tr>\n",
       "      <th>1986</th>\n",
       "      <td>21</td>\n",
       "    </tr>\n",
       "    <tr>\n",
       "      <th>1987</th>\n",
       "      <td>16</td>\n",
       "    </tr>\n",
       "    <tr>\n",
       "      <th>1988</th>\n",
       "      <td>15</td>\n",
       "    </tr>\n",
       "    <tr>\n",
       "      <th>1989</th>\n",
       "      <td>17</td>\n",
       "    </tr>\n",
       "    <tr>\n",
       "      <th>1990</th>\n",
       "      <td>16</td>\n",
       "    </tr>\n",
       "    <tr>\n",
       "      <th>1991</th>\n",
       "      <td>41</td>\n",
       "    </tr>\n",
       "    <tr>\n",
       "      <th>1992</th>\n",
       "      <td>43</td>\n",
       "    </tr>\n",
       "    <tr>\n",
       "      <th>1993</th>\n",
       "      <td>60</td>\n",
       "    </tr>\n",
       "    <tr>\n",
       "      <th>1994</th>\n",
       "      <td>121</td>\n",
       "    </tr>\n",
       "    <tr>\n",
       "      <th>1995</th>\n",
       "      <td>219</td>\n",
       "    </tr>\n",
       "    <tr>\n",
       "      <th>1996</th>\n",
       "      <td>263</td>\n",
       "    </tr>\n",
       "    <tr>\n",
       "      <th>1997</th>\n",
       "      <td>289</td>\n",
       "    </tr>\n",
       "    <tr>\n",
       "      <th>1998</th>\n",
       "      <td>379</td>\n",
       "    </tr>\n",
       "    <tr>\n",
       "      <th>1999</th>\n",
       "      <td>338</td>\n",
       "    </tr>\n",
       "    <tr>\n",
       "      <th>2000</th>\n",
       "      <td>350</td>\n",
       "    </tr>\n",
       "    <tr>\n",
       "      <th>2001</th>\n",
       "      <td>482</td>\n",
       "    </tr>\n",
       "    <tr>\n",
       "      <th>2002</th>\n",
       "      <td>829</td>\n",
       "    </tr>\n",
       "    <tr>\n",
       "      <th>2003</th>\n",
       "      <td>775</td>\n",
       "    </tr>\n",
       "    <tr>\n",
       "      <th>2004</th>\n",
       "      <td>762</td>\n",
       "    </tr>\n",
       "    <tr>\n",
       "      <th>2005</th>\n",
       "      <td>939</td>\n",
       "    </tr>\n",
       "    <tr>\n",
       "      <th>2006</th>\n",
       "      <td>1006</td>\n",
       "    </tr>\n",
       "    <tr>\n",
       "      <th>2007</th>\n",
       "      <td>1197</td>\n",
       "    </tr>\n",
       "    <tr>\n",
       "      <th>2008</th>\n",
       "      <td>1427</td>\n",
       "    </tr>\n",
       "    <tr>\n",
       "      <th>2009</th>\n",
       "      <td>1426</td>\n",
       "    </tr>\n",
       "    <tr>\n",
       "      <th>2010</th>\n",
       "      <td>1255</td>\n",
       "    </tr>\n",
       "    <tr>\n",
       "      <th>2011</th>\n",
       "      <td>1136</td>\n",
       "    </tr>\n",
       "    <tr>\n",
       "      <th>2012</th>\n",
       "      <td>653</td>\n",
       "    </tr>\n",
       "    <tr>\n",
       "      <th>2013</th>\n",
       "      <td>544</td>\n",
       "    </tr>\n",
       "    <tr>\n",
       "      <th>2014</th>\n",
       "      <td>581</td>\n",
       "    </tr>\n",
       "    <tr>\n",
       "      <th>2015</th>\n",
       "      <td>606</td>\n",
       "    </tr>\n",
       "    <tr>\n",
       "      <th>2016</th>\n",
       "      <td>502</td>\n",
       "    </tr>\n",
       "  </tbody>\n",
       "</table>\n",
       "</div>"
      ],
      "text/plain": [
       "                 name\n",
       "year_of_release      \n",
       "1980                9\n",
       "1981               46\n",
       "1982               36\n",
       "1983               17\n",
       "1984               14\n",
       "1985               14\n",
       "1986               21\n",
       "1987               16\n",
       "1988               15\n",
       "1989               17\n",
       "1990               16\n",
       "1991               41\n",
       "1992               43\n",
       "1993               60\n",
       "1994              121\n",
       "1995              219\n",
       "1996              263\n",
       "1997              289\n",
       "1998              379\n",
       "1999              338\n",
       "2000              350\n",
       "2001              482\n",
       "2002              829\n",
       "2003              775\n",
       "2004              762\n",
       "2005              939\n",
       "2006             1006\n",
       "2007             1197\n",
       "2008             1427\n",
       "2009             1426\n",
       "2010             1255\n",
       "2011             1136\n",
       "2012              653\n",
       "2013              544\n",
       "2014              581\n",
       "2015              606\n",
       "2016              502"
      ]
     },
     "metadata": {},
     "output_type": "display_data"
    }
   ],
   "source": [
    "df_year = df.pivot_table(index = ['year_of_release'], values = 'name', aggfunc = 'count')\n",
    "display(df_year)\n"
   ]
  },
  {
   "cell_type": "code",
   "execution_count": 63,
   "metadata": {},
   "outputs": [
    {
     "data": {
      "text/plain": [
       "Text(0.5, 1.0, 'Продажи игр по годам')"
      ]
     },
     "execution_count": 63,
     "metadata": {},
     "output_type": "execute_result"
    },
    {
     "data": {
      "image/png": "[encoded data removed]",
      "text/plain": [
       "<Figure size 432x288 with 1 Axes>"
      ]
     },
     "metadata": {
      "needs_background": "light"
     },
     "output_type": "display_data"
    }
   ],
   "source": [
    "df_year.plot()\n",
    "plt.title('Продажи игр по годам')\n"
   ]
  },
  {
   "cell_type": "markdown",
   "metadata": {},
   "source": [
    "до 1995 игр продавалось очень мало, этими данными можно принебречь"
   ]
  },
  {
   "cell_type": "code",
   "execution_count": 11,
   "metadata": {},
   "outputs": [],
   "source": [
    "df2 = df.query('year_of_release > 1994')"
   ]
  },
  {
   "cell_type": "code",
   "execution_count": 12,
   "metadata": {},
   "outputs": [
    {
     "name": "stdout",
     "output_type": "stream",
     "text": [
      "          sum_sales\n",
      "platform           \n",
      "PS2         1233.56\n",
      "X360         961.24\n",
      "PS3          931.34\n",
      "Wii          891.18\n",
      "DS           802.76\n",
      "PS           721.55\n",
      "PS4          314.14\n",
      "GBA          312.88\n",
      "PSP          289.53\n",
      "3DS          257.81\n",
      "XB           251.57\n",
      "PC           239.79\n",
      "N64          218.01\n",
      "GC           196.73\n",
      "XOne         159.32\n",
      "GB           139.90\n",
      "WiiU          82.19\n",
      "PSV           53.81\n",
      "SNES          49.59\n",
      "SAT           29.94\n",
      "DC            15.95\n",
      "WS             1.42\n",
      "NG             0.43\n",
      "TG16           0.16\n",
      "3DO            0.08\n",
      "PCFX           0.03\n"
     ]
    }
   ],
   "source": [
    "platform_sum = df2.pivot_table(index = ['platform'] , values = 'sum_sales', aggfunc = 'sum')\n",
    "print(platform_sum.sort_values(by = 'sum_sales', ascending = False))\n"
   ]
  },
  {
   "cell_type": "markdown",
   "metadata": {},
   "source": [
    "Посчитали сумму всех продаж по платформам. Увидели 6 явных фаворитов и 5 платформ,для которых игры почти не продаются. Среди популярных бросается в глаза 3 версии PSки"
   ]
  },
  {
   "cell_type": "markdown",
   "metadata": {},
   "source": [
    "### Посмотрим как менялись продажи самых популярных платформ по годам"
   ]
  },
  {
   "cell_type": "code",
   "execution_count": 13,
   "metadata": {},
   "outputs": [
    {
     "data": {
      "text/plain": [
       "<matplotlib.legend.Legend at 0x21d16d66700>"
      ]
     },
     "execution_count": 13,
     "metadata": {},
     "output_type": "execute_result"
    },
    {
     "data": {
      "image/png": "[encoded data removed]",
      "text/plain": [
       "<Figure size 720x720 with 1 Axes>"
      ]
     },
     "metadata": {
      "needs_background": "light"
     },
     "output_type": "display_data"
    }
   ],
   "source": [
    "ax1 = df2.query('platform == \"PS2\"')['year_of_release'].hist(\n",
    "    color='blue',\n",
    "    grid=False,\n",
    "    alpha=0.5,\n",
    "    bins=12,\n",
    "    figsize=(10,10),\n",
    "    label = 'PS2')\n",
    "plt.title('Распределение количества выпускаемых игр для платформы PS2')\n",
    "plt.xlabel('year')\n",
    "plt.ylabel('count_game')\n",
    "\n",
    " \n",
    "ax1.legend()\n",
    "#df2.query('platform == \"PS2\"')['year_of_release'].value_counts()"
   ]
  },
  {
   "cell_type": "code",
   "execution_count": 14,
   "metadata": {},
   "outputs": [
    {
     "data": {
      "text/plain": [
       "<matplotlib.legend.Legend at 0x21d1bc5ea60>"
      ]
     },
     "execution_count": 14,
     "metadata": {},
     "output_type": "execute_result"
    },
    {
     "data": {
      "image/png": "[encoded data removed]",
      "text/plain": [
       "<Figure size 720x720 with 1 Axes>"
      ]
     },
     "metadata": {
      "needs_background": "light"
     },
     "output_type": "display_data"
    }
   ],
   "source": [
    "ax2 = df2.query('platform == \"X360\"')['year_of_release'].hist(\n",
    "    color='orange',\n",
    "    grid=False,\n",
    "    alpha=0.5,\n",
    "    bins=12,\n",
    "    figsize=(10,10),\n",
    "    label = 'x360')\n",
    "plt.title('Распределение количества выпускаемых игр для платформы X360')\n",
    "plt.xlabel('year')\n",
    "plt.ylabel('count_game')\n",
    "ax2.legend()\n",
    "#df2.query('platform == \"X360\"')['year_of_release'].value_counts()"
   ]
  },
  {
   "cell_type": "code",
   "execution_count": 15,
   "metadata": {},
   "outputs": [
    {
     "data": {
      "text/plain": [
       "<matplotlib.legend.Legend at 0x21d1c65f700>"
      ]
     },
     "execution_count": 15,
     "metadata": {},
     "output_type": "execute_result"
    },
    {
     "data": {
      "image/png": "[encoded data removed]",
      "text/plain": [
       "<Figure size 720x720 with 1 Axes>"
      ]
     },
     "metadata": {
      "needs_background": "light"
     },
     "output_type": "display_data"
    }
   ],
   "source": [
    "ax3 = df2.query('platform == \"PS3\"')['year_of_release'].hist(\n",
    "    color='green',\n",
    "    grid=False,\n",
    "    alpha=0.5,\n",
    "    bins=11,\n",
    "    figsize=(10,10),\n",
    "    label = 'PS3')\n",
    "plt.title('Распределение количества выпускаемых игр для платформы PS3')\n",
    "plt.xlabel('year')\n",
    "plt.ylabel('count_game')\n",
    "ax3.legend()\n",
    "#df2.query('platform == \"PS3\"')['year_of_release'].value_counts()"
   ]
  },
  {
   "cell_type": "code",
   "execution_count": 16,
   "metadata": {},
   "outputs": [
    {
     "data": {
      "text/plain": [
       "<matplotlib.legend.Legend at 0x21d1cb9b460>"
      ]
     },
     "execution_count": 16,
     "metadata": {},
     "output_type": "execute_result"
    },
    {
     "data": {
      "image/png": "[encoded data removed]",
      "text/plain": [
       "<Figure size 720x720 with 1 Axes>"
      ]
     },
     "metadata": {
      "needs_background": "light"
     },
     "output_type": "display_data"
    }
   ],
   "source": [
    "ax4 = df2.query('platform == \"Wii\"')['year_of_release'].hist(\n",
    "    color='red',\n",
    "    grid=False,\n",
    "    alpha=0.5,\n",
    "    bins=11,\n",
    "    figsize=(10,10),\n",
    "    label = 'wii')\n",
    "plt.title('Распределение количества выпускаемых игр для платформы wii')\n",
    "plt.xlabel('year')\n",
    "plt.ylabel('count_game')\n",
    "ax4.legend()\n",
    "#df2.query('platform == \"Wii\"')['year_of_release'].value_counts()"
   ]
  },
  {
   "cell_type": "code",
   "execution_count": 17,
   "metadata": {},
   "outputs": [
    {
     "data": {
      "text/plain": [
       "<matplotlib.legend.Legend at 0x21d1c789400>"
      ]
     },
     "execution_count": 17,
     "metadata": {},
     "output_type": "execute_result"
    },
    {
     "data": {
      "image/png": "[encoded data removed]",
      "text/plain": [
       "<Figure size 720x720 with 1 Axes>"
      ]
     },
     "metadata": {
      "needs_background": "light"
     },
     "output_type": "display_data"
    }
   ],
   "source": [
    "ax5 = df2.query('platform == \"DS\"')['year_of_release'].hist(\n",
    "    color='black',\n",
    "    grid=False,\n",
    "    alpha=0.5,\n",
    "    bins=10,\n",
    "    figsize=(10,10),\n",
    "    label = 'DS')\n",
    "plt.title('Распределение количества выпускаемых игр для платформы DS')\n",
    "plt.xlabel('year')\n",
    "plt.ylabel('count_game')\n",
    "ax5.legend()\n",
    "#df2.query('platform == \"DS\"')['year_of_release'].value_counts()"
   ]
  },
  {
   "cell_type": "markdown",
   "metadata": {},
   "source": [
    " На графиках видно,что платформа живёт около 10 лет"
   ]
  },
  {
   "cell_type": "code",
   "execution_count": 19,
   "metadata": {},
   "outputs": [
    {
     "name": "stdout",
     "output_type": "stream",
     "text": [
      "          sum_sales\n",
      "platform           \n",
      "PS4          288.15\n",
      "XOne         140.36\n",
      "3DS           86.68\n",
      "PS3           68.18\n",
      "X360          48.22\n",
      "WiiU          42.98\n",
      "PC            27.05\n",
      "PSV           22.40\n",
      "Wii            5.07\n",
      "PSP            0.36\n"
     ]
    }
   ],
   "source": [
    "#Выберем актуальный период с 2014 года\n",
    "new = df2.query('year_of_release > 2013')\n",
    "platform_sum_new = new.pivot_table(index = ['platform'] , values = 'sum_sales', aggfunc = 'sum')\n",
    "print(platform_sum_new.sort_values(by = 'sum_sales', ascending = False))"
   ]
  },
  {
   "cell_type": "code",
   "execution_count": 20,
   "metadata": {},
   "outputs": [
    {
     "data": {
      "text/plain": [
       "Text(0, 0.5, 'sum_sales')"
      ]
     },
     "execution_count": 20,
     "metadata": {},
     "output_type": "execute_result"
    },
    {
     "data": {
      "image/png": "[encoded data removed]",
      "text/plain": [
       "<Figure size 432x288 with 1 Axes>"
      ]
     },
     "metadata": {
      "needs_background": "light"
     },
     "output_type": "display_data"
    }
   ],
   "source": [
    "new.query('platform == \"PS4\"').pivot_table(index = 'year_of_release', values = 'sum_sales', aggfunc ='sum').plot(kind='bar')\n",
    "plt.title('Продажи PS4')\n",
    "plt.ylabel('sum_sales')"
   ]
  },
  {
   "cell_type": "code",
   "execution_count": 21,
   "metadata": {},
   "outputs": [
    {
     "data": {
      "text/plain": [
       "Text(0, 0.5, 'sum_sales')"
      ]
     },
     "execution_count": 21,
     "metadata": {},
     "output_type": "execute_result"
    },
    {
     "data": {
      "image/png": "[encoded data removed]",
      "text/plain": [
       "<Figure size 432x288 with 1 Axes>"
      ]
     },
     "metadata": {
      "needs_background": "light"
     },
     "output_type": "display_data"
    }
   ],
   "source": [
    "new.query('platform == \"PS3\"').pivot_table(index = 'year_of_release', values = 'sum_sales', aggfunc ='sum').plot(kind='bar')\n",
    "plt.title('Продажи PS3')\n",
    "plt.ylabel('sum_sales')"
   ]
  },
  {
   "cell_type": "code",
   "execution_count": 22,
   "metadata": {},
   "outputs": [
    {
     "data": {
      "text/plain": [
       "Text(0, 0.5, 'sum_sales')"
      ]
     },
     "execution_count": 22,
     "metadata": {},
     "output_type": "execute_result"
    },
    {
     "data": {
      "image/png": "[encoded data removed]",
      "text/plain": [
       "<Figure size 432x288 with 1 Axes>"
      ]
     },
     "metadata": {
      "needs_background": "light"
     },
     "output_type": "display_data"
    }
   ],
   "source": [
    "new.query('platform == \"X360\"').pivot_table(index = 'year_of_release', values = 'sum_sales', aggfunc ='sum').plot(kind='bar')\n",
    "plt.title('Продажи X360')\n",
    "plt.ylabel('sum_sales')"
   ]
  },
  {
   "cell_type": "code",
   "execution_count": 23,
   "metadata": {},
   "outputs": [
    {
     "data": {
      "text/plain": [
       "Text(0, 0.5, 'sum_sales')"
      ]
     },
     "execution_count": 23,
     "metadata": {},
     "output_type": "execute_result"
    },
    {
     "data": {
      "image/png": "[encoded data removed]",
      "text/plain": [
       "<Figure size 432x288 with 1 Axes>"
      ]
     },
     "metadata": {
      "needs_background": "light"
     },
     "output_type": "display_data"
    }
   ],
   "source": [
    "new.query('platform == \"3DS\"').pivot_table(index = 'year_of_release', values = 'sum_sales', aggfunc ='sum').plot(kind='bar')\n",
    "plt.title('Продажи 3DS')\n",
    "plt.ylabel('sum_sales')"
   ]
  },
  {
   "cell_type": "code",
   "execution_count": 24,
   "metadata": {
    "scrolled": false
   },
   "outputs": [
    {
     "data": {
      "text/plain": [
       "Text(0, 0.5, 'sum_sales')"
      ]
     },
     "execution_count": 24,
     "metadata": {},
     "output_type": "execute_result"
    },
    {
     "data": {
      "image/png": "[encoded data removed]",
      "text/plain": [
       "<Figure size 432x288 with 1 Axes>"
      ]
     },
     "metadata": {
      "needs_background": "light"
     },
     "output_type": "display_data"
    }
   ],
   "source": [
    "new.query('platform == \"XOne\"').pivot_table(index = 'year_of_release', values = 'sum_sales', aggfunc ='sum').plot(kind='bar')\n",
    "plt.title('Продажи XOne')\n",
    "plt.ylabel('sum_sales')"
   ]
  },
  {
   "cell_type": "code",
   "execution_count": 25,
   "metadata": {},
   "outputs": [
    {
     "data": {
      "text/plain": [
       "Text(0, 0.5, 'sum_sales')"
      ]
     },
     "execution_count": 25,
     "metadata": {},
     "output_type": "execute_result"
    },
    {
     "data": {
      "image/png": "[encoded data removed]",
      "text/plain": [
       "<Figure size 432x288 with 1 Axes>"
      ]
     },
     "metadata": {
      "needs_background": "light"
     },
     "output_type": "display_data"
    }
   ],
   "source": [
    "new.query('platform == \"WiiU\"').pivot_table(index = 'year_of_release', values = 'sum_sales', aggfunc ='sum').plot(kind='bar')\n",
    "plt.title('Продажи WiiU')\n",
    "plt.ylabel('sum_sales')"
   ]
  },
  {
   "cell_type": "code",
   "execution_count": 26,
   "metadata": {},
   "outputs": [
    {
     "data": {
      "text/plain": [
       "Text(0, 0.5, 'sum_sales')"
      ]
     },
     "execution_count": 26,
     "metadata": {},
     "output_type": "execute_result"
    },
    {
     "data": {
      "image/png": "[encoded data removed]",
      "text/plain": [
       "<Figure size 432x288 with 1 Axes>"
      ]
     },
     "metadata": {
      "needs_background": "light"
     },
     "output_type": "display_data"
    }
   ],
   "source": [
    "new.query('platform == \"PC\"').pivot_table(index = 'year_of_release', values = 'sum_sales', aggfunc ='sum').plot(kind='bar')\n",
    "plt.title('Продажи PC')\n",
    "plt.ylabel('sum_sales')"
   ]
  },
  {
   "cell_type": "code",
   "execution_count": 27,
   "metadata": {},
   "outputs": [
    {
     "data": {
      "text/plain": [
       "Text(0, 0.5, 'sum_sales')"
      ]
     },
     "execution_count": 27,
     "metadata": {},
     "output_type": "execute_result"
    },
    {
     "data": {
      "image/png": "[encoded data removed]",
      "text/plain": [
       "<Figure size 432x288 with 1 Axes>"
      ]
     },
     "metadata": {
      "needs_background": "light"
     },
     "output_type": "display_data"
    }
   ],
   "source": [
    "new.query('platform == \"Wii\"').pivot_table(index = 'year_of_release', values = 'sum_sales', aggfunc ='sum').plot(kind='bar')\n",
    "plt.title('Продажи Wii')\n",
    "plt.ylabel('sum_sales')"
   ]
  },
  {
   "cell_type": "code",
   "execution_count": 28,
   "metadata": {},
   "outputs": [
    {
     "data": {
      "text/plain": [
       "Text(0, 0.5, 'sum_sales')"
      ]
     },
     "execution_count": 28,
     "metadata": {},
     "output_type": "execute_result"
    },
    {
     "data": {
      "image/png": "[encoded data removed]",
      "text/plain": [
       "<Figure size 432x288 with 1 Axes>"
      ]
     },
     "metadata": {
      "needs_background": "light"
     },
     "output_type": "display_data"
    }
   ],
   "source": [
    "new.query('platform == \"PSV\"').pivot_table(index = 'year_of_release', values = 'sum_sales', aggfunc ='sum').plot(kind='bar')\n",
    "plt.title('Продажи PSV')\n",
    "plt.ylabel('sum_sales')"
   ]
  },
  {
   "cell_type": "code",
   "execution_count": 29,
   "metadata": {},
   "outputs": [
    {
     "data": {
      "text/plain": [
       "Text(0, 0.5, 'sum_sales')"
      ]
     },
     "execution_count": 29,
     "metadata": {},
     "output_type": "execute_result"
    },
    {
     "data": {
      "image/png": "[encoded data removed]",
      "text/plain": [
       "<Figure size 432x288 with 1 Axes>"
      ]
     },
     "metadata": {
      "needs_background": "light"
     },
     "output_type": "display_data"
    }
   ],
   "source": [
    "new.query('platform == \"PSP\"').pivot_table(index = 'year_of_release', values = 'sum_sales', aggfunc ='sum').plot(kind='bar')\n",
    "plt.title('Продажи PSP')\n",
    "plt.ylabel('sum_sales')"
   ]
  },
  {
   "cell_type": "markdown",
   "metadata": {},
   "source": [
    "Графики показывают, что PS3 , X360 и 3DS падают впродажах, а вот Xone и PS4 растут. В ближайшие 2-3 года две последних и будут потенциально прибыльными платформами"
   ]
  },
  {
   "cell_type": "code",
   "execution_count": 30,
   "metadata": {},
   "outputs": [
    {
     "data": {
      "text/plain": [
       "array(['PS4', '3DS', 'XOne', 'WiiU', 'PS3', 'X360', 'PC', 'Wii', 'PSV',\n",
       "       'PSP'], dtype=object)"
      ]
     },
     "execution_count": 30,
     "metadata": {},
     "output_type": "execute_result"
    }
   ],
   "source": [
    "new['platform'].unique()"
   ]
  },
  {
   "cell_type": "code",
   "execution_count": 31,
   "metadata": {},
   "outputs": [],
   "source": [
    "ps4 = new.query('platform == \"PS4\"')\n",
    "ps3 = new.query('platform == \"PS3\"')\n",
    "x360 = new.query('platform == \"X360\"')\n",
    "ds3 = new.query('platform == \"3DS\"')\n",
    "xone = new.query('platform == \"XOne\"')\n",
    "    "
   ]
  },
  {
   "cell_type": "code",
   "execution_count": 32,
   "metadata": {},
   "outputs": [
    {
     "data": {
      "text/plain": [
       "Text(0.5, 1.0, 'Продажи PS4')"
      ]
     },
     "execution_count": 32,
     "metadata": {},
     "output_type": "execute_result"
    },
    {
     "data": {
      "image/png": "[encoded data removed]",
      "text/plain": [
       "<Figure size 432x288 with 1 Axes>"
      ]
     },
     "metadata": {
      "needs_background": "light"
     },
     "output_type": "display_data"
    }
   ],
   "source": [
    "ps4.boxplot('sum_sales')\n",
    "plt.title('Продажи PS4')"
   ]
  },
  {
   "cell_type": "code",
   "execution_count": 33,
   "metadata": {},
   "outputs": [
    {
     "data": {
      "text/plain": [
       "Text(0.5, 1.0, 'Продажи PS3')"
      ]
     },
     "execution_count": 33,
     "metadata": {},
     "output_type": "execute_result"
    },
    {
     "data": {
      "image/png": "[encoded data removed]",
      "text/plain": [
       "<Figure size 432x288 with 1 Axes>"
      ]
     },
     "metadata": {
      "needs_background": "light"
     },
     "output_type": "display_data"
    }
   ],
   "source": [
    "ps3.boxplot('sum_sales')\n",
    "plt.title('Продажи PS3')"
   ]
  },
  {
   "cell_type": "code",
   "execution_count": 34,
   "metadata": {},
   "outputs": [
    {
     "data": {
      "text/plain": [
       "Text(0.5, 1.0, 'Продажи X360')"
      ]
     },
     "execution_count": 34,
     "metadata": {},
     "output_type": "execute_result"
    },
    {
     "data": {
      "image/png": "[encoded data removed]",
      "text/plain": [
       "<Figure size 432x288 with 1 Axes>"
      ]
     },
     "metadata": {
      "needs_background": "light"
     },
     "output_type": "display_data"
    }
   ],
   "source": [
    "x360.boxplot('sum_sales')\n",
    "plt.title('Продажи X360')"
   ]
  },
  {
   "cell_type": "code",
   "execution_count": 35,
   "metadata": {},
   "outputs": [
    {
     "data": {
      "text/plain": [
       "Text(0.5, 1.0, 'Продажи 3DS')"
      ]
     },
     "execution_count": 35,
     "metadata": {},
     "output_type": "execute_result"
    },
    {
     "data": {
      "image/png": "[encoded data removed]",
      "text/plain": [
       "<Figure size 432x288 with 1 Axes>"
      ]
     },
     "metadata": {
      "needs_background": "light"
     },
     "output_type": "display_data"
    }
   ],
   "source": [
    "ds3.boxplot('sum_sales')\n",
    "plt.title('Продажи 3DS')"
   ]
  },
  {
   "cell_type": "code",
   "execution_count": 36,
   "metadata": {
    "scrolled": true
   },
   "outputs": [
    {
     "data": {
      "text/plain": [
       "Text(0.5, 1.0, 'Продажи XOne')"
      ]
     },
     "execution_count": 36,
     "metadata": {},
     "output_type": "execute_result"
    },
    {
     "data": {
      "image/png": "[encoded data removed]",
      "text/plain": [
       "<Figure size 432x288 with 1 Axes>"
      ]
     },
     "metadata": {
      "needs_background": "light"
     },
     "output_type": "display_data"
    }
   ],
   "source": [
    "xone.boxplot('sum_sales')\n",
    "plt.title('Продажи XOne')"
   ]
  },
  {
   "cell_type": "code",
   "execution_count": 37,
   "metadata": {},
   "outputs": [
    {
     "data": {
      "text/plain": [
       "Text(0.5, 1.0, 'Боксплоты всех платформ')"
      ]
     },
     "execution_count": 37,
     "metadata": {},
     "output_type": "execute_result"
    },
    {
     "data": {
      "image/png": "[encoded data removed]",
      "text/plain": [
       "<Figure size 432x288 with 1 Axes>"
      ]
     },
     "metadata": {
      "needs_background": "light"
     },
     "output_type": "display_data"
    }
   ],
   "source": [
    "#PS4 3DS XOne PS3 X360\n",
    "\n",
    "#top = ['PS4', '3DS', 'XOne', 'PS3', 'X360']\n",
    "#top_platform = new.query('platform in @top')\n",
    "sns.boxplot(data =new, y = 'sum_sales', x='platform')\n",
    "plt.ylim([0, 2])\n",
    "plt.title('Боксплоты всех платформ')"
   ]
  },
  {
   "cell_type": "markdown",
   "metadata": {},
   "source": [
    "'ящики с усами' показывают,что PS4 XOne wiiU wii и X360 наиболее стабильны"
   ]
  },
  {
   "cell_type": "code",
   "execution_count": 38,
   "metadata": {},
   "outputs": [
    {
     "name": "stdout",
     "output_type": "stream",
     "text": [
      "0.40266141068104083\n"
     ]
    }
   ],
   "source": [
    "critic_ps4 = new.query('critic_score > 0 and platform == \"PS4\"')\n",
    "print(critic_ps4['sum_sales'].corr(critic_ps4['critic_score'])) "
   ]
  },
  {
   "cell_type": "code",
   "execution_count": 39,
   "metadata": {},
   "outputs": [
    {
     "name": "stdout",
     "output_type": "stream",
     "text": [
      "-0.040131589472697356\n"
     ]
    }
   ],
   "source": [
    "user_ps4 = new.query('user_score > 0 and platform == \"PS4\"')\n",
    "print(user_ps4['sum_sales'].corr(user_ps4['user_score'])) "
   ]
  },
  {
   "cell_type": "code",
   "execution_count": 40,
   "metadata": {},
   "outputs": [
    {
     "data": {
      "text/plain": [
       "Text(0.5, 1.0, 'Отношение оценки пользователей к продажам PS4')"
      ]
     },
     "execution_count": 40,
     "metadata": {},
     "output_type": "execute_result"
    },
    {
     "data": {
      "image/png": "[encoded data removed]",
      "text/plain": [
       "<Figure size 432x288 with 1 Axes>"
      ]
     },
     "metadata": {
      "needs_background": "light"
     },
     "output_type": "display_data"
    },
    {
     "data": {
      "image/png": "[encoded data removed]",
      "text/plain": [
       "<Figure size 432x288 with 1 Axes>"
      ]
     },
     "metadata": {
      "needs_background": "light"
     },
     "output_type": "display_data"
    }
   ],
   "source": [
    "critic_ps4.sort_values('critic_score').plot(x='critic_score',y='sum_sales', kind='scatter', grid=True)\n",
    "plt.title('Отношение оценки критиков к продажам PS4')\n",
    "user_ps4.sort_values('user_score').plot(x='user_score',y='sum_sales', kind='scatter', grid=True)\n",
    "plt.title('Отношение оценки пользователей к продажам PS4')"
   ]
  },
  {
   "cell_type": "code",
   "execution_count": 41,
   "metadata": {},
   "outputs": [
    {
     "name": "stdout",
     "output_type": "stream",
     "text": [
      "Коэффициент корреляции: 0.42867694370333226\n"
     ]
    }
   ],
   "source": [
    "critic_XOne = new.query('critic_score > 0 and platform == \"XOne\"')\n",
    "print('Коэффициент корреляции:',critic_XOne['sum_sales'].corr(critic_XOne['critic_score'])) "
   ]
  },
  {
   "cell_type": "code",
   "execution_count": 42,
   "metadata": {},
   "outputs": [
    {
     "name": "stdout",
     "output_type": "stream",
     "text": [
      "Коэффициент корреляции: -0.0703839280647581\n"
     ]
    }
   ],
   "source": [
    "user_XOne = new.query('user_score > 0 and platform == \"XOne\"')\n",
    "print('Коэффициент корреляции:', user_XOne['sum_sales'].corr(user_XOne['user_score']))"
   ]
  },
  {
   "cell_type": "code",
   "execution_count": 43,
   "metadata": {},
   "outputs": [
    {
     "data": {
      "text/plain": [
       "Text(0.5, 1.0, 'Отношение оценки пользователей к продажам Xone')"
      ]
     },
     "execution_count": 43,
     "metadata": {},
     "output_type": "execute_result"
    },
    {
     "data": {
      "image/png": "[encoded data removed]",
      "text/plain": [
       "<Figure size 432x288 with 1 Axes>"
      ]
     },
     "metadata": {
      "needs_background": "light"
     },
     "output_type": "display_data"
    },
    {
     "data": {
      "image/png": "[encoded data removed]",
      "text/plain": [
       "<Figure size 432x288 with 1 Axes>"
      ]
     },
     "metadata": {
      "needs_background": "light"
     },
     "output_type": "display_data"
    }
   ],
   "source": [
    "critic_XOne.sort_values('critic_score').plot(x='critic_score',y='sum_sales', kind='scatter', grid=True)\n",
    "plt.title('Отношение оценки пользователей к продажам Xone')\n",
    "user_XOne.sort_values('user_score').plot(x='user_score',y='sum_sales', kind='scatter', grid=True)\n",
    "plt.title('Отношение оценки пользователей к продажам Xone')"
   ]
  },
  {
   "cell_type": "markdown",
   "metadata": {},
   "source": [
    " На обеих платформах наблюдается взаимосвязь между оценками критиков и продажами, а вот связи продаж с оценками пользователей на удивление нет"
   ]
  },
  {
   "cell_type": "code",
   "execution_count": 44,
   "metadata": {},
   "outputs": [
    {
     "data": {
      "text/html": [
       "<div>\n",
       "<style scoped>\n",
       "    .dataframe tbody tr th:only-of-type {\n",
       "        vertical-align: middle;\n",
       "    }\n",
       "\n",
       "    .dataframe tbody tr th {\n",
       "        vertical-align: top;\n",
       "    }\n",
       "\n",
       "    .dataframe thead th {\n",
       "        text-align: right;\n",
       "    }\n",
       "</style>\n",
       "<table border=\"1\" class=\"dataframe\">\n",
       "  <thead>\n",
       "    <tr style=\"text-align: right;\">\n",
       "      <th></th>\n",
       "      <th>sum_sales</th>\n",
       "    </tr>\n",
       "    <tr>\n",
       "      <th>genre</th>\n",
       "      <th></th>\n",
       "    </tr>\n",
       "  </thead>\n",
       "  <tbody>\n",
       "    <tr>\n",
       "      <th>Shooter</th>\n",
       "      <td>1.335469</td>\n",
       "    </tr>\n",
       "    <tr>\n",
       "      <th>Sports</th>\n",
       "      <td>0.680000</td>\n",
       "    </tr>\n",
       "    <tr>\n",
       "      <th>Platform</th>\n",
       "      <td>0.476053</td>\n",
       "    </tr>\n",
       "    <tr>\n",
       "      <th>Fighting</th>\n",
       "      <td>0.470333</td>\n",
       "    </tr>\n",
       "    <tr>\n",
       "      <th>Role-Playing</th>\n",
       "      <td>0.459005</td>\n",
       "    </tr>\n",
       "    <tr>\n",
       "      <th>Racing</th>\n",
       "      <td>0.398841</td>\n",
       "    </tr>\n",
       "    <tr>\n",
       "      <th>Misc</th>\n",
       "      <td>0.332301</td>\n",
       "    </tr>\n",
       "    <tr>\n",
       "      <th>Action</th>\n",
       "      <td>0.322068</td>\n",
       "    </tr>\n",
       "    <tr>\n",
       "      <th>Simulation</th>\n",
       "      <td>0.298409</td>\n",
       "    </tr>\n",
       "    <tr>\n",
       "      <th>Puzzle</th>\n",
       "      <td>0.157857</td>\n",
       "    </tr>\n",
       "    <tr>\n",
       "      <th>Strategy</th>\n",
       "      <td>0.107027</td>\n",
       "    </tr>\n",
       "    <tr>\n",
       "      <th>Adventure</th>\n",
       "      <td>0.094865</td>\n",
       "    </tr>\n",
       "  </tbody>\n",
       "</table>\n",
       "</div>"
      ],
      "text/plain": [
       "              sum_sales\n",
       "genre                  \n",
       "Shooter        1.335469\n",
       "Sports         0.680000\n",
       "Platform       0.476053\n",
       "Fighting       0.470333\n",
       "Role-Playing   0.459005\n",
       "Racing         0.398841\n",
       "Misc           0.332301\n",
       "Action         0.322068\n",
       "Simulation     0.298409\n",
       "Puzzle         0.157857\n",
       "Strategy       0.107027\n",
       "Adventure      0.094865"
      ]
     },
     "metadata": {},
     "output_type": "display_data"
    },
    {
     "data": {
      "text/plain": [
       "(0.0, 2.0)"
      ]
     },
     "execution_count": 44,
     "metadata": {},
     "output_type": "execute_result"
    },
    {
     "data": {
      "image/png": "[encoded data removed]",
      "text/plain": [
       "<Figure size 1080x1080 with 1 Axes>"
      ]
     },
     "metadata": {
      "needs_background": "light"
     },
     "output_type": "display_data"
    }
   ],
   "source": [
    "df_genre = new.pivot_table(index = ['genre'] , values = 'sum_sales', aggfunc = 'mean')\n",
    "display(df_genre.sort_values(by='sum_sales', ascending = False))\n",
    "plt.figure(figsize=(15,15))\n",
    "sns.boxplot(data = new, y = 'sum_sales', x='genre')\n",
    "plt.title('Боксплоты по всем жанрам')\n",
    "plt.ylim([0, 2])"
   ]
  },
  {
   "cell_type": "markdown",
   "metadata": {},
   "source": [
    "### Вывод: \n",
    "Стрелялки выделяются большими продажами, малым спросом пользуются стратегии(а жаль), пазлы и приключения"
   ]
  },
  {
   "cell_type": "markdown",
   "metadata": {},
   "source": [
    "## Портрет пользователя каждого региона"
   ]
  },
  {
   "cell_type": "code",
   "execution_count": 45,
   "metadata": {},
   "outputs": [
    {
     "data": {
      "text/html": [
       "<div>\n",
       "<style scoped>\n",
       "    .dataframe tbody tr th:only-of-type {\n",
       "        vertical-align: middle;\n",
       "    }\n",
       "\n",
       "    .dataframe tbody tr th {\n",
       "        vertical-align: top;\n",
       "    }\n",
       "\n",
       "    .dataframe thead th {\n",
       "        text-align: right;\n",
       "    }\n",
       "</style>\n",
       "<table border=\"1\" class=\"dataframe\">\n",
       "  <thead>\n",
       "    <tr style=\"text-align: right;\">\n",
       "      <th></th>\n",
       "      <th>na_sales</th>\n",
       "    </tr>\n",
       "    <tr>\n",
       "      <th>platform</th>\n",
       "      <th></th>\n",
       "    </tr>\n",
       "  </thead>\n",
       "  <tbody>\n",
       "    <tr>\n",
       "      <th>XOne</th>\n",
       "      <td>0.356447</td>\n",
       "    </tr>\n",
       "    <tr>\n",
       "      <th>WiiU</th>\n",
       "      <td>0.265205</td>\n",
       "    </tr>\n",
       "    <tr>\n",
       "      <th>PS4</th>\n",
       "      <td>0.262261</td>\n",
       "    </tr>\n",
       "    <tr>\n",
       "      <th>X360</th>\n",
       "      <td>0.254955</td>\n",
       "    </tr>\n",
       "    <tr>\n",
       "      <th>Wii</th>\n",
       "      <td>0.189091</td>\n",
       "    </tr>\n",
       "    <tr>\n",
       "      <th>3DS</th>\n",
       "      <td>0.106792</td>\n",
       "    </tr>\n",
       "    <tr>\n",
       "      <th>PS3</th>\n",
       "      <td>0.100685</td>\n",
       "    </tr>\n",
       "    <tr>\n",
       "      <th>PC</th>\n",
       "      <td>0.047881</td>\n",
       "    </tr>\n",
       "    <tr>\n",
       "      <th>PSV</th>\n",
       "      <td>0.008542</td>\n",
       "    </tr>\n",
       "    <tr>\n",
       "      <th>PSP</th>\n",
       "      <td>0.000000</td>\n",
       "    </tr>\n",
       "  </tbody>\n",
       "</table>\n",
       "</div>"
      ],
      "text/plain": [
       "          na_sales\n",
       "platform          \n",
       "XOne      0.356447\n",
       "WiiU      0.265205\n",
       "PS4       0.262261\n",
       "X360      0.254955\n",
       "Wii       0.189091\n",
       "3DS       0.106792\n",
       "PS3       0.100685\n",
       "PC        0.047881\n",
       "PSV       0.008542\n",
       "PSP       0.000000"
      ]
     },
     "metadata": {},
     "output_type": "display_data"
    }
   ],
   "source": [
    "df_genre2_na = new.pivot_table(index = ['platform'], values = ['na_sales'], aggfunc = 'mean')\n",
    "display(df_genre2_na.sort_values(by='na_sales', ascending = False))"
   ]
  },
  {
   "cell_type": "code",
   "execution_count": 46,
   "metadata": {},
   "outputs": [
    {
     "data": {
      "text/html": [
       "<div>\n",
       "<style scoped>\n",
       "    .dataframe tbody tr th:only-of-type {\n",
       "        vertical-align: middle;\n",
       "    }\n",
       "\n",
       "    .dataframe tbody tr th {\n",
       "        vertical-align: top;\n",
       "    }\n",
       "\n",
       "    .dataframe thead th {\n",
       "        text-align: right;\n",
       "    }\n",
       "</style>\n",
       "<table border=\"1\" class=\"dataframe\">\n",
       "  <thead>\n",
       "    <tr style=\"text-align: right;\">\n",
       "      <th></th>\n",
       "      <th>eu_sales</th>\n",
       "    </tr>\n",
       "    <tr>\n",
       "      <th>platform</th>\n",
       "      <th></th>\n",
       "    </tr>\n",
       "  </thead>\n",
       "  <tbody>\n",
       "    <tr>\n",
       "      <th>PS4</th>\n",
       "      <td>0.345851</td>\n",
       "    </tr>\n",
       "    <tr>\n",
       "      <th>Wii</th>\n",
       "      <td>0.235455</td>\n",
       "    </tr>\n",
       "    <tr>\n",
       "      <th>XOne</th>\n",
       "      <td>0.202851</td>\n",
       "    </tr>\n",
       "    <tr>\n",
       "      <th>WiiU</th>\n",
       "      <td>0.180137</td>\n",
       "    </tr>\n",
       "    <tr>\n",
       "      <th>X360</th>\n",
       "      <td>0.139550</td>\n",
       "    </tr>\n",
       "    <tr>\n",
       "      <th>PC</th>\n",
       "      <td>0.119007</td>\n",
       "    </tr>\n",
       "    <tr>\n",
       "      <th>PS3</th>\n",
       "      <td>0.116621</td>\n",
       "    </tr>\n",
       "    <tr>\n",
       "      <th>3DS</th>\n",
       "      <td>0.076038</td>\n",
       "    </tr>\n",
       "    <tr>\n",
       "      <th>PSV</th>\n",
       "      <td>0.011966</td>\n",
       "    </tr>\n",
       "    <tr>\n",
       "      <th>PSP</th>\n",
       "      <td>0.000000</td>\n",
       "    </tr>\n",
       "  </tbody>\n",
       "</table>\n",
       "</div>"
      ],
      "text/plain": [
       "          eu_sales\n",
       "platform          \n",
       "PS4       0.345851\n",
       "Wii       0.235455\n",
       "XOne      0.202851\n",
       "WiiU      0.180137\n",
       "X360      0.139550\n",
       "PC        0.119007\n",
       "PS3       0.116621\n",
       "3DS       0.076038\n",
       "PSV       0.011966\n",
       "PSP       0.000000"
      ]
     },
     "metadata": {},
     "output_type": "display_data"
    }
   ],
   "source": [
    "df_genre2_eu = new.pivot_table(index = ['platform'], values = ['eu_sales'], aggfunc = 'mean')\n",
    "display(df_genre2_eu.sort_values(by='eu_sales', ascending = False))\n"
   ]
  },
  {
   "cell_type": "code",
   "execution_count": 47,
   "metadata": {
    "scrolled": true
   },
   "outputs": [
    {
     "data": {
      "text/html": [
       "<div>\n",
       "<style scoped>\n",
       "    .dataframe tbody tr th:only-of-type {\n",
       "        vertical-align: middle;\n",
       "    }\n",
       "\n",
       "    .dataframe tbody tr th {\n",
       "        vertical-align: top;\n",
       "    }\n",
       "\n",
       "    .dataframe thead th {\n",
       "        text-align: right;\n",
       "    }\n",
       "</style>\n",
       "<table border=\"1\" class=\"dataframe\">\n",
       "  <thead>\n",
       "    <tr style=\"text-align: right;\">\n",
       "      <th></th>\n",
       "      <th>jp_sales</th>\n",
       "    </tr>\n",
       "    <tr>\n",
       "      <th>platform</th>\n",
       "      <th></th>\n",
       "    </tr>\n",
       "  </thead>\n",
       "  <tbody>\n",
       "    <tr>\n",
       "      <th>3DS</th>\n",
       "      <td>0.208679</td>\n",
       "    </tr>\n",
       "    <tr>\n",
       "      <th>WiiU</th>\n",
       "      <td>0.100137</td>\n",
       "    </tr>\n",
       "    <tr>\n",
       "      <th>PS3</th>\n",
       "      <td>0.051233</td>\n",
       "    </tr>\n",
       "    <tr>\n",
       "      <th>PSV</th>\n",
       "      <td>0.049288</td>\n",
       "    </tr>\n",
       "    <tr>\n",
       "      <th>PS4</th>\n",
       "      <td>0.039947</td>\n",
       "    </tr>\n",
       "    <tr>\n",
       "      <th>PSP</th>\n",
       "      <td>0.027692</td>\n",
       "    </tr>\n",
       "    <tr>\n",
       "      <th>XOne</th>\n",
       "      <td>0.001404</td>\n",
       "    </tr>\n",
       "    <tr>\n",
       "      <th>X360</th>\n",
       "      <td>0.000721</td>\n",
       "    </tr>\n",
       "    <tr>\n",
       "      <th>PC</th>\n",
       "      <td>0.000000</td>\n",
       "    </tr>\n",
       "    <tr>\n",
       "      <th>Wii</th>\n",
       "      <td>0.000000</td>\n",
       "    </tr>\n",
       "  </tbody>\n",
       "</table>\n",
       "</div>"
      ],
      "text/plain": [
       "          jp_sales\n",
       "platform          \n",
       "3DS       0.208679\n",
       "WiiU      0.100137\n",
       "PS3       0.051233\n",
       "PSV       0.049288\n",
       "PS4       0.039947\n",
       "PSP       0.027692\n",
       "XOne      0.001404\n",
       "X360      0.000721\n",
       "PC        0.000000\n",
       "Wii       0.000000"
      ]
     },
     "metadata": {},
     "output_type": "display_data"
    }
   ],
   "source": [
    "df_genre2_jp = new.pivot_table(index = ['platform'], values = ['jp_sales'], aggfunc = 'mean')\n",
    "display(df_genre2_jp.sort_values(by='jp_sales', ascending = False))"
   ]
  },
  {
   "cell_type": "code",
   "execution_count": 48,
   "metadata": {},
   "outputs": [
    {
     "data": {
      "text/plain": [
       "Text(0.5, 1.0, 'Доля платформ на рынке Северной Америки')"
      ]
     },
     "execution_count": 48,
     "metadata": {},
     "output_type": "execute_result"
    },
    {
     "data": {
      "image/png": "[encoded data removed]",
      "text/plain": [
       "<Figure size 1080x504 with 1 Axes>"
      ]
     },
     "metadata": {},
     "output_type": "display_data"
    }
   ],
   "source": [
    "#new.pivot_table(index = 'platform', values = ['na_sales', 'eu_sales', 'jp_sales'], aggfunc = 'sum').plot(kind= 'pie', subplots = True, figsize = (15,7))\n",
    "#plt.title('Доля платформ на разных рынках')\n",
    "top_na = ['PS4', 'WiiU', 'XOne', 'Wii', 'X360']\n",
    "top_platform_na = new.query('platform in @top_na')\n",
    "top_platform_na.pivot_table(index = 'platform', values = ['na_sales'], aggfunc = 'sum').plot(kind= 'pie',subplots = True, figsize = (15,7))\n",
    "plt.title('Доля платформ на рынке Северной Америки')"
   ]
  },
  {
   "cell_type": "code",
   "execution_count": 49,
   "metadata": {},
   "outputs": [
    {
     "data": {
      "text/plain": [
       "Text(0.5, 1.0, 'Доля платформ на Европейском рынке')"
      ]
     },
     "execution_count": 49,
     "metadata": {},
     "output_type": "execute_result"
    },
    {
     "data": {
      "image/png": "[encoded data removed]",
      "text/plain": [
       "<Figure size 1080x504 with 1 Axes>"
      ]
     },
     "metadata": {},
     "output_type": "display_data"
    }
   ],
   "source": [
    "top_eu = ['PS4', 'WiiU', 'XOne', 'Wii', 'X360']\n",
    "top_platform_eu = new.query('platform in @top_eu')\n",
    "top_platform_eu.pivot_table(index = 'platform', values = ['eu_sales'], aggfunc = 'sum').plot(kind= 'pie',subplots = True, figsize = (15,7))\n",
    "plt.title('Доля платформ на Европейском рынке')\n"
   ]
  },
  {
   "cell_type": "code",
   "execution_count": 50,
   "metadata": {},
   "outputs": [
    {
     "data": {
      "text/plain": [
       "Text(0.5, 1.0, 'Доля платформ на Европейском рынке')"
      ]
     },
     "execution_count": 50,
     "metadata": {},
     "output_type": "execute_result"
    },
    {
     "data": {
      "image/png": "[encoded data removed]",
      "text/plain": [
       "<Figure size 1080x504 with 1 Axes>"
      ]
     },
     "metadata": {},
     "output_type": "display_data"
    }
   ],
   "source": [
    "top_jp = ['PS4', 'WiiU', '3DS', 'PS3', 'PSV']\n",
    "top_platform_jp = new.query('platform in @top_jp')\n",
    "top_platform_jp.pivot_table(index = 'platform', values = ['jp_sales'], aggfunc = 'sum').plot(kind= 'pie',subplots = True, figsize = (15,7))\n",
    "plt.title('Доля платформ на Европейском рынке')\n"
   ]
  },
  {
   "cell_type": "markdown",
   "metadata": {},
   "source": [
    "В Северной америке более популярен Xbox и PS4 идут вровень, когда как Европейцы предпочитают ПСку. Японцы отличились и здесь, у них входу 3DS"
   ]
  },
  {
   "cell_type": "code",
   "execution_count": 51,
   "metadata": {},
   "outputs": [
    {
     "data": {
      "text/html": [
       "<div>\n",
       "<style scoped>\n",
       "    .dataframe tbody tr th:only-of-type {\n",
       "        vertical-align: middle;\n",
       "    }\n",
       "\n",
       "    .dataframe tbody tr th {\n",
       "        vertical-align: top;\n",
       "    }\n",
       "\n",
       "    .dataframe thead th {\n",
       "        text-align: right;\n",
       "    }\n",
       "</style>\n",
       "<table border=\"1\" class=\"dataframe\">\n",
       "  <thead>\n",
       "    <tr style=\"text-align: right;\">\n",
       "      <th></th>\n",
       "      <th>na_sales</th>\n",
       "    </tr>\n",
       "    <tr>\n",
       "      <th>genre</th>\n",
       "      <th></th>\n",
       "    </tr>\n",
       "  </thead>\n",
       "  <tbody>\n",
       "    <tr>\n",
       "      <th>Shooter</th>\n",
       "      <td>0.617344</td>\n",
       "    </tr>\n",
       "    <tr>\n",
       "      <th>Sports</th>\n",
       "      <td>0.286522</td>\n",
       "    </tr>\n",
       "    <tr>\n",
       "      <th>Fighting</th>\n",
       "      <td>0.207167</td>\n",
       "    </tr>\n",
       "    <tr>\n",
       "      <th>Platform</th>\n",
       "      <td>0.178684</td>\n",
       "    </tr>\n",
       "    <tr>\n",
       "      <th>Role-Playing</th>\n",
       "      <td>0.151448</td>\n",
       "    </tr>\n",
       "    <tr>\n",
       "      <th>Misc</th>\n",
       "      <td>0.133186</td>\n",
       "    </tr>\n",
       "    <tr>\n",
       "      <th>Racing</th>\n",
       "      <td>0.126667</td>\n",
       "    </tr>\n",
       "    <tr>\n",
       "      <th>Action</th>\n",
       "      <td>0.117173</td>\n",
       "    </tr>\n",
       "    <tr>\n",
       "      <th>Simulation</th>\n",
       "      <td>0.059773</td>\n",
       "    </tr>\n",
       "    <tr>\n",
       "      <th>Puzzle</th>\n",
       "      <td>0.046429</td>\n",
       "    </tr>\n",
       "    <tr>\n",
       "      <th>Adventure</th>\n",
       "      <td>0.030486</td>\n",
       "    </tr>\n",
       "    <tr>\n",
       "      <th>Strategy</th>\n",
       "      <td>0.026486</td>\n",
       "    </tr>\n",
       "  </tbody>\n",
       "</table>\n",
       "</div>"
      ],
      "text/plain": [
       "              na_sales\n",
       "genre                 \n",
       "Shooter       0.617344\n",
       "Sports        0.286522\n",
       "Fighting      0.207167\n",
       "Platform      0.178684\n",
       "Role-Playing  0.151448\n",
       "Misc          0.133186\n",
       "Racing        0.126667\n",
       "Action        0.117173\n",
       "Simulation    0.059773\n",
       "Puzzle        0.046429\n",
       "Adventure     0.030486\n",
       "Strategy      0.026486"
      ]
     },
     "metadata": {},
     "output_type": "display_data"
    }
   ],
   "source": [
    "df_genre2_na = new.pivot_table(index = ['genre'], values = ['na_sales'], aggfunc = 'mean')\n",
    "display(df_genre2_na.sort_values(by='na_sales', ascending = False))"
   ]
  },
  {
   "cell_type": "code",
   "execution_count": 52,
   "metadata": {},
   "outputs": [
    {
     "data": {
      "text/html": [
       "<div>\n",
       "<style scoped>\n",
       "    .dataframe tbody tr th:only-of-type {\n",
       "        vertical-align: middle;\n",
       "    }\n",
       "\n",
       "    .dataframe tbody tr th {\n",
       "        vertical-align: top;\n",
       "    }\n",
       "\n",
       "    .dataframe thead th {\n",
       "        text-align: right;\n",
       "    }\n",
       "</style>\n",
       "<table border=\"1\" class=\"dataframe\">\n",
       "  <thead>\n",
       "    <tr style=\"text-align: right;\">\n",
       "      <th></th>\n",
       "      <th>eu_sales</th>\n",
       "    </tr>\n",
       "    <tr>\n",
       "      <th>genre</th>\n",
       "      <th></th>\n",
       "    </tr>\n",
       "  </thead>\n",
       "  <tbody>\n",
       "    <tr>\n",
       "      <th>Shooter</th>\n",
       "      <td>0.511875</td>\n",
       "    </tr>\n",
       "    <tr>\n",
       "      <th>Sports</th>\n",
       "      <td>0.284037</td>\n",
       "    </tr>\n",
       "    <tr>\n",
       "      <th>Racing</th>\n",
       "      <td>0.204783</td>\n",
       "    </tr>\n",
       "    <tr>\n",
       "      <th>Platform</th>\n",
       "      <td>0.178947</td>\n",
       "    </tr>\n",
       "    <tr>\n",
       "      <th>Simulation</th>\n",
       "      <td>0.165909</td>\n",
       "    </tr>\n",
       "    <tr>\n",
       "      <th>Role-Playing</th>\n",
       "      <td>0.127466</td>\n",
       "    </tr>\n",
       "    <tr>\n",
       "      <th>Action</th>\n",
       "      <td>0.120646</td>\n",
       "    </tr>\n",
       "    <tr>\n",
       "      <th>Misc</th>\n",
       "      <td>0.113805</td>\n",
       "    </tr>\n",
       "    <tr>\n",
       "      <th>Fighting</th>\n",
       "      <td>0.111500</td>\n",
       "    </tr>\n",
       "    <tr>\n",
       "      <th>Strategy</th>\n",
       "      <td>0.048378</td>\n",
       "    </tr>\n",
       "    <tr>\n",
       "      <th>Puzzle</th>\n",
       "      <td>0.037143</td>\n",
       "    </tr>\n",
       "    <tr>\n",
       "      <th>Adventure</th>\n",
       "      <td>0.035081</td>\n",
       "    </tr>\n",
       "  </tbody>\n",
       "</table>\n",
       "</div>"
      ],
      "text/plain": [
       "              eu_sales\n",
       "genre                 \n",
       "Shooter       0.511875\n",
       "Sports        0.284037\n",
       "Racing        0.204783\n",
       "Platform      0.178947\n",
       "Simulation    0.165909\n",
       "Role-Playing  0.127466\n",
       "Action        0.120646\n",
       "Misc          0.113805\n",
       "Fighting      0.111500\n",
       "Strategy      0.048378\n",
       "Puzzle        0.037143\n",
       "Adventure     0.035081"
      ]
     },
     "metadata": {},
     "output_type": "display_data"
    }
   ],
   "source": [
    "df_genre2_eu = new.pivot_table(index = ['genre'], values = ['eu_sales'], aggfunc = 'mean')\n",
    "display(df_genre2_eu.sort_values(by='eu_sales', ascending = False))\n"
   ]
  },
  {
   "cell_type": "code",
   "execution_count": 53,
   "metadata": {
    "scrolled": true
   },
   "outputs": [
    {
     "data": {
      "text/html": [
       "<div>\n",
       "<style scoped>\n",
       "    .dataframe tbody tr th:only-of-type {\n",
       "        vertical-align: middle;\n",
       "    }\n",
       "\n",
       "    .dataframe tbody tr th {\n",
       "        vertical-align: top;\n",
       "    }\n",
       "\n",
       "    .dataframe thead th {\n",
       "        text-align: right;\n",
       "    }\n",
       "</style>\n",
       "<table border=\"1\" class=\"dataframe\">\n",
       "  <thead>\n",
       "    <tr style=\"text-align: right;\">\n",
       "      <th></th>\n",
       "      <th>jp_sales</th>\n",
       "    </tr>\n",
       "    <tr>\n",
       "      <th>genre</th>\n",
       "      <th></th>\n",
       "    </tr>\n",
       "  </thead>\n",
       "  <tbody>\n",
       "    <tr>\n",
       "      <th>Role-Playing</th>\n",
       "      <td>0.140995</td>\n",
       "    </tr>\n",
       "    <tr>\n",
       "      <th>Fighting</th>\n",
       "      <td>0.106167</td>\n",
       "    </tr>\n",
       "    <tr>\n",
       "      <th>Platform</th>\n",
       "      <td>0.070789</td>\n",
       "    </tr>\n",
       "    <tr>\n",
       "      <th>Puzzle</th>\n",
       "      <td>0.066429</td>\n",
       "    </tr>\n",
       "    <tr>\n",
       "      <th>Simulation</th>\n",
       "      <td>0.052500</td>\n",
       "    </tr>\n",
       "    <tr>\n",
       "      <th>Misc</th>\n",
       "      <td>0.049646</td>\n",
       "    </tr>\n",
       "    <tr>\n",
       "      <th>Action</th>\n",
       "      <td>0.047787</td>\n",
       "    </tr>\n",
       "    <tr>\n",
       "      <th>Shooter</th>\n",
       "      <td>0.038047</td>\n",
       "    </tr>\n",
       "    <tr>\n",
       "      <th>Strategy</th>\n",
       "      <td>0.025676</td>\n",
       "    </tr>\n",
       "    <tr>\n",
       "      <th>Racing</th>\n",
       "      <td>0.025507</td>\n",
       "    </tr>\n",
       "    <tr>\n",
       "      <th>Sports</th>\n",
       "      <td>0.020248</td>\n",
       "    </tr>\n",
       "    <tr>\n",
       "      <th>Adventure</th>\n",
       "      <td>0.019459</td>\n",
       "    </tr>\n",
       "  </tbody>\n",
       "</table>\n",
       "</div>"
      ],
      "text/plain": [
       "              jp_sales\n",
       "genre                 \n",
       "Role-Playing  0.140995\n",
       "Fighting      0.106167\n",
       "Platform      0.070789\n",
       "Puzzle        0.066429\n",
       "Simulation    0.052500\n",
       "Misc          0.049646\n",
       "Action        0.047787\n",
       "Shooter       0.038047\n",
       "Strategy      0.025676\n",
       "Racing        0.025507\n",
       "Sports        0.020248\n",
       "Adventure     0.019459"
      ]
     },
     "metadata": {},
     "output_type": "display_data"
    }
   ],
   "source": [
    "df_genre2_jp = new.pivot_table(index = ['genre'], values = ['jp_sales'], aggfunc = 'mean')\n",
    "display(df_genre2_jp.sort_values(by='jp_sales', ascending = False))"
   ]
  },
  {
   "cell_type": "code",
   "execution_count": 54,
   "metadata": {},
   "outputs": [
    {
     "data": {
      "text/plain": [
       "Text(0.5, 1.0, 'Доля в топ-5 жанров в Северной америке')"
      ]
     },
     "execution_count": 54,
     "metadata": {},
     "output_type": "execute_result"
    },
    {
     "data": {
      "image/png": "[encoded data removed]",
      "text/plain": [
       "<Figure size 1080x504 with 1 Axes>"
      ]
     },
     "metadata": {},
     "output_type": "display_data"
    }
   ],
   "source": [
    "top_na2 = ['Shooter', 'Sports', 'Platform', 'Fighting', 'Role-Playing']\n",
    "top_genre_na = new.query('genre in @top_na2')\n",
    "top_genre_na.pivot_table(index = 'genre', values = ['na_sales'], aggfunc = 'sum').plot(kind= 'pie', subplots = True, figsize = (15,7))\n",
    "plt.title('Доля в топ-5 жанров в Северной америке')"
   ]
  },
  {
   "cell_type": "code",
   "execution_count": 55,
   "metadata": {},
   "outputs": [
    {
     "data": {
      "text/plain": [
       "Text(0.5, 1.0, 'Доля в топ-5 жанров в Европе')"
      ]
     },
     "execution_count": 55,
     "metadata": {},
     "output_type": "execute_result"
    },
    {
     "data": {
      "image/png": "[encoded data removed]",
      "text/plain": [
       "<Figure size 1080x504 with 1 Axes>"
      ]
     },
     "metadata": {},
     "output_type": "display_data"
    }
   ],
   "source": [
    "top_eu2 = ['Shooter', 'Sports', 'Platform', 'Racing', 'Simulation']\n",
    "top_genre_eu = new.query('genre in @top_eu2')\n",
    "top_genre_eu.pivot_table(index = 'genre', values = ['eu_sales'], aggfunc = 'sum').plot(kind= 'pie', subplots = True, figsize = (15,7))\n",
    "plt.title('Доля в топ-5 жанров в Европе')\n"
   ]
  },
  {
   "cell_type": "code",
   "execution_count": 56,
   "metadata": {},
   "outputs": [
    {
     "data": {
      "text/plain": [
       "Text(0.5, 1.0, 'Доля в топ-5 жанров в Японии')"
      ]
     },
     "execution_count": 56,
     "metadata": {},
     "output_type": "execute_result"
    },
    {
     "data": {
      "image/png": "[encoded data removed]",
      "text/plain": [
       "<Figure size 1080x504 with 1 Axes>"
      ]
     },
     "metadata": {},
     "output_type": "display_data"
    }
   ],
   "source": [
    "top_jp2 = ['Simulation', 'Puzzle', 'Platform', 'Fighting', 'Role-Playing']\n",
    "top_genre_jp = new.query('genre in @top_jp2')\n",
    "top_genre_jp.pivot_table(index = 'genre', values = ['jp_sales'], aggfunc = 'sum').plot(kind= 'pie', subplots = True, figsize = (15,7))\n",
    "plt.title('Доля в топ-5 жанров в Японии')"
   ]
  },
  {
   "cell_type": "markdown",
   "metadata": {},
   "source": [
    "Больше всего бросается в глаза любовь Японцев к ролевым играм, и почти полное игнорирование стрелялок и спорта. Вкусы жителей Европы и Северной Америки весьма похожи - они любят шутеры и спорт"
   ]
  },
  {
   "cell_type": "code",
   "execution_count": 57,
   "metadata": {
    "scrolled": false
   },
   "outputs": [
    {
     "data": {
      "text/html": [
       "<div>\n",
       "<style scoped>\n",
       "    .dataframe tbody tr th:only-of-type {\n",
       "        vertical-align: middle;\n",
       "    }\n",
       "\n",
       "    .dataframe tbody tr th {\n",
       "        vertical-align: top;\n",
       "    }\n",
       "\n",
       "    .dataframe thead th {\n",
       "        text-align: right;\n",
       "    }\n",
       "</style>\n",
       "<table border=\"1\" class=\"dataframe\">\n",
       "  <thead>\n",
       "    <tr style=\"text-align: right;\">\n",
       "      <th></th>\n",
       "      <th>na_sales</th>\n",
       "    </tr>\n",
       "    <tr>\n",
       "      <th>rating</th>\n",
       "      <th></th>\n",
       "    </tr>\n",
       "  </thead>\n",
       "  <tbody>\n",
       "    <tr>\n",
       "      <th>M</th>\n",
       "      <td>96.42</td>\n",
       "    </tr>\n",
       "    <tr>\n",
       "      <th>-99</th>\n",
       "      <td>64.72</td>\n",
       "    </tr>\n",
       "    <tr>\n",
       "      <th>E</th>\n",
       "      <td>50.74</td>\n",
       "    </tr>\n",
       "    <tr>\n",
       "      <th>T</th>\n",
       "      <td>38.95</td>\n",
       "    </tr>\n",
       "    <tr>\n",
       "      <th>E10+</th>\n",
       "      <td>33.23</td>\n",
       "    </tr>\n",
       "  </tbody>\n",
       "</table>\n",
       "</div>"
      ],
      "text/plain": [
       "        na_sales\n",
       "rating          \n",
       "M          96.42\n",
       "-99        64.72\n",
       "E          50.74\n",
       "T          38.95\n",
       "E10+       33.23"
      ]
     },
     "metadata": {},
     "output_type": "display_data"
    },
    {
     "data": {
      "text/plain": [
       "Text(0.5, 1.0, 'Доля рейтинга ESRB в Северной Америке')"
      ]
     },
     "execution_count": 57,
     "metadata": {},
     "output_type": "execute_result"
    },
    {
     "data": {
      "image/png": "[encoded data removed]",
      "text/plain": [
       "<Figure size 432x288 with 1 Axes>"
      ]
     },
     "metadata": {},
     "output_type": "display_data"
    }
   ],
   "source": [
    "df_rating_na = new.pivot_table(index = ['rating'], values = ['na_sales'], aggfunc = 'sum')\n",
    "display(df_rating_na.sort_values(by='na_sales', ascending = False))\n",
    "df_rating_na.plot.pie(y='na_sales')\n",
    "plt.title('Доля рейтинга ESRB в Северной Америке')"
   ]
  },
  {
   "cell_type": "code",
   "execution_count": 58,
   "metadata": {},
   "outputs": [
    {
     "data": {
      "text/html": [
       "<div>\n",
       "<style scoped>\n",
       "    .dataframe tbody tr th:only-of-type {\n",
       "        vertical-align: middle;\n",
       "    }\n",
       "\n",
       "    .dataframe tbody tr th {\n",
       "        vertical-align: top;\n",
       "    }\n",
       "\n",
       "    .dataframe thead th {\n",
       "        text-align: right;\n",
       "    }\n",
       "</style>\n",
       "<table border=\"1\" class=\"dataframe\">\n",
       "  <thead>\n",
       "    <tr style=\"text-align: right;\">\n",
       "      <th></th>\n",
       "      <th>eu_sales</th>\n",
       "    </tr>\n",
       "    <tr>\n",
       "      <th>rating</th>\n",
       "      <th></th>\n",
       "    </tr>\n",
       "  </thead>\n",
       "  <tbody>\n",
       "    <tr>\n",
       "      <th>M</th>\n",
       "      <td>93.44</td>\n",
       "    </tr>\n",
       "    <tr>\n",
       "      <th>-99</th>\n",
       "      <td>58.95</td>\n",
       "    </tr>\n",
       "    <tr>\n",
       "      <th>E</th>\n",
       "      <td>58.06</td>\n",
       "    </tr>\n",
       "    <tr>\n",
       "      <th>T</th>\n",
       "      <td>34.07</td>\n",
       "    </tr>\n",
       "    <tr>\n",
       "      <th>E10+</th>\n",
       "      <td>26.16</td>\n",
       "    </tr>\n",
       "  </tbody>\n",
       "</table>\n",
       "</div>"
      ],
      "text/plain": [
       "        eu_sales\n",
       "rating          \n",
       "M          93.44\n",
       "-99        58.95\n",
       "E          58.06\n",
       "T          34.07\n",
       "E10+       26.16"
      ]
     },
     "metadata": {},
     "output_type": "display_data"
    },
    {
     "data": {
      "text/plain": [
       "Text(0.5, 1.0, 'Доля рейтинга ESRB в Европе')"
      ]
     },
     "execution_count": 58,
     "metadata": {},
     "output_type": "execute_result"
    },
    {
     "data": {
      "image/png": "[encoded data removed]",
      "text/plain": [
       "<Figure size 432x288 with 1 Axes>"
      ]
     },
     "metadata": {},
     "output_type": "display_data"
    }
   ],
   "source": [
    "df_rating_eu = new.pivot_table(index = ['rating'], values = ['eu_sales'], aggfunc = 'sum')\n",
    "display(df_rating_eu.sort_values(by='eu_sales', ascending = False))\n",
    "df_rating_eu.plot.pie(y='eu_sales')\n",
    "plt.title('Доля рейтинга ESRB в Европе')"
   ]
  },
  {
   "cell_type": "code",
   "execution_count": 59,
   "metadata": {},
   "outputs": [
    {
     "data": {
      "text/html": [
       "<div>\n",
       "<style scoped>\n",
       "    .dataframe tbody tr th:only-of-type {\n",
       "        vertical-align: middle;\n",
       "    }\n",
       "\n",
       "    .dataframe tbody tr th {\n",
       "        vertical-align: top;\n",
       "    }\n",
       "\n",
       "    .dataframe thead th {\n",
       "        text-align: right;\n",
       "    }\n",
       "</style>\n",
       "<table border=\"1\" class=\"dataframe\">\n",
       "  <thead>\n",
       "    <tr style=\"text-align: right;\">\n",
       "      <th></th>\n",
       "      <th>jp_sales</th>\n",
       "    </tr>\n",
       "    <tr>\n",
       "      <th>rating</th>\n",
       "      <th></th>\n",
       "    </tr>\n",
       "  </thead>\n",
       "  <tbody>\n",
       "    <tr>\n",
       "      <th>-99</th>\n",
       "      <td>56.90</td>\n",
       "    </tr>\n",
       "    <tr>\n",
       "      <th>T</th>\n",
       "      <td>14.78</td>\n",
       "    </tr>\n",
       "    <tr>\n",
       "      <th>E</th>\n",
       "      <td>8.94</td>\n",
       "    </tr>\n",
       "    <tr>\n",
       "      <th>M</th>\n",
       "      <td>8.01</td>\n",
       "    </tr>\n",
       "    <tr>\n",
       "      <th>E10+</th>\n",
       "      <td>4.46</td>\n",
       "    </tr>\n",
       "  </tbody>\n",
       "</table>\n",
       "</div>"
      ],
      "text/plain": [
       "        jp_sales\n",
       "rating          \n",
       "-99        56.90\n",
       "T          14.78\n",
       "E           8.94\n",
       "M           8.01\n",
       "E10+        4.46"
      ]
     },
     "metadata": {},
     "output_type": "display_data"
    },
    {
     "data": {
      "text/plain": [
       "Text(0.5, 1.0, 'Доля рейтинга ESRB в Японии')"
      ]
     },
     "execution_count": 59,
     "metadata": {},
     "output_type": "execute_result"
    },
    {
     "data": {
      "image/png": "[encoded data removed]",
      "text/plain": [
       "<Figure size 432x288 with 1 Axes>"
      ]
     },
     "metadata": {},
     "output_type": "display_data"
    }
   ],
   "source": [
    "df_rating_jp = new.pivot_table(index = ['rating'], values = ['jp_sales'], aggfunc = 'sum')\n",
    "display(df_rating_jp.sort_values(by='jp_sales', ascending = False))\n",
    "df_rating_jp.plot.pie(y='jp_sales')\n",
    "plt.title('Доля рейтинга ESRB в Японии')"
   ]
  },
  {
   "cell_type": "markdown",
   "metadata": {},
   "source": [
    "### Вывод:\n",
    "Лучше всего продаются обычные игры для зрелых людей. В Северной Америке и Европе 75% игр получают рейтинг и влияют на продажи игр. В Японии же примерно 60% игр не имеют оценки, соответственно для этого региона рейтинг ESRB не имеет значения"
   ]
  },
  {
   "cell_type": "markdown",
   "metadata": {},
   "source": [
    "## Проверим гипотезы"
   ]
  },
  {
   "cell_type": "markdown",
   "metadata": {},
   "source": [
    "### Нулевая гипотеза: Средние пользовательские рейтинги платформ Xbox One и PC одинаковые\n",
    "### Альтернативая гипотеза Средние пользовательские рейтинги платформ Xbox One и PC различаются"
   ]
  },
  {
   "cell_type": "code",
   "execution_count": 60,
   "metadata": {},
   "outputs": [
    {
     "name": "stdout",
     "output_type": "stream",
     "text": [
      "Не получилось отвергнуть нулевую гипотезу\n"
     ]
    }
   ],
   "source": [
    "\n",
    "#user_XOne = new.query('user_score > 0 and platform == \"XOne\"')\n",
    "user_PC = new.query('user_score > 0 and platform == \"PC\"')\n",
    "alpha = 0.05\n",
    "results = st.ttest_ind(user_XOne['user_score'], user_PC['user_score'])\n",
    "if results.pvalue < alpha:\n",
    "    print(\"Отвергаем нулевую гипотезу\")\n",
    "else:\n",
    "    print(\"Не получилось отвергнуть нулевую гипотезу\")"
   ]
  },
  {
   "cell_type": "markdown",
   "metadata": {},
   "source": [
    "### Нулевая гепотеза: Средние пользовательские рейтинги жанров Action и Sports равны\n",
    "### Альтернативная гипотеза: Средние пользовательские рейтинги жанров Action и Sports разные"
   ]
  },
  {
   "cell_type": "code",
   "execution_count": 61,
   "metadata": {},
   "outputs": [
    {
     "name": "stdout",
     "output_type": "stream",
     "text": [
      "Отвергаем нулевую гипотезу\n"
     ]
    }
   ],
   "source": [
    "df_action = new.query('user_score > 0 and genre == \"Action\"')\n",
    "df_sports = new.query('user_score > 0 and genre == \"Sports\"')\n",
    "alpha = 0.05\n",
    "results = st.ttest_ind(df_action['user_score'], df_sports['user_score'])\n",
    "if results.pvalue < alpha:\n",
    "    print(\"Отвергаем нулевую гипотезу\")\n",
    "else:\n",
    "    print(\"Не получилось отвергнуть нулевую гипотезу\")"
   ]
  },
  {
   "cell_type": "markdown",
   "metadata": {},
   "source": [
    "### Вывод: с большой долей вероятности средние пользовательские оценки игр на платформах Хбокс и ПК одинаковые. А вот оценки экшен игр и спортивных разнятся\n"
   ]
  },
  {
   "cell_type": "markdown",
   "metadata": {},
   "source": [
    "## Общий вывод: \n",
    "Наш интернет магазин собрал хорошие данные. В результате их анализа удалось установить актуальный период равный 3 годам. В данных за последние 3 года однозначно наблюдается рост платформ XOne и PS4. Рекомендую делать ставку именно на эти платформы. Так же хочу обратить внимание,что важно продвижение игр среди профессиональных критиков. Их оценкам стоит уделить особое внимание.НА рынках Северной Америки и Европы средние продажи шутеров очень сильно превосходят всех конкурентов и упор надо сделать именно на них. Но вот в случае с Японией наш выбор ролевые игры"
   ]
  },
  {
   "cell_type": "code",
   "execution_count": null,
   "metadata": {},
   "outputs": [],
   "source": []
  }
 ],
 "metadata": {
  "ExecuteTimeLog": [
   {
    "duration": 1405,
    "start_time": "2021-11-07T05:00:08.064Z"
   },
   {
    "duration": 84,
    "start_time": "2021-11-07T05:01:10.912Z"
   },
   {
    "duration": 1587,
    "start_time": "2021-11-07T05:57:32.033Z"
   },
   {
    "duration": 1391,
    "start_time": "2021-11-07T05:58:16.740Z"
   },
   {
    "duration": 16,
    "start_time": "2021-11-07T05:59:00.217Z"
   },
   {
    "duration": 379,
    "start_time": "2021-11-07T06:00:57.491Z"
   },
   {
    "duration": 4,
    "start_time": "2021-11-07T06:02:53.231Z"
   },
   {
    "duration": 362,
    "start_time": "2021-11-07T06:16:04.958Z"
   },
   {
    "duration": 1425,
    "start_time": "2021-11-07T06:16:30.877Z"
   },
   {
    "duration": 85,
    "start_time": "2021-11-07T06:16:32.305Z"
   },
   {
    "duration": 5,
    "start_time": "2021-11-07T06:16:32.401Z"
   },
   {
    "duration": 605,
    "start_time": "2021-11-07T06:16:32.410Z"
   },
   {
    "duration": 82,
    "start_time": "2021-11-07T06:16:32.936Z"
   },
   {
    "duration": 381,
    "start_time": "2021-11-07T06:16:48.411Z"
   },
   {
    "duration": 383,
    "start_time": "2021-11-07T06:19:49.578Z"
   },
   {
    "duration": 379,
    "start_time": "2021-11-07T06:20:43.810Z"
   },
   {
    "duration": 367,
    "start_time": "2021-11-07T06:20:51.637Z"
   },
   {
    "duration": 662,
    "start_time": "2021-11-07T06:21:11.290Z"
   },
   {
    "duration": 385,
    "start_time": "2021-11-07T06:23:41.962Z"
   },
   {
    "duration": 371,
    "start_time": "2021-11-07T06:24:26.234Z"
   },
   {
    "duration": 382,
    "start_time": "2021-11-07T06:24:34.715Z"
   },
   {
    "duration": 394,
    "start_time": "2021-11-07T06:25:05.427Z"
   },
   {
    "duration": 455,
    "start_time": "2021-11-07T06:25:26.058Z"
   },
   {
    "duration": 484,
    "start_time": "2021-11-07T06:26:13.206Z"
   },
   {
    "duration": 1524,
    "start_time": "2021-11-07T06:26:28.655Z"
   },
   {
    "duration": 86,
    "start_time": "2021-11-07T06:26:30.182Z"
   },
   {
    "duration": 6,
    "start_time": "2021-11-07T06:26:30.271Z"
   },
   {
    "duration": 7,
    "start_time": "2021-11-07T06:26:30.300Z"
   },
   {
    "duration": 688,
    "start_time": "2021-11-07T06:26:30.310Z"
   },
   {
    "duration": 15,
    "start_time": "2021-11-07T06:26:48.804Z"
   },
   {
    "duration": 3,
    "start_time": "2021-11-07T06:26:54.700Z"
   },
   {
    "duration": 17,
    "start_time": "2021-11-07T06:28:12.216Z"
   },
   {
    "duration": 18,
    "start_time": "2021-11-07T06:28:30.881Z"
   },
   {
    "duration": 16,
    "start_time": "2021-11-07T06:28:41.033Z"
   },
   {
    "duration": 9,
    "start_time": "2021-11-07T06:35:15.090Z"
   },
   {
    "duration": 32,
    "start_time": "2021-11-07T06:36:14.141Z"
   },
   {
    "duration": 13,
    "start_time": "2021-11-07T07:04:08.016Z"
   },
   {
    "duration": 26,
    "start_time": "2021-11-07T07:04:17.275Z"
   },
   {
    "duration": 21,
    "start_time": "2021-11-07T07:04:34.708Z"
   },
   {
    "duration": 516,
    "start_time": "2021-11-07T07:05:30.028Z"
   },
   {
    "duration": 368,
    "start_time": "2021-11-07T07:05:55.604Z"
   },
   {
    "duration": 398,
    "start_time": "2021-11-07T07:06:13.372Z"
   },
   {
    "duration": 370,
    "start_time": "2021-11-07T07:06:18.904Z"
   },
   {
    "duration": 21,
    "start_time": "2021-11-07T07:06:41.480Z"
   },
   {
    "duration": 19,
    "start_time": "2021-11-07T07:07:01.876Z"
   },
   {
    "duration": 1337,
    "start_time": "2021-11-07T07:07:21.440Z"
   },
   {
    "duration": 92,
    "start_time": "2021-11-07T07:07:22.780Z"
   },
   {
    "duration": 6,
    "start_time": "2021-11-07T07:07:22.875Z"
   },
   {
    "duration": 19,
    "start_time": "2021-11-07T07:07:22.902Z"
   },
   {
    "duration": 491,
    "start_time": "2021-11-07T07:07:22.924Z"
   },
   {
    "duration": 19,
    "start_time": "2021-11-07T07:07:56.628Z"
   },
   {
    "duration": 17,
    "start_time": "2021-11-07T07:08:04.860Z"
   },
   {
    "duration": 17,
    "start_time": "2021-11-07T07:08:24.624Z"
   },
   {
    "duration": 19,
    "start_time": "2021-11-07T07:08:53.048Z"
   },
   {
    "duration": 395,
    "start_time": "2021-11-07T07:09:01.472Z"
   },
   {
    "duration": 27,
    "start_time": "2021-11-07T07:09:26.476Z"
   },
   {
    "duration": 28,
    "start_time": "2021-11-07T07:09:41.068Z"
   },
   {
    "duration": 5,
    "start_time": "2021-11-07T07:09:55.333Z"
   },
   {
    "duration": 1407,
    "start_time": "2021-11-07T07:10:07.936Z"
   },
   {
    "duration": 85,
    "start_time": "2021-11-07T07:10:09.346Z"
   },
   {
    "duration": 5,
    "start_time": "2021-11-07T07:10:09.434Z"
   },
   {
    "duration": 34,
    "start_time": "2021-11-07T07:10:09.442Z"
   },
   {
    "duration": 26,
    "start_time": "2021-11-07T07:10:09.478Z"
   },
   {
    "duration": 1470,
    "start_time": "2021-11-07T07:13:02.013Z"
   },
   {
    "duration": 86,
    "start_time": "2021-11-07T07:13:03.486Z"
   },
   {
    "duration": 5,
    "start_time": "2021-11-07T07:13:03.575Z"
   },
   {
    "duration": 557,
    "start_time": "2021-11-07T07:13:03.582Z"
   },
   {
    "duration": 46,
    "start_time": "2021-11-07T07:13:04.096Z"
   },
   {
    "duration": 1473,
    "start_time": "2021-11-07T07:13:13.741Z"
   },
   {
    "duration": 89,
    "start_time": "2021-11-07T07:13:15.217Z"
   },
   {
    "duration": 5,
    "start_time": "2021-11-07T07:13:15.309Z"
   },
   {
    "duration": 33,
    "start_time": "2021-11-07T07:13:15.316Z"
   },
   {
    "duration": 4,
    "start_time": "2021-11-07T07:13:15.352Z"
   },
   {
    "duration": 14,
    "start_time": "2021-11-07T07:13:33.361Z"
   },
   {
    "duration": 33,
    "start_time": "2021-11-07T07:13:57.457Z"
   },
   {
    "duration": 23,
    "start_time": "2021-11-07T07:15:19.082Z"
   },
   {
    "duration": 15,
    "start_time": "2021-11-07T07:16:09.329Z"
   },
   {
    "duration": 124,
    "start_time": "2021-11-07T07:16:51.269Z"
   },
   {
    "duration": 129,
    "start_time": "2021-11-07T07:17:05.755Z"
   },
   {
    "duration": 33,
    "start_time": "2021-11-07T07:17:29.225Z"
   },
   {
    "duration": 39,
    "start_time": "2021-11-07T07:22:42.002Z"
   },
   {
    "duration": 21,
    "start_time": "2021-11-07T07:24:30.618Z"
   },
   {
    "duration": 1337,
    "start_time": "2021-11-07T07:28:36.630Z"
   },
   {
    "duration": 89,
    "start_time": "2021-11-07T07:28:37.970Z"
   },
   {
    "duration": 4,
    "start_time": "2021-11-07T07:28:38.062Z"
   },
   {
    "duration": 44,
    "start_time": "2021-11-07T07:28:38.069Z"
   },
   {
    "duration": 20,
    "start_time": "2021-11-07T07:28:38.115Z"
   },
   {
    "duration": 9,
    "start_time": "2021-11-07T07:28:38.138Z"
   },
   {
    "duration": 1377,
    "start_time": "2021-11-07T07:28:51.050Z"
   },
   {
    "duration": 89,
    "start_time": "2021-11-07T07:28:52.430Z"
   },
   {
    "duration": 5,
    "start_time": "2021-11-07T07:28:52.522Z"
   },
   {
    "duration": 23,
    "start_time": "2021-11-07T07:28:52.530Z"
   },
   {
    "duration": 5,
    "start_time": "2021-11-07T07:28:52.555Z"
   },
   {
    "duration": 56,
    "start_time": "2021-11-07T07:28:52.562Z"
   },
   {
    "duration": 1471,
    "start_time": "2021-11-07T07:29:44.697Z"
   },
   {
    "duration": 86,
    "start_time": "2021-11-07T07:29:46.171Z"
   },
   {
    "duration": 5,
    "start_time": "2021-11-07T07:29:46.259Z"
   },
   {
    "duration": 38,
    "start_time": "2021-11-07T07:29:46.266Z"
   },
   {
    "duration": 509,
    "start_time": "2021-11-07T07:29:46.306Z"
   },
   {
    "duration": -14,
    "start_time": "2021-11-07T07:29:46.831Z"
   },
   {
    "duration": 1325,
    "start_time": "2021-11-07T07:30:08.450Z"
   },
   {
    "duration": 91,
    "start_time": "2021-11-07T07:30:09.778Z"
   },
   {
    "duration": 5,
    "start_time": "2021-11-07T07:30:09.873Z"
   },
   {
    "duration": 38,
    "start_time": "2021-11-07T07:30:09.881Z"
   },
   {
    "duration": 7,
    "start_time": "2021-11-07T07:30:09.922Z"
   },
   {
    "duration": 27,
    "start_time": "2021-11-07T07:30:09.931Z"
   },
   {
    "duration": 1514,
    "start_time": "2021-11-07T07:30:47.171Z"
   },
   {
    "duration": 87,
    "start_time": "2021-11-07T07:30:48.688Z"
   },
   {
    "duration": 5,
    "start_time": "2021-11-07T07:30:48.778Z"
   },
   {
    "duration": 19,
    "start_time": "2021-11-07T07:30:48.801Z"
   },
   {
    "duration": 9,
    "start_time": "2021-11-07T07:30:48.822Z"
   },
   {
    "duration": 27,
    "start_time": "2021-11-07T07:30:48.834Z"
   },
   {
    "duration": 28,
    "start_time": "2021-11-07T07:33:09.020Z"
   },
   {
    "duration": 1126,
    "start_time": "2021-11-07T07:39:48.392Z"
   },
   {
    "duration": 9,
    "start_time": "2021-11-07T07:39:59.285Z"
   },
   {
    "duration": 3,
    "start_time": "2021-11-07T07:40:14.032Z"
   },
   {
    "duration": 11,
    "start_time": "2021-11-07T07:41:07.172Z"
   },
   {
    "duration": 1331,
    "start_time": "2021-11-07T07:41:43.843Z"
   },
   {
    "duration": 89,
    "start_time": "2021-11-07T07:41:45.178Z"
   },
   {
    "duration": 35,
    "start_time": "2021-11-07T07:41:45.270Z"
   },
   {
    "duration": 19,
    "start_time": "2021-11-07T07:41:45.308Z"
   },
   {
    "duration": 10,
    "start_time": "2021-11-07T07:41:45.329Z"
   },
   {
    "duration": 6,
    "start_time": "2021-11-07T07:41:45.341Z"
   },
   {
    "duration": 62,
    "start_time": "2021-11-07T07:41:45.349Z"
   },
   {
    "duration": 23,
    "start_time": "2021-11-07T07:41:45.414Z"
   },
   {
    "duration": 3,
    "start_time": "2021-11-07T07:41:45.439Z"
   },
   {
    "duration": 1375,
    "start_time": "2021-11-07T07:42:25.988Z"
   },
   {
    "duration": 95,
    "start_time": "2021-11-07T07:42:27.366Z"
   },
   {
    "duration": 51,
    "start_time": "2021-11-07T07:42:27.464Z"
   },
   {
    "duration": 17,
    "start_time": "2021-11-07T07:42:27.518Z"
   },
   {
    "duration": 9,
    "start_time": "2021-11-07T07:42:27.538Z"
   },
   {
    "duration": 18,
    "start_time": "2021-11-07T07:42:27.550Z"
   },
   {
    "duration": 47,
    "start_time": "2021-11-07T07:42:27.570Z"
   },
   {
    "duration": 22,
    "start_time": "2021-11-07T07:42:27.620Z"
   },
   {
    "duration": 3,
    "start_time": "2021-11-07T07:42:27.645Z"
   },
   {
    "duration": 1416,
    "start_time": "2021-11-07T07:43:02.267Z"
   },
   {
    "duration": 88,
    "start_time": "2021-11-07T07:43:03.687Z"
   },
   {
    "duration": 48,
    "start_time": "2021-11-07T07:43:03.778Z"
   },
   {
    "duration": 19,
    "start_time": "2021-11-07T07:43:03.828Z"
   },
   {
    "duration": 9,
    "start_time": "2021-11-07T07:43:03.850Z"
   },
   {
    "duration": 40,
    "start_time": "2021-11-07T07:43:03.862Z"
   },
   {
    "duration": 26,
    "start_time": "2021-11-07T07:43:03.904Z"
   },
   {
    "duration": 36,
    "start_time": "2021-11-07T07:43:03.934Z"
   },
   {
    "duration": 28,
    "start_time": "2021-11-07T07:43:03.973Z"
   },
   {
    "duration": 1403,
    "start_time": "2021-11-07T07:44:57.466Z"
   },
   {
    "duration": 86,
    "start_time": "2021-11-07T07:44:58.872Z"
   },
   {
    "duration": 4,
    "start_time": "2021-11-07T07:44:58.961Z"
   },
   {
    "duration": 37,
    "start_time": "2021-11-07T07:44:58.967Z"
   },
   {
    "duration": 9,
    "start_time": "2021-11-07T07:44:59.007Z"
   },
   {
    "duration": 13,
    "start_time": "2021-11-07T07:44:59.018Z"
   },
   {
    "duration": 23,
    "start_time": "2021-11-07T07:44:59.033Z"
   },
   {
    "duration": 65,
    "start_time": "2021-11-07T07:44:59.058Z"
   },
   {
    "duration": 9,
    "start_time": "2021-11-07T07:44:59.125Z"
   },
   {
    "duration": 24,
    "start_time": "2021-11-07T07:44:59.136Z"
   },
   {
    "duration": 20,
    "start_time": "2021-11-07T07:45:52.476Z"
   },
   {
    "duration": 1347,
    "start_time": "2021-11-07T07:46:27.032Z"
   },
   {
    "duration": 85,
    "start_time": "2021-11-07T07:46:28.382Z"
   },
   {
    "duration": 5,
    "start_time": "2021-11-07T07:46:28.470Z"
   },
   {
    "duration": 36,
    "start_time": "2021-11-07T07:46:28.477Z"
   },
   {
    "duration": 9,
    "start_time": "2021-11-07T07:46:28.516Z"
   },
   {
    "duration": 13,
    "start_time": "2021-11-07T07:46:28.528Z"
   },
   {
    "duration": 26,
    "start_time": "2021-11-07T07:46:28.543Z"
   },
   {
    "duration": 32,
    "start_time": "2021-11-07T07:46:28.572Z"
   },
   {
    "duration": 504,
    "start_time": "2021-11-07T07:50:29.032Z"
   },
   {
    "duration": 372,
    "start_time": "2021-11-07T07:51:19.693Z"
   },
   {
    "duration": 22,
    "start_time": "2021-11-07T07:51:30.621Z"
   },
   {
    "duration": 51,
    "start_time": "2021-11-07T08:00:51.262Z"
   },
   {
    "duration": 51,
    "start_time": "2021-11-07T08:01:39.366Z"
   },
   {
    "duration": 51,
    "start_time": "2021-11-07T08:01:52.846Z"
   },
   {
    "duration": 1417,
    "start_time": "2021-11-07T08:02:28.646Z"
   },
   {
    "duration": 89,
    "start_time": "2021-11-07T08:02:30.066Z"
   },
   {
    "duration": 6,
    "start_time": "2021-11-07T08:02:30.158Z"
   },
   {
    "duration": 46,
    "start_time": "2021-11-07T08:02:30.167Z"
   },
   {
    "duration": 20,
    "start_time": "2021-11-07T08:02:30.216Z"
   },
   {
    "duration": 27,
    "start_time": "2021-11-07T08:02:30.239Z"
   },
   {
    "duration": 66,
    "start_time": "2021-11-07T08:02:30.269Z"
   },
   {
    "duration": 10,
    "start_time": "2021-11-07T08:02:30.338Z"
   },
   {
    "duration": 91,
    "start_time": "2021-11-07T08:02:30.351Z"
   },
   {
    "duration": 9,
    "start_time": "2021-11-07T08:08:45.188Z"
   },
   {
    "duration": 11,
    "start_time": "2021-11-07T08:08:58.403Z"
   },
   {
    "duration": 238,
    "start_time": "2021-11-07T08:09:28.607Z"
   },
   {
    "duration": 18,
    "start_time": "2021-11-07T08:11:42.919Z"
   },
   {
    "duration": 520,
    "start_time": "2021-11-07T08:12:00.232Z"
   },
   {
    "duration": 385,
    "start_time": "2021-11-07T08:12:22.524Z"
   },
   {
    "duration": 395,
    "start_time": "2021-11-07T08:12:36.708Z"
   },
   {
    "duration": 15,
    "start_time": "2021-11-07T08:13:45.664Z"
   },
   {
    "duration": 20,
    "start_time": "2021-11-07T08:14:46.808Z"
   },
   {
    "duration": 20,
    "start_time": "2021-11-07T08:15:30.624Z"
   },
   {
    "duration": 18,
    "start_time": "2021-11-07T08:16:22.329Z"
   },
   {
    "duration": 19,
    "start_time": "2021-11-07T08:16:29.409Z"
   },
   {
    "duration": 875,
    "start_time": "2021-11-07T08:21:49.497Z"
   },
   {
    "duration": 697,
    "start_time": "2021-11-07T08:24:59.089Z"
   },
   {
    "duration": 780,
    "start_time": "2021-11-07T08:27:23.395Z"
   },
   {
    "duration": 881,
    "start_time": "2021-11-07T08:28:22.827Z"
   },
   {
    "duration": 952,
    "start_time": "2021-11-07T08:29:04.185Z"
   },
   {
    "duration": 1318,
    "start_time": "2021-11-07T08:31:54.150Z"
   },
   {
    "duration": 86,
    "start_time": "2021-11-07T08:31:55.470Z"
   },
   {
    "duration": 5,
    "start_time": "2021-11-07T08:31:55.559Z"
   },
   {
    "duration": 38,
    "start_time": "2021-11-07T08:31:55.566Z"
   },
   {
    "duration": 9,
    "start_time": "2021-11-07T08:31:55.606Z"
   },
   {
    "duration": 9,
    "start_time": "2021-11-07T08:31:55.618Z"
   },
   {
    "duration": 39,
    "start_time": "2021-11-07T08:31:55.629Z"
   },
   {
    "duration": 32,
    "start_time": "2021-11-07T08:31:55.671Z"
   },
   {
    "duration": 24,
    "start_time": "2021-11-07T08:31:55.706Z"
   },
   {
    "duration": 17,
    "start_time": "2021-11-07T08:31:55.732Z"
   },
   {
    "duration": 876,
    "start_time": "2021-11-07T08:31:55.752Z"
   },
   {
    "duration": 425,
    "start_time": "2021-11-08T11:21:37.725Z"
   },
   {
    "duration": 301,
    "start_time": "2021-11-08T11:21:46.325Z"
   },
   {
    "duration": 1379,
    "start_time": "2021-11-08T11:21:54.245Z"
   },
   {
    "duration": 86,
    "start_time": "2021-11-08T11:21:55.626Z"
   },
   {
    "duration": 5,
    "start_time": "2021-11-08T11:21:55.722Z"
   },
   {
    "duration": 21,
    "start_time": "2021-11-08T11:21:55.730Z"
   },
   {
    "duration": 9,
    "start_time": "2021-11-08T11:21:55.753Z"
   },
   {
    "duration": 13,
    "start_time": "2021-11-08T11:21:55.765Z"
   },
   {
    "duration": 61,
    "start_time": "2021-11-08T11:21:55.780Z"
   },
   {
    "duration": 10,
    "start_time": "2021-11-08T11:21:55.844Z"
   },
   {
    "duration": 29,
    "start_time": "2021-11-08T11:21:55.857Z"
   },
   {
    "duration": 51,
    "start_time": "2021-11-08T11:21:55.888Z"
   },
   {
    "duration": 890,
    "start_time": "2021-11-08T11:21:55.942Z"
   },
   {
    "duration": 8,
    "start_time": "2021-11-08T11:21:56.834Z"
   },
   {
    "duration": 21,
    "start_time": "2021-11-08T11:23:39.818Z"
   },
   {
    "duration": 609,
    "start_time": "2021-11-08T11:26:35.966Z"
   },
   {
    "duration": 21,
    "start_time": "2021-11-08T11:26:53.910Z"
   },
   {
    "duration": 564,
    "start_time": "2021-11-08T11:27:05.874Z"
   },
   {
    "duration": 635,
    "start_time": "2021-11-08T11:27:27.990Z"
   },
   {
    "duration": 95,
    "start_time": "2021-11-08T11:45:29.920Z"
   },
   {
    "duration": 18,
    "start_time": "2021-11-08T11:45:40.435Z"
   },
   {
    "duration": 680,
    "start_time": "2021-11-08T11:46:13.155Z"
   },
   {
    "duration": 32,
    "start_time": "2021-11-08T11:47:01.304Z"
   },
   {
    "duration": 238,
    "start_time": "2021-11-08T11:47:25.408Z"
   },
   {
    "duration": 1388,
    "start_time": "2021-11-08T11:49:04.391Z"
   },
   {
    "duration": 87,
    "start_time": "2021-11-08T11:49:05.781Z"
   },
   {
    "duration": 5,
    "start_time": "2021-11-08T11:49:05.872Z"
   },
   {
    "duration": 50,
    "start_time": "2021-11-08T11:49:05.880Z"
   },
   {
    "duration": 12,
    "start_time": "2021-11-08T11:49:05.933Z"
   },
   {
    "duration": 13,
    "start_time": "2021-11-08T11:49:05.948Z"
   },
   {
    "duration": 58,
    "start_time": "2021-11-08T11:49:05.964Z"
   },
   {
    "duration": 10,
    "start_time": "2021-11-08T11:49:06.026Z"
   },
   {
    "duration": 27,
    "start_time": "2021-11-08T11:49:06.039Z"
   },
   {
    "duration": 20,
    "start_time": "2021-11-08T11:49:06.068Z"
   },
   {
    "duration": 870,
    "start_time": "2021-11-08T11:49:06.091Z"
   },
   {
    "duration": 22,
    "start_time": "2021-11-08T11:49:06.963Z"
   },
   {
    "duration": 1048,
    "start_time": "2021-11-08T11:49:06.988Z"
   },
   {
    "duration": 29,
    "start_time": "2021-11-08T11:49:08.039Z"
   },
   {
    "duration": 255,
    "start_time": "2021-11-08T11:49:08.070Z"
   },
   {
    "duration": 224,
    "start_time": "2021-11-08T11:49:08.328Z"
   },
   {
    "duration": 248,
    "start_time": "2021-11-08T11:49:08.554Z"
   },
   {
    "duration": 354,
    "start_time": "2021-11-08T11:49:08.805Z"
   },
   {
    "duration": 243,
    "start_time": "2021-11-08T11:49:09.162Z"
   },
   {
    "duration": 36,
    "start_time": "2021-11-08T11:56:01.754Z"
   },
   {
    "duration": 10,
    "start_time": "2021-11-08T11:58:06.726Z"
   },
   {
    "duration": 15,
    "start_time": "2021-11-08T11:59:23.102Z"
   },
   {
    "duration": 1382,
    "start_time": "2021-11-08T12:00:42.654Z"
   },
   {
    "duration": 1480,
    "start_time": "2021-11-08T12:52:45.606Z"
   },
   {
    "duration": 6,
    "start_time": "2021-11-08T12:53:43.854Z"
   },
   {
    "duration": 1245,
    "start_time": "2021-11-08T12:55:00.164Z"
   },
   {
    "duration": 10,
    "start_time": "2021-11-08T12:55:38.500Z"
   },
   {
    "duration": 1237,
    "start_time": "2021-11-08T12:57:20.276Z"
   },
   {
    "duration": 1410,
    "start_time": "2021-11-08T12:57:26.393Z"
   },
   {
    "duration": 121,
    "start_time": "2021-11-08T12:57:27.806Z"
   },
   {
    "duration": 6,
    "start_time": "2021-11-08T12:57:27.931Z"
   },
   {
    "duration": 20,
    "start_time": "2021-11-08T12:57:27.939Z"
   },
   {
    "duration": 10,
    "start_time": "2021-11-08T12:57:27.961Z"
   },
   {
    "duration": 7,
    "start_time": "2021-11-08T12:57:27.973Z"
   },
   {
    "duration": 72,
    "start_time": "2021-11-08T12:57:27.982Z"
   },
   {
    "duration": 1212,
    "start_time": "2021-11-08T12:57:28.058Z"
   },
   {
    "duration": 650,
    "start_time": "2021-11-08T12:57:28.624Z"
   },
   {
    "duration": 649,
    "start_time": "2021-11-08T12:57:28.626Z"
   },
   {
    "duration": 647,
    "start_time": "2021-11-08T12:57:28.629Z"
   },
   {
    "duration": 648,
    "start_time": "2021-11-08T12:57:28.630Z"
   },
   {
    "duration": 647,
    "start_time": "2021-11-08T12:57:28.632Z"
   },
   {
    "duration": 647,
    "start_time": "2021-11-08T12:57:28.633Z"
   },
   {
    "duration": 647,
    "start_time": "2021-11-08T12:57:28.634Z"
   },
   {
    "duration": 647,
    "start_time": "2021-11-08T12:57:28.636Z"
   },
   {
    "duration": 647,
    "start_time": "2021-11-08T12:57:28.637Z"
   },
   {
    "duration": 647,
    "start_time": "2021-11-08T12:57:28.638Z"
   },
   {
    "duration": 647,
    "start_time": "2021-11-08T12:57:28.639Z"
   },
   {
    "duration": 624,
    "start_time": "2021-11-08T12:57:28.663Z"
   },
   {
    "duration": 621,
    "start_time": "2021-11-08T12:57:28.668Z"
   },
   {
    "duration": 1294,
    "start_time": "2021-11-08T13:02:52.480Z"
   },
   {
    "duration": 81,
    "start_time": "2021-11-08T13:02:53.777Z"
   },
   {
    "duration": 5,
    "start_time": "2021-11-08T13:02:53.861Z"
   },
   {
    "duration": 18,
    "start_time": "2021-11-08T13:02:53.869Z"
   },
   {
    "duration": 35,
    "start_time": "2021-11-08T13:02:53.890Z"
   },
   {
    "duration": 6,
    "start_time": "2021-11-08T13:02:53.928Z"
   },
   {
    "duration": 36,
    "start_time": "2021-11-08T13:02:53.937Z"
   },
   {
    "duration": 1246,
    "start_time": "2021-11-08T13:02:53.977Z"
   },
   {
    "duration": 630,
    "start_time": "2021-11-08T13:02:54.596Z"
   },
   {
    "duration": 628,
    "start_time": "2021-11-08T13:02:54.599Z"
   },
   {
    "duration": 626,
    "start_time": "2021-11-08T13:02:54.602Z"
   },
   {
    "duration": 626,
    "start_time": "2021-11-08T13:02:54.604Z"
   },
   {
    "duration": 621,
    "start_time": "2021-11-08T13:02:54.610Z"
   },
   {
    "duration": 619,
    "start_time": "2021-11-08T13:02:54.613Z"
   },
   {
    "duration": 617,
    "start_time": "2021-11-08T13:02:54.616Z"
   },
   {
    "duration": 617,
    "start_time": "2021-11-08T13:02:54.618Z"
   },
   {
    "duration": 616,
    "start_time": "2021-11-08T13:02:54.620Z"
   },
   {
    "duration": 611,
    "start_time": "2021-11-08T13:02:54.626Z"
   },
   {
    "duration": 610,
    "start_time": "2021-11-08T13:02:54.628Z"
   },
   {
    "duration": 602,
    "start_time": "2021-11-08T13:02:54.638Z"
   },
   {
    "duration": 596,
    "start_time": "2021-11-08T13:02:54.645Z"
   },
   {
    "duration": 25,
    "start_time": "2021-11-08T13:11:03.111Z"
   },
   {
    "duration": 1132,
    "start_time": "2021-11-08T13:12:27.788Z"
   },
   {
    "duration": 1348,
    "start_time": "2021-11-09T11:22:37.631Z"
   },
   {
    "duration": 85,
    "start_time": "2021-11-09T11:22:38.982Z"
   },
   {
    "duration": 4,
    "start_time": "2021-11-09T11:22:39.071Z"
   },
   {
    "duration": 21,
    "start_time": "2021-11-09T11:22:39.078Z"
   },
   {
    "duration": 10,
    "start_time": "2021-11-09T11:22:39.122Z"
   },
   {
    "duration": 5,
    "start_time": "2021-11-09T11:22:39.135Z"
   },
   {
    "duration": 35,
    "start_time": "2021-11-09T11:22:39.142Z"
   },
   {
    "duration": 1235,
    "start_time": "2021-11-09T11:22:39.181Z"
   },
   {
    "duration": -390,
    "start_time": "2021-11-09T11:22:40.809Z"
   },
   {
    "duration": -392,
    "start_time": "2021-11-09T11:22:40.812Z"
   },
   {
    "duration": -393,
    "start_time": "2021-11-09T11:22:40.814Z"
   },
   {
    "duration": -394,
    "start_time": "2021-11-09T11:22:40.817Z"
   },
   {
    "duration": -396,
    "start_time": "2021-11-09T11:22:40.820Z"
   },
   {
    "duration": -397,
    "start_time": "2021-11-09T11:22:40.822Z"
   },
   {
    "duration": -398,
    "start_time": "2021-11-09T11:22:40.825Z"
   },
   {
    "duration": -399,
    "start_time": "2021-11-09T11:22:40.827Z"
   },
   {
    "duration": -399,
    "start_time": "2021-11-09T11:22:40.829Z"
   },
   {
    "duration": -415,
    "start_time": "2021-11-09T11:22:40.846Z"
   },
   {
    "duration": -420,
    "start_time": "2021-11-09T11:22:40.852Z"
   },
   {
    "duration": -421,
    "start_time": "2021-11-09T11:22:40.855Z"
   },
   {
    "duration": -422,
    "start_time": "2021-11-09T11:22:40.857Z"
   },
   {
    "duration": 1416,
    "start_time": "2021-11-09T11:24:23.783Z"
   },
   {
    "duration": 87,
    "start_time": "2021-11-09T11:24:25.202Z"
   },
   {
    "duration": 5,
    "start_time": "2021-11-09T11:24:25.292Z"
   },
   {
    "duration": 40,
    "start_time": "2021-11-09T11:24:25.300Z"
   },
   {
    "duration": 10,
    "start_time": "2021-11-09T11:24:25.342Z"
   },
   {
    "duration": 14,
    "start_time": "2021-11-09T11:24:25.354Z"
   },
   {
    "duration": 60,
    "start_time": "2021-11-09T11:24:25.370Z"
   },
   {
    "duration": 1559,
    "start_time": "2021-11-09T11:24:25.437Z"
   },
   {
    "duration": -389,
    "start_time": "2021-11-09T11:24:27.389Z"
   },
   {
    "duration": -390,
    "start_time": "2021-11-09T11:24:27.392Z"
   },
   {
    "duration": -391,
    "start_time": "2021-11-09T11:24:27.394Z"
   },
   {
    "duration": -391,
    "start_time": "2021-11-09T11:24:27.396Z"
   },
   {
    "duration": -392,
    "start_time": "2021-11-09T11:24:27.399Z"
   },
   {
    "duration": -393,
    "start_time": "2021-11-09T11:24:27.401Z"
   },
   {
    "duration": -394,
    "start_time": "2021-11-09T11:24:27.403Z"
   },
   {
    "duration": -394,
    "start_time": "2021-11-09T11:24:27.405Z"
   },
   {
    "duration": -395,
    "start_time": "2021-11-09T11:24:27.407Z"
   },
   {
    "duration": -396,
    "start_time": "2021-11-09T11:24:27.410Z"
   },
   {
    "duration": -397,
    "start_time": "2021-11-09T11:24:27.412Z"
   },
   {
    "duration": -414,
    "start_time": "2021-11-09T11:24:27.431Z"
   },
   {
    "duration": -418,
    "start_time": "2021-11-09T11:24:27.436Z"
   },
   {
    "duration": 1061,
    "start_time": "2021-11-09T11:27:41.336Z"
   },
   {
    "duration": 24,
    "start_time": "2021-11-09T11:28:09.871Z"
   },
   {
    "duration": 18,
    "start_time": "2021-11-09T11:28:27.119Z"
   },
   {
    "duration": 351,
    "start_time": "2021-11-09T11:28:34.367Z"
   },
   {
    "duration": 1344,
    "start_time": "2021-11-09T11:28:45.935Z"
   },
   {
    "duration": 85,
    "start_time": "2021-11-09T11:28:47.283Z"
   },
   {
    "duration": 6,
    "start_time": "2021-11-09T11:28:47.372Z"
   },
   {
    "duration": 42,
    "start_time": "2021-11-09T11:28:47.380Z"
   },
   {
    "duration": 10,
    "start_time": "2021-11-09T11:28:47.425Z"
   },
   {
    "duration": 7,
    "start_time": "2021-11-09T11:28:47.437Z"
   },
   {
    "duration": 36,
    "start_time": "2021-11-09T11:28:47.446Z"
   },
   {
    "duration": 60,
    "start_time": "2021-11-09T11:28:47.486Z"
   },
   {
    "duration": 26,
    "start_time": "2021-11-09T11:28:47.549Z"
   },
   {
    "duration": 45,
    "start_time": "2021-11-09T11:28:47.577Z"
   },
   {
    "duration": 848,
    "start_time": "2021-11-09T11:28:47.625Z"
   },
   {
    "duration": 21,
    "start_time": "2021-11-09T11:28:48.476Z"
   },
   {
    "duration": 655,
    "start_time": "2021-11-09T11:28:48.499Z"
   },
   {
    "duration": 19,
    "start_time": "2021-11-09T11:28:49.158Z"
   },
   {
    "duration": 243,
    "start_time": "2021-11-09T11:28:49.179Z"
   },
   {
    "duration": 215,
    "start_time": "2021-11-09T11:28:49.424Z"
   },
   {
    "duration": 240,
    "start_time": "2021-11-09T11:28:49.641Z"
   },
   {
    "duration": 242,
    "start_time": "2021-11-09T11:28:49.884Z"
   },
   {
    "duration": 256,
    "start_time": "2021-11-09T11:28:50.128Z"
   },
   {
    "duration": 11,
    "start_time": "2021-11-09T11:28:50.387Z"
   },
   {
    "duration": 27,
    "start_time": "2021-11-09T11:28:50.400Z"
   },
   {
    "duration": 409,
    "start_time": "2021-11-09T11:29:56.199Z"
   },
   {
    "duration": 1368,
    "start_time": "2021-11-09T11:30:01.723Z"
   },
   {
    "duration": 86,
    "start_time": "2021-11-09T11:30:03.093Z"
   },
   {
    "duration": 5,
    "start_time": "2021-11-09T11:30:03.182Z"
   },
   {
    "duration": 41,
    "start_time": "2021-11-09T11:30:03.190Z"
   },
   {
    "duration": 17,
    "start_time": "2021-11-09T11:30:03.233Z"
   },
   {
    "duration": 19,
    "start_time": "2021-11-09T11:30:03.252Z"
   },
   {
    "duration": 38,
    "start_time": "2021-11-09T11:30:03.274Z"
   },
   {
    "duration": 45,
    "start_time": "2021-11-09T11:30:03.323Z"
   },
   {
    "duration": 52,
    "start_time": "2021-11-09T11:30:03.370Z"
   },
   {
    "duration": 19,
    "start_time": "2021-11-09T11:30:03.425Z"
   },
   {
    "duration": 868,
    "start_time": "2021-11-09T11:30:03.446Z"
   },
   {
    "duration": 24,
    "start_time": "2021-11-09T11:30:04.317Z"
   },
   {
    "duration": 702,
    "start_time": "2021-11-09T11:30:04.343Z"
   },
   {
    "duration": 19,
    "start_time": "2021-11-09T11:30:05.048Z"
   },
   {
    "duration": 254,
    "start_time": "2021-11-09T11:30:05.070Z"
   },
   {
    "duration": 221,
    "start_time": "2021-11-09T11:30:05.327Z"
   },
   {
    "duration": 253,
    "start_time": "2021-11-09T11:30:05.551Z"
   },
   {
    "duration": 234,
    "start_time": "2021-11-09T11:30:05.806Z"
   },
   {
    "duration": 243,
    "start_time": "2021-11-09T11:30:06.043Z"
   },
   {
    "duration": 10,
    "start_time": "2021-11-09T11:30:06.289Z"
   },
   {
    "duration": 30,
    "start_time": "2021-11-09T11:30:06.301Z"
   },
   {
    "duration": 1342,
    "start_time": "2021-11-09T11:30:33.134Z"
   },
   {
    "duration": 85,
    "start_time": "2021-11-09T11:30:34.478Z"
   },
   {
    "duration": 4,
    "start_time": "2021-11-09T11:30:34.566Z"
   },
   {
    "duration": 19,
    "start_time": "2021-11-09T11:30:34.573Z"
   },
   {
    "duration": 33,
    "start_time": "2021-11-09T11:30:34.595Z"
   },
   {
    "duration": 12,
    "start_time": "2021-11-09T11:30:34.631Z"
   },
   {
    "duration": 37,
    "start_time": "2021-11-09T11:30:34.645Z"
   },
   {
    "duration": 50,
    "start_time": "2021-11-09T11:30:34.685Z"
   },
   {
    "duration": 28,
    "start_time": "2021-11-09T11:30:34.739Z"
   },
   {
    "duration": 54,
    "start_time": "2021-11-09T11:30:34.770Z"
   },
   {
    "duration": 873,
    "start_time": "2021-11-09T11:30:34.827Z"
   },
   {
    "duration": 29,
    "start_time": "2021-11-09T11:30:35.703Z"
   },
   {
    "duration": 656,
    "start_time": "2021-11-09T11:30:35.735Z"
   },
   {
    "duration": 31,
    "start_time": "2021-11-09T11:30:36.393Z"
   },
   {
    "duration": 229,
    "start_time": "2021-11-09T11:30:36.427Z"
   },
   {
    "duration": 222,
    "start_time": "2021-11-09T11:30:36.659Z"
   },
   {
    "duration": 245,
    "start_time": "2021-11-09T11:30:36.884Z"
   },
   {
    "duration": 235,
    "start_time": "2021-11-09T11:30:37.132Z"
   },
   {
    "duration": 243,
    "start_time": "2021-11-09T11:30:37.370Z"
   },
   {
    "duration": 10,
    "start_time": "2021-11-09T11:30:37.623Z"
   },
   {
    "duration": 1220,
    "start_time": "2021-11-09T11:30:37.635Z"
   },
   {
    "duration": 1472,
    "start_time": "2021-11-09T11:31:02.604Z"
   },
   {
    "duration": 89,
    "start_time": "2021-11-09T11:31:04.079Z"
   },
   {
    "duration": 5,
    "start_time": "2021-11-09T11:31:04.172Z"
   },
   {
    "duration": 43,
    "start_time": "2021-11-09T11:31:04.180Z"
   },
   {
    "duration": 9,
    "start_time": "2021-11-09T11:31:04.225Z"
   },
   {
    "duration": 5,
    "start_time": "2021-11-09T11:31:04.237Z"
   },
   {
    "duration": 36,
    "start_time": "2021-11-09T11:31:04.244Z"
   },
   {
    "duration": 58,
    "start_time": "2021-11-09T11:31:04.283Z"
   },
   {
    "duration": 26,
    "start_time": "2021-11-09T11:31:04.343Z"
   },
   {
    "duration": 17,
    "start_time": "2021-11-09T11:31:04.371Z"
   },
   {
    "duration": 869,
    "start_time": "2021-11-09T11:31:04.423Z"
   },
   {
    "duration": 29,
    "start_time": "2021-11-09T11:31:05.295Z"
   },
   {
    "duration": 634,
    "start_time": "2021-11-09T11:31:05.327Z"
   },
   {
    "duration": 19,
    "start_time": "2021-11-09T11:31:05.964Z"
   },
   {
    "duration": 260,
    "start_time": "2021-11-09T11:31:05.985Z"
   },
   {
    "duration": 215,
    "start_time": "2021-11-09T11:31:06.247Z"
   },
   {
    "duration": 238,
    "start_time": "2021-11-09T11:31:06.464Z"
   },
   {
    "duration": 235,
    "start_time": "2021-11-09T11:31:06.705Z"
   },
   {
    "duration": 232,
    "start_time": "2021-11-09T11:31:06.943Z"
   },
   {
    "duration": 10,
    "start_time": "2021-11-09T11:31:07.177Z"
   },
   {
    "duration": 12,
    "start_time": "2021-11-09T11:31:07.189Z"
   },
   {
    "duration": 875,
    "start_time": "2021-11-09T11:36:47.000Z"
   },
   {
    "duration": 762,
    "start_time": "2021-11-09T11:37:30.936Z"
   },
   {
    "duration": 23,
    "start_time": "2021-11-09T11:39:58.813Z"
   },
   {
    "duration": 11,
    "start_time": "2021-11-09T11:44:36.197Z"
   },
   {
    "duration": 10,
    "start_time": "2021-11-09T11:44:38.685Z"
   },
   {
    "duration": 812,
    "start_time": "2021-11-09T11:44:41.269Z"
   },
   {
    "duration": 14,
    "start_time": "2021-11-09T11:47:58.954Z"
   },
   {
    "duration": 19,
    "start_time": "2021-11-09T11:48:10.202Z"
   },
   {
    "duration": 7295,
    "start_time": "2021-11-09T11:49:57.242Z"
   },
   {
    "duration": 355,
    "start_time": "2021-11-09T11:55:10.274Z"
   },
   {
    "duration": 21,
    "start_time": "2021-11-09T11:55:30.306Z"
   },
   {
    "duration": 20,
    "start_time": "2021-11-09T11:56:14.462Z"
   },
   {
    "duration": 89,
    "start_time": "2021-11-09T12:07:49.244Z"
   },
   {
    "duration": 86,
    "start_time": "2021-11-09T12:08:06.165Z"
   },
   {
    "duration": 96,
    "start_time": "2021-11-09T12:10:14.004Z"
   },
   {
    "duration": 57,
    "start_time": "2021-11-09T12:11:23.483Z"
   },
   {
    "duration": 21,
    "start_time": "2021-11-09T12:12:19.837Z"
   },
   {
    "duration": 21,
    "start_time": "2021-11-09T12:13:36.174Z"
   },
   {
    "duration": 23,
    "start_time": "2021-11-09T12:13:57.979Z"
   },
   {
    "duration": 290,
    "start_time": "2021-11-09T12:22:18.310Z"
   },
   {
    "duration": 24,
    "start_time": "2021-11-09T12:23:00.288Z"
   },
   {
    "duration": 31,
    "start_time": "2021-11-09T12:23:13.866Z"
   },
   {
    "duration": 19,
    "start_time": "2021-11-09T12:23:24.875Z"
   },
   {
    "duration": 280,
    "start_time": "2021-11-09T12:23:55.246Z"
   },
   {
    "duration": 20,
    "start_time": "2021-11-09T12:24:05.594Z"
   },
   {
    "duration": 27,
    "start_time": "2021-11-09T12:24:50.987Z"
   },
   {
    "duration": 20,
    "start_time": "2021-11-09T12:25:18.869Z"
   },
   {
    "duration": 19,
    "start_time": "2021-11-09T12:29:36.185Z"
   },
   {
    "duration": 19,
    "start_time": "2021-11-09T12:29:39.754Z"
   },
   {
    "duration": 18,
    "start_time": "2021-11-09T12:29:42.210Z"
   },
   {
    "duration": 13,
    "start_time": "2021-11-09T12:42:00.604Z"
   },
   {
    "duration": 1355,
    "start_time": "2021-11-09T12:42:35.940Z"
   },
   {
    "duration": 85,
    "start_time": "2021-11-09T12:42:37.298Z"
   },
   {
    "duration": 4,
    "start_time": "2021-11-09T12:42:37.386Z"
   },
   {
    "duration": 40,
    "start_time": "2021-11-09T12:42:37.393Z"
   },
   {
    "duration": 10,
    "start_time": "2021-11-09T12:42:37.435Z"
   },
   {
    "duration": 11,
    "start_time": "2021-11-09T12:42:37.447Z"
   },
   {
    "duration": 35,
    "start_time": "2021-11-09T12:42:37.461Z"
   },
   {
    "duration": 27,
    "start_time": "2021-11-09T12:42:37.524Z"
   },
   {
    "duration": 28,
    "start_time": "2021-11-09T12:42:37.555Z"
   },
   {
    "duration": 47,
    "start_time": "2021-11-09T12:42:37.585Z"
   },
   {
    "duration": 859,
    "start_time": "2021-11-09T12:42:37.635Z"
   },
   {
    "duration": 38,
    "start_time": "2021-11-09T12:42:38.496Z"
   },
   {
    "duration": 634,
    "start_time": "2021-11-09T12:42:38.536Z"
   },
   {
    "duration": 20,
    "start_time": "2021-11-09T12:42:39.173Z"
   },
   {
    "duration": 247,
    "start_time": "2021-11-09T12:42:39.196Z"
   },
   {
    "duration": 224,
    "start_time": "2021-11-09T12:42:39.445Z"
   },
   {
    "duration": 241,
    "start_time": "2021-11-09T12:42:39.672Z"
   },
   {
    "duration": 254,
    "start_time": "2021-11-09T12:42:39.915Z"
   },
   {
    "duration": 235,
    "start_time": "2021-11-09T12:42:40.172Z"
   },
   {
    "duration": 19,
    "start_time": "2021-11-09T12:42:40.409Z"
   },
   {
    "duration": 12,
    "start_time": "2021-11-09T12:42:40.431Z"
   },
   {
    "duration": 908,
    "start_time": "2021-11-09T12:42:40.445Z"
   },
   {
    "duration": 11,
    "start_time": "2021-11-09T12:42:41.358Z"
   },
   {
    "duration": 14,
    "start_time": "2021-11-09T12:42:41.373Z"
   },
   {
    "duration": 786,
    "start_time": "2021-11-09T12:42:41.390Z"
   },
   {
    "duration": 22,
    "start_time": "2021-11-09T12:42:42.179Z"
   },
   {
    "duration": 34,
    "start_time": "2021-11-09T12:42:42.203Z"
   },
   {
    "duration": 21,
    "start_time": "2021-11-09T12:42:42.239Z"
   },
   {
    "duration": 18,
    "start_time": "2021-11-09T12:42:42.263Z"
   },
   {
    "duration": 52,
    "start_time": "2021-11-09T12:42:42.284Z"
   },
   {
    "duration": 28,
    "start_time": "2021-11-09T12:42:42.339Z"
   },
   {
    "duration": 53,
    "start_time": "2021-11-09T12:42:42.371Z"
   },
   {
    "duration": 13,
    "start_time": "2021-11-09T12:42:42.427Z"
   },
   {
    "duration": 23,
    "start_time": "2021-11-09T12:47:05.643Z"
   },
   {
    "duration": 15,
    "start_time": "2021-11-09T12:49:29.463Z"
   },
   {
    "duration": 14,
    "start_time": "2021-11-09T12:50:07.271Z"
   },
   {
    "duration": 16,
    "start_time": "2021-11-09T12:50:48.135Z"
   },
   {
    "duration": 14,
    "start_time": "2021-11-09T12:51:18.599Z"
   },
   {
    "duration": 13,
    "start_time": "2021-11-09T12:51:22.546Z"
   },
   {
    "duration": 35,
    "start_time": "2021-11-09T12:51:39.015Z"
   },
   {
    "duration": 38,
    "start_time": "2021-11-09T12:51:48.187Z"
   },
   {
    "duration": 16,
    "start_time": "2021-11-09T12:52:53.191Z"
   },
   {
    "duration": 3,
    "start_time": "2021-11-09T12:55:17.347Z"
   },
   {
    "duration": 3,
    "start_time": "2021-11-09T12:55:19.911Z"
   },
   {
    "duration": 8,
    "start_time": "2021-11-09T13:06:19.987Z"
   },
   {
    "duration": 38,
    "start_time": "2021-11-09T13:06:30.459Z"
   },
   {
    "duration": 1363,
    "start_time": "2021-11-09T13:06:39.741Z"
   },
   {
    "duration": 92,
    "start_time": "2021-11-09T13:06:41.107Z"
   },
   {
    "duration": 4,
    "start_time": "2021-11-09T13:06:41.202Z"
   },
   {
    "duration": 18,
    "start_time": "2021-11-09T13:06:41.222Z"
   },
   {
    "duration": 9,
    "start_time": "2021-11-09T13:06:41.243Z"
   },
   {
    "duration": 17,
    "start_time": "2021-11-09T13:06:41.254Z"
   },
   {
    "duration": 62,
    "start_time": "2021-11-09T13:06:41.273Z"
   },
   {
    "duration": 27,
    "start_time": "2021-11-09T13:06:41.339Z"
   },
   {
    "duration": 55,
    "start_time": "2021-11-09T13:06:41.369Z"
   },
   {
    "duration": 18,
    "start_time": "2021-11-09T13:06:41.426Z"
   },
   {
    "duration": 855,
    "start_time": "2021-11-09T13:06:41.447Z"
   },
   {
    "duration": 30,
    "start_time": "2021-11-09T13:06:42.305Z"
   },
   {
    "duration": 777,
    "start_time": "2021-11-09T13:06:42.338Z"
   },
   {
    "duration": 22,
    "start_time": "2021-11-09T13:06:43.118Z"
   },
   {
    "duration": 253,
    "start_time": "2021-11-09T13:06:43.142Z"
   },
   {
    "duration": 224,
    "start_time": "2021-11-09T13:06:43.398Z"
   },
   {
    "duration": 245,
    "start_time": "2021-11-09T13:06:43.625Z"
   },
   {
    "duration": 228,
    "start_time": "2021-11-09T13:06:43.873Z"
   },
   {
    "duration": 234,
    "start_time": "2021-11-09T13:06:44.104Z"
   },
   {
    "duration": 10,
    "start_time": "2021-11-09T13:06:44.340Z"
   },
   {
    "duration": 11,
    "start_time": "2021-11-09T13:06:44.352Z"
   },
   {
    "duration": 833,
    "start_time": "2021-11-09T13:06:44.365Z"
   },
   {
    "duration": 21,
    "start_time": "2021-11-09T13:06:45.203Z"
   },
   {
    "duration": 10,
    "start_time": "2021-11-09T13:06:45.228Z"
   },
   {
    "duration": 837,
    "start_time": "2021-11-09T13:06:45.241Z"
   },
   {
    "duration": 21,
    "start_time": "2021-11-09T13:06:46.080Z"
   },
   {
    "duration": 35,
    "start_time": "2021-11-09T13:06:46.103Z"
   },
   {
    "duration": 19,
    "start_time": "2021-11-09T13:06:46.141Z"
   },
   {
    "duration": 18,
    "start_time": "2021-11-09T13:06:46.163Z"
   },
   {
    "duration": 55,
    "start_time": "2021-11-09T13:06:46.183Z"
   },
   {
    "duration": 19,
    "start_time": "2021-11-09T13:06:46.241Z"
   },
   {
    "duration": 25,
    "start_time": "2021-11-09T13:06:46.263Z"
   },
   {
    "duration": 66,
    "start_time": "2021-11-09T13:06:46.291Z"
   },
   {
    "duration": 12,
    "start_time": "2021-11-09T13:06:46.360Z"
   },
   {
    "duration": 56,
    "start_time": "2021-11-09T13:06:46.376Z"
   },
   {
    "duration": -473,
    "start_time": "2021-11-09T13:19:13.170Z"
   },
   {
    "duration": 1364,
    "start_time": "2021-11-09T13:19:22.427Z"
   },
   {
    "duration": 87,
    "start_time": "2021-11-09T13:19:23.793Z"
   },
   {
    "duration": 5,
    "start_time": "2021-11-09T13:19:23.883Z"
   },
   {
    "duration": 41,
    "start_time": "2021-11-09T13:19:23.891Z"
   },
   {
    "duration": 9,
    "start_time": "2021-11-09T13:19:23.935Z"
   },
   {
    "duration": 6,
    "start_time": "2021-11-09T13:19:23.947Z"
   },
   {
    "duration": 38,
    "start_time": "2021-11-09T13:19:23.956Z"
   },
   {
    "duration": 27,
    "start_time": "2021-11-09T13:19:24.023Z"
   },
   {
    "duration": 25,
    "start_time": "2021-11-09T13:19:24.053Z"
   },
   {
    "duration": 51,
    "start_time": "2021-11-09T13:19:24.080Z"
   },
   {
    "duration": 846,
    "start_time": "2021-11-09T13:19:24.133Z"
   },
   {
    "duration": 20,
    "start_time": "2021-11-09T13:19:24.982Z"
   },
   {
    "duration": 665,
    "start_time": "2021-11-09T13:19:25.005Z"
   },
   {
    "duration": 19,
    "start_time": "2021-11-09T13:19:25.673Z"
   },
   {
    "duration": 244,
    "start_time": "2021-11-09T13:19:25.695Z"
   },
   {
    "duration": 244,
    "start_time": "2021-11-09T13:19:25.942Z"
   },
   {
    "duration": 247,
    "start_time": "2021-11-09T13:19:26.190Z"
   },
   {
    "duration": 235,
    "start_time": "2021-11-09T13:19:26.440Z"
   },
   {
    "duration": 246,
    "start_time": "2021-11-09T13:19:26.677Z"
   },
   {
    "duration": 12,
    "start_time": "2021-11-09T13:19:26.926Z"
   },
   {
    "duration": 14,
    "start_time": "2021-11-09T13:19:26.941Z"
   },
   {
    "duration": 947,
    "start_time": "2021-11-09T13:19:26.958Z"
   },
   {
    "duration": 18,
    "start_time": "2021-11-09T13:19:27.910Z"
   },
   {
    "duration": 20,
    "start_time": "2021-11-09T13:19:27.931Z"
   },
   {
    "duration": 862,
    "start_time": "2021-11-09T13:19:27.953Z"
   },
   {
    "duration": 19,
    "start_time": "2021-11-09T13:19:28.822Z"
   },
   {
    "duration": 20,
    "start_time": "2021-11-09T13:19:28.843Z"
   },
   {
    "duration": 29,
    "start_time": "2021-11-09T13:19:28.866Z"
   },
   {
    "duration": 20,
    "start_time": "2021-11-09T13:19:28.922Z"
   },
   {
    "duration": 25,
    "start_time": "2021-11-09T13:19:28.944Z"
   },
   {
    "duration": 20,
    "start_time": "2021-11-09T13:19:28.972Z"
   },
   {
    "duration": 20,
    "start_time": "2021-11-09T13:19:29.022Z"
   },
   {
    "duration": 9,
    "start_time": "2021-11-09T13:19:29.045Z"
   },
   {
    "duration": 12,
    "start_time": "2021-11-09T13:19:29.056Z"
   },
   {
    "duration": 52,
    "start_time": "2021-11-09T13:19:29.071Z"
   },
   {
    "duration": 1447,
    "start_time": "2021-11-09T13:25:40.254Z"
   },
   {
    "duration": 1364,
    "start_time": "2021-11-09T13:26:16.213Z"
   },
   {
    "duration": 86,
    "start_time": "2021-11-09T13:26:17.580Z"
   },
   {
    "duration": 5,
    "start_time": "2021-11-09T13:26:17.669Z"
   },
   {
    "duration": 20,
    "start_time": "2021-11-09T13:26:17.677Z"
   },
   {
    "duration": 10,
    "start_time": "2021-11-09T13:26:17.723Z"
   },
   {
    "duration": 15,
    "start_time": "2021-11-09T13:26:17.736Z"
   },
   {
    "duration": 37,
    "start_time": "2021-11-09T13:26:17.753Z"
   },
   {
    "duration": 48,
    "start_time": "2021-11-09T13:26:17.794Z"
   },
   {
    "duration": 26,
    "start_time": "2021-11-09T13:26:17.845Z"
   },
   {
    "duration": 17,
    "start_time": "2021-11-09T13:26:17.873Z"
   },
   {
    "duration": 832,
    "start_time": "2021-11-09T13:26:17.923Z"
   },
   {
    "duration": 22,
    "start_time": "2021-11-09T13:26:18.757Z"
   },
   {
    "duration": 667,
    "start_time": "2021-11-09T13:26:18.781Z"
   },
   {
    "duration": 25,
    "start_time": "2021-11-09T13:26:19.451Z"
   },
   {
    "duration": 252,
    "start_time": "2021-11-09T13:26:19.479Z"
   },
   {
    "duration": 221,
    "start_time": "2021-11-09T13:26:19.734Z"
   },
   {
    "duration": 250,
    "start_time": "2021-11-09T13:26:19.957Z"
   },
   {
    "duration": 231,
    "start_time": "2021-11-09T13:26:20.210Z"
   },
   {
    "duration": 235,
    "start_time": "2021-11-09T13:26:20.443Z"
   },
   {
    "duration": 11,
    "start_time": "2021-11-09T13:26:20.681Z"
   },
   {
    "duration": 32,
    "start_time": "2021-11-09T13:26:20.694Z"
   },
   {
    "duration": 868,
    "start_time": "2021-11-09T13:26:20.728Z"
   },
   {
    "duration": 24,
    "start_time": "2021-11-09T13:26:21.604Z"
   },
   {
    "duration": 12,
    "start_time": "2021-11-09T13:26:21.633Z"
   },
   {
    "duration": 834,
    "start_time": "2021-11-09T13:26:21.647Z"
   },
   {
    "duration": 19,
    "start_time": "2021-11-09T13:26:22.484Z"
   },
   {
    "duration": 32,
    "start_time": "2021-11-09T13:26:22.505Z"
   },
   {
    "duration": 19,
    "start_time": "2021-11-09T13:26:22.539Z"
   },
   {
    "duration": 19,
    "start_time": "2021-11-09T13:26:22.561Z"
   },
   {
    "duration": 52,
    "start_time": "2021-11-09T13:26:22.583Z"
   },
   {
    "duration": 24,
    "start_time": "2021-11-09T13:26:22.637Z"
   },
   {
    "duration": 21,
    "start_time": "2021-11-09T13:26:22.664Z"
   },
   {
    "duration": 66,
    "start_time": "2021-11-09T13:26:22.688Z"
   },
   {
    "duration": 12,
    "start_time": "2021-11-09T13:26:22.756Z"
   },
   {
    "duration": 21,
    "start_time": "2021-11-09T13:26:22.771Z"
   },
   {
    "duration": 24,
    "start_time": "2021-11-09T13:27:52.604Z"
   },
   {
    "duration": 1455,
    "start_time": "2021-11-09T13:28:00.718Z"
   },
   {
    "duration": 22,
    "start_time": "2021-11-09T13:29:01.182Z"
   },
   {
    "duration": 22,
    "start_time": "2021-11-09T13:31:06.330Z"
   },
   {
    "duration": 1495,
    "start_time": "2021-11-09T13:34:42.819Z"
   },
   {
    "duration": 87,
    "start_time": "2021-11-09T13:34:44.316Z"
   },
   {
    "duration": 5,
    "start_time": "2021-11-09T13:34:44.406Z"
   },
   {
    "duration": 18,
    "start_time": "2021-11-09T13:34:44.423Z"
   },
   {
    "duration": 9,
    "start_time": "2021-11-09T13:34:44.444Z"
   },
   {
    "duration": 7,
    "start_time": "2021-11-09T13:34:44.456Z"
   },
   {
    "duration": 71,
    "start_time": "2021-11-09T13:34:44.466Z"
   },
   {
    "duration": 27,
    "start_time": "2021-11-09T13:34:44.540Z"
   },
   {
    "duration": 52,
    "start_time": "2021-11-09T13:34:44.570Z"
   },
   {
    "duration": 19,
    "start_time": "2021-11-09T13:34:44.625Z"
   },
   {
    "duration": 854,
    "start_time": "2021-11-09T13:34:44.646Z"
   },
   {
    "duration": 28,
    "start_time": "2021-11-09T13:34:45.503Z"
   },
   {
    "duration": 644,
    "start_time": "2021-11-09T13:34:45.534Z"
   },
   {
    "duration": 18,
    "start_time": "2021-11-09T13:34:46.180Z"
   },
   {
    "duration": 247,
    "start_time": "2021-11-09T13:34:46.200Z"
   },
   {
    "duration": 231,
    "start_time": "2021-11-09T13:34:46.450Z"
   },
   {
    "duration": 252,
    "start_time": "2021-11-09T13:34:46.684Z"
   },
   {
    "duration": 241,
    "start_time": "2021-11-09T13:34:46.939Z"
   },
   {
    "duration": 242,
    "start_time": "2021-11-09T13:34:47.182Z"
   },
   {
    "duration": 10,
    "start_time": "2021-11-09T13:34:47.427Z"
   },
   {
    "duration": 11,
    "start_time": "2021-11-09T13:34:47.439Z"
   },
   {
    "duration": 849,
    "start_time": "2021-11-09T13:34:47.452Z"
   },
   {
    "duration": 20,
    "start_time": "2021-11-09T13:34:48.305Z"
   },
   {
    "duration": 17,
    "start_time": "2021-11-09T13:34:48.328Z"
   },
   {
    "duration": 809,
    "start_time": "2021-11-09T13:34:48.348Z"
   },
   {
    "duration": 20,
    "start_time": "2021-11-09T13:34:49.160Z"
   },
   {
    "duration": 48,
    "start_time": "2021-11-09T13:34:49.183Z"
   },
   {
    "duration": 19,
    "start_time": "2021-11-09T13:34:49.234Z"
   },
   {
    "duration": 24,
    "start_time": "2021-11-09T13:34:49.255Z"
   },
   {
    "duration": 45,
    "start_time": "2021-11-09T13:34:49.282Z"
   },
   {
    "duration": 23,
    "start_time": "2021-11-09T13:34:49.330Z"
   },
   {
    "duration": 21,
    "start_time": "2021-11-09T13:34:49.356Z"
   },
   {
    "duration": 63,
    "start_time": "2021-11-09T13:34:49.380Z"
   },
   {
    "duration": 18,
    "start_time": "2021-11-09T13:34:49.446Z"
   },
   {
    "duration": 20,
    "start_time": "2021-11-09T13:34:49.466Z"
   },
   {
    "duration": 1323,
    "start_time": "2021-11-09T13:36:33.353Z"
   },
   {
    "duration": 83,
    "start_time": "2021-11-09T13:36:34.678Z"
   },
   {
    "duration": 5,
    "start_time": "2021-11-09T13:36:34.764Z"
   },
   {
    "duration": 28,
    "start_time": "2021-11-09T13:36:34.771Z"
   },
   {
    "duration": 25,
    "start_time": "2021-11-09T13:36:34.801Z"
   },
   {
    "duration": 6,
    "start_time": "2021-11-09T13:36:34.829Z"
   },
   {
    "duration": 42,
    "start_time": "2021-11-09T13:36:34.837Z"
   },
   {
    "duration": 41,
    "start_time": "2021-11-09T13:36:34.883Z"
   },
   {
    "duration": 25,
    "start_time": "2021-11-09T13:36:34.927Z"
   },
   {
    "duration": 17,
    "start_time": "2021-11-09T13:36:34.955Z"
   },
   {
    "duration": 868,
    "start_time": "2021-11-09T13:36:34.974Z"
   },
   {
    "duration": 21,
    "start_time": "2021-11-09T13:36:35.845Z"
   },
   {
    "duration": 657,
    "start_time": "2021-11-09T13:36:35.868Z"
   },
   {
    "duration": 20,
    "start_time": "2021-11-09T13:36:36.527Z"
   },
   {
    "duration": 247,
    "start_time": "2021-11-09T13:36:36.550Z"
   },
   {
    "duration": 233,
    "start_time": "2021-11-09T13:36:36.800Z"
   },
   {
    "duration": 259,
    "start_time": "2021-11-09T13:36:37.037Z"
   },
   {
    "duration": 235,
    "start_time": "2021-11-09T13:36:37.299Z"
   },
   {
    "duration": 264,
    "start_time": "2021-11-09T13:36:37.537Z"
   },
   {
    "duration": 20,
    "start_time": "2021-11-09T13:36:37.804Z"
   },
   {
    "duration": 13,
    "start_time": "2021-11-09T13:36:37.827Z"
   },
   {
    "duration": 956,
    "start_time": "2021-11-09T13:36:37.843Z"
   },
   {
    "duration": 21,
    "start_time": "2021-11-09T13:36:38.806Z"
   },
   {
    "duration": 13,
    "start_time": "2021-11-09T13:36:38.831Z"
   },
   {
    "duration": 844,
    "start_time": "2021-11-09T13:36:38.847Z"
   },
   {
    "duration": 32,
    "start_time": "2021-11-09T13:36:39.693Z"
   },
   {
    "duration": 25,
    "start_time": "2021-11-09T13:36:39.728Z"
   },
   {
    "duration": 20,
    "start_time": "2021-11-09T13:36:39.755Z"
   },
   {
    "duration": 50,
    "start_time": "2021-11-09T13:36:39.778Z"
   },
   {
    "duration": 22,
    "start_time": "2021-11-09T13:36:39.831Z"
   },
   {
    "duration": 24,
    "start_time": "2021-11-09T13:36:39.855Z"
   },
   {
    "duration": 57,
    "start_time": "2021-11-09T13:36:39.882Z"
   },
   {
    "duration": 39,
    "start_time": "2021-11-09T13:36:39.942Z"
   },
   {
    "duration": 12,
    "start_time": "2021-11-09T13:36:39.984Z"
   },
   {
    "duration": 45,
    "start_time": "2021-11-09T13:36:39.999Z"
   },
   {
    "duration": 1446,
    "start_time": "2021-11-10T13:51:43.019Z"
   },
   {
    "duration": 65,
    "start_time": "2021-11-10T13:51:44.467Z"
   },
   {
    "duration": 3,
    "start_time": "2021-11-10T13:51:44.535Z"
   },
   {
    "duration": 23,
    "start_time": "2021-11-10T13:51:44.540Z"
   },
   {
    "duration": 8,
    "start_time": "2021-11-10T13:51:44.565Z"
   },
   {
    "duration": 6,
    "start_time": "2021-11-10T13:51:44.575Z"
   },
   {
    "duration": 23,
    "start_time": "2021-11-10T13:51:44.583Z"
   },
   {
    "duration": 20,
    "start_time": "2021-11-10T13:51:44.609Z"
   },
   {
    "duration": 48,
    "start_time": "2021-11-10T13:51:44.631Z"
   },
   {
    "duration": 11,
    "start_time": "2021-11-10T13:51:44.681Z"
   },
   {
    "duration": 548,
    "start_time": "2021-11-10T13:51:44.694Z"
   },
   {
    "duration": 23,
    "start_time": "2021-11-10T13:51:45.244Z"
   },
   {
    "duration": 424,
    "start_time": "2021-11-10T13:51:45.269Z"
   },
   {
    "duration": 16,
    "start_time": "2021-11-10T13:51:45.695Z"
   },
   {
    "duration": 164,
    "start_time": "2021-11-10T13:51:45.713Z"
   },
   {
    "duration": 147,
    "start_time": "2021-11-10T13:51:45.879Z"
   },
   {
    "duration": 157,
    "start_time": "2021-11-10T13:51:46.028Z"
   },
   {
    "duration": 147,
    "start_time": "2021-11-10T13:51:46.187Z"
   },
   {
    "duration": 150,
    "start_time": "2021-11-10T13:51:46.336Z"
   },
   {
    "duration": 9,
    "start_time": "2021-11-10T13:51:46.488Z"
   },
   {
    "duration": 9,
    "start_time": "2021-11-10T13:51:46.499Z"
   },
   {
    "duration": 653,
    "start_time": "2021-11-10T13:51:46.510Z"
   },
   {
    "duration": 7,
    "start_time": "2021-11-10T13:51:47.167Z"
   },
   {
    "duration": 14,
    "start_time": "2021-11-10T13:51:47.177Z"
   },
   {
    "duration": 696,
    "start_time": "2021-11-10T13:51:47.193Z"
   },
   {
    "duration": 16,
    "start_time": "2021-11-10T13:51:47.891Z"
   },
   {
    "duration": 28,
    "start_time": "2021-11-10T13:51:47.909Z"
   },
   {
    "duration": 40,
    "start_time": "2021-11-10T13:51:47.939Z"
   },
   {
    "duration": 20,
    "start_time": "2021-11-10T13:51:47.982Z"
   },
   {
    "duration": 21,
    "start_time": "2021-11-10T13:51:48.004Z"
   },
   {
    "duration": 46,
    "start_time": "2021-11-10T13:51:48.027Z"
   },
   {
    "duration": 14,
    "start_time": "2021-11-10T13:51:48.075Z"
   },
   {
    "duration": 17,
    "start_time": "2021-11-10T13:51:48.091Z"
   },
   {
    "duration": 10,
    "start_time": "2021-11-10T13:51:48.110Z"
   },
   {
    "duration": 51,
    "start_time": "2021-11-10T13:51:48.121Z"
   },
   {
    "duration": 7,
    "start_time": "2021-11-10T13:52:41.717Z"
   },
   {
    "duration": 317,
    "start_time": "2021-11-10T13:52:50.693Z"
   },
   {
    "duration": 109,
    "start_time": "2021-11-10T13:53:15.613Z"
   },
   {
    "duration": 1500,
    "start_time": "2021-11-11T15:00:49.931Z"
   },
   {
    "duration": 89,
    "start_time": "2021-11-11T15:00:51.434Z"
   },
   {
    "duration": 4,
    "start_time": "2021-11-11T15:00:51.526Z"
   },
   {
    "duration": 20,
    "start_time": "2021-11-11T15:00:51.533Z"
   },
   {
    "duration": 11,
    "start_time": "2021-11-11T15:00:51.556Z"
   },
   {
    "duration": 8,
    "start_time": "2021-11-11T15:00:51.569Z"
   },
   {
    "duration": 70,
    "start_time": "2021-11-11T15:00:51.579Z"
   },
   {
    "duration": 27,
    "start_time": "2021-11-11T15:00:51.653Z"
   },
   {
    "duration": 50,
    "start_time": "2021-11-11T15:00:51.683Z"
   },
   {
    "duration": 18,
    "start_time": "2021-11-11T15:00:51.736Z"
   },
   {
    "duration": 853,
    "start_time": "2021-11-11T15:00:51.757Z"
   },
   {
    "duration": 25,
    "start_time": "2021-11-11T15:00:52.612Z"
   },
   {
    "duration": 771,
    "start_time": "2021-11-11T15:00:52.639Z"
   },
   {
    "duration": 26,
    "start_time": "2021-11-11T15:00:53.412Z"
   },
   {
    "duration": 234,
    "start_time": "2021-11-11T15:00:53.440Z"
   },
   {
    "duration": 226,
    "start_time": "2021-11-11T15:00:53.676Z"
   },
   {
    "duration": 303,
    "start_time": "2021-11-11T15:00:53.904Z"
   },
   {
    "duration": 251,
    "start_time": "2021-11-11T15:00:54.209Z"
   },
   {
    "duration": 242,
    "start_time": "2021-11-11T15:00:54.463Z"
   },
   {
    "duration": 21,
    "start_time": "2021-11-11T15:00:54.708Z"
   },
   {
    "duration": 13,
    "start_time": "2021-11-11T15:00:54.732Z"
   },
   {
    "duration": 853,
    "start_time": "2021-11-11T15:00:54.747Z"
   },
   {
    "duration": 19,
    "start_time": "2021-11-11T15:00:55.605Z"
   },
   {
    "duration": 20,
    "start_time": "2021-11-11T15:00:55.627Z"
   },
   {
    "duration": 886,
    "start_time": "2021-11-11T15:00:55.649Z"
   },
   {
    "duration": 22,
    "start_time": "2021-11-11T15:00:56.537Z"
   },
   {
    "duration": 22,
    "start_time": "2021-11-11T15:00:56.561Z"
   },
   {
    "duration": 50,
    "start_time": "2021-11-11T15:00:56.585Z"
   },
   {
    "duration": 35,
    "start_time": "2021-11-11T15:00:56.639Z"
   },
   {
    "duration": 21,
    "start_time": "2021-11-11T15:00:56.677Z"
   },
   {
    "duration": 21,
    "start_time": "2021-11-11T15:00:56.724Z"
   },
   {
    "duration": 20,
    "start_time": "2021-11-11T15:00:56.747Z"
   },
   {
    "duration": 56,
    "start_time": "2021-11-11T15:00:56.770Z"
   },
   {
    "duration": 16,
    "start_time": "2021-11-11T15:00:56.829Z"
   },
   {
    "duration": 19,
    "start_time": "2021-11-11T15:00:56.848Z"
   },
   {
    "duration": 5,
    "start_time": "2021-11-11T15:02:39.091Z"
   },
   {
    "duration": 81,
    "start_time": "2021-11-11T15:02:42.335Z"
   },
   {
    "duration": 5,
    "start_time": "2021-11-11T15:02:47.167Z"
   },
   {
    "duration": 19,
    "start_time": "2021-11-11T15:02:49.503Z"
   },
   {
    "duration": 11,
    "start_time": "2021-11-11T15:02:58.155Z"
   },
   {
    "duration": 6,
    "start_time": "2021-11-11T15:03:00.460Z"
   },
   {
    "duration": 36,
    "start_time": "2021-11-11T15:03:02.299Z"
   },
   {
    "duration": 28,
    "start_time": "2021-11-11T15:03:05.387Z"
   },
   {
    "duration": 28,
    "start_time": "2021-11-11T15:03:09.011Z"
   },
   {
    "duration": 20,
    "start_time": "2021-11-11T15:03:12.979Z"
   },
   {
    "duration": 484,
    "start_time": "2021-11-11T15:03:26.787Z"
   },
   {
    "duration": 1611,
    "start_time": "2021-11-11T15:05:23.276Z"
   },
   {
    "duration": 93,
    "start_time": "2021-11-11T15:05:24.890Z"
   },
   {
    "duration": 5,
    "start_time": "2021-11-11T15:05:24.987Z"
   },
   {
    "duration": 43,
    "start_time": "2021-11-11T15:05:24.995Z"
   },
   {
    "duration": 12,
    "start_time": "2021-11-11T15:05:25.042Z"
   },
   {
    "duration": 10,
    "start_time": "2021-11-11T15:05:25.057Z"
   },
   {
    "duration": 87,
    "start_time": "2021-11-11T15:05:25.070Z"
   },
   {
    "duration": 30,
    "start_time": "2021-11-11T15:05:25.161Z"
   },
   {
    "duration": 50,
    "start_time": "2021-11-11T15:05:25.195Z"
   },
   {
    "duration": 19,
    "start_time": "2021-11-11T15:05:25.247Z"
   },
   {
    "duration": 611,
    "start_time": "2021-11-11T15:05:25.269Z"
   },
   {
    "duration": 557,
    "start_time": "2021-11-11T15:05:25.882Z"
   },
   {
    "duration": 510,
    "start_time": "2021-11-11T15:05:26.442Z"
   },
   {
    "duration": 508,
    "start_time": "2021-11-11T15:05:26.955Z"
   },
   {
    "duration": 598,
    "start_time": "2021-11-11T15:05:27.466Z"
   },
   {
    "duration": 21,
    "start_time": "2021-11-11T15:05:28.066Z"
   },
   {
    "duration": 732,
    "start_time": "2021-11-11T15:05:28.090Z"
   },
   {
    "duration": 18,
    "start_time": "2021-11-11T15:05:28.824Z"
   },
   {
    "duration": 316,
    "start_time": "2021-11-11T15:05:28.845Z"
   },
   {
    "duration": 228,
    "start_time": "2021-11-11T15:05:29.164Z"
   },
   {
    "duration": 227,
    "start_time": "2021-11-11T15:05:29.395Z"
   },
   {
    "duration": 224,
    "start_time": "2021-11-11T15:05:29.624Z"
   },
   {
    "duration": 266,
    "start_time": "2021-11-11T15:05:29.852Z"
   },
   {
    "duration": 10,
    "start_time": "2021-11-11T15:05:30.123Z"
   },
   {
    "duration": 22,
    "start_time": "2021-11-11T15:05:30.136Z"
   },
   {
    "duration": 1164,
    "start_time": "2021-11-11T15:05:30.161Z"
   },
   {
    "duration": 14,
    "start_time": "2021-11-11T15:05:31.328Z"
   },
   {
    "duration": 15,
    "start_time": "2021-11-11T15:05:31.345Z"
   },
   {
    "duration": 804,
    "start_time": "2021-11-11T15:05:31.363Z"
   },
   {
    "duration": 21,
    "start_time": "2021-11-11T15:05:32.169Z"
   },
   {
    "duration": 39,
    "start_time": "2021-11-11T15:05:32.193Z"
   },
   {
    "duration": 20,
    "start_time": "2021-11-11T15:05:32.235Z"
   },
   {
    "duration": 22,
    "start_time": "2021-11-11T15:05:32.257Z"
   },
   {
    "duration": 50,
    "start_time": "2021-11-11T15:05:32.282Z"
   },
   {
    "duration": 20,
    "start_time": "2021-11-11T15:05:32.334Z"
   },
   {
    "duration": 22,
    "start_time": "2021-11-11T15:05:32.357Z"
   },
   {
    "duration": 53,
    "start_time": "2021-11-11T15:05:32.382Z"
   },
   {
    "duration": 12,
    "start_time": "2021-11-11T15:05:32.437Z"
   },
   {
    "duration": 33,
    "start_time": "2021-11-11T15:05:32.452Z"
   },
   {
    "duration": 1499,
    "start_time": "2021-11-11T15:06:40.405Z"
   },
   {
    "duration": 86,
    "start_time": "2021-11-11T15:06:41.906Z"
   },
   {
    "duration": 5,
    "start_time": "2021-11-11T15:06:41.995Z"
   },
   {
    "duration": 40,
    "start_time": "2021-11-11T15:06:42.002Z"
   },
   {
    "duration": 10,
    "start_time": "2021-11-11T15:06:42.044Z"
   },
   {
    "duration": 7,
    "start_time": "2021-11-11T15:06:42.057Z"
   },
   {
    "duration": 58,
    "start_time": "2021-11-11T15:06:42.066Z"
   },
   {
    "duration": 27,
    "start_time": "2021-11-11T15:06:42.127Z"
   },
   {
    "duration": 28,
    "start_time": "2021-11-11T15:06:42.157Z"
   },
   {
    "duration": 49,
    "start_time": "2021-11-11T15:06:42.187Z"
   },
   {
    "duration": 539,
    "start_time": "2021-11-11T15:06:42.238Z"
   },
   {
    "duration": 504,
    "start_time": "2021-11-11T15:06:42.780Z"
   },
   {
    "duration": 505,
    "start_time": "2021-11-11T15:06:43.287Z"
   },
   {
    "duration": 505,
    "start_time": "2021-11-11T15:06:43.795Z"
   },
   {
    "duration": 483,
    "start_time": "2021-11-11T15:06:44.302Z"
   },
   {
    "duration": 34,
    "start_time": "2021-11-11T15:06:44.788Z"
   },
   {
    "duration": 294,
    "start_time": "2021-11-11T15:06:44.825Z"
   },
   {
    "duration": 275,
    "start_time": "2021-11-11T15:06:45.123Z"
   },
   {
    "duration": 364,
    "start_time": "2021-11-11T15:06:45.400Z"
   },
   {
    "duration": 267,
    "start_time": "2021-11-11T15:06:45.767Z"
   },
   {
    "duration": 269,
    "start_time": "2021-11-11T15:06:46.037Z"
   },
   {
    "duration": 30,
    "start_time": "2021-11-11T15:06:46.308Z"
   },
   {
    "duration": 252,
    "start_time": "2021-11-11T15:06:46.343Z"
   },
   {
    "duration": 236,
    "start_time": "2021-11-11T15:06:46.598Z"
   },
   {
    "duration": 241,
    "start_time": "2021-11-11T15:06:46.836Z"
   },
   {
    "duration": 231,
    "start_time": "2021-11-11T15:06:47.080Z"
   },
   {
    "duration": 228,
    "start_time": "2021-11-11T15:06:47.313Z"
   },
   {
    "duration": 10,
    "start_time": "2021-11-11T15:06:47.543Z"
   },
   {
    "duration": 13,
    "start_time": "2021-11-11T15:06:47.556Z"
   },
   {
    "duration": 847,
    "start_time": "2021-11-11T15:06:47.571Z"
   },
   {
    "duration": 9,
    "start_time": "2021-11-11T15:06:48.423Z"
   },
   {
    "duration": 11,
    "start_time": "2021-11-11T15:06:48.435Z"
   },
   {
    "duration": 840,
    "start_time": "2021-11-11T15:06:48.448Z"
   },
   {
    "duration": 32,
    "start_time": "2021-11-11T15:06:49.290Z"
   },
   {
    "duration": 19,
    "start_time": "2021-11-11T15:06:49.325Z"
   },
   {
    "duration": 24,
    "start_time": "2021-11-11T15:06:49.347Z"
   },
   {
    "duration": 50,
    "start_time": "2021-11-11T15:06:49.374Z"
   },
   {
    "duration": 21,
    "start_time": "2021-11-11T15:06:49.427Z"
   },
   {
    "duration": 26,
    "start_time": "2021-11-11T15:06:49.452Z"
   },
   {
    "duration": 48,
    "start_time": "2021-11-11T15:06:49.480Z"
   },
   {
    "duration": 23,
    "start_time": "2021-11-11T15:06:49.531Z"
   },
   {
    "duration": 13,
    "start_time": "2021-11-11T15:06:49.557Z"
   },
   {
    "duration": 55,
    "start_time": "2021-11-11T15:06:49.573Z"
   },
   {
    "duration": 2158,
    "start_time": "2021-11-11T15:11:05.640Z"
   },
   {
    "duration": 90,
    "start_time": "2021-11-11T15:11:07.800Z"
   },
   {
    "duration": 4,
    "start_time": "2021-11-11T15:11:07.894Z"
   },
   {
    "duration": 38,
    "start_time": "2021-11-11T15:11:07.902Z"
   },
   {
    "duration": 12,
    "start_time": "2021-11-11T15:11:07.943Z"
   },
   {
    "duration": 7,
    "start_time": "2021-11-11T15:11:07.957Z"
   },
   {
    "duration": 80,
    "start_time": "2021-11-11T15:11:07.967Z"
   },
   {
    "duration": 28,
    "start_time": "2021-11-11T15:11:08.053Z"
   },
   {
    "duration": 50,
    "start_time": "2021-11-11T15:11:08.085Z"
   },
   {
    "duration": 21,
    "start_time": "2021-11-11T15:11:08.138Z"
   },
   {
    "duration": 524,
    "start_time": "2021-11-11T15:11:08.162Z"
   },
   {
    "duration": 515,
    "start_time": "2021-11-11T15:11:08.690Z"
   },
   {
    "duration": 499,
    "start_time": "2021-11-11T15:11:09.208Z"
   },
   {
    "duration": 502,
    "start_time": "2021-11-11T15:11:09.710Z"
   },
   {
    "duration": 487,
    "start_time": "2021-11-11T15:11:10.216Z"
   },
   {
    "duration": 31,
    "start_time": "2021-11-11T15:11:10.705Z"
   },
   {
    "duration": 286,
    "start_time": "2021-11-11T15:11:10.739Z"
   },
   {
    "duration": 319,
    "start_time": "2021-11-11T15:11:11.028Z"
   },
   {
    "duration": 371,
    "start_time": "2021-11-11T15:11:11.350Z"
   },
   {
    "duration": 268,
    "start_time": "2021-11-11T15:11:11.724Z"
   },
   {
    "duration": 274,
    "start_time": "2021-11-11T15:11:11.994Z"
   },
   {
    "duration": 21,
    "start_time": "2021-11-11T15:11:12.271Z"
   },
   {
    "duration": 252,
    "start_time": "2021-11-11T15:11:12.297Z"
   },
   {
    "duration": 234,
    "start_time": "2021-11-11T15:11:12.552Z"
   },
   {
    "duration": 232,
    "start_time": "2021-11-11T15:11:12.789Z"
   },
   {
    "duration": 234,
    "start_time": "2021-11-11T15:11:13.024Z"
   },
   {
    "duration": 232,
    "start_time": "2021-11-11T15:11:13.261Z"
   },
   {
    "duration": 359,
    "start_time": "2021-11-11T15:11:13.496Z"
   },
   {
    "duration": 11,
    "start_time": "2021-11-11T15:11:13.857Z"
   },
   {
    "duration": 11,
    "start_time": "2021-11-11T15:11:13.871Z"
   },
   {
    "duration": 922,
    "start_time": "2021-11-11T15:11:13.885Z"
   },
   {
    "duration": 20,
    "start_time": "2021-11-11T15:11:14.809Z"
   },
   {
    "duration": 16,
    "start_time": "2021-11-11T15:11:14.832Z"
   },
   {
    "duration": 818,
    "start_time": "2021-11-11T15:11:14.851Z"
   },
   {
    "duration": 659,
    "start_time": "2021-11-11T15:11:15.671Z"
   },
   {
    "duration": 19,
    "start_time": "2021-11-11T15:11:16.332Z"
   },
   {
    "duration": 22,
    "start_time": "2021-11-11T15:11:16.354Z"
   },
   {
    "duration": 49,
    "start_time": "2021-11-11T15:11:16.378Z"
   },
   {
    "duration": 511,
    "start_time": "2021-11-11T15:11:16.429Z"
   },
   {
    "duration": 22,
    "start_time": "2021-11-11T15:11:16.942Z"
   },
   {
    "duration": 20,
    "start_time": "2021-11-11T15:11:16.967Z"
   },
   {
    "duration": 49,
    "start_time": "2021-11-11T15:11:16.990Z"
   },
   {
    "duration": 555,
    "start_time": "2021-11-11T15:11:17.042Z"
   },
   {
    "duration": 38,
    "start_time": "2021-11-11T15:11:17.600Z"
   },
   {
    "duration": 15,
    "start_time": "2021-11-11T15:11:17.641Z"
   },
   {
    "duration": 26,
    "start_time": "2021-11-11T15:11:17.659Z"
   },
   {
    "duration": 182,
    "start_time": "2021-11-11T15:11:45.521Z"
   },
   {
    "duration": 1495,
    "start_time": "2021-11-11T15:12:48.813Z"
   },
   {
    "duration": 83,
    "start_time": "2021-11-11T15:12:50.310Z"
   },
   {
    "duration": 4,
    "start_time": "2021-11-11T15:12:50.396Z"
   },
   {
    "duration": 35,
    "start_time": "2021-11-11T15:12:50.403Z"
   },
   {
    "duration": 9,
    "start_time": "2021-11-11T15:12:50.440Z"
   },
   {
    "duration": 8,
    "start_time": "2021-11-11T15:12:50.452Z"
   },
   {
    "duration": 66,
    "start_time": "2021-11-11T15:12:50.463Z"
   },
   {
    "duration": 28,
    "start_time": "2021-11-11T15:12:50.533Z"
   },
   {
    "duration": 27,
    "start_time": "2021-11-11T15:12:50.564Z"
   },
   {
    "duration": 44,
    "start_time": "2021-11-11T15:12:50.593Z"
   },
   {
    "duration": 525,
    "start_time": "2021-11-11T15:12:50.640Z"
   },
   {
    "duration": 525,
    "start_time": "2021-11-11T15:12:51.168Z"
   },
   {
    "duration": 488,
    "start_time": "2021-11-11T15:12:51.696Z"
   },
   {
    "duration": 498,
    "start_time": "2021-11-11T15:12:52.187Z"
   },
   {
    "duration": 495,
    "start_time": "2021-11-11T15:12:52.688Z"
   },
   {
    "duration": 19,
    "start_time": "2021-11-11T15:12:53.186Z"
   },
   {
    "duration": 278,
    "start_time": "2021-11-11T15:12:53.223Z"
   },
   {
    "duration": 266,
    "start_time": "2021-11-11T15:12:53.504Z"
   },
   {
    "duration": 358,
    "start_time": "2021-11-11T15:12:53.773Z"
   },
   {
    "duration": 270,
    "start_time": "2021-11-11T15:12:54.134Z"
   },
   {
    "duration": 275,
    "start_time": "2021-11-11T15:12:54.406Z"
   },
   {
    "duration": 18,
    "start_time": "2021-11-11T15:12:54.683Z"
   },
   {
    "duration": 246,
    "start_time": "2021-11-11T15:12:54.722Z"
   },
   {
    "duration": 238,
    "start_time": "2021-11-11T15:12:54.972Z"
   },
   {
    "duration": 228,
    "start_time": "2021-11-11T15:12:55.221Z"
   },
   {
    "duration": 234,
    "start_time": "2021-11-11T15:12:55.452Z"
   },
   {
    "duration": 251,
    "start_time": "2021-11-11T15:12:55.689Z"
   },
   {
    "duration": 387,
    "start_time": "2021-11-11T15:12:55.943Z"
   },
   {
    "duration": 10,
    "start_time": "2021-11-11T15:12:56.333Z"
   },
   {
    "duration": 11,
    "start_time": "2021-11-11T15:12:56.345Z"
   },
   {
    "duration": 1035,
    "start_time": "2021-11-11T15:12:56.359Z"
   },
   {
    "duration": 10,
    "start_time": "2021-11-11T15:12:57.396Z"
   },
   {
    "duration": 26,
    "start_time": "2021-11-11T15:12:57.409Z"
   },
   {
    "duration": 763,
    "start_time": "2021-11-11T15:12:57.437Z"
   },
   {
    "duration": 673,
    "start_time": "2021-11-11T15:12:58.202Z"
   },
   {
    "duration": 20,
    "start_time": "2021-11-11T15:12:58.877Z"
   },
   {
    "duration": 38,
    "start_time": "2021-11-11T15:12:58.900Z"
   },
   {
    "duration": 26,
    "start_time": "2021-11-11T15:12:58.942Z"
   },
   {
    "duration": 614,
    "start_time": "2021-11-11T15:12:58.971Z"
   },
   {
    "duration": 36,
    "start_time": "2021-11-11T15:12:59.588Z"
   },
   {
    "duration": 24,
    "start_time": "2021-11-11T15:12:59.627Z"
   },
   {
    "duration": 20,
    "start_time": "2021-11-11T15:12:59.653Z"
   },
   {
    "duration": 540,
    "start_time": "2021-11-11T15:12:59.676Z"
   },
   {
    "duration": 191,
    "start_time": "2021-11-11T15:13:00.219Z"
   },
   {
    "duration": 17,
    "start_time": "2021-11-11T15:13:00.413Z"
   },
   {
    "duration": 39,
    "start_time": "2021-11-11T15:13:00.433Z"
   },
   {
    "duration": 1517,
    "start_time": "2021-11-11T18:12:53.490Z"
   },
   {
    "duration": 82,
    "start_time": "2021-11-11T18:12:55.010Z"
   },
   {
    "duration": 4,
    "start_time": "2021-11-11T18:12:55.095Z"
   },
   {
    "duration": 19,
    "start_time": "2021-11-11T18:12:55.102Z"
   },
   {
    "duration": 9,
    "start_time": "2021-11-11T18:12:55.124Z"
   },
   {
    "duration": 46,
    "start_time": "2021-11-11T18:12:55.136Z"
   },
   {
    "duration": 33,
    "start_time": "2021-11-11T18:12:55.185Z"
   },
   {
    "duration": 28,
    "start_time": "2021-11-11T18:12:55.222Z"
   },
   {
    "duration": 51,
    "start_time": "2021-11-11T18:12:55.253Z"
   },
   {
    "duration": 18,
    "start_time": "2021-11-11T18:12:55.306Z"
   },
   {
    "duration": 526,
    "start_time": "2021-11-11T18:12:55.327Z"
   },
   {
    "duration": 516,
    "start_time": "2021-11-11T18:12:55.855Z"
   },
   {
    "duration": 495,
    "start_time": "2021-11-11T18:12:56.373Z"
   },
   {
    "duration": 513,
    "start_time": "2021-11-11T18:12:56.871Z"
   },
   {
    "duration": 484,
    "start_time": "2021-11-11T18:12:57.387Z"
   },
   {
    "duration": 25,
    "start_time": "2021-11-11T18:12:57.873Z"
   },
   {
    "duration": 284,
    "start_time": "2021-11-11T18:12:57.900Z"
   },
   {
    "duration": 278,
    "start_time": "2021-11-11T18:12:58.186Z"
   },
   {
    "duration": 464,
    "start_time": "2021-11-11T18:12:58.466Z"
   },
   {
    "duration": 380,
    "start_time": "2021-11-11T18:12:58.934Z"
   },
   {
    "duration": 489,
    "start_time": "2021-11-11T18:12:59.317Z"
   },
   {
    "duration": 20,
    "start_time": "2021-11-11T18:12:59.809Z"
   },
   {
    "duration": 260,
    "start_time": "2021-11-11T18:12:59.837Z"
   },
   {
    "duration": 230,
    "start_time": "2021-11-11T18:13:00.101Z"
   },
   {
    "duration": 221,
    "start_time": "2021-11-11T18:13:00.334Z"
   },
   {
    "duration": 244,
    "start_time": "2021-11-11T18:13:00.558Z"
   },
   {
    "duration": 252,
    "start_time": "2021-11-11T18:13:00.805Z"
   },
   {
    "duration": 365,
    "start_time": "2021-11-11T18:13:01.060Z"
   },
   {
    "duration": 12,
    "start_time": "2021-11-11T18:13:01.428Z"
   },
   {
    "duration": 21,
    "start_time": "2021-11-11T18:13:01.443Z"
   },
   {
    "duration": 791,
    "start_time": "2021-11-11T18:13:01.466Z"
   },
   {
    "duration": 21,
    "start_time": "2021-11-11T18:13:02.260Z"
   },
   {
    "duration": 14,
    "start_time": "2021-11-11T18:13:02.284Z"
   },
   {
    "duration": 828,
    "start_time": "2021-11-11T18:13:02.300Z"
   },
   {
    "duration": 677,
    "start_time": "2021-11-11T18:13:03.130Z"
   },
   {
    "duration": 22,
    "start_time": "2021-11-11T18:13:03.810Z"
   },
   {
    "duration": 48,
    "start_time": "2021-11-11T18:13:03.835Z"
   },
   {
    "duration": 21,
    "start_time": "2021-11-11T18:13:03.886Z"
   },
   {
    "duration": 500,
    "start_time": "2021-11-11T18:13:03.910Z"
   },
   {
    "duration": 21,
    "start_time": "2021-11-11T18:13:04.413Z"
   },
   {
    "duration": 48,
    "start_time": "2021-11-11T18:13:04.436Z"
   },
   {
    "duration": 19,
    "start_time": "2021-11-11T18:13:04.487Z"
   },
   {
    "duration": 530,
    "start_time": "2021-11-11T18:13:04.509Z"
   },
   {
    "duration": 193,
    "start_time": "2021-11-11T18:13:05.042Z"
   },
   {
    "duration": 12,
    "start_time": "2021-11-11T18:13:05.238Z"
   },
   {
    "duration": 39,
    "start_time": "2021-11-11T18:13:05.252Z"
   },
   {
    "duration": 5,
    "start_time": "2021-11-11T18:16:44.763Z"
   },
   {
    "duration": 6,
    "start_time": "2021-11-11T18:17:32.728Z"
   },
   {
    "duration": 1443,
    "start_time": "2021-11-12T05:20:51.136Z"
   },
   {
    "duration": 89,
    "start_time": "2021-11-12T05:20:52.582Z"
   },
   {
    "duration": 5,
    "start_time": "2021-11-12T05:20:52.674Z"
   },
   {
    "duration": 40,
    "start_time": "2021-11-12T05:20:52.682Z"
   },
   {
    "duration": 10,
    "start_time": "2021-11-12T05:20:52.725Z"
   },
   {
    "duration": 11,
    "start_time": "2021-11-12T05:20:52.737Z"
   },
   {
    "duration": 35,
    "start_time": "2021-11-12T05:20:52.751Z"
   },
   {
    "duration": 56,
    "start_time": "2021-11-12T05:20:52.790Z"
   },
   {
    "duration": 26,
    "start_time": "2021-11-12T05:20:52.849Z"
   },
   {
    "duration": 51,
    "start_time": "2021-11-12T05:20:52.877Z"
   },
   {
    "duration": 506,
    "start_time": "2021-11-12T05:20:52.931Z"
   },
   {
    "duration": 517,
    "start_time": "2021-11-12T05:20:53.439Z"
   },
   {
    "duration": 494,
    "start_time": "2021-11-12T05:20:53.959Z"
   },
   {
    "duration": 500,
    "start_time": "2021-11-12T05:20:54.455Z"
   },
   {
    "duration": 494,
    "start_time": "2021-11-12T05:20:54.957Z"
   },
   {
    "duration": 20,
    "start_time": "2021-11-12T05:20:55.454Z"
   },
   {
    "duration": 276,
    "start_time": "2021-11-12T05:20:55.477Z"
   },
   {
    "duration": 279,
    "start_time": "2021-11-12T05:20:55.755Z"
   },
   {
    "duration": 350,
    "start_time": "2021-11-12T05:20:56.036Z"
   },
   {
    "duration": 260,
    "start_time": "2021-11-12T05:20:56.388Z"
   },
   {
    "duration": 275,
    "start_time": "2021-11-12T05:20:56.651Z"
   },
   {
    "duration": 7,
    "start_time": "2021-11-12T05:20:56.928Z"
   },
   {
    "duration": 18,
    "start_time": "2021-11-12T05:20:56.940Z"
   },
   {
    "duration": 244,
    "start_time": "2021-11-12T05:20:56.961Z"
   },
   {
    "duration": 229,
    "start_time": "2021-11-12T05:20:57.208Z"
   },
   {
    "duration": 222,
    "start_time": "2021-11-12T05:20:57.440Z"
   },
   {
    "duration": 243,
    "start_time": "2021-11-12T05:20:57.665Z"
   },
   {
    "duration": 369,
    "start_time": "2021-11-12T05:20:57.910Z"
   },
   {
    "duration": 373,
    "start_time": "2021-11-12T05:20:58.282Z"
   },
   {
    "duration": 12,
    "start_time": "2021-11-12T05:20:58.658Z"
   },
   {
    "duration": 24,
    "start_time": "2021-11-12T05:20:58.673Z"
   },
   {
    "duration": 877,
    "start_time": "2021-11-12T05:20:58.700Z"
   },
   {
    "duration": 10,
    "start_time": "2021-11-12T05:20:59.580Z"
   },
   {
    "duration": 30,
    "start_time": "2021-11-12T05:20:59.592Z"
   },
   {
    "duration": 804,
    "start_time": "2021-11-12T05:20:59.625Z"
   },
   {
    "duration": 692,
    "start_time": "2021-11-12T05:21:00.432Z"
   },
   {
    "duration": 22,
    "start_time": "2021-11-12T05:21:01.127Z"
   },
   {
    "duration": 36,
    "start_time": "2021-11-12T05:21:01.152Z"
   },
   {
    "duration": 43,
    "start_time": "2021-11-12T05:21:01.191Z"
   },
   {
    "duration": 519,
    "start_time": "2021-11-12T05:21:01.236Z"
   },
   {
    "duration": 20,
    "start_time": "2021-11-12T05:21:01.758Z"
   },
   {
    "duration": 44,
    "start_time": "2021-11-12T05:21:01.780Z"
   },
   {
    "duration": 19,
    "start_time": "2021-11-12T05:21:01.827Z"
   },
   {
    "duration": 518,
    "start_time": "2021-11-12T05:21:01.848Z"
   },
   {
    "duration": 200,
    "start_time": "2021-11-12T05:21:02.369Z"
   },
   {
    "duration": 13,
    "start_time": "2021-11-12T05:21:02.571Z"
   },
   {
    "duration": 37,
    "start_time": "2021-11-12T05:21:02.587Z"
   },
   {
    "duration": 519,
    "start_time": "2021-11-12T05:22:35.017Z"
   },
   {
    "duration": 504,
    "start_time": "2021-11-12T05:24:25.872Z"
   },
   {
    "duration": 465,
    "start_time": "2021-11-12T05:24:49.446Z"
   },
   {
    "duration": 509,
    "start_time": "2021-11-12T05:25:32.353Z"
   },
   {
    "duration": 476,
    "start_time": "2021-11-12T05:25:46.191Z"
   },
   {
    "duration": 603,
    "start_time": "2021-11-12T05:26:01.591Z"
   },
   {
    "duration": 466,
    "start_time": "2021-11-12T05:26:10.711Z"
   },
   {
    "duration": 494,
    "start_time": "2021-11-12T05:26:21.567Z"
   },
   {
    "duration": 494,
    "start_time": "2021-11-12T05:26:31.135Z"
   },
   {
    "duration": 457,
    "start_time": "2021-11-12T05:26:46.215Z"
   },
   {
    "duration": 484,
    "start_time": "2021-11-12T05:26:56.191Z"
   },
   {
    "duration": 441,
    "start_time": "2021-11-12T05:27:03.902Z"
   },
   {
    "duration": 477,
    "start_time": "2021-11-12T05:44:30.432Z"
   },
   {
    "duration": 1595,
    "start_time": "2021-11-12T05:52:56.100Z"
   },
   {
    "duration": 87,
    "start_time": "2021-11-12T05:52:57.698Z"
   },
   {
    "duration": 4,
    "start_time": "2021-11-12T05:52:57.788Z"
   },
   {
    "duration": 35,
    "start_time": "2021-11-12T05:52:57.795Z"
   },
   {
    "duration": 12,
    "start_time": "2021-11-12T05:52:57.833Z"
   },
   {
    "duration": 8,
    "start_time": "2021-11-12T05:52:57.848Z"
   },
   {
    "duration": 66,
    "start_time": "2021-11-12T05:52:57.858Z"
   },
   {
    "duration": 28,
    "start_time": "2021-11-12T05:52:57.928Z"
   },
   {
    "duration": 27,
    "start_time": "2021-11-12T05:52:57.959Z"
   },
   {
    "duration": 44,
    "start_time": "2021-11-12T05:52:57.989Z"
   },
   {
    "duration": 587,
    "start_time": "2021-11-12T05:52:58.035Z"
   },
   {
    "duration": 497,
    "start_time": "2021-11-12T05:52:58.625Z"
   },
   {
    "duration": 463,
    "start_time": "2021-11-12T05:52:59.124Z"
   },
   {
    "duration": 470,
    "start_time": "2021-11-12T05:52:59.589Z"
   },
   {
    "duration": 455,
    "start_time": "2021-11-12T05:53:00.062Z"
   },
   {
    "duration": 22,
    "start_time": "2021-11-12T05:53:00.522Z"
   },
   {
    "duration": 298,
    "start_time": "2021-11-12T05:53:00.547Z"
   },
   {
    "duration": 284,
    "start_time": "2021-11-12T05:53:00.847Z"
   },
   {
    "duration": 370,
    "start_time": "2021-11-12T05:53:01.134Z"
   },
   {
    "duration": 276,
    "start_time": "2021-11-12T05:53:01.507Z"
   },
   {
    "duration": 277,
    "start_time": "2021-11-12T05:53:01.786Z"
   },
   {
    "duration": 277,
    "start_time": "2021-11-12T05:53:02.066Z"
   },
   {
    "duration": 280,
    "start_time": "2021-11-12T05:53:02.351Z"
   },
   {
    "duration": 373,
    "start_time": "2021-11-12T05:53:02.634Z"
   },
   {
    "duration": 278,
    "start_time": "2021-11-12T05:53:03.009Z"
   },
   {
    "duration": 266,
    "start_time": "2021-11-12T05:53:03.290Z"
   },
   {
    "duration": 6,
    "start_time": "2021-11-12T05:53:03.558Z"
   },
   {
    "duration": 19,
    "start_time": "2021-11-12T05:53:03.566Z"
   },
   {
    "duration": 248,
    "start_time": "2021-11-12T05:53:03.588Z"
   },
   {
    "duration": 228,
    "start_time": "2021-11-12T05:53:03.839Z"
   },
   {
    "duration": 231,
    "start_time": "2021-11-12T05:53:04.070Z"
   },
   {
    "duration": 236,
    "start_time": "2021-11-12T05:53:04.304Z"
   },
   {
    "duration": 237,
    "start_time": "2021-11-12T05:53:04.543Z"
   },
   {
    "duration": 578,
    "start_time": "2021-11-12T05:53:04.782Z"
   },
   {
    "duration": 10,
    "start_time": "2021-11-12T05:53:05.362Z"
   },
   {
    "duration": 12,
    "start_time": "2021-11-12T05:53:05.374Z"
   },
   {
    "duration": 909,
    "start_time": "2021-11-12T05:53:05.388Z"
   },
   {
    "duration": 22,
    "start_time": "2021-11-12T05:53:06.300Z"
   },
   {
    "duration": 11,
    "start_time": "2021-11-12T05:53:06.325Z"
   },
   {
    "duration": 864,
    "start_time": "2021-11-12T05:53:06.339Z"
   },
   {
    "duration": 639,
    "start_time": "2021-11-12T05:53:07.205Z"
   },
   {
    "duration": 27,
    "start_time": "2021-11-12T05:53:07.847Z"
   },
   {
    "duration": 52,
    "start_time": "2021-11-12T05:53:07.878Z"
   },
   {
    "duration": 32,
    "start_time": "2021-11-12T05:53:07.934Z"
   },
   {
    "duration": 842,
    "start_time": "2021-11-12T05:53:07.969Z"
   },
   {
    "duration": 7554,
    "start_time": "2021-11-12T05:53:01.260Z"
   },
   {
    "duration": 7539,
    "start_time": "2021-11-12T05:53:01.277Z"
   },
   {
    "duration": 7528,
    "start_time": "2021-11-12T05:53:01.289Z"
   },
   {
    "duration": 7516,
    "start_time": "2021-11-12T05:53:01.302Z"
   },
   {
    "duration": 7510,
    "start_time": "2021-11-12T05:53:01.310Z"
   },
   {
    "duration": 7498,
    "start_time": "2021-11-12T05:53:01.323Z"
   },
   {
    "duration": 7485,
    "start_time": "2021-11-12T05:53:01.338Z"
   },
   {
    "duration": 592,
    "start_time": "2021-11-12T05:53:37.330Z"
   },
   {
    "duration": 289,
    "start_time": "2021-11-12T05:55:07.729Z"
   },
   {
    "duration": 497,
    "start_time": "2021-11-12T05:56:20.714Z"
   },
   {
    "duration": 759,
    "start_time": "2021-11-12T06:21:09.757Z"
   },
   {
    "duration": 982,
    "start_time": "2021-11-12T06:21:23.911Z"
   },
   {
    "duration": 10,
    "start_time": "2021-11-12T06:23:24.967Z"
   },
   {
    "duration": 1525,
    "start_time": "2021-11-12T06:23:59.987Z"
   },
   {
    "duration": 93,
    "start_time": "2021-11-12T06:24:01.515Z"
   },
   {
    "duration": 10,
    "start_time": "2021-11-12T06:24:01.612Z"
   },
   {
    "duration": 36,
    "start_time": "2021-11-12T06:24:01.625Z"
   },
   {
    "duration": 34,
    "start_time": "2021-11-12T06:24:01.663Z"
   },
   {
    "duration": 28,
    "start_time": "2021-11-12T06:24:01.699Z"
   },
   {
    "duration": 64,
    "start_time": "2021-11-12T06:24:01.729Z"
   },
   {
    "duration": 26,
    "start_time": "2021-11-12T06:24:01.797Z"
   },
   {
    "duration": 28,
    "start_time": "2021-11-12T06:24:01.826Z"
   },
   {
    "duration": 28,
    "start_time": "2021-11-12T06:24:01.856Z"
   },
   {
    "duration": 491,
    "start_time": "2021-11-12T06:24:01.887Z"
   },
   {
    "duration": 510,
    "start_time": "2021-11-12T06:24:02.381Z"
   },
   {
    "duration": 552,
    "start_time": "2021-11-12T06:24:02.894Z"
   },
   {
    "duration": 463,
    "start_time": "2021-11-12T06:24:03.449Z"
   },
   {
    "duration": 472,
    "start_time": "2021-11-12T06:24:03.915Z"
   },
   {
    "duration": 33,
    "start_time": "2021-11-12T06:24:04.390Z"
   },
   {
    "duration": 297,
    "start_time": "2021-11-12T06:24:04.425Z"
   },
   {
    "duration": 268,
    "start_time": "2021-11-12T06:24:04.726Z"
   },
   {
    "duration": 364,
    "start_time": "2021-11-12T06:24:04.996Z"
   },
   {
    "duration": 267,
    "start_time": "2021-11-12T06:24:05.362Z"
   },
   {
    "duration": 275,
    "start_time": "2021-11-12T06:24:05.631Z"
   },
   {
    "duration": 274,
    "start_time": "2021-11-12T06:24:05.908Z"
   },
   {
    "duration": 267,
    "start_time": "2021-11-12T06:24:06.188Z"
   },
   {
    "duration": 283,
    "start_time": "2021-11-12T06:24:06.458Z"
   },
   {
    "duration": 280,
    "start_time": "2021-11-12T06:24:06.744Z"
   },
   {
    "duration": 275,
    "start_time": "2021-11-12T06:24:07.028Z"
   },
   {
    "duration": 6,
    "start_time": "2021-11-12T06:24:07.305Z"
   },
   {
    "duration": 18,
    "start_time": "2021-11-12T06:24:07.323Z"
   },
   {
    "duration": 256,
    "start_time": "2021-11-12T06:24:07.343Z"
   },
   {
    "duration": 307,
    "start_time": "2021-11-12T06:24:07.601Z"
   },
   {
    "duration": 238,
    "start_time": "2021-11-12T06:24:07.912Z"
   },
   {
    "duration": 248,
    "start_time": "2021-11-12T06:24:08.153Z"
   },
   {
    "duration": 257,
    "start_time": "2021-11-12T06:24:08.404Z"
   },
   {
    "duration": 633,
    "start_time": "2021-11-12T06:24:08.664Z"
   },
   {
    "duration": 10,
    "start_time": "2021-11-12T06:24:09.300Z"
   },
   {
    "duration": 10,
    "start_time": "2021-11-12T06:24:09.323Z"
   },
   {
    "duration": 863,
    "start_time": "2021-11-12T06:24:09.335Z"
   },
   {
    "duration": 22,
    "start_time": "2021-11-12T06:24:10.201Z"
   },
   {
    "duration": 15,
    "start_time": "2021-11-12T06:24:10.226Z"
   },
   {
    "duration": 853,
    "start_time": "2021-11-12T06:24:10.243Z"
   },
   {
    "duration": 560,
    "start_time": "2021-11-12T06:24:11.098Z"
   },
   {
    "duration": 20,
    "start_time": "2021-11-12T06:24:11.660Z"
   },
   {
    "duration": 45,
    "start_time": "2021-11-12T06:24:11.683Z"
   },
   {
    "duration": 19,
    "start_time": "2021-11-12T06:24:11.731Z"
   },
   {
    "duration": 607,
    "start_time": "2021-11-12T06:24:11.753Z"
   },
   {
    "duration": 21,
    "start_time": "2021-11-12T06:24:12.362Z"
   },
   {
    "duration": 43,
    "start_time": "2021-11-12T06:24:12.385Z"
   },
   {
    "duration": 20,
    "start_time": "2021-11-12T06:24:12.430Z"
   },
   {
    "duration": 524,
    "start_time": "2021-11-12T06:24:12.453Z"
   },
   {
    "duration": 187,
    "start_time": "2021-11-12T06:24:12.980Z"
   },
   {
    "duration": 12,
    "start_time": "2021-11-12T06:24:13.169Z"
   },
   {
    "duration": 19,
    "start_time": "2021-11-12T06:24:13.184Z"
   },
   {
    "duration": 687,
    "start_time": "2021-11-12T06:25:01.790Z"
   },
   {
    "duration": 677,
    "start_time": "2021-11-12T06:25:11.310Z"
   },
   {
    "duration": 743,
    "start_time": "2021-11-12T11:27:00.091Z"
   },
   {
    "duration": 539,
    "start_time": "2021-11-12T11:29:35.495Z"
   },
   {
    "duration": 556,
    "start_time": "2021-11-12T11:30:11.675Z"
   },
   {
    "duration": 572,
    "start_time": "2021-11-12T11:30:25.319Z"
   },
   {
    "duration": 594,
    "start_time": "2021-11-12T11:31:14.440Z"
   },
   {
    "duration": 323,
    "start_time": "2021-11-12T11:37:39.253Z"
   },
   {
    "duration": 279,
    "start_time": "2021-11-12T11:38:07.148Z"
   },
   {
    "duration": 289,
    "start_time": "2021-11-12T11:39:16.936Z"
   },
   {
    "duration": 289,
    "start_time": "2021-11-12T11:42:57.321Z"
   },
   {
    "duration": 284,
    "start_time": "2021-11-12T11:43:42.325Z"
   },
   {
    "duration": 97,
    "start_time": "2021-11-12T11:44:44.273Z"
   },
   {
    "duration": 312,
    "start_time": "2021-11-12T11:44:51.861Z"
   },
   {
    "duration": 87,
    "start_time": "2021-11-12T11:52:56.102Z"
   },
   {
    "duration": 289,
    "start_time": "2021-11-12T11:53:10.075Z"
   },
   {
    "duration": 443,
    "start_time": "2021-11-12T11:54:45.895Z"
   },
   {
    "duration": 288,
    "start_time": "2021-11-12T11:55:26.770Z"
   },
   {
    "duration": 303,
    "start_time": "2021-11-12T11:56:37.683Z"
   },
   {
    "duration": 307,
    "start_time": "2021-11-12T11:57:43.587Z"
   },
   {
    "duration": 242,
    "start_time": "2021-11-12T12:03:42.576Z"
   },
   {
    "duration": 306,
    "start_time": "2021-11-12T12:04:48.016Z"
   },
   {
    "duration": 294,
    "start_time": "2021-11-12T12:05:12.024Z"
   },
   {
    "duration": 1527,
    "start_time": "2021-11-12T12:05:25.467Z"
   },
   {
    "duration": 90,
    "start_time": "2021-11-12T12:05:26.997Z"
   },
   {
    "duration": 5,
    "start_time": "2021-11-12T12:05:27.090Z"
   },
   {
    "duration": 40,
    "start_time": "2021-11-12T12:05:27.098Z"
   },
   {
    "duration": 10,
    "start_time": "2021-11-12T12:05:27.141Z"
   },
   {
    "duration": 15,
    "start_time": "2021-11-12T12:05:27.154Z"
   },
   {
    "duration": 62,
    "start_time": "2021-11-12T12:05:27.171Z"
   },
   {
    "duration": 44,
    "start_time": "2021-11-12T12:05:27.237Z"
   },
   {
    "duration": 63,
    "start_time": "2021-11-12T12:05:27.285Z"
   },
   {
    "duration": 28,
    "start_time": "2021-11-12T12:05:27.351Z"
   },
   {
    "duration": 779,
    "start_time": "2021-11-12T12:05:27.382Z"
   },
   {
    "duration": 767,
    "start_time": "2021-11-12T12:05:28.164Z"
   },
   {
    "duration": 742,
    "start_time": "2021-11-12T12:05:28.934Z"
   },
   {
    "duration": 755,
    "start_time": "2021-11-12T12:05:29.680Z"
   },
   {
    "duration": 749,
    "start_time": "2021-11-12T12:05:30.438Z"
   },
   {
    "duration": 49,
    "start_time": "2021-11-12T12:05:31.190Z"
   },
   {
    "duration": 429,
    "start_time": "2021-11-12T12:05:31.242Z"
   },
   {
    "duration": 416,
    "start_time": "2021-11-12T12:05:31.675Z"
   },
   {
    "duration": 536,
    "start_time": "2021-11-12T12:05:32.095Z"
   },
   {
    "duration": 291,
    "start_time": "2021-11-12T12:05:32.635Z"
   },
   {
    "duration": 288,
    "start_time": "2021-11-12T12:05:32.930Z"
   },
   {
    "duration": 277,
    "start_time": "2021-11-12T12:05:33.221Z"
   },
   {
    "duration": 291,
    "start_time": "2021-11-12T12:05:33.506Z"
   },
   {
    "duration": 305,
    "start_time": "2021-11-12T12:05:33.801Z"
   },
   {
    "duration": 290,
    "start_time": "2021-11-12T12:05:34.109Z"
   },
   {
    "duration": 279,
    "start_time": "2021-11-12T12:05:34.401Z"
   },
   {
    "duration": 7,
    "start_time": "2021-11-12T12:05:34.683Z"
   },
   {
    "duration": 43,
    "start_time": "2021-11-12T12:05:34.692Z"
   },
   {
    "duration": 255,
    "start_time": "2021-11-12T12:05:34.738Z"
   },
   {
    "duration": 239,
    "start_time": "2021-11-12T12:05:34.997Z"
   },
   {
    "duration": 242,
    "start_time": "2021-11-12T12:05:35.239Z"
   },
   {
    "duration": 243,
    "start_time": "2021-11-12T12:05:35.484Z"
   },
   {
    "duration": 253,
    "start_time": "2021-11-12T12:05:35.730Z"
   },
   {
    "duration": 631,
    "start_time": "2021-11-12T12:05:35.986Z"
   },
   {
    "duration": 13,
    "start_time": "2021-11-12T12:05:36.623Z"
   },
   {
    "duration": 22,
    "start_time": "2021-11-12T12:05:36.639Z"
   },
   {
    "duration": 986,
    "start_time": "2021-11-12T12:05:36.664Z"
   },
   {
    "duration": 11,
    "start_time": "2021-11-12T12:05:37.652Z"
   },
   {
    "duration": 14,
    "start_time": "2021-11-12T12:05:37.666Z"
   },
   {
    "duration": 859,
    "start_time": "2021-11-12T12:05:37.683Z"
   },
   {
    "duration": 940,
    "start_time": "2021-11-12T12:05:38.545Z"
   },
   {
    "duration": 34,
    "start_time": "2021-11-12T12:05:39.489Z"
   },
   {
    "duration": 29,
    "start_time": "2021-11-12T12:05:39.526Z"
   },
   {
    "duration": 39,
    "start_time": "2021-11-12T12:05:39.559Z"
   },
   {
    "duration": 504,
    "start_time": "2021-11-12T12:05:39.601Z"
   },
   {
    "duration": 310,
    "start_time": "2021-11-12T12:05:40.108Z"
   },
   {
    "duration": 310,
    "start_time": "2021-11-12T12:05:40.421Z"
   },
   {
    "duration": 21,
    "start_time": "2021-11-12T12:05:40.733Z"
   },
   {
    "duration": 22,
    "start_time": "2021-11-12T12:05:40.757Z"
   },
   {
    "duration": 55,
    "start_time": "2021-11-12T12:05:40.782Z"
   },
   {
    "duration": 401,
    "start_time": "2021-11-12T12:05:40.841Z"
   },
   {
    "duration": 318,
    "start_time": "2021-11-12T12:05:41.244Z"
   },
   {
    "duration": 329,
    "start_time": "2021-11-12T12:05:41.565Z"
   },
   {
    "duration": 442,
    "start_time": "2021-11-12T12:05:41.896Z"
   },
   {
    "duration": 1694,
    "start_time": "2021-11-12T12:05:40.648Z"
   },
   {
    "duration": 1691,
    "start_time": "2021-11-12T12:05:40.653Z"
   },
   {
    "duration": 197,
    "start_time": "2021-11-12T12:05:56.725Z"
   },
   {
    "duration": 185,
    "start_time": "2021-11-12T12:06:37.161Z"
   },
   {
    "duration": 1579,
    "start_time": "2021-11-12T12:08:22.525Z"
   },
   {
    "duration": 87,
    "start_time": "2021-11-12T12:08:24.107Z"
   },
   {
    "duration": 5,
    "start_time": "2021-11-12T12:08:24.197Z"
   },
   {
    "duration": 19,
    "start_time": "2021-11-12T12:08:24.222Z"
   },
   {
    "duration": 18,
    "start_time": "2021-11-12T12:08:24.243Z"
   },
   {
    "duration": 6,
    "start_time": "2021-11-12T12:08:24.264Z"
   },
   {
    "duration": 74,
    "start_time": "2021-11-12T12:08:24.272Z"
   },
   {
    "duration": 28,
    "start_time": "2021-11-12T12:08:24.349Z"
   },
   {
    "duration": 53,
    "start_time": "2021-11-12T12:08:24.380Z"
   },
   {
    "duration": 18,
    "start_time": "2021-11-12T12:08:24.436Z"
   },
   {
    "duration": 511,
    "start_time": "2021-11-12T12:08:24.456Z"
   },
   {
    "duration": 503,
    "start_time": "2021-11-12T12:08:24.970Z"
   },
   {
    "duration": 475,
    "start_time": "2021-11-12T12:08:25.476Z"
   },
   {
    "duration": 494,
    "start_time": "2021-11-12T12:08:25.954Z"
   },
   {
    "duration": 475,
    "start_time": "2021-11-12T12:08:26.450Z"
   },
   {
    "duration": 21,
    "start_time": "2021-11-12T12:08:26.928Z"
   },
   {
    "duration": 298,
    "start_time": "2021-11-12T12:08:26.951Z"
   },
   {
    "duration": 283,
    "start_time": "2021-11-12T12:08:27.251Z"
   },
   {
    "duration": 370,
    "start_time": "2021-11-12T12:08:27.537Z"
   },
   {
    "duration": 276,
    "start_time": "2021-11-12T12:08:27.910Z"
   },
   {
    "duration": 288,
    "start_time": "2021-11-12T12:08:28.190Z"
   },
   {
    "duration": 275,
    "start_time": "2021-11-12T12:08:28.481Z"
   },
   {
    "duration": 287,
    "start_time": "2021-11-12T12:08:28.764Z"
   },
   {
    "duration": 304,
    "start_time": "2021-11-12T12:08:29.055Z"
   },
   {
    "duration": 279,
    "start_time": "2021-11-12T12:08:29.362Z"
   },
   {
    "duration": 281,
    "start_time": "2021-11-12T12:08:29.644Z"
   },
   {
    "duration": 8,
    "start_time": "2021-11-12T12:08:29.928Z"
   },
   {
    "duration": 25,
    "start_time": "2021-11-12T12:08:29.939Z"
   },
   {
    "duration": 382,
    "start_time": "2021-11-12T12:08:29.967Z"
   },
   {
    "duration": 342,
    "start_time": "2021-11-12T12:08:30.352Z"
   },
   {
    "duration": 332,
    "start_time": "2021-11-12T12:08:30.698Z"
   },
   {
    "duration": 253,
    "start_time": "2021-11-12T12:08:31.034Z"
   },
   {
    "duration": 261,
    "start_time": "2021-11-12T12:08:31.289Z"
   },
   {
    "duration": 606,
    "start_time": "2021-11-12T12:08:31.553Z"
   },
   {
    "duration": 11,
    "start_time": "2021-11-12T12:08:32.160Z"
   },
   {
    "duration": 20,
    "start_time": "2021-11-12T12:08:32.173Z"
   },
   {
    "duration": 828,
    "start_time": "2021-11-12T12:08:32.196Z"
   },
   {
    "duration": 11,
    "start_time": "2021-11-12T12:08:33.027Z"
   },
   {
    "duration": 12,
    "start_time": "2021-11-12T12:08:33.041Z"
   },
   {
    "duration": 847,
    "start_time": "2021-11-12T12:08:33.055Z"
   },
   {
    "duration": 582,
    "start_time": "2021-11-12T12:08:33.904Z"
   },
   {
    "duration": 35,
    "start_time": "2021-11-12T12:08:34.488Z"
   },
   {
    "duration": 19,
    "start_time": "2021-11-12T12:08:34.525Z"
   },
   {
    "duration": 19,
    "start_time": "2021-11-12T12:08:34.547Z"
   },
   {
    "duration": 324,
    "start_time": "2021-11-12T12:08:34.569Z"
   },
   {
    "duration": 309,
    "start_time": "2021-11-12T12:08:34.895Z"
   },
   {
    "duration": 296,
    "start_time": "2021-11-12T12:08:35.207Z"
   },
   {
    "duration": 24,
    "start_time": "2021-11-12T12:08:35.506Z"
   },
   {
    "duration": 43,
    "start_time": "2021-11-12T12:08:35.532Z"
   },
   {
    "duration": 38,
    "start_time": "2021-11-12T12:08:35.578Z"
   },
   {
    "duration": 292,
    "start_time": "2021-11-12T12:08:35.619Z"
   },
   {
    "duration": 312,
    "start_time": "2021-11-12T12:08:35.913Z"
   },
   {
    "duration": 328,
    "start_time": "2021-11-12T12:08:36.228Z"
   },
   {
    "duration": 216,
    "start_time": "2021-11-12T12:08:36.560Z"
   },
   {
    "duration": 432,
    "start_time": "2021-11-12T12:08:36.779Z"
   },
   {
    "duration": 1707,
    "start_time": "2021-11-12T12:08:35.508Z"
   },
   {
    "duration": 1702,
    "start_time": "2021-11-12T12:08:35.515Z"
   },
   {
    "duration": 1699,
    "start_time": "2021-11-12T12:08:35.520Z"
   },
   {
    "duration": 1538,
    "start_time": "2021-11-12T12:08:56.913Z"
   },
   {
    "duration": 86,
    "start_time": "2021-11-12T12:08:58.454Z"
   },
   {
    "duration": 5,
    "start_time": "2021-11-12T12:08:58.543Z"
   },
   {
    "duration": 22,
    "start_time": "2021-11-12T12:08:58.551Z"
   },
   {
    "duration": 10,
    "start_time": "2021-11-12T12:08:58.576Z"
   },
   {
    "duration": 35,
    "start_time": "2021-11-12T12:08:58.588Z"
   },
   {
    "duration": 38,
    "start_time": "2021-11-12T12:08:58.626Z"
   },
   {
    "duration": 57,
    "start_time": "2021-11-12T12:08:58.668Z"
   },
   {
    "duration": 28,
    "start_time": "2021-11-12T12:08:58.729Z"
   },
   {
    "duration": 20,
    "start_time": "2021-11-12T12:08:58.759Z"
   },
   {
    "duration": 515,
    "start_time": "2021-11-12T12:08:58.781Z"
   },
   {
    "duration": 499,
    "start_time": "2021-11-12T12:08:59.299Z"
   },
   {
    "duration": 483,
    "start_time": "2021-11-12T12:08:59.800Z"
   },
   {
    "duration": 667,
    "start_time": "2021-11-12T12:09:00.285Z"
   },
   {
    "duration": 690,
    "start_time": "2021-11-12T12:09:00.955Z"
   },
   {
    "duration": 30,
    "start_time": "2021-11-12T12:09:01.648Z"
   },
   {
    "duration": 412,
    "start_time": "2021-11-12T12:09:01.681Z"
   },
   {
    "duration": 280,
    "start_time": "2021-11-12T12:09:02.097Z"
   },
   {
    "duration": 372,
    "start_time": "2021-11-12T12:09:02.380Z"
   },
   {
    "duration": 273,
    "start_time": "2021-11-12T12:09:02.755Z"
   },
   {
    "duration": 294,
    "start_time": "2021-11-12T12:09:03.031Z"
   },
   {
    "duration": 262,
    "start_time": "2021-11-12T12:09:03.328Z"
   },
   {
    "duration": 284,
    "start_time": "2021-11-12T12:09:03.596Z"
   },
   {
    "duration": 301,
    "start_time": "2021-11-12T12:09:03.883Z"
   },
   {
    "duration": 285,
    "start_time": "2021-11-12T12:09:04.187Z"
   },
   {
    "duration": 273,
    "start_time": "2021-11-12T12:09:04.475Z"
   },
   {
    "duration": 5,
    "start_time": "2021-11-12T12:09:04.751Z"
   },
   {
    "duration": 35,
    "start_time": "2021-11-12T12:09:04.758Z"
   },
   {
    "duration": 242,
    "start_time": "2021-11-12T12:09:04.796Z"
   },
   {
    "duration": 243,
    "start_time": "2021-11-12T12:09:05.041Z"
   },
   {
    "duration": 245,
    "start_time": "2021-11-12T12:09:05.286Z"
   },
   {
    "duration": 240,
    "start_time": "2021-11-12T12:09:05.534Z"
   },
   {
    "duration": 256,
    "start_time": "2021-11-12T12:09:05.777Z"
   },
   {
    "duration": 620,
    "start_time": "2021-11-12T12:09:06.036Z"
   },
   {
    "duration": 11,
    "start_time": "2021-11-12T12:09:06.659Z"
   },
   {
    "duration": 29,
    "start_time": "2021-11-12T12:09:06.672Z"
   },
   {
    "duration": 920,
    "start_time": "2021-11-12T12:09:06.704Z"
   },
   {
    "duration": 10,
    "start_time": "2021-11-12T12:09:07.627Z"
   },
   {
    "duration": 22,
    "start_time": "2021-11-12T12:09:07.639Z"
   },
   {
    "duration": 1189,
    "start_time": "2021-11-12T12:09:07.664Z"
   },
   {
    "duration": 600,
    "start_time": "2021-11-12T12:09:08.855Z"
   },
   {
    "duration": 19,
    "start_time": "2021-11-12T12:09:09.458Z"
   },
   {
    "duration": 45,
    "start_time": "2021-11-12T12:09:09.480Z"
   },
   {
    "duration": 22,
    "start_time": "2021-11-12T12:09:09.528Z"
   },
   {
    "duration": 324,
    "start_time": "2021-11-12T12:09:09.553Z"
   },
   {
    "duration": 419,
    "start_time": "2021-11-12T12:09:09.880Z"
   },
   {
    "duration": 399,
    "start_time": "2021-11-12T12:09:10.302Z"
   },
   {
    "duration": 37,
    "start_time": "2021-11-12T12:09:10.704Z"
   },
   {
    "duration": 34,
    "start_time": "2021-11-12T12:09:10.744Z"
   },
   {
    "duration": 24,
    "start_time": "2021-11-12T12:09:10.780Z"
   },
   {
    "duration": 333,
    "start_time": "2021-11-12T12:09:10.824Z"
   },
   {
    "duration": 323,
    "start_time": "2021-11-12T12:09:11.160Z"
   },
   {
    "duration": 339,
    "start_time": "2021-11-12T12:09:11.486Z"
   },
   {
    "duration": 216,
    "start_time": "2021-11-12T12:09:11.828Z"
   },
   {
    "duration": 214,
    "start_time": "2021-11-12T12:09:12.047Z"
   },
   {
    "duration": 292,
    "start_time": "2021-11-12T12:09:12.264Z"
   },
   {
    "duration": 11,
    "start_time": "2021-11-12T12:09:12.559Z"
   },
   {
    "duration": 33,
    "start_time": "2021-11-12T12:09:12.574Z"
   },
   {
    "duration": 1294,
    "start_time": "2021-11-12T14:35:07.841Z"
   },
   {
    "duration": 751,
    "start_time": "2021-11-12T14:35:49.909Z"
   },
   {
    "duration": 1934,
    "start_time": "2021-11-12T14:36:22.866Z"
   },
   {
    "duration": 1304,
    "start_time": "2021-11-12T14:37:19.225Z"
   },
   {
    "duration": 875,
    "start_time": "2021-11-12T14:37:36.513Z"
   },
   {
    "duration": 93,
    "start_time": "2021-11-12T14:39:32.070Z"
   },
   {
    "duration": 1505,
    "start_time": "2021-11-12T14:39:44.988Z"
   },
   {
    "duration": 85,
    "start_time": "2021-11-12T14:39:46.496Z"
   },
   {
    "duration": 4,
    "start_time": "2021-11-12T14:39:46.584Z"
   },
   {
    "duration": 34,
    "start_time": "2021-11-12T14:39:46.591Z"
   },
   {
    "duration": 10,
    "start_time": "2021-11-12T14:39:46.627Z"
   },
   {
    "duration": 14,
    "start_time": "2021-11-12T14:39:46.639Z"
   },
   {
    "duration": 36,
    "start_time": "2021-11-12T14:39:46.655Z"
   },
   {
    "duration": 51,
    "start_time": "2021-11-12T14:39:46.695Z"
   },
   {
    "duration": 28,
    "start_time": "2021-11-12T14:39:46.749Z"
   },
   {
    "duration": 47,
    "start_time": "2021-11-12T14:39:46.780Z"
   },
   {
    "duration": 590,
    "start_time": "2021-11-12T14:39:46.829Z"
   },
   {
    "duration": 489,
    "start_time": "2021-11-12T14:39:47.423Z"
   },
   {
    "duration": 457,
    "start_time": "2021-11-12T14:39:47.915Z"
   },
   {
    "duration": 476,
    "start_time": "2021-11-12T14:39:48.374Z"
   },
   {
    "duration": 456,
    "start_time": "2021-11-12T14:39:48.852Z"
   },
   {
    "duration": 32,
    "start_time": "2021-11-12T14:39:49.311Z"
   },
   {
    "duration": 268,
    "start_time": "2021-11-12T14:39:49.346Z"
   },
   {
    "duration": 267,
    "start_time": "2021-11-12T14:39:49.617Z"
   },
   {
    "duration": 460,
    "start_time": "2021-11-12T14:39:49.887Z"
   },
   {
    "duration": 274,
    "start_time": "2021-11-12T14:39:50.350Z"
   },
   {
    "duration": 288,
    "start_time": "2021-11-12T14:39:50.627Z"
   },
   {
    "duration": 269,
    "start_time": "2021-11-12T14:39:50.922Z"
   },
   {
    "duration": 285,
    "start_time": "2021-11-12T14:39:51.197Z"
   },
   {
    "duration": 285,
    "start_time": "2021-11-12T14:39:51.485Z"
   },
   {
    "duration": 277,
    "start_time": "2021-11-12T14:39:51.772Z"
   },
   {
    "duration": 279,
    "start_time": "2021-11-12T14:39:52.051Z"
   },
   {
    "duration": 6,
    "start_time": "2021-11-12T14:39:52.332Z"
   },
   {
    "duration": 31,
    "start_time": "2021-11-12T14:39:52.340Z"
   },
   {
    "duration": 249,
    "start_time": "2021-11-12T14:39:52.373Z"
   },
   {
    "duration": 245,
    "start_time": "2021-11-12T14:39:52.624Z"
   },
   {
    "duration": 243,
    "start_time": "2021-11-12T14:39:52.872Z"
   },
   {
    "duration": 260,
    "start_time": "2021-11-12T14:39:53.118Z"
   },
   {
    "duration": 243,
    "start_time": "2021-11-12T14:39:53.380Z"
   },
   {
    "duration": 614,
    "start_time": "2021-11-12T14:39:53.625Z"
   },
   {
    "duration": 11,
    "start_time": "2021-11-12T14:39:54.241Z"
   },
   {
    "duration": 30,
    "start_time": "2021-11-12T14:39:54.255Z"
   },
   {
    "duration": 934,
    "start_time": "2021-11-12T14:39:54.288Z"
   },
   {
    "duration": 11,
    "start_time": "2021-11-12T14:39:55.224Z"
   },
   {
    "duration": 13,
    "start_time": "2021-11-12T14:39:55.237Z"
   },
   {
    "duration": 873,
    "start_time": "2021-11-12T14:39:55.253Z"
   },
   {
    "duration": 921,
    "start_time": "2021-11-12T14:39:56.128Z"
   },
   {
    "duration": 20,
    "start_time": "2021-11-12T14:39:57.051Z"
   },
   {
    "duration": 20,
    "start_time": "2021-11-12T14:39:57.073Z"
   },
   {
    "duration": 43,
    "start_time": "2021-11-12T14:39:57.096Z"
   },
   {
    "duration": 304,
    "start_time": "2021-11-12T14:39:57.141Z"
   },
   {
    "duration": 329,
    "start_time": "2021-11-12T14:39:57.447Z"
   },
   {
    "duration": 347,
    "start_time": "2021-11-12T14:39:57.779Z"
   },
   {
    "duration": 20,
    "start_time": "2021-11-12T14:39:58.129Z"
   },
   {
    "duration": 24,
    "start_time": "2021-11-12T14:39:58.151Z"
   },
   {
    "duration": 49,
    "start_time": "2021-11-12T14:39:58.177Z"
   },
   {
    "duration": 311,
    "start_time": "2021-11-12T14:39:58.228Z"
   },
   {
    "duration": 315,
    "start_time": "2021-11-12T14:39:58.542Z"
   },
   {
    "duration": 305,
    "start_time": "2021-11-12T14:39:58.860Z"
   },
   {
    "duration": 205,
    "start_time": "2021-11-12T14:39:59.168Z"
   },
   {
    "duration": 196,
    "start_time": "2021-11-12T14:39:59.375Z"
   },
   {
    "duration": 202,
    "start_time": "2021-11-12T14:39:59.574Z"
   },
   {
    "duration": 15,
    "start_time": "2021-11-12T14:39:59.779Z"
   },
   {
    "duration": 42,
    "start_time": "2021-11-12T14:39:59.797Z"
   },
   {
    "duration": 1133,
    "start_time": "2021-11-13T14:11:58.298Z"
   },
   {
    "duration": 65,
    "start_time": "2021-11-13T14:11:59.433Z"
   },
   {
    "duration": 3,
    "start_time": "2021-11-13T14:11:59.500Z"
   },
   {
    "duration": 16,
    "start_time": "2021-11-13T14:11:59.504Z"
   },
   {
    "duration": 6,
    "start_time": "2021-11-13T14:11:59.523Z"
   },
   {
    "duration": 5,
    "start_time": "2021-11-13T14:11:59.531Z"
   },
   {
    "duration": 49,
    "start_time": "2021-11-13T14:11:59.538Z"
   },
   {
    "duration": 21,
    "start_time": "2021-11-13T14:11:59.589Z"
   },
   {
    "duration": 18,
    "start_time": "2021-11-13T14:11:59.613Z"
   },
   {
    "duration": 34,
    "start_time": "2021-11-13T14:11:59.633Z"
   },
   {
    "duration": 307,
    "start_time": "2021-11-13T14:11:59.668Z"
   },
   {
    "duration": 303,
    "start_time": "2021-11-13T14:11:59.976Z"
   },
   {
    "duration": 285,
    "start_time": "2021-11-13T14:12:00.280Z"
   },
   {
    "duration": 289,
    "start_time": "2021-11-13T14:12:00.567Z"
   },
   {
    "duration": 291,
    "start_time": "2021-11-13T14:12:00.858Z"
   },
   {
    "duration": 22,
    "start_time": "2021-11-13T14:12:01.151Z"
   },
   {
    "duration": 179,
    "start_time": "2021-11-13T14:12:01.175Z"
   },
   {
    "duration": 162,
    "start_time": "2021-11-13T14:12:01.356Z"
   },
   {
    "duration": 253,
    "start_time": "2021-11-13T14:12:01.520Z"
   },
   {
    "duration": 165,
    "start_time": "2021-11-13T14:12:01.775Z"
   },
   {
    "duration": 180,
    "start_time": "2021-11-13T14:12:01.942Z"
   },
   {
    "duration": 164,
    "start_time": "2021-11-13T14:12:02.123Z"
   },
   {
    "duration": 173,
    "start_time": "2021-11-13T14:12:02.291Z"
   },
   {
    "duration": 179,
    "start_time": "2021-11-13T14:12:02.467Z"
   },
   {
    "duration": 167,
    "start_time": "2021-11-13T14:12:02.647Z"
   },
   {
    "duration": 176,
    "start_time": "2021-11-13T14:12:02.816Z"
   },
   {
    "duration": 5,
    "start_time": "2021-11-13T14:12:02.993Z"
   },
   {
    "duration": 14,
    "start_time": "2021-11-13T14:12:03.000Z"
   },
   {
    "duration": 163,
    "start_time": "2021-11-13T14:12:03.016Z"
   },
   {
    "duration": 142,
    "start_time": "2021-11-13T14:12:03.181Z"
   },
   {
    "duration": 143,
    "start_time": "2021-11-13T14:12:03.325Z"
   },
   {
    "duration": 145,
    "start_time": "2021-11-13T14:12:03.470Z"
   },
   {
    "duration": 148,
    "start_time": "2021-11-13T14:12:03.617Z"
   },
   {
    "duration": 397,
    "start_time": "2021-11-13T14:12:03.766Z"
   },
   {
    "duration": 7,
    "start_time": "2021-11-13T14:12:04.164Z"
   },
   {
    "duration": 24,
    "start_time": "2021-11-13T14:12:04.173Z"
   },
   {
    "duration": 566,
    "start_time": "2021-11-13T14:12:04.198Z"
   },
   {
    "duration": 8,
    "start_time": "2021-11-13T14:12:04.766Z"
   },
   {
    "duration": 11,
    "start_time": "2021-11-13T14:12:04.775Z"
   },
   {
    "duration": 660,
    "start_time": "2021-11-13T14:12:04.787Z"
   },
   {
    "duration": 534,
    "start_time": "2021-11-13T14:12:05.448Z"
   },
   {
    "duration": 14,
    "start_time": "2021-11-13T14:12:05.983Z"
   },
   {
    "duration": 16,
    "start_time": "2021-11-13T14:12:05.999Z"
   },
   {
    "duration": 14,
    "start_time": "2021-11-13T14:12:06.017Z"
   },
   {
    "duration": 206,
    "start_time": "2021-11-13T14:12:06.033Z"
   },
   {
    "duration": 187,
    "start_time": "2021-11-13T14:12:06.241Z"
   },
   {
    "duration": 181,
    "start_time": "2021-11-13T14:12:06.431Z"
   },
   {
    "duration": 15,
    "start_time": "2021-11-13T14:12:06.613Z"
   },
   {
    "duration": 17,
    "start_time": "2021-11-13T14:12:06.630Z"
   },
   {
    "duration": 26,
    "start_time": "2021-11-13T14:12:06.648Z"
   },
   {
    "duration": 201,
    "start_time": "2021-11-13T14:12:06.676Z"
   },
   {
    "duration": 192,
    "start_time": "2021-11-13T14:12:06.878Z"
   },
   {
    "duration": 194,
    "start_time": "2021-11-13T14:12:07.072Z"
   },
   {
    "duration": 128,
    "start_time": "2021-11-13T14:12:07.267Z"
   },
   {
    "duration": 118,
    "start_time": "2021-11-13T14:12:07.397Z"
   },
   {
    "duration": 120,
    "start_time": "2021-11-13T14:12:07.516Z"
   },
   {
    "duration": 11,
    "start_time": "2021-11-13T14:12:07.638Z"
   },
   {
    "duration": 24,
    "start_time": "2021-11-13T14:12:07.651Z"
   },
   {
    "duration": 358,
    "start_time": "2021-11-13T14:19:32.961Z"
   },
   {
    "duration": 287,
    "start_time": "2021-11-13T14:20:05.673Z"
   },
   {
    "duration": 381,
    "start_time": "2021-11-13T14:20:23.611Z"
   },
   {
    "duration": 284,
    "start_time": "2021-11-13T14:20:29.737Z"
   },
   {
    "duration": 292,
    "start_time": "2021-11-13T14:20:51.450Z"
   },
   {
    "duration": 81,
    "start_time": "2021-11-13T14:21:05.878Z"
   },
   {
    "duration": 267,
    "start_time": "2021-11-13T14:21:11.990Z"
   },
   {
    "duration": 277,
    "start_time": "2021-11-13T14:21:57.573Z"
   },
   {
    "duration": 82,
    "start_time": "2021-11-13T14:26:01.806Z"
   },
   {
    "duration": 241,
    "start_time": "2021-11-13T14:26:07.136Z"
   },
   {
    "duration": 316,
    "start_time": "2021-11-13T15:07:32.568Z"
   }
  ],
  "kernelspec": {
   "display_name": "Python 3 (ipykernel)",
   "language": "python",
   "name": "python3"
  },
  "language_info": {
   "codemirror_mode": {
    "name": "ipython",
    "version": 3
   },
   "file_extension": ".py",
   "mimetype": "text/x-python",
   "name": "python",
   "nbconvert_exporter": "python",
   "pygments_lexer": "ipython3",
   "version": "3.9.7"
  },
  "toc": {
   "base_numbering": 1,
   "nav_menu": {},
   "number_sections": true,
   "sideBar": true,
   "skip_h1_title": true,
   "title_cell": "Table of Contents",
   "title_sidebar": "Contents",
   "toc_cell": false,
   "toc_position": {},
   "toc_section_display": true,
   "toc_window_display": false
  }
 },
 "nbformat": 4,
 "nbformat_minor": 2
}
