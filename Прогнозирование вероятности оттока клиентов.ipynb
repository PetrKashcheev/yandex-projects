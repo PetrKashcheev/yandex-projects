{
 "cells": [
  {
   "cell_type": "markdown",
   "metadata": {},
   "source": [
    "# Проект - Машинное обучение"
   ]
  },
  {
   "cell_type": "markdown",
   "metadata": {},
   "source": [
    "Для сети фитнес-центров необходимо проанализировать данные о клиентах. Из них выделить целевые группы, спрогнозировать их отток и предложить меры по снижению потери клиентов"
   ]
  },
  {
   "cell_type": "markdown",
   "metadata": {},
   "source": [
    "## Получение данных"
   ]
  },
  {
   "cell_type": "code",
   "execution_count": 1,
   "metadata": {},
   "outputs": [],
   "source": [
    "import pandas as pd\n",
    "from sklearn.ensemble import RandomForestClassifier\n",
    "import matplotlib.pyplot as plt\n",
    "import seaborn as sns\n",
    "from sklearn.model_selection import train_test_split\n",
    "from sklearn.linear_model import LogisticRegression\n",
    "from sklearn.preprocessing import StandardScaler\n",
    "from sklearn.metrics import accuracy_score, precision_score, recall_score, f1_score\n",
    "from scipy.cluster.hierarchy import dendrogram, linkage\n",
    "from sklearn.cluster import KMeans\n",
    "import itertools\n",
    "from IPython.display import HTML, display\n",
    "import warnings\n",
    "warnings.filterwarnings('ignore')\n"
   ]
  },
  {
   "cell_type": "code",
   "execution_count": 2,
   "metadata": {},
   "outputs": [],
   "source": [
    "df = pd.read_csv('C:\\\\Users\\\\SpectNSK\\\\Desktop\\\\projects\\\\data set\\\\ml.csv')"
   ]
  },
  {
   "cell_type": "code",
   "execution_count": 3,
   "metadata": {},
   "outputs": [
    {
     "name": "stdout",
     "output_type": "stream",
     "text": [
      "(4000, 14)\n"
     ]
    }
   ],
   "source": [
    "print(df.shape)"
   ]
  },
  {
   "cell_type": "code",
   "execution_count": 4,
   "metadata": {},
   "outputs": [
    {
     "data": {
      "text/html": [
       "<div>\n",
       "<style scoped>\n",
       "    .dataframe tbody tr th:only-of-type {\n",
       "        vertical-align: middle;\n",
       "    }\n",
       "\n",
       "    .dataframe tbody tr th {\n",
       "        vertical-align: top;\n",
       "    }\n",
       "\n",
       "    .dataframe thead th {\n",
       "        text-align: right;\n",
       "    }\n",
       "</style>\n",
       "<table border=\"1\" class=\"dataframe\">\n",
       "  <thead>\n",
       "    <tr style=\"text-align: right;\">\n",
       "      <th></th>\n",
       "      <th>gender</th>\n",
       "      <th>Near_Location</th>\n",
       "      <th>Partner</th>\n",
       "      <th>Promo_friends</th>\n",
       "      <th>Phone</th>\n",
       "      <th>Contract_period</th>\n",
       "      <th>Group_visits</th>\n",
       "      <th>Age</th>\n",
       "      <th>Avg_additional_charges_total</th>\n",
       "      <th>Month_to_end_contract</th>\n",
       "      <th>Lifetime</th>\n",
       "      <th>Avg_class_frequency_total</th>\n",
       "      <th>Avg_class_frequency_current_month</th>\n",
       "      <th>Churn</th>\n",
       "    </tr>\n",
       "  </thead>\n",
       "  <tbody>\n",
       "    <tr>\n",
       "      <th>0</th>\n",
       "      <td>1</td>\n",
       "      <td>1</td>\n",
       "      <td>1</td>\n",
       "      <td>1</td>\n",
       "      <td>0</td>\n",
       "      <td>6</td>\n",
       "      <td>1</td>\n",
       "      <td>29</td>\n",
       "      <td>14.227470</td>\n",
       "      <td>5.0</td>\n",
       "      <td>3</td>\n",
       "      <td>0.020398</td>\n",
       "      <td>0.000000</td>\n",
       "      <td>0</td>\n",
       "    </tr>\n",
       "    <tr>\n",
       "      <th>1</th>\n",
       "      <td>0</td>\n",
       "      <td>1</td>\n",
       "      <td>0</td>\n",
       "      <td>0</td>\n",
       "      <td>1</td>\n",
       "      <td>12</td>\n",
       "      <td>1</td>\n",
       "      <td>31</td>\n",
       "      <td>113.202938</td>\n",
       "      <td>12.0</td>\n",
       "      <td>7</td>\n",
       "      <td>1.922936</td>\n",
       "      <td>1.910244</td>\n",
       "      <td>0</td>\n",
       "    </tr>\n",
       "    <tr>\n",
       "      <th>2</th>\n",
       "      <td>0</td>\n",
       "      <td>1</td>\n",
       "      <td>1</td>\n",
       "      <td>0</td>\n",
       "      <td>1</td>\n",
       "      <td>1</td>\n",
       "      <td>0</td>\n",
       "      <td>28</td>\n",
       "      <td>129.448479</td>\n",
       "      <td>1.0</td>\n",
       "      <td>2</td>\n",
       "      <td>1.859098</td>\n",
       "      <td>1.736502</td>\n",
       "      <td>0</td>\n",
       "    </tr>\n",
       "    <tr>\n",
       "      <th>3</th>\n",
       "      <td>0</td>\n",
       "      <td>1</td>\n",
       "      <td>1</td>\n",
       "      <td>1</td>\n",
       "      <td>1</td>\n",
       "      <td>12</td>\n",
       "      <td>1</td>\n",
       "      <td>33</td>\n",
       "      <td>62.669863</td>\n",
       "      <td>12.0</td>\n",
       "      <td>2</td>\n",
       "      <td>3.205633</td>\n",
       "      <td>3.357215</td>\n",
       "      <td>0</td>\n",
       "    </tr>\n",
       "    <tr>\n",
       "      <th>4</th>\n",
       "      <td>1</td>\n",
       "      <td>1</td>\n",
       "      <td>1</td>\n",
       "      <td>1</td>\n",
       "      <td>1</td>\n",
       "      <td>1</td>\n",
       "      <td>0</td>\n",
       "      <td>26</td>\n",
       "      <td>198.362265</td>\n",
       "      <td>1.0</td>\n",
       "      <td>3</td>\n",
       "      <td>1.113884</td>\n",
       "      <td>1.120078</td>\n",
       "      <td>0</td>\n",
       "    </tr>\n",
       "  </tbody>\n",
       "</table>\n",
       "</div>"
      ],
      "text/plain": [
       "   gender  Near_Location  Partner  Promo_friends  Phone  Contract_period  \\\n",
       "0       1              1        1              1      0                6   \n",
       "1       0              1        0              0      1               12   \n",
       "2       0              1        1              0      1                1   \n",
       "3       0              1        1              1      1               12   \n",
       "4       1              1        1              1      1                1   \n",
       "\n",
       "   Group_visits  Age  Avg_additional_charges_total  Month_to_end_contract  \\\n",
       "0             1   29                     14.227470                    5.0   \n",
       "1             1   31                    113.202938                   12.0   \n",
       "2             0   28                    129.448479                    1.0   \n",
       "3             1   33                     62.669863                   12.0   \n",
       "4             0   26                    198.362265                    1.0   \n",
       "\n",
       "   Lifetime  Avg_class_frequency_total  Avg_class_frequency_current_month  \\\n",
       "0         3                   0.020398                           0.000000   \n",
       "1         7                   1.922936                           1.910244   \n",
       "2         2                   1.859098                           1.736502   \n",
       "3         2                   3.205633                           3.357215   \n",
       "4         3                   1.113884                           1.120078   \n",
       "\n",
       "   Churn  \n",
       "0      0  \n",
       "1      0  \n",
       "2      0  \n",
       "3      0  \n",
       "4      0  "
      ]
     },
     "metadata": {},
     "output_type": "display_data"
    }
   ],
   "source": [
    "display(df.head(5))"
   ]
  },
  {
   "cell_type": "code",
   "execution_count": 5,
   "metadata": {
    "scrolled": true
   },
   "outputs": [
    {
     "name": "stdout",
     "output_type": "stream",
     "text": [
      "<class 'pandas.core.frame.DataFrame'>\n",
      "RangeIndex: 4000 entries, 0 to 3999\n",
      "Data columns (total 14 columns):\n",
      " #   Column                             Non-Null Count  Dtype  \n",
      "---  ------                             --------------  -----  \n",
      " 0   gender                             4000 non-null   int64  \n",
      " 1   Near_Location                      4000 non-null   int64  \n",
      " 2   Partner                            4000 non-null   int64  \n",
      " 3   Promo_friends                      4000 non-null   int64  \n",
      " 4   Phone                              4000 non-null   int64  \n",
      " 5   Contract_period                    4000 non-null   int64  \n",
      " 6   Group_visits                       4000 non-null   int64  \n",
      " 7   Age                                4000 non-null   int64  \n",
      " 8   Avg_additional_charges_total       4000 non-null   float64\n",
      " 9   Month_to_end_contract              4000 non-null   float64\n",
      " 10  Lifetime                           4000 non-null   int64  \n",
      " 11  Avg_class_frequency_total          4000 non-null   float64\n",
      " 12  Avg_class_frequency_current_month  4000 non-null   float64\n",
      " 13  Churn                              4000 non-null   int64  \n",
      "dtypes: float64(4), int64(10)\n",
      "memory usage: 437.6 KB\n"
     ]
    }
   ],
   "source": [
    "df.info()"
   ]
  },
  {
   "cell_type": "code",
   "execution_count": 6,
   "metadata": {},
   "outputs": [
    {
     "data": {
      "text/plain": [
       "0"
      ]
     },
     "execution_count": 6,
     "metadata": {},
     "output_type": "execute_result"
    }
   ],
   "source": [
    "df.duplicated().sum()"
   ]
  },
  {
   "cell_type": "markdown",
   "metadata": {},
   "source": [
    "## Исследовательский анализ данных"
   ]
  },
  {
   "cell_type": "code",
   "execution_count": 7,
   "metadata": {},
   "outputs": [
    {
     "data": {
      "text/html": [
       "<div>\n",
       "<style scoped>\n",
       "    .dataframe tbody tr th:only-of-type {\n",
       "        vertical-align: middle;\n",
       "    }\n",
       "\n",
       "    .dataframe tbody tr th {\n",
       "        vertical-align: top;\n",
       "    }\n",
       "\n",
       "    .dataframe thead th {\n",
       "        text-align: right;\n",
       "    }\n",
       "</style>\n",
       "<table border=\"1\" class=\"dataframe\">\n",
       "  <thead>\n",
       "    <tr style=\"text-align: right;\">\n",
       "      <th></th>\n",
       "      <th>gender</th>\n",
       "      <th>Near_Location</th>\n",
       "      <th>Partner</th>\n",
       "      <th>Promo_friends</th>\n",
       "      <th>Phone</th>\n",
       "      <th>Contract_period</th>\n",
       "      <th>Group_visits</th>\n",
       "      <th>Age</th>\n",
       "      <th>Avg_additional_charges_total</th>\n",
       "      <th>Month_to_end_contract</th>\n",
       "      <th>Lifetime</th>\n",
       "      <th>Avg_class_frequency_total</th>\n",
       "      <th>Avg_class_frequency_current_month</th>\n",
       "      <th>Churn</th>\n",
       "    </tr>\n",
       "  </thead>\n",
       "  <tbody>\n",
       "    <tr>\n",
       "      <th>count</th>\n",
       "      <td>4000.000000</td>\n",
       "      <td>4000.000000</td>\n",
       "      <td>4000.000000</td>\n",
       "      <td>4000.000000</td>\n",
       "      <td>4000.000000</td>\n",
       "      <td>4000.000000</td>\n",
       "      <td>4000.000000</td>\n",
       "      <td>4000.000000</td>\n",
       "      <td>4000.000000</td>\n",
       "      <td>4000.000000</td>\n",
       "      <td>4000.000000</td>\n",
       "      <td>4000.000000</td>\n",
       "      <td>4000.000000</td>\n",
       "      <td>4000.000000</td>\n",
       "    </tr>\n",
       "    <tr>\n",
       "      <th>mean</th>\n",
       "      <td>0.510250</td>\n",
       "      <td>0.845250</td>\n",
       "      <td>0.486750</td>\n",
       "      <td>0.308500</td>\n",
       "      <td>0.903500</td>\n",
       "      <td>4.681250</td>\n",
       "      <td>0.412250</td>\n",
       "      <td>29.184250</td>\n",
       "      <td>146.943728</td>\n",
       "      <td>4.322750</td>\n",
       "      <td>3.724750</td>\n",
       "      <td>1.879020</td>\n",
       "      <td>1.767052</td>\n",
       "      <td>0.265250</td>\n",
       "    </tr>\n",
       "    <tr>\n",
       "      <th>std</th>\n",
       "      <td>0.499957</td>\n",
       "      <td>0.361711</td>\n",
       "      <td>0.499887</td>\n",
       "      <td>0.461932</td>\n",
       "      <td>0.295313</td>\n",
       "      <td>4.549706</td>\n",
       "      <td>0.492301</td>\n",
       "      <td>3.258367</td>\n",
       "      <td>96.355602</td>\n",
       "      <td>4.191297</td>\n",
       "      <td>3.749267</td>\n",
       "      <td>0.972245</td>\n",
       "      <td>1.052906</td>\n",
       "      <td>0.441521</td>\n",
       "    </tr>\n",
       "    <tr>\n",
       "      <th>min</th>\n",
       "      <td>0.000000</td>\n",
       "      <td>0.000000</td>\n",
       "      <td>0.000000</td>\n",
       "      <td>0.000000</td>\n",
       "      <td>0.000000</td>\n",
       "      <td>1.000000</td>\n",
       "      <td>0.000000</td>\n",
       "      <td>18.000000</td>\n",
       "      <td>0.148205</td>\n",
       "      <td>1.000000</td>\n",
       "      <td>0.000000</td>\n",
       "      <td>0.000000</td>\n",
       "      <td>0.000000</td>\n",
       "      <td>0.000000</td>\n",
       "    </tr>\n",
       "    <tr>\n",
       "      <th>25%</th>\n",
       "      <td>0.000000</td>\n",
       "      <td>1.000000</td>\n",
       "      <td>0.000000</td>\n",
       "      <td>0.000000</td>\n",
       "      <td>1.000000</td>\n",
       "      <td>1.000000</td>\n",
       "      <td>0.000000</td>\n",
       "      <td>27.000000</td>\n",
       "      <td>68.868830</td>\n",
       "      <td>1.000000</td>\n",
       "      <td>1.000000</td>\n",
       "      <td>1.180875</td>\n",
       "      <td>0.963003</td>\n",
       "      <td>0.000000</td>\n",
       "    </tr>\n",
       "    <tr>\n",
       "      <th>50%</th>\n",
       "      <td>1.000000</td>\n",
       "      <td>1.000000</td>\n",
       "      <td>0.000000</td>\n",
       "      <td>0.000000</td>\n",
       "      <td>1.000000</td>\n",
       "      <td>1.000000</td>\n",
       "      <td>0.000000</td>\n",
       "      <td>29.000000</td>\n",
       "      <td>136.220159</td>\n",
       "      <td>1.000000</td>\n",
       "      <td>3.000000</td>\n",
       "      <td>1.832768</td>\n",
       "      <td>1.719574</td>\n",
       "      <td>0.000000</td>\n",
       "    </tr>\n",
       "    <tr>\n",
       "      <th>75%</th>\n",
       "      <td>1.000000</td>\n",
       "      <td>1.000000</td>\n",
       "      <td>1.000000</td>\n",
       "      <td>1.000000</td>\n",
       "      <td>1.000000</td>\n",
       "      <td>6.000000</td>\n",
       "      <td>1.000000</td>\n",
       "      <td>31.000000</td>\n",
       "      <td>210.949625</td>\n",
       "      <td>6.000000</td>\n",
       "      <td>5.000000</td>\n",
       "      <td>2.536078</td>\n",
       "      <td>2.510336</td>\n",
       "      <td>1.000000</td>\n",
       "    </tr>\n",
       "    <tr>\n",
       "      <th>max</th>\n",
       "      <td>1.000000</td>\n",
       "      <td>1.000000</td>\n",
       "      <td>1.000000</td>\n",
       "      <td>1.000000</td>\n",
       "      <td>1.000000</td>\n",
       "      <td>12.000000</td>\n",
       "      <td>1.000000</td>\n",
       "      <td>41.000000</td>\n",
       "      <td>552.590740</td>\n",
       "      <td>12.000000</td>\n",
       "      <td>31.000000</td>\n",
       "      <td>6.023668</td>\n",
       "      <td>6.146783</td>\n",
       "      <td>1.000000</td>\n",
       "    </tr>\n",
       "  </tbody>\n",
       "</table>\n",
       "</div>"
      ],
      "text/plain": [
       "            gender  Near_Location      Partner  Promo_friends        Phone  \\\n",
       "count  4000.000000    4000.000000  4000.000000    4000.000000  4000.000000   \n",
       "mean      0.510250       0.845250     0.486750       0.308500     0.903500   \n",
       "std       0.499957       0.361711     0.499887       0.461932     0.295313   \n",
       "min       0.000000       0.000000     0.000000       0.000000     0.000000   \n",
       "25%       0.000000       1.000000     0.000000       0.000000     1.000000   \n",
       "50%       1.000000       1.000000     0.000000       0.000000     1.000000   \n",
       "75%       1.000000       1.000000     1.000000       1.000000     1.000000   \n",
       "max       1.000000       1.000000     1.000000       1.000000     1.000000   \n",
       "\n",
       "       Contract_period  Group_visits          Age  \\\n",
       "count      4000.000000   4000.000000  4000.000000   \n",
       "mean          4.681250      0.412250    29.184250   \n",
       "std           4.549706      0.492301     3.258367   \n",
       "min           1.000000      0.000000    18.000000   \n",
       "25%           1.000000      0.000000    27.000000   \n",
       "50%           1.000000      0.000000    29.000000   \n",
       "75%           6.000000      1.000000    31.000000   \n",
       "max          12.000000      1.000000    41.000000   \n",
       "\n",
       "       Avg_additional_charges_total  Month_to_end_contract     Lifetime  \\\n",
       "count                   4000.000000            4000.000000  4000.000000   \n",
       "mean                     146.943728               4.322750     3.724750   \n",
       "std                       96.355602               4.191297     3.749267   \n",
       "min                        0.148205               1.000000     0.000000   \n",
       "25%                       68.868830               1.000000     1.000000   \n",
       "50%                      136.220159               1.000000     3.000000   \n",
       "75%                      210.949625               6.000000     5.000000   \n",
       "max                      552.590740              12.000000    31.000000   \n",
       "\n",
       "       Avg_class_frequency_total  Avg_class_frequency_current_month  \\\n",
       "count                4000.000000                        4000.000000   \n",
       "mean                    1.879020                           1.767052   \n",
       "std                     0.972245                           1.052906   \n",
       "min                     0.000000                           0.000000   \n",
       "25%                     1.180875                           0.963003   \n",
       "50%                     1.832768                           1.719574   \n",
       "75%                     2.536078                           2.510336   \n",
       "max                     6.023668                           6.146783   \n",
       "\n",
       "             Churn  \n",
       "count  4000.000000  \n",
       "mean      0.265250  \n",
       "std       0.441521  \n",
       "min       0.000000  \n",
       "25%       0.000000  \n",
       "50%       0.000000  \n",
       "75%       1.000000  \n",
       "max       1.000000  "
      ]
     },
     "execution_count": 7,
     "metadata": {},
     "output_type": "execute_result"
    }
   ],
   "source": [
    "df.describe()"
   ]
  },
  {
   "cell_type": "markdown",
   "metadata": {},
   "source": [
    "Среднестатистический клиент: Проживает рядом, оставляет свой номер телефона, около 29 лет и с равной долей вероятности может быть мужчиной или женщиной)"
   ]
  },
  {
   "cell_type": "code",
   "execution_count": 8,
   "metadata": {},
   "outputs": [],
   "source": [
    "ottok = df.query('Churn == 1')\n",
    "client = df.query('Churn == 0')"
   ]
  },
  {
   "cell_type": "code",
   "execution_count": 9,
   "metadata": {},
   "outputs": [
    {
     "data": {
      "text/html": [
       "<div>\n",
       "<style scoped>\n",
       "    .dataframe tbody tr th:only-of-type {\n",
       "        vertical-align: middle;\n",
       "    }\n",
       "\n",
       "    .dataframe tbody tr th {\n",
       "        vertical-align: top;\n",
       "    }\n",
       "\n",
       "    .dataframe thead th {\n",
       "        text-align: right;\n",
       "    }\n",
       "</style>\n",
       "<table border=\"1\" class=\"dataframe\">\n",
       "  <thead>\n",
       "    <tr style=\"text-align: right;\">\n",
       "      <th></th>\n",
       "      <th>gender</th>\n",
       "      <th>Near_Location</th>\n",
       "      <th>Partner</th>\n",
       "      <th>Promo_friends</th>\n",
       "      <th>Phone</th>\n",
       "      <th>Contract_period</th>\n",
       "      <th>Group_visits</th>\n",
       "      <th>Age</th>\n",
       "      <th>Avg_additional_charges_total</th>\n",
       "      <th>Month_to_end_contract</th>\n",
       "      <th>Lifetime</th>\n",
       "      <th>Avg_class_frequency_total</th>\n",
       "      <th>Avg_class_frequency_current_month</th>\n",
       "      <th>Churn</th>\n",
       "    </tr>\n",
       "  </thead>\n",
       "  <tbody>\n",
       "    <tr>\n",
       "      <th>count</th>\n",
       "      <td>1061.000000</td>\n",
       "      <td>1061.000000</td>\n",
       "      <td>1061.000000</td>\n",
       "      <td>1061.000000</td>\n",
       "      <td>1061.000000</td>\n",
       "      <td>1061.000000</td>\n",
       "      <td>1061.000000</td>\n",
       "      <td>1061.000000</td>\n",
       "      <td>1061.000000</td>\n",
       "      <td>1061.000000</td>\n",
       "      <td>1061.000000</td>\n",
       "      <td>1061.000000</td>\n",
       "      <td>1061.000000</td>\n",
       "      <td>1061.0</td>\n",
       "    </tr>\n",
       "    <tr>\n",
       "      <th>mean</th>\n",
       "      <td>0.510839</td>\n",
       "      <td>0.768143</td>\n",
       "      <td>0.355325</td>\n",
       "      <td>0.183789</td>\n",
       "      <td>0.902922</td>\n",
       "      <td>1.728558</td>\n",
       "      <td>0.268615</td>\n",
       "      <td>26.989632</td>\n",
       "      <td>115.082899</td>\n",
       "      <td>1.662582</td>\n",
       "      <td>0.990575</td>\n",
       "      <td>1.474995</td>\n",
       "      <td>1.044546</td>\n",
       "      <td>1.0</td>\n",
       "    </tr>\n",
       "    <tr>\n",
       "      <th>std</th>\n",
       "      <td>0.500118</td>\n",
       "      <td>0.422217</td>\n",
       "      <td>0.478837</td>\n",
       "      <td>0.387495</td>\n",
       "      <td>0.296204</td>\n",
       "      <td>2.132371</td>\n",
       "      <td>0.443448</td>\n",
       "      <td>2.895163</td>\n",
       "      <td>77.696419</td>\n",
       "      <td>1.964593</td>\n",
       "      <td>1.110799</td>\n",
       "      <td>0.694705</td>\n",
       "      <td>0.770237</td>\n",
       "      <td>0.0</td>\n",
       "    </tr>\n",
       "    <tr>\n",
       "      <th>min</th>\n",
       "      <td>0.000000</td>\n",
       "      <td>0.000000</td>\n",
       "      <td>0.000000</td>\n",
       "      <td>0.000000</td>\n",
       "      <td>0.000000</td>\n",
       "      <td>1.000000</td>\n",
       "      <td>0.000000</td>\n",
       "      <td>18.000000</td>\n",
       "      <td>0.148205</td>\n",
       "      <td>1.000000</td>\n",
       "      <td>0.000000</td>\n",
       "      <td>0.000000</td>\n",
       "      <td>0.000000</td>\n",
       "      <td>1.0</td>\n",
       "    </tr>\n",
       "    <tr>\n",
       "      <th>25%</th>\n",
       "      <td>0.000000</td>\n",
       "      <td>1.000000</td>\n",
       "      <td>0.000000</td>\n",
       "      <td>0.000000</td>\n",
       "      <td>1.000000</td>\n",
       "      <td>1.000000</td>\n",
       "      <td>0.000000</td>\n",
       "      <td>25.000000</td>\n",
       "      <td>50.629127</td>\n",
       "      <td>1.000000</td>\n",
       "      <td>0.000000</td>\n",
       "      <td>1.010771</td>\n",
       "      <td>0.421337</td>\n",
       "      <td>1.0</td>\n",
       "    </tr>\n",
       "    <tr>\n",
       "      <th>50%</th>\n",
       "      <td>1.000000</td>\n",
       "      <td>1.000000</td>\n",
       "      <td>0.000000</td>\n",
       "      <td>0.000000</td>\n",
       "      <td>1.000000</td>\n",
       "      <td>1.000000</td>\n",
       "      <td>0.000000</td>\n",
       "      <td>27.000000</td>\n",
       "      <td>103.814686</td>\n",
       "      <td>1.000000</td>\n",
       "      <td>1.000000</td>\n",
       "      <td>1.491187</td>\n",
       "      <td>0.979445</td>\n",
       "      <td>1.0</td>\n",
       "    </tr>\n",
       "    <tr>\n",
       "      <th>75%</th>\n",
       "      <td>1.000000</td>\n",
       "      <td>1.000000</td>\n",
       "      <td>1.000000</td>\n",
       "      <td>0.000000</td>\n",
       "      <td>1.000000</td>\n",
       "      <td>1.000000</td>\n",
       "      <td>1.000000</td>\n",
       "      <td>29.000000</td>\n",
       "      <td>165.616858</td>\n",
       "      <td>1.000000</td>\n",
       "      <td>1.000000</td>\n",
       "      <td>1.956438</td>\n",
       "      <td>1.588576</td>\n",
       "      <td>1.0</td>\n",
       "    </tr>\n",
       "    <tr>\n",
       "      <th>max</th>\n",
       "      <td>1.000000</td>\n",
       "      <td>1.000000</td>\n",
       "      <td>1.000000</td>\n",
       "      <td>1.000000</td>\n",
       "      <td>1.000000</td>\n",
       "      <td>12.000000</td>\n",
       "      <td>1.000000</td>\n",
       "      <td>38.000000</td>\n",
       "      <td>425.535220</td>\n",
       "      <td>12.000000</td>\n",
       "      <td>9.000000</td>\n",
       "      <td>3.478646</td>\n",
       "      <td>3.540271</td>\n",
       "      <td>1.0</td>\n",
       "    </tr>\n",
       "  </tbody>\n",
       "</table>\n",
       "</div>"
      ],
      "text/plain": [
       "            gender  Near_Location      Partner  Promo_friends        Phone  \\\n",
       "count  1061.000000    1061.000000  1061.000000    1061.000000  1061.000000   \n",
       "mean      0.510839       0.768143     0.355325       0.183789     0.902922   \n",
       "std       0.500118       0.422217     0.478837       0.387495     0.296204   \n",
       "min       0.000000       0.000000     0.000000       0.000000     0.000000   \n",
       "25%       0.000000       1.000000     0.000000       0.000000     1.000000   \n",
       "50%       1.000000       1.000000     0.000000       0.000000     1.000000   \n",
       "75%       1.000000       1.000000     1.000000       0.000000     1.000000   \n",
       "max       1.000000       1.000000     1.000000       1.000000     1.000000   \n",
       "\n",
       "       Contract_period  Group_visits          Age  \\\n",
       "count      1061.000000   1061.000000  1061.000000   \n",
       "mean          1.728558      0.268615    26.989632   \n",
       "std           2.132371      0.443448     2.895163   \n",
       "min           1.000000      0.000000    18.000000   \n",
       "25%           1.000000      0.000000    25.000000   \n",
       "50%           1.000000      0.000000    27.000000   \n",
       "75%           1.000000      1.000000    29.000000   \n",
       "max          12.000000      1.000000    38.000000   \n",
       "\n",
       "       Avg_additional_charges_total  Month_to_end_contract     Lifetime  \\\n",
       "count                   1061.000000            1061.000000  1061.000000   \n",
       "mean                     115.082899               1.662582     0.990575   \n",
       "std                       77.696419               1.964593     1.110799   \n",
       "min                        0.148205               1.000000     0.000000   \n",
       "25%                       50.629127               1.000000     0.000000   \n",
       "50%                      103.814686               1.000000     1.000000   \n",
       "75%                      165.616858               1.000000     1.000000   \n",
       "max                      425.535220              12.000000     9.000000   \n",
       "\n",
       "       Avg_class_frequency_total  Avg_class_frequency_current_month   Churn  \n",
       "count                1061.000000                        1061.000000  1061.0  \n",
       "mean                    1.474995                           1.044546     1.0  \n",
       "std                     0.694705                           0.770237     0.0  \n",
       "min                     0.000000                           0.000000     1.0  \n",
       "25%                     1.010771                           0.421337     1.0  \n",
       "50%                     1.491187                           0.979445     1.0  \n",
       "75%                     1.956438                           1.588576     1.0  \n",
       "max                     3.478646                           3.540271     1.0  "
      ]
     },
     "execution_count": 9,
     "metadata": {},
     "output_type": "execute_result"
    }
   ],
   "source": [
    "ottok.describe()"
   ]
  },
  {
   "cell_type": "code",
   "execution_count": 10,
   "metadata": {},
   "outputs": [
    {
     "data": {
      "text/html": [
       "<div>\n",
       "<style scoped>\n",
       "    .dataframe tbody tr th:only-of-type {\n",
       "        vertical-align: middle;\n",
       "    }\n",
       "\n",
       "    .dataframe tbody tr th {\n",
       "        vertical-align: top;\n",
       "    }\n",
       "\n",
       "    .dataframe thead th {\n",
       "        text-align: right;\n",
       "    }\n",
       "</style>\n",
       "<table border=\"1\" class=\"dataframe\">\n",
       "  <thead>\n",
       "    <tr style=\"text-align: right;\">\n",
       "      <th></th>\n",
       "      <th>gender</th>\n",
       "      <th>Near_Location</th>\n",
       "      <th>Partner</th>\n",
       "      <th>Promo_friends</th>\n",
       "      <th>Phone</th>\n",
       "      <th>Contract_period</th>\n",
       "      <th>Group_visits</th>\n",
       "      <th>Age</th>\n",
       "      <th>Avg_additional_charges_total</th>\n",
       "      <th>Month_to_end_contract</th>\n",
       "      <th>Lifetime</th>\n",
       "      <th>Avg_class_frequency_total</th>\n",
       "      <th>Avg_class_frequency_current_month</th>\n",
       "      <th>Churn</th>\n",
       "    </tr>\n",
       "  </thead>\n",
       "  <tbody>\n",
       "    <tr>\n",
       "      <th>count</th>\n",
       "      <td>2939.000000</td>\n",
       "      <td>2939.000000</td>\n",
       "      <td>2939.000000</td>\n",
       "      <td>2939.000000</td>\n",
       "      <td>2939.000000</td>\n",
       "      <td>2939.000000</td>\n",
       "      <td>2939.000000</td>\n",
       "      <td>2939.000000</td>\n",
       "      <td>2939.000000</td>\n",
       "      <td>2939.000000</td>\n",
       "      <td>2939.000000</td>\n",
       "      <td>2939.000000</td>\n",
       "      <td>2939.000000</td>\n",
       "      <td>2939.0</td>\n",
       "    </tr>\n",
       "    <tr>\n",
       "      <th>mean</th>\n",
       "      <td>0.510037</td>\n",
       "      <td>0.873086</td>\n",
       "      <td>0.534195</td>\n",
       "      <td>0.353522</td>\n",
       "      <td>0.903709</td>\n",
       "      <td>5.747193</td>\n",
       "      <td>0.464103</td>\n",
       "      <td>29.976523</td>\n",
       "      <td>158.445715</td>\n",
       "      <td>5.283089</td>\n",
       "      <td>4.711807</td>\n",
       "      <td>2.024876</td>\n",
       "      <td>2.027882</td>\n",
       "      <td>0.0</td>\n",
       "    </tr>\n",
       "    <tr>\n",
       "      <th>std</th>\n",
       "      <td>0.499984</td>\n",
       "      <td>0.332933</td>\n",
       "      <td>0.498914</td>\n",
       "      <td>0.478144</td>\n",
       "      <td>0.295040</td>\n",
       "      <td>4.716942</td>\n",
       "      <td>0.498795</td>\n",
       "      <td>3.009933</td>\n",
       "      <td>99.801599</td>\n",
       "      <td>4.363522</td>\n",
       "      <td>3.874780</td>\n",
       "      <td>1.016006</td>\n",
       "      <td>1.018994</td>\n",
       "      <td>0.0</td>\n",
       "    </tr>\n",
       "    <tr>\n",
       "      <th>min</th>\n",
       "      <td>0.000000</td>\n",
       "      <td>0.000000</td>\n",
       "      <td>0.000000</td>\n",
       "      <td>0.000000</td>\n",
       "      <td>0.000000</td>\n",
       "      <td>1.000000</td>\n",
       "      <td>0.000000</td>\n",
       "      <td>19.000000</td>\n",
       "      <td>0.171862</td>\n",
       "      <td>1.000000</td>\n",
       "      <td>0.000000</td>\n",
       "      <td>0.000000</td>\n",
       "      <td>0.000000</td>\n",
       "      <td>0.0</td>\n",
       "    </tr>\n",
       "    <tr>\n",
       "      <th>25%</th>\n",
       "      <td>0.000000</td>\n",
       "      <td>1.000000</td>\n",
       "      <td>0.000000</td>\n",
       "      <td>0.000000</td>\n",
       "      <td>1.000000</td>\n",
       "      <td>1.000000</td>\n",
       "      <td>0.000000</td>\n",
       "      <td>28.000000</td>\n",
       "      <td>76.920993</td>\n",
       "      <td>1.000000</td>\n",
       "      <td>2.000000</td>\n",
       "      <td>1.283137</td>\n",
       "      <td>1.297021</td>\n",
       "      <td>0.0</td>\n",
       "    </tr>\n",
       "    <tr>\n",
       "      <th>50%</th>\n",
       "      <td>1.000000</td>\n",
       "      <td>1.000000</td>\n",
       "      <td>1.000000</td>\n",
       "      <td>0.000000</td>\n",
       "      <td>1.000000</td>\n",
       "      <td>6.000000</td>\n",
       "      <td>0.000000</td>\n",
       "      <td>30.000000</td>\n",
       "      <td>149.881171</td>\n",
       "      <td>6.000000</td>\n",
       "      <td>4.000000</td>\n",
       "      <td>2.043252</td>\n",
       "      <td>2.046697</td>\n",
       "      <td>0.0</td>\n",
       "    </tr>\n",
       "    <tr>\n",
       "      <th>75%</th>\n",
       "      <td>1.000000</td>\n",
       "      <td>1.000000</td>\n",
       "      <td>1.000000</td>\n",
       "      <td>1.000000</td>\n",
       "      <td>1.000000</td>\n",
       "      <td>12.000000</td>\n",
       "      <td>1.000000</td>\n",
       "      <td>32.000000</td>\n",
       "      <td>224.448274</td>\n",
       "      <td>10.000000</td>\n",
       "      <td>6.000000</td>\n",
       "      <td>2.732944</td>\n",
       "      <td>2.740648</td>\n",
       "      <td>0.0</td>\n",
       "    </tr>\n",
       "    <tr>\n",
       "      <th>max</th>\n",
       "      <td>1.000000</td>\n",
       "      <td>1.000000</td>\n",
       "      <td>1.000000</td>\n",
       "      <td>1.000000</td>\n",
       "      <td>1.000000</td>\n",
       "      <td>12.000000</td>\n",
       "      <td>1.000000</td>\n",
       "      <td>41.000000</td>\n",
       "      <td>552.590740</td>\n",
       "      <td>12.000000</td>\n",
       "      <td>31.000000</td>\n",
       "      <td>6.023668</td>\n",
       "      <td>6.146783</td>\n",
       "      <td>0.0</td>\n",
       "    </tr>\n",
       "  </tbody>\n",
       "</table>\n",
       "</div>"
      ],
      "text/plain": [
       "            gender  Near_Location      Partner  Promo_friends        Phone  \\\n",
       "count  2939.000000    2939.000000  2939.000000    2939.000000  2939.000000   \n",
       "mean      0.510037       0.873086     0.534195       0.353522     0.903709   \n",
       "std       0.499984       0.332933     0.498914       0.478144     0.295040   \n",
       "min       0.000000       0.000000     0.000000       0.000000     0.000000   \n",
       "25%       0.000000       1.000000     0.000000       0.000000     1.000000   \n",
       "50%       1.000000       1.000000     1.000000       0.000000     1.000000   \n",
       "75%       1.000000       1.000000     1.000000       1.000000     1.000000   \n",
       "max       1.000000       1.000000     1.000000       1.000000     1.000000   \n",
       "\n",
       "       Contract_period  Group_visits          Age  \\\n",
       "count      2939.000000   2939.000000  2939.000000   \n",
       "mean          5.747193      0.464103    29.976523   \n",
       "std           4.716942      0.498795     3.009933   \n",
       "min           1.000000      0.000000    19.000000   \n",
       "25%           1.000000      0.000000    28.000000   \n",
       "50%           6.000000      0.000000    30.000000   \n",
       "75%          12.000000      1.000000    32.000000   \n",
       "max          12.000000      1.000000    41.000000   \n",
       "\n",
       "       Avg_additional_charges_total  Month_to_end_contract     Lifetime  \\\n",
       "count                   2939.000000            2939.000000  2939.000000   \n",
       "mean                     158.445715               5.283089     4.711807   \n",
       "std                       99.801599               4.363522     3.874780   \n",
       "min                        0.171862               1.000000     0.000000   \n",
       "25%                       76.920993               1.000000     2.000000   \n",
       "50%                      149.881171               6.000000     4.000000   \n",
       "75%                      224.448274              10.000000     6.000000   \n",
       "max                      552.590740              12.000000    31.000000   \n",
       "\n",
       "       Avg_class_frequency_total  Avg_class_frequency_current_month   Churn  \n",
       "count                2939.000000                        2939.000000  2939.0  \n",
       "mean                    2.024876                           2.027882     0.0  \n",
       "std                     1.016006                           1.018994     0.0  \n",
       "min                     0.000000                           0.000000     0.0  \n",
       "25%                     1.283137                           1.297021     0.0  \n",
       "50%                     2.043252                           2.046697     0.0  \n",
       "75%                     2.732944                           2.740648     0.0  \n",
       "max                     6.023668                           6.146783     0.0  "
      ]
     },
     "execution_count": 10,
     "metadata": {},
     "output_type": "execute_result"
    }
   ],
   "source": [
    "client.describe()"
   ]
  },
  {
   "cell_type": "code",
   "execution_count": 11,
   "metadata": {
    "scrolled": true
   },
   "outputs": [
    {
     "data": {
      "image/png": "[encoded data removed]",
      "text/plain": [
       "<Figure size 432x288 with 1 Axes>"
      ]
     },
     "metadata": {
      "needs_background": "light"
     },
     "output_type": "display_data"
    },
    {
     "data": {
      "image/png": "[encoded data removed]",
      "text/plain": [
       "<Figure size 432x288 with 1 Axes>"
      ]
     },
     "metadata": {
      "needs_background": "light"
     },
     "output_type": "display_data"
    },
    {
     "data": {
      "image/png": "[encoded data removed]",
      "text/plain": [
       "<Figure size 432x288 with 1 Axes>"
      ]
     },
     "metadata": {
      "needs_background": "light"
     },
     "output_type": "display_data"
    },
    {
     "data": {
      "image/png": "[encoded data removed]",
      "text/plain": [
       "<Figure size 432x288 with 1 Axes>"
      ]
     },
     "metadata": {
      "needs_background": "light"
     },
     "output_type": "display_data"
    },
    {
     "data": {
      "image/png": "[encoded data removed]",
      "text/plain": [
       "<Figure size 432x288 with 1 Axes>"
      ]
     },
     "metadata": {
      "needs_background": "light"
     },
     "output_type": "display_data"
    },
    {
     "data": {
      "image/png": "[encoded data removed]",
      "text/plain": [
       "<Figure size 432x288 with 1 Axes>"
      ]
     },
     "metadata": {
      "needs_background": "light"
     },
     "output_type": "display_data"
    },
    {
     "data": {
      "image/png": "[encoded data removed]",
      "text/plain": [
       "<Figure size 432x288 with 1 Axes>"
      ]
     },
     "metadata": {
      "needs_background": "light"
     },
     "output_type": "display_data"
    },
    {
     "data": {
      "image/png": "[encoded data removed]",
      "text/plain": [
       "<Figure size 432x288 with 1 Axes>"
      ]
     },
     "metadata": {
      "needs_background": "light"
     },
     "output_type": "display_data"
    },
    {
     "data": {
      "image/png": "[encoded data removed]",
      "text/plain": [
       "<Figure size 432x288 with 1 Axes>"
      ]
     },
     "metadata": {
      "needs_background": "light"
     },
     "output_type": "display_data"
    },
    {
     "data": {
      "image/png": "[encoded data removed]",
      "text/plain": [
       "<Figure size 432x288 with 1 Axes>"
      ]
     },
     "metadata": {
      "needs_background": "light"
     },
     "output_type": "display_data"
    },
    {
     "data": {
      "image/png": "[encoded data removed]",
      "text/plain": [
       "<Figure size 432x288 with 1 Axes>"
      ]
     },
     "metadata": {
      "needs_background": "light"
     },
     "output_type": "display_data"
    },
    {
     "data": {
      "image/png": "[encoded data removed]",
      "text/plain": [
       "<Figure size 432x288 with 1 Axes>"
      ]
     },
     "metadata": {
      "needs_background": "light"
     },
     "output_type": "display_data"
    },
    {
     "data": {
      "image/png": "[encoded data removed]",
      "text/plain": [
       "<Figure size 432x288 with 1 Axes>"
      ]
     },
     "metadata": {
      "needs_background": "light"
     },
     "output_type": "display_data"
    },
    {
     "data": {
      "image/png": "[encoded data removed]",
      "text/plain": [
       "<Figure size 432x288 with 1 Axes>"
      ]
     },
     "metadata": {
      "needs_background": "light"
     },
     "output_type": "display_data"
    }
   ],
   "source": [
    "data = df.columns\n",
    "for i in data:\n",
    "    plt.title(i)\n",
    "    sns.distplot(ottok[i])\n",
    "    sns.distplot(client[i])\n",
    "    plt.legend(['клиенты', 'отток'])\n",
    "    plt.show()"
   ]
  },
  {
   "cell_type": "markdown",
   "metadata": {},
   "source": [
    "Мы видим сходства в гендере и в факте оставления номера телефона. Различия в том, что класс с оттоком в среднем живёт дальше, у них меньше участий в промо акциях и групповых занятиях, а так же заметно меньше срок абонемента "
   ]
  },
  {
   "cell_type": "code",
   "execution_count": 12,
   "metadata": {},
   "outputs": [
    {
     "data": {
      "image/png": "[encoded data removed]",
      "text/plain": [
       "<Figure size 432x288 with 1 Axes>"
      ]
     },
     "metadata": {
      "needs_background": "light"
     },
     "output_type": "display_data"
    },
    {
     "data": {
      "image/png": "[encoded data removed]",
      "text/plain": [
       "<Figure size 1080x720 with 2 Axes>"
      ]
     },
     "metadata": {
      "needs_background": "light"
     },
     "output_type": "display_data"
    }
   ],
   "source": [
    "cm = df.corr() \n",
    "fig, ax = plt.subplots()\n",
    "\n",
    "plt.figure(figsize = (15, 10))\n",
    "sns.heatmap(cm, annot=True, square=True)\n",
    "ax.set_ylim(\n",
    "    7, 0\n",
    ")  \n",
    "\n",
    "plt.show()"
   ]
  },
  {
   "cell_type": "code",
   "execution_count": 13,
   "metadata": {},
   "outputs": [],
   "source": [
    "df = df.drop('Avg_class_frequency_current_month', axis = 1)\n",
    "df = df.drop('Contract_period', axis = 1)\n",
    "\n",
    "# Удаляем один из сильно коррелирующих столбцов\n"
   ]
  },
  {
   "cell_type": "markdown",
   "metadata": {},
   "source": [
    "Целевая переменная заметно коррелирует со сроком абонемента(в разных вариациях) и неожиданно возрастом. И совсем не коррелирует с полом и телефоном"
   ]
  },
  {
   "cell_type": "markdown",
   "metadata": {},
   "source": [
    "## Строим модель прогнозирования оттока клиентов"
   ]
  },
  {
   "cell_type": "markdown",
   "metadata": {},
   "source": [
    "### Логистическая регрессия"
   ]
  },
  {
   "cell_type": "code",
   "execution_count": 14,
   "metadata": {},
   "outputs": [],
   "source": [
    "X = df.drop('Churn', axis = 1)\n",
    "y = df['Churn']\n",
    "X_train, X_test, y_train, y_test = train_test_split(X, y, test_size=0.2, random_state=0)"
   ]
  },
  {
   "cell_type": "code",
   "execution_count": 15,
   "metadata": {
    "scrolled": true
   },
   "outputs": [
    {
     "name": "stdout",
     "output_type": "stream",
     "text": [
      "Accuracy: 0.88\n",
      "Precision: 0.76\n",
      "Recall: 0.77\n"
     ]
    }
   ],
   "source": [
    "model = LogisticRegression(solver='liblinear')\n",
    "model.fit(X_train, y_train)\n",
    "predictions = model.predict(X_test)\n",
    "probabilities = model.predict_proba(X_test)[:,1] \n",
    "print('Accuracy: {:.2f}'.format(accuracy_score(y_test, predictions) ))\n",
    "print('Precision: {:.2f}'.format(precision_score(y_test, predictions)))\n",
    "print('Recall: {:.2f}'.format(recall_score(y_test, predictions) ))"
   ]
  },
  {
   "cell_type": "markdown",
   "metadata": {},
   "source": [
    "### Случайный лес"
   ]
  },
  {
   "cell_type": "code",
   "execution_count": 16,
   "metadata": {
    "scrolled": true
   },
   "outputs": [
    {
     "name": "stdout",
     "output_type": "stream",
     "text": [
      "Accuracy2: 0.90\n",
      "Precision2: 0.80\n",
      "Recall2: 0.77\n"
     ]
    }
   ],
   "source": [
    "model2 = RandomForestClassifier(n_estimators = 100, random_state = 0)\n",
    "model2.fit(X_train, y_train)\n",
    "predictions2 = model2.predict(X_test)\n",
    "print('Accuracy2: {:.2f}'.format(accuracy_score(y_test, predictions2) ))\n",
    "print('Precision2: {:.2f}'.format(precision_score(y_test, predictions2)))\n",
    "print('Recall2: {:.2f}'.format(recall_score(y_test, predictions2) ))"
   ]
  },
  {
   "cell_type": "markdown",
   "metadata": {},
   "source": [
    "Выберем модель случайный лес. У данной модели показатели лучше"
   ]
  },
  {
   "cell_type": "markdown",
   "metadata": {},
   "source": [
    "## Кластеризация клиентов"
   ]
  },
  {
   "cell_type": "code",
   "execution_count": 17,
   "metadata": {},
   "outputs": [
    {
     "data": {
      "image/png": "[encoded data removed]",
      "text/plain": [
       "<Figure size 1080x720 with 1 Axes>"
      ]
     },
     "metadata": {
      "needs_background": "light"
     },
     "output_type": "display_data"
    }
   ],
   "source": [
    "sc = StandardScaler()\n",
    "X_sc = sc.fit_transform(X)\n",
    "linked = linkage(X_sc, method = 'ward')\n",
    "plt.figure(figsize=(15, 10))  \n",
    "dendrogram(linked, orientation='top')\n",
    "plt.title('Дендограмма')\n",
    "plt.show() "
   ]
  },
  {
   "cell_type": "code",
   "execution_count": 18,
   "metadata": {
    "scrolled": true
   },
   "outputs": [
    {
     "data": {
      "text/html": [
       "<div>\n",
       "<style scoped>\n",
       "    .dataframe tbody tr th:only-of-type {\n",
       "        vertical-align: middle;\n",
       "    }\n",
       "\n",
       "    .dataframe tbody tr th {\n",
       "        vertical-align: top;\n",
       "    }\n",
       "\n",
       "    .dataframe thead th {\n",
       "        text-align: right;\n",
       "    }\n",
       "</style>\n",
       "<table border=\"1\" class=\"dataframe\">\n",
       "  <thead>\n",
       "    <tr style=\"text-align: right;\">\n",
       "      <th></th>\n",
       "      <th>gender</th>\n",
       "      <th>Near_Location</th>\n",
       "      <th>Partner</th>\n",
       "      <th>Promo_friends</th>\n",
       "      <th>Phone</th>\n",
       "      <th>Group_visits</th>\n",
       "      <th>Age</th>\n",
       "      <th>Avg_additional_charges_total</th>\n",
       "      <th>Month_to_end_contract</th>\n",
       "      <th>Lifetime</th>\n",
       "      <th>Avg_class_frequency_total</th>\n",
       "      <th>Churn</th>\n",
       "    </tr>\n",
       "    <tr>\n",
       "      <th>cluster</th>\n",
       "      <th></th>\n",
       "      <th></th>\n",
       "      <th></th>\n",
       "      <th></th>\n",
       "      <th></th>\n",
       "      <th></th>\n",
       "      <th></th>\n",
       "      <th></th>\n",
       "      <th></th>\n",
       "      <th></th>\n",
       "      <th></th>\n",
       "      <th></th>\n",
       "    </tr>\n",
       "  </thead>\n",
       "  <tbody>\n",
       "    <tr>\n",
       "      <th>0</th>\n",
       "      <td>0.498501</td>\n",
       "      <td>0.995005</td>\n",
       "      <td>0.889111</td>\n",
       "      <td>1.000000</td>\n",
       "      <td>1.0</td>\n",
       "      <td>0.519481</td>\n",
       "      <td>29.543457</td>\n",
       "      <td>152.139417</td>\n",
       "      <td>6.265734</td>\n",
       "      <td>4.210789</td>\n",
       "      <td>1.951909</td>\n",
       "      <td>0.132867</td>\n",
       "    </tr>\n",
       "    <tr>\n",
       "      <th>1</th>\n",
       "      <td>0.500898</td>\n",
       "      <td>0.000000</td>\n",
       "      <td>0.488330</td>\n",
       "      <td>0.077199</td>\n",
       "      <td>1.0</td>\n",
       "      <td>0.231598</td>\n",
       "      <td>28.685817</td>\n",
       "      <td>137.277472</td>\n",
       "      <td>2.804309</td>\n",
       "      <td>2.978456</td>\n",
       "      <td>1.762672</td>\n",
       "      <td>0.402154</td>\n",
       "    </tr>\n",
       "    <tr>\n",
       "      <th>2</th>\n",
       "      <td>0.521158</td>\n",
       "      <td>0.995546</td>\n",
       "      <td>0.417595</td>\n",
       "      <td>0.011136</td>\n",
       "      <td>1.0</td>\n",
       "      <td>0.546771</td>\n",
       "      <td>30.805122</td>\n",
       "      <td>177.103564</td>\n",
       "      <td>6.162584</td>\n",
       "      <td>5.701559</td>\n",
       "      <td>2.318701</td>\n",
       "      <td>0.016704</td>\n",
       "    </tr>\n",
       "    <tr>\n",
       "      <th>3</th>\n",
       "      <td>0.512090</td>\n",
       "      <td>1.000000</td>\n",
       "      <td>0.196891</td>\n",
       "      <td>0.053541</td>\n",
       "      <td>1.0</td>\n",
       "      <td>0.297064</td>\n",
       "      <td>27.818653</td>\n",
       "      <td>124.625600</td>\n",
       "      <td>1.898964</td>\n",
       "      <td>2.058722</td>\n",
       "      <td>1.539284</td>\n",
       "      <td>0.506045</td>\n",
       "    </tr>\n",
       "    <tr>\n",
       "      <th>4</th>\n",
       "      <td>0.523316</td>\n",
       "      <td>0.862694</td>\n",
       "      <td>0.471503</td>\n",
       "      <td>0.305699</td>\n",
       "      <td>0.0</td>\n",
       "      <td>0.427461</td>\n",
       "      <td>29.297927</td>\n",
       "      <td>144.208179</td>\n",
       "      <td>4.466321</td>\n",
       "      <td>3.940415</td>\n",
       "      <td>1.854211</td>\n",
       "      <td>0.266839</td>\n",
       "    </tr>\n",
       "  </tbody>\n",
       "</table>\n",
       "</div>"
      ],
      "text/plain": [
       "           gender  Near_Location   Partner  Promo_friends  Phone  \\\n",
       "cluster                                                            \n",
       "0        0.498501       0.995005  0.889111       1.000000    1.0   \n",
       "1        0.500898       0.000000  0.488330       0.077199    1.0   \n",
       "2        0.521158       0.995546  0.417595       0.011136    1.0   \n",
       "3        0.512090       1.000000  0.196891       0.053541    1.0   \n",
       "4        0.523316       0.862694  0.471503       0.305699    0.0   \n",
       "\n",
       "         Group_visits        Age  Avg_additional_charges_total  \\\n",
       "cluster                                                          \n",
       "0            0.519481  29.543457                    152.139417   \n",
       "1            0.231598  28.685817                    137.277472   \n",
       "2            0.546771  30.805122                    177.103564   \n",
       "3            0.297064  27.818653                    124.625600   \n",
       "4            0.427461  29.297927                    144.208179   \n",
       "\n",
       "         Month_to_end_contract  Lifetime  Avg_class_frequency_total     Churn  \n",
       "cluster                                                                        \n",
       "0                     6.265734  4.210789                   1.951909  0.132867  \n",
       "1                     2.804309  2.978456                   1.762672  0.402154  \n",
       "2                     6.162584  5.701559                   2.318701  0.016704  \n",
       "3                     1.898964  2.058722                   1.539284  0.506045  \n",
       "4                     4.466321  3.940415                   1.854211  0.266839  "
      ]
     },
     "execution_count": 18,
     "metadata": {},
     "output_type": "execute_result"
    }
   ],
   "source": [
    "km = KMeans(n_clusters = 5, random_state=0)\n",
    "labels = km.fit_predict(X_sc)\n",
    "df['cluster'] = labels\n",
    "df.groupby('cluster').mean()\n"
   ]
  },
  {
   "cell_type": "markdown",
   "metadata": {},
   "source": [
    "Лояльные кластеры 0 и 2. Для них характерна близость расположения, значительная доля групповых визитов, длительный абонемент и большое число доп. покупок. Но в 0 кластере большое количество участий в партнерских акциях, а во втором нет"
   ]
  },
  {
   "cell_type": "code",
   "execution_count": 19,
   "metadata": {},
   "outputs": [],
   "source": [
    "# определим функцию отрисовки графиков попарных признаков для булевых кластеров\n",
    "def show_clusters_on_plot_boolean(df, x_name, y_name, cluster_name):\n",
    "    plt.figure(figsize=(5, 5))\n",
    "    plt.grid(visible=True)\n",
    "    sns.barplot(\n",
    "        x=df[x_name], y=df[y_name], hue=df[cluster_name], palette='Paired', \n",
    "    )\n",
    "    plt.title('{} vs {}'.format(x_name, y_name))\n",
    "    plt.show()"
   ]
  },
  {
   "cell_type": "code",
   "execution_count": 20,
   "metadata": {},
   "outputs": [],
   "source": [
    "# определим функцию отрисовки графиков попарных признаков для небулевых кластеров\n",
    "def show_clusters_on_plot_non_boolean(df, x_name, y_name, cluster_name):\n",
    "    plt.figure(figsize=(5, 5))\n",
    "    plt.grid(visible=True)\n",
    "    sns.scatterplot(\n",
    "        x=df[x_name], y=df[y_name], hue=df[cluster_name], palette='Paired', \n",
    "    )\n",
    "    plt.title('{} vs {}'.format(x_name, y_name))\n",
    "    plt.show()"
   ]
  },
  {
   "cell_type": "code",
   "execution_count": 21,
   "metadata": {},
   "outputs": [],
   "source": [
    "df_boolean = df.drop(['Avg_additional_charges_total', 'Avg_class_frequency_total', 'Age', 'Month_to_end_contract', 'Lifetime'], axis = 1)\n",
    "df_non_boolean = df.drop(['gender', 'Near_Location', 'Partner', 'Promo_friends', 'Phone', 'Group_visits', 'Churn'], axis = 1)"
   ]
  },
  {
   "cell_type": "code",
   "execution_count": 22,
   "metadata": {
    "scrolled": true
   },
   "outputs": [
    {
     "data": {
      "image/png": "[encoded data removed]",
      "text/plain": [
       "<Figure size 360x360 with 1 Axes>"
      ]
     },
     "metadata": {
      "needs_background": "light"
     },
     "output_type": "display_data"
    },
    {
     "data": {
      "image/png": "[encoded data removed]",
      "text/plain": [
       "<Figure size 360x360 with 1 Axes>"
      ]
     },
     "metadata": {
      "needs_background": "light"
     },
     "output_type": "display_data"
    },
    {
     "data": {
      "image/png": "[encoded data removed]",
      "text/plain": [
       "<Figure size 360x360 with 1 Axes>"
      ]
     },
     "metadata": {
      "needs_background": "light"
     },
     "output_type": "display_data"
    },
    {
     "data": {
      "image/png": "[encoded data removed]",
      "text/plain": [
       "<Figure size 360x360 with 1 Axes>"
      ]
     },
     "metadata": {
      "needs_background": "light"
     },
     "output_type": "display_data"
    },
    {
     "data": {
      "image/png": "[encoded data removed]",
      "text/plain": [
       "<Figure size 360x360 with 1 Axes>"
      ]
     },
     "metadata": {
      "needs_background": "light"
     },
     "output_type": "display_data"
    },
    {
     "data": {
      "image/png": "[encoded data removed]",
      "text/plain": [
       "<Figure size 360x360 with 1 Axes>"
      ]
     },
     "metadata": {
      "needs_background": "light"
     },
     "output_type": "display_data"
    },
    {
     "data": {
      "image/png": "[encoded data removed]",
      "text/plain": [
       "<Figure size 360x360 with 1 Axes>"
      ]
     },
     "metadata": {
      "needs_background": "light"
     },
     "output_type": "display_data"
    },
    {
     "data": {
      "image/png": "[encoded data removed]",
      "text/plain": [
       "<Figure size 360x360 with 1 Axes>"
      ]
     },
     "metadata": {
      "needs_background": "light"
     },
     "output_type": "display_data"
    },
    {
     "data": {
      "image/png": "[encoded data removed]",
      "text/plain": [
       "<Figure size 360x360 with 1 Axes>"
      ]
     },
     "metadata": {
      "needs_background": "light"
     },
     "output_type": "display_data"
    },
    {
     "data": {
      "image/png": "[encoded data removed]",
      "text/plain": [
       "<Figure size 360x360 with 1 Axes>"
      ]
     },
     "metadata": {
      "needs_background": "light"
     },
     "output_type": "display_data"
    },
    {
     "data": {
      "image/png": "[encoded data removed]",
      "text/plain": [
       "<Figure size 360x360 with 1 Axes>"
      ]
     },
     "metadata": {
      "needs_background": "light"
     },
     "output_type": "display_data"
    },
    {
     "data": {
      "image/png": "[encoded data removed]",
      "text/plain": [
       "<Figure size 360x360 with 1 Axes>"
      ]
     },
     "metadata": {
      "needs_background": "light"
     },
     "output_type": "display_data"
    },
    {
     "data": {
      "image/png": "[encoded data removed]",
      "text/plain": [
       "<Figure size 360x360 with 1 Axes>"
      ]
     },
     "metadata": {
      "needs_background": "light"
     },
     "output_type": "display_data"
    },
    {
     "data": {
      "image/png": "[encoded data removed]",
      "text/plain": [
       "<Figure size 360x360 with 1 Axes>"
      ]
     },
     "metadata": {
      "needs_background": "light"
     },
     "output_type": "display_data"
    },
    {
     "data": {
      "image/png": "[encoded data removed]",
      "text/plain": [
       "<Figure size 360x360 with 1 Axes>"
      ]
     },
     "metadata": {
      "needs_background": "light"
     },
     "output_type": "display_data"
    },
    {
     "data": {
      "image/png": "[encoded data removed]",
      "text/plain": [
       "<Figure size 360x360 with 1 Axes>"
      ]
     },
     "metadata": {
      "needs_background": "light"
     },
     "output_type": "display_data"
    },
    {
     "data": {
      "image/png": "[encoded data removed]",
      "text/plain": [
       "<Figure size 360x360 with 1 Axes>"
      ]
     },
     "metadata": {
      "needs_background": "light"
     },
     "output_type": "display_data"
    },
    {
     "data": {
      "image/png": "[encoded data removed]",
      "text/plain": [
       "<Figure size 360x360 with 1 Axes>"
      ]
     },
     "metadata": {
      "needs_background": "light"
     },
     "output_type": "display_data"
    },
    {
     "data": {
      "image/png": "[encoded data removed]",
      "text/plain": [
       "<Figure size 360x360 with 1 Axes>"
      ]
     },
     "metadata": {
      "needs_background": "light"
     },
     "output_type": "display_data"
    },
    {
     "data": {
      "image/png": "[encoded data removed]",
      "text/plain": [
       "<Figure size 360x360 with 1 Axes>"
      ]
     },
     "metadata": {
      "needs_background": "light"
     },
     "output_type": "display_data"
    },
    {
     "data": {
      "image/png": "[encoded data removed]",
      "text/plain": [
       "<Figure size 360x360 with 1 Axes>"
      ]
     },
     "metadata": {
      "needs_background": "light"
     },
     "output_type": "display_data"
    }
   ],
   "source": [
    "col_pairs = list(itertools.combinations(df_boolean.drop('cluster', axis=1).columns, 2))\n",
    "for pair in col_pairs:\n",
    "    show_clusters_on_plot_boolean(df_boolean, pair[0], pair[1], 'cluster')"
   ]
  },
  {
   "cell_type": "code",
   "execution_count": 24,
   "metadata": {},
   "outputs": [
    {
     "name": "stdout",
     "output_type": "stream",
     "text": [
      "<class 'pandas.core.frame.DataFrame'>\n",
      "RangeIndex: 4000 entries, 0 to 3999\n",
      "Data columns (total 6 columns):\n",
      " #   Column                        Non-Null Count  Dtype  \n",
      "---  ------                        --------------  -----  \n",
      " 0   Age                           4000 non-null   int64  \n",
      " 1   Avg_additional_charges_total  4000 non-null   float64\n",
      " 2   Month_to_end_contract         4000 non-null   float64\n",
      " 3   Lifetime                      4000 non-null   int64  \n",
      " 4   Avg_class_frequency_total     4000 non-null   float64\n",
      " 5   cluster                       4000 non-null   int32  \n",
      "dtypes: float64(3), int32(1), int64(2)\n",
      "memory usage: 172.0 KB\n"
     ]
    }
   ],
   "source": [
    "df_non_boolean.info()"
   ]
  },
  {
   "cell_type": "code",
   "execution_count": 25,
   "metadata": {
    "scrolled": true
   },
   "outputs": [
    {
     "data": {
      "text/plain": [
       "<AxesSubplot:xlabel='cluster', ylabel='Age'>"
      ]
     },
     "execution_count": 25,
     "metadata": {},
     "output_type": "execute_result"
    },
    {
     "data": {
      "image/png": "[encoded data removed]",
      "text/plain": [
       "<Figure size 432x288 with 1 Axes>"
      ]
     },
     "metadata": {
      "needs_background": "light"
     },
     "output_type": "display_data"
    }
   ],
   "source": [
    "sns.boxplot(x = 'cluster', y= df_non_boolean['Age'], data = df_non_boolean)   "
   ]
  },
  {
   "cell_type": "code",
   "execution_count": 26,
   "metadata": {},
   "outputs": [
    {
     "data": {
      "text/plain": [
       "<AxesSubplot:xlabel='cluster', ylabel='Avg_additional_charges_total'>"
      ]
     },
     "execution_count": 26,
     "metadata": {},
     "output_type": "execute_result"
    },
    {
     "data": {
      "image/png": "[encoded data removed]",
      "text/plain": [
       "<Figure size 432x288 with 1 Axes>"
      ]
     },
     "metadata": {
      "needs_background": "light"
     },
     "output_type": "display_data"
    }
   ],
   "source": [
    "sns.boxplot(x = 'cluster', y= df_non_boolean['Avg_additional_charges_total'], data = df_non_boolean)"
   ]
  },
  {
   "cell_type": "code",
   "execution_count": 27,
   "metadata": {},
   "outputs": [
    {
     "data": {
      "text/plain": [
       "<AxesSubplot:xlabel='cluster', ylabel='Month_to_end_contract'>"
      ]
     },
     "execution_count": 27,
     "metadata": {},
     "output_type": "execute_result"
    },
    {
     "data": {
      "image/png": "[encoded data removed]",
      "text/plain": [
       "<Figure size 432x288 with 1 Axes>"
      ]
     },
     "metadata": {
      "needs_background": "light"
     },
     "output_type": "display_data"
    }
   ],
   "source": [
    "sns.boxplot(x = 'cluster', y= df_non_boolean['Month_to_end_contract'], data = df_non_boolean)"
   ]
  },
  {
   "cell_type": "code",
   "execution_count": 28,
   "metadata": {},
   "outputs": [
    {
     "data": {
      "text/plain": [
       "<AxesSubplot:xlabel='cluster', ylabel='Lifetime'>"
      ]
     },
     "execution_count": 28,
     "metadata": {},
     "output_type": "execute_result"
    },
    {
     "data": {
      "image/png": "[encoded data removed]",
      "text/plain": [
       "<Figure size 432x288 with 1 Axes>"
      ]
     },
     "metadata": {
      "needs_background": "light"
     },
     "output_type": "display_data"
    }
   ],
   "source": [
    "sns.boxplot(x = 'cluster', y= df_non_boolean['Lifetime'], data = df_non_boolean)"
   ]
  },
  {
   "cell_type": "code",
   "execution_count": 29,
   "metadata": {},
   "outputs": [
    {
     "data": {
      "text/plain": [
       "<AxesSubplot:xlabel='cluster', ylabel='Avg_class_frequency_total'>"
      ]
     },
     "execution_count": 29,
     "metadata": {},
     "output_type": "execute_result"
    },
    {
     "data": {
      "image/png": "[encoded data removed]",
      "text/plain": [
       "<Figure size 432x288 with 1 Axes>"
      ]
     },
     "metadata": {
      "needs_background": "light"
     },
     "output_type": "display_data"
    }
   ],
   "source": [
    "sns.boxplot(x = 'cluster', y= df_non_boolean['Avg_class_frequency_total'], data = df_non_boolean)"
   ]
  },
  {
   "cell_type": "markdown",
   "metadata": {},
   "source": [
    "## Вывод:"
   ]
  },
  {
   "cell_type": "markdown",
   "metadata": {},
   "source": [
    "Мы получили две хорошо работающие модели по прогнозированию оттока клиентов. Показатели основных метрик:\n",
    "Логистическая регрессия:\n",
    "Accuracy: 0.88\n",
    "Precision: 0.76\n",
    "Recall: 0.77\n",
    "Случайный лес:\n",
    "Accuracy2: 0.90\n",
    "Precision2: 0.80\n",
    "Recall2: 0.77\n",
    "Обе модели показывают высокие и близкие результаты, но метрики случайного леса всёже лучше"
   ]
  },
  {
   "cell_type": "markdown",
   "metadata": {},
   "source": [
    " Наибольший отток во 1 и 3 кластерах. Для них характерны такие признаки как: Скорое окончание абонемента, отсутствие посещений групповых занятий, а так же отсуствие промокода 'приведи друга', а отдельно для 3 кластера ещё и отсутсвии партнерской скидки  говорит нам о том,что люди занимающиеся с друзьями вероятнее останутся с нашим фитнесс центром.\n",
    " "
   ]
  },
  {
   "cell_type": "markdown",
   "metadata": {},
   "source": [
    "## Рекомендации:"
   ]
  },
  {
   "cell_type": "markdown",
   "metadata": {},
   "source": [
    "Использовать для прогнозирования оттока клиентов модель: случайный лес. "
   ]
  },
  {
   "cell_type": "markdown",
   "metadata": {},
   "source": [
    "Менеджерам по развитию стоит обратить внимания на то из каких районов от нас уходят клиенты и рассмотреть возможность открытия там филиалов."
   ]
  },
  {
   "cell_type": "markdown",
   "metadata": {},
   "source": [
    "Менеджерам по работе с клиентами нужно уделить особое внимание клиентам из 1 и 3 кластера. Возможно прислать им индивидуальные скидки. А для клиентов из 4 кластера (у которых не указан телефон)предложить скидку при их ближайшем посещении"
   ]
  },
  {
   "cell_type": "markdown",
   "metadata": {},
   "source": [
    "Так же стоит активнее предлогать новые абонементы тем, у кого они вскоре закончатся"
   ]
  }
 ],
 "metadata": {
  "ExecuteTimeLog": [
   {
    "duration": 1599,
    "start_time": "2022-04-11T05:41:58.479Z"
   },
   {
    "duration": 22,
    "start_time": "2022-04-11T05:42:00.081Z"
   },
   {
    "duration": 8,
    "start_time": "2022-04-11T05:42:00.104Z"
   },
   {
    "duration": 16,
    "start_time": "2022-04-11T05:42:08.035Z"
   },
   {
    "duration": 10,
    "start_time": "2022-04-11T05:42:10.411Z"
   },
   {
    "duration": 1363,
    "start_time": "2022-04-11T05:44:16.116Z"
   },
   {
    "duration": 16,
    "start_time": "2022-04-11T05:44:17.481Z"
   },
   {
    "duration": 3,
    "start_time": "2022-04-11T05:44:17.499Z"
   },
   {
    "duration": 13,
    "start_time": "2022-04-11T05:44:17.504Z"
   },
   {
    "duration": 12,
    "start_time": "2022-04-11T05:44:17.519Z"
   },
   {
    "duration": 49,
    "start_time": "2022-04-11T09:50:30.696Z"
   },
   {
    "duration": 3,
    "start_time": "2022-04-11T09:52:42.889Z"
   },
   {
    "duration": 10,
    "start_time": "2022-04-11T09:52:53.301Z"
   },
   {
    "duration": 1973,
    "start_time": "2022-04-11T09:56:33.836Z"
   },
   {
    "duration": 17,
    "start_time": "2022-04-11T09:56:35.812Z"
   },
   {
    "duration": 3,
    "start_time": "2022-04-11T09:56:35.831Z"
   },
   {
    "duration": 12,
    "start_time": "2022-04-11T09:56:35.836Z"
   },
   {
    "duration": 32,
    "start_time": "2022-04-11T09:56:35.850Z"
   },
   {
    "duration": 45,
    "start_time": "2022-04-11T09:56:35.883Z"
   },
   {
    "duration": 10,
    "start_time": "2022-04-11T09:56:35.929Z"
   },
   {
    "duration": 10,
    "start_time": "2022-04-11T09:56:35.940Z"
   },
   {
    "duration": 10,
    "start_time": "2022-04-11T09:56:35.979Z"
   },
   {
    "duration": 1946,
    "start_time": "2022-04-11T09:57:05.739Z"
   },
   {
    "duration": 26,
    "start_time": "2022-04-11T09:57:07.687Z"
   },
   {
    "duration": 4,
    "start_time": "2022-04-11T09:57:07.715Z"
   },
   {
    "duration": 10,
    "start_time": "2022-04-11T09:57:07.722Z"
   },
   {
    "duration": 12,
    "start_time": "2022-04-11T09:57:07.734Z"
   },
   {
    "duration": 72,
    "start_time": "2022-04-11T09:57:07.748Z"
   },
   {
    "duration": 11,
    "start_time": "2022-04-11T09:57:07.822Z"
   },
   {
    "duration": 41,
    "start_time": "2022-04-11T09:57:44.010Z"
   },
   {
    "duration": 43,
    "start_time": "2022-04-11T09:57:46.827Z"
   },
   {
    "duration": 1638,
    "start_time": "2022-04-11T10:02:44.025Z"
   },
   {
    "duration": 20,
    "start_time": "2022-04-11T10:02:45.666Z"
   },
   {
    "duration": 4,
    "start_time": "2022-04-11T10:02:45.688Z"
   },
   {
    "duration": 11,
    "start_time": "2022-04-11T10:02:45.695Z"
   },
   {
    "duration": 12,
    "start_time": "2022-04-11T10:02:45.708Z"
   },
   {
    "duration": 73,
    "start_time": "2022-04-11T10:02:45.721Z"
   },
   {
    "duration": 9,
    "start_time": "2022-04-11T10:02:45.795Z"
   },
   {
    "duration": 41,
    "start_time": "2022-04-11T10:02:45.805Z"
   },
   {
    "duration": 65,
    "start_time": "2022-04-11T10:02:45.848Z"
   },
   {
    "duration": 4,
    "start_time": "2022-04-11T10:03:37.844Z"
   },
   {
    "duration": 7398,
    "start_time": "2022-04-11T10:06:19.773Z"
   },
   {
    "duration": 4438,
    "start_time": "2022-04-11T10:13:32.226Z"
   },
   {
    "duration": 114,
    "start_time": "2022-04-11T10:15:21.265Z"
   },
   {
    "duration": 1329,
    "start_time": "2022-04-11T10:15:29.262Z"
   },
   {
    "duration": 1229,
    "start_time": "2022-04-11T10:16:22.442Z"
   },
   {
    "duration": 1470,
    "start_time": "2022-04-11T10:17:15.534Z"
   },
   {
    "duration": 1496,
    "start_time": "2022-04-11T10:17:37.786Z"
   },
   {
    "duration": 23,
    "start_time": "2022-04-12T04:44:45.753Z"
   },
   {
    "duration": 42,
    "start_time": "2022-04-12T04:45:51.585Z"
   },
   {
    "duration": 1392,
    "start_time": "2022-04-12T04:46:07.899Z"
   },
   {
    "duration": 40,
    "start_time": "2022-04-12T04:46:09.293Z"
   },
   {
    "duration": 3,
    "start_time": "2022-04-12T04:46:09.335Z"
   },
   {
    "duration": 11,
    "start_time": "2022-04-12T04:46:09.341Z"
   },
   {
    "duration": 12,
    "start_time": "2022-04-12T04:46:09.354Z"
   },
   {
    "duration": 41,
    "start_time": "2022-04-12T04:46:09.368Z"
   },
   {
    "duration": 8,
    "start_time": "2022-04-12T04:46:09.411Z"
   },
   {
    "duration": 63,
    "start_time": "2022-04-12T04:46:09.421Z"
   },
   {
    "duration": 41,
    "start_time": "2022-04-12T04:46:09.485Z"
   },
   {
    "duration": 3396,
    "start_time": "2022-04-12T04:46:09.528Z"
   },
   {
    "duration": 1418,
    "start_time": "2022-04-12T04:46:12.926Z"
   },
   {
    "duration": 4,
    "start_time": "2022-04-12T04:46:14.346Z"
   },
   {
    "duration": 82,
    "start_time": "2022-04-12T04:47:43.470Z"
   },
   {
    "duration": 103,
    "start_time": "2022-04-12T04:47:59.851Z"
   },
   {
    "duration": 17,
    "start_time": "2022-04-12T04:48:13.931Z"
   },
   {
    "duration": 12,
    "start_time": "2022-04-12T04:48:51.980Z"
   },
   {
    "duration": 1479,
    "start_time": "2022-04-12T04:49:12.553Z"
   },
   {
    "duration": 22,
    "start_time": "2022-04-12T04:49:14.034Z"
   },
   {
    "duration": 4,
    "start_time": "2022-04-12T04:49:14.058Z"
   },
   {
    "duration": 12,
    "start_time": "2022-04-12T04:49:14.064Z"
   },
   {
    "duration": 14,
    "start_time": "2022-04-12T04:49:14.078Z"
   },
   {
    "duration": 60,
    "start_time": "2022-04-12T04:49:14.094Z"
   },
   {
    "duration": 8,
    "start_time": "2022-04-12T04:49:14.156Z"
   },
   {
    "duration": 40,
    "start_time": "2022-04-12T04:49:14.165Z"
   },
   {
    "duration": 70,
    "start_time": "2022-04-12T04:49:14.207Z"
   },
   {
    "duration": 3393,
    "start_time": "2022-04-12T04:49:14.278Z"
   },
   {
    "duration": 1475,
    "start_time": "2022-04-12T04:49:17.673Z"
   },
   {
    "duration": 7,
    "start_time": "2022-04-12T04:49:19.150Z"
   },
   {
    "duration": 91,
    "start_time": "2022-04-12T04:56:41.060Z"
   },
   {
    "duration": 1409,
    "start_time": "2022-04-12T04:56:48.454Z"
   },
   {
    "duration": 20,
    "start_time": "2022-04-12T04:56:49.865Z"
   },
   {
    "duration": 4,
    "start_time": "2022-04-12T04:56:49.886Z"
   },
   {
    "duration": 9,
    "start_time": "2022-04-12T04:56:49.892Z"
   },
   {
    "duration": 11,
    "start_time": "2022-04-12T04:56:49.903Z"
   },
   {
    "duration": 57,
    "start_time": "2022-04-12T04:56:49.916Z"
   },
   {
    "duration": 8,
    "start_time": "2022-04-12T04:56:49.975Z"
   },
   {
    "duration": 40,
    "start_time": "2022-04-12T04:56:49.984Z"
   },
   {
    "duration": 60,
    "start_time": "2022-04-12T04:56:50.025Z"
   },
   {
    "duration": 3332,
    "start_time": "2022-04-12T04:56:50.087Z"
   },
   {
    "duration": 1363,
    "start_time": "2022-04-12T04:56:53.421Z"
   },
   {
    "duration": 5,
    "start_time": "2022-04-12T04:56:54.787Z"
   },
   {
    "duration": 74,
    "start_time": "2022-04-12T04:56:54.794Z"
   },
   {
    "duration": 0,
    "start_time": "2022-04-12T04:56:54.870Z"
   },
   {
    "duration": 6,
    "start_time": "2022-04-12T04:57:12.938Z"
   },
   {
    "duration": 103,
    "start_time": "2022-04-12T05:04:35.679Z"
   },
   {
    "duration": 1403,
    "start_time": "2022-04-12T05:04:50.463Z"
   },
   {
    "duration": 16,
    "start_time": "2022-04-12T05:04:51.868Z"
   },
   {
    "duration": 4,
    "start_time": "2022-04-12T05:04:51.885Z"
   },
   {
    "duration": 9,
    "start_time": "2022-04-12T05:04:51.891Z"
   },
   {
    "duration": 14,
    "start_time": "2022-04-12T05:04:51.902Z"
   },
   {
    "duration": 65,
    "start_time": "2022-04-12T05:04:51.918Z"
   },
   {
    "duration": 8,
    "start_time": "2022-04-12T05:04:51.984Z"
   },
   {
    "duration": 53,
    "start_time": "2022-04-12T05:04:51.994Z"
   },
   {
    "duration": 39,
    "start_time": "2022-04-12T05:04:52.049Z"
   },
   {
    "duration": 3346,
    "start_time": "2022-04-12T05:04:52.091Z"
   },
   {
    "duration": 1346,
    "start_time": "2022-04-12T05:04:55.438Z"
   },
   {
    "duration": 6,
    "start_time": "2022-04-12T05:04:56.786Z"
   },
   {
    "duration": 8,
    "start_time": "2022-04-12T05:04:56.793Z"
   },
   {
    "duration": 148,
    "start_time": "2022-04-12T05:04:56.802Z"
   },
   {
    "duration": 123,
    "start_time": "2022-04-12T05:06:47.640Z"
   },
   {
    "duration": 1470,
    "start_time": "2022-04-12T05:07:13.235Z"
   },
   {
    "duration": 21,
    "start_time": "2022-04-12T05:07:14.707Z"
   },
   {
    "duration": 3,
    "start_time": "2022-04-12T05:07:14.730Z"
   },
   {
    "duration": 15,
    "start_time": "2022-04-12T05:07:14.735Z"
   },
   {
    "duration": 13,
    "start_time": "2022-04-12T05:07:14.752Z"
   },
   {
    "duration": 42,
    "start_time": "2022-04-12T05:07:14.767Z"
   },
   {
    "duration": 8,
    "start_time": "2022-04-12T05:07:14.811Z"
   },
   {
    "duration": 63,
    "start_time": "2022-04-12T05:07:14.821Z"
   },
   {
    "duration": 40,
    "start_time": "2022-04-12T05:07:14.886Z"
   },
   {
    "duration": 3345,
    "start_time": "2022-04-12T05:07:14.928Z"
   },
   {
    "duration": 1341,
    "start_time": "2022-04-12T05:07:18.275Z"
   },
   {
    "duration": 5,
    "start_time": "2022-04-12T05:07:19.617Z"
   },
   {
    "duration": 10,
    "start_time": "2022-04-12T05:07:19.624Z"
   },
   {
    "duration": 34,
    "start_time": "2022-04-12T05:07:19.636Z"
   },
   {
    "duration": 1388,
    "start_time": "2022-04-12T05:08:52.779Z"
   },
   {
    "duration": 16,
    "start_time": "2022-04-12T05:08:54.169Z"
   },
   {
    "duration": 4,
    "start_time": "2022-04-12T05:08:54.186Z"
   },
   {
    "duration": 24,
    "start_time": "2022-04-12T05:08:54.191Z"
   },
   {
    "duration": 12,
    "start_time": "2022-04-12T05:08:54.217Z"
   },
   {
    "duration": 46,
    "start_time": "2022-04-12T05:08:54.231Z"
   },
   {
    "duration": 8,
    "start_time": "2022-04-12T05:08:54.279Z"
   },
   {
    "duration": 39,
    "start_time": "2022-04-12T05:08:54.288Z"
   },
   {
    "duration": 57,
    "start_time": "2022-04-12T05:08:54.328Z"
   },
   {
    "duration": 3374,
    "start_time": "2022-04-12T05:08:54.387Z"
   },
   {
    "duration": 1354,
    "start_time": "2022-04-12T05:08:57.762Z"
   },
   {
    "duration": 5,
    "start_time": "2022-04-12T05:08:59.118Z"
   },
   {
    "duration": 10,
    "start_time": "2022-04-12T05:08:59.125Z"
   },
   {
    "duration": 32,
    "start_time": "2022-04-12T05:08:59.137Z"
   },
   {
    "duration": 104,
    "start_time": "2022-04-12T05:12:57.296Z"
   },
   {
    "duration": 387,
    "start_time": "2022-04-12T05:13:06.536Z"
   },
   {
    "duration": 1391,
    "start_time": "2022-04-12T05:13:20.670Z"
   },
   {
    "duration": 21,
    "start_time": "2022-04-12T05:13:22.063Z"
   },
   {
    "duration": 4,
    "start_time": "2022-04-12T05:13:22.086Z"
   },
   {
    "duration": 11,
    "start_time": "2022-04-12T05:13:22.092Z"
   },
   {
    "duration": 13,
    "start_time": "2022-04-12T05:13:22.105Z"
   },
   {
    "duration": 59,
    "start_time": "2022-04-12T05:13:22.120Z"
   },
   {
    "duration": 8,
    "start_time": "2022-04-12T05:13:22.180Z"
   },
   {
    "duration": 39,
    "start_time": "2022-04-12T05:13:22.190Z"
   },
   {
    "duration": 58,
    "start_time": "2022-04-12T05:13:22.230Z"
   },
   {
    "duration": 3297,
    "start_time": "2022-04-12T05:13:22.290Z"
   },
   {
    "duration": 1347,
    "start_time": "2022-04-12T05:13:25.589Z"
   },
   {
    "duration": 5,
    "start_time": "2022-04-12T05:13:26.938Z"
   },
   {
    "duration": 9,
    "start_time": "2022-04-12T05:13:26.944Z"
   },
   {
    "duration": 29,
    "start_time": "2022-04-12T05:13:26.955Z"
   },
   {
    "duration": 493,
    "start_time": "2022-04-12T05:13:26.986Z"
   },
   {
    "duration": 1379,
    "start_time": "2022-04-12T05:14:35.543Z"
   },
   {
    "duration": 16,
    "start_time": "2022-04-12T05:14:36.924Z"
   },
   {
    "duration": 8,
    "start_time": "2022-04-12T05:14:36.941Z"
   },
   {
    "duration": 10,
    "start_time": "2022-04-12T05:14:36.950Z"
   },
   {
    "duration": 11,
    "start_time": "2022-04-12T05:14:36.962Z"
   },
   {
    "duration": 44,
    "start_time": "2022-04-12T05:14:36.974Z"
   },
   {
    "duration": 34,
    "start_time": "2022-04-12T05:14:37.020Z"
   },
   {
    "duration": 42,
    "start_time": "2022-04-12T05:14:37.056Z"
   },
   {
    "duration": 62,
    "start_time": "2022-04-12T05:14:37.100Z"
   },
   {
    "duration": 3367,
    "start_time": "2022-04-12T05:14:37.163Z"
   },
   {
    "duration": 1376,
    "start_time": "2022-04-12T05:14:40.532Z"
   },
   {
    "duration": 5,
    "start_time": "2022-04-12T05:14:41.910Z"
   },
   {
    "duration": 11,
    "start_time": "2022-04-12T05:14:41.917Z"
   },
   {
    "duration": 32,
    "start_time": "2022-04-12T05:14:41.930Z"
   },
   {
    "duration": 497,
    "start_time": "2022-04-12T05:14:41.964Z"
   },
   {
    "duration": 293,
    "start_time": "2022-04-12T05:21:30.216Z"
   },
   {
    "duration": 4,
    "start_time": "2022-04-12T05:21:48.060Z"
   },
   {
    "duration": 1348,
    "start_time": "2022-04-12T05:21:54.373Z"
   },
   {
    "duration": 17,
    "start_time": "2022-04-12T05:21:55.723Z"
   },
   {
    "duration": 4,
    "start_time": "2022-04-12T05:21:55.741Z"
   },
   {
    "duration": 13,
    "start_time": "2022-04-12T05:21:55.747Z"
   },
   {
    "duration": 11,
    "start_time": "2022-04-12T05:21:55.762Z"
   },
   {
    "duration": 45,
    "start_time": "2022-04-12T05:21:55.775Z"
   },
   {
    "duration": 10,
    "start_time": "2022-04-12T05:21:55.848Z"
   },
   {
    "duration": 41,
    "start_time": "2022-04-12T05:21:55.859Z"
   },
   {
    "duration": 67,
    "start_time": "2022-04-12T05:21:55.902Z"
   },
   {
    "duration": 3403,
    "start_time": "2022-04-12T05:21:55.972Z"
   },
   {
    "duration": 1347,
    "start_time": "2022-04-12T05:21:59.377Z"
   },
   {
    "duration": 5,
    "start_time": "2022-04-12T05:22:00.726Z"
   },
   {
    "duration": 11,
    "start_time": "2022-04-12T05:22:00.733Z"
   },
   {
    "duration": 31,
    "start_time": "2022-04-12T05:22:00.746Z"
   },
   {
    "duration": 501,
    "start_time": "2022-04-12T05:22:00.778Z"
   },
   {
    "duration": 292,
    "start_time": "2022-04-12T05:27:58.337Z"
   },
   {
    "duration": 1437,
    "start_time": "2022-04-12T05:29:14.337Z"
   },
   {
    "duration": 16,
    "start_time": "2022-04-12T05:29:15.776Z"
   },
   {
    "duration": 3,
    "start_time": "2022-04-12T05:29:15.793Z"
   },
   {
    "duration": 18,
    "start_time": "2022-04-12T05:29:15.799Z"
   },
   {
    "duration": 14,
    "start_time": "2022-04-12T05:29:15.819Z"
   },
   {
    "duration": 48,
    "start_time": "2022-04-12T05:29:15.835Z"
   },
   {
    "duration": 7,
    "start_time": "2022-04-12T05:29:15.885Z"
   },
   {
    "duration": 53,
    "start_time": "2022-04-12T05:29:15.894Z"
   },
   {
    "duration": 40,
    "start_time": "2022-04-12T05:29:15.949Z"
   },
   {
    "duration": 3321,
    "start_time": "2022-04-12T05:29:15.991Z"
   },
   {
    "duration": 1366,
    "start_time": "2022-04-12T05:29:19.314Z"
   },
   {
    "duration": 5,
    "start_time": "2022-04-12T05:29:20.681Z"
   },
   {
    "duration": 9,
    "start_time": "2022-04-12T05:29:20.688Z"
   },
   {
    "duration": 29,
    "start_time": "2022-04-12T05:29:20.699Z"
   },
   {
    "duration": 478,
    "start_time": "2022-04-12T05:29:20.730Z"
   },
   {
    "duration": 8,
    "start_time": "2022-04-12T05:33:53.185Z"
   },
   {
    "duration": 1452,
    "start_time": "2022-04-12T05:38:50.757Z"
   },
   {
    "duration": 21,
    "start_time": "2022-04-12T05:38:52.211Z"
   },
   {
    "duration": 4,
    "start_time": "2022-04-12T05:38:52.233Z"
   },
   {
    "duration": 9,
    "start_time": "2022-04-12T05:38:52.239Z"
   },
   {
    "duration": 15,
    "start_time": "2022-04-12T05:38:52.249Z"
   },
   {
    "duration": 41,
    "start_time": "2022-04-12T05:38:52.266Z"
   },
   {
    "duration": 8,
    "start_time": "2022-04-12T05:38:52.309Z"
   },
   {
    "duration": 62,
    "start_time": "2022-04-12T05:38:52.318Z"
   },
   {
    "duration": 42,
    "start_time": "2022-04-12T05:38:52.381Z"
   },
   {
    "duration": 3356,
    "start_time": "2022-04-12T05:38:52.425Z"
   },
   {
    "duration": 1334,
    "start_time": "2022-04-12T05:38:55.782Z"
   },
   {
    "duration": 5,
    "start_time": "2022-04-12T05:38:57.118Z"
   },
   {
    "duration": 12,
    "start_time": "2022-04-12T05:38:57.124Z"
   },
   {
    "duration": 34,
    "start_time": "2022-04-12T05:38:57.138Z"
   },
   {
    "duration": 494,
    "start_time": "2022-04-12T05:38:57.173Z"
   },
   {
    "duration": 0,
    "start_time": "2022-04-12T05:38:57.669Z"
   },
   {
    "duration": 15,
    "start_time": "2022-04-12T05:39:08.102Z"
   },
   {
    "duration": 95216,
    "start_time": "2022-04-12T05:39:30.922Z"
   },
   {
    "duration": 1415,
    "start_time": "2022-04-12T08:22:20.182Z"
   },
   {
    "duration": 22,
    "start_time": "2022-04-12T08:22:21.599Z"
   },
   {
    "duration": 3,
    "start_time": "2022-04-12T08:22:21.623Z"
   },
   {
    "duration": 15,
    "start_time": "2022-04-12T08:22:21.628Z"
   },
   {
    "duration": 12,
    "start_time": "2022-04-12T08:22:21.647Z"
   },
   {
    "duration": 41,
    "start_time": "2022-04-12T08:22:21.661Z"
   },
   {
    "duration": 8,
    "start_time": "2022-04-12T08:22:21.704Z"
   },
   {
    "duration": 66,
    "start_time": "2022-04-12T08:22:21.714Z"
   },
   {
    "duration": 40,
    "start_time": "2022-04-12T08:22:21.782Z"
   },
   {
    "duration": 3452,
    "start_time": "2022-04-12T08:22:21.825Z"
   },
   {
    "duration": 1354,
    "start_time": "2022-04-12T08:22:25.278Z"
   },
   {
    "duration": 5,
    "start_time": "2022-04-12T08:22:26.634Z"
   },
   {
    "duration": 9,
    "start_time": "2022-04-12T08:22:26.641Z"
   },
   {
    "duration": 32,
    "start_time": "2022-04-12T08:22:26.652Z"
   },
   {
    "duration": 492,
    "start_time": "2022-04-12T08:22:26.685Z"
   },
   {
    "duration": 0,
    "start_time": "2022-04-12T08:22:27.179Z"
   },
   {
    "duration": 0,
    "start_time": "2022-04-12T08:22:27.179Z"
   },
   {
    "duration": 315,
    "start_time": "2022-04-12T09:34:54.825Z"
   },
   {
    "duration": 1393,
    "start_time": "2022-04-12T09:35:33.599Z"
   },
   {
    "duration": 16,
    "start_time": "2022-04-12T09:35:34.994Z"
   },
   {
    "duration": 3,
    "start_time": "2022-04-12T09:35:35.012Z"
   },
   {
    "duration": 12,
    "start_time": "2022-04-12T09:35:35.017Z"
   },
   {
    "duration": 23,
    "start_time": "2022-04-12T09:35:35.031Z"
   },
   {
    "duration": 44,
    "start_time": "2022-04-12T09:35:35.056Z"
   },
   {
    "duration": 8,
    "start_time": "2022-04-12T09:35:35.102Z"
   },
   {
    "duration": 61,
    "start_time": "2022-04-12T09:35:35.111Z"
   },
   {
    "duration": 40,
    "start_time": "2022-04-12T09:35:35.174Z"
   },
   {
    "duration": 3473,
    "start_time": "2022-04-12T09:35:35.217Z"
   },
   {
    "duration": 1432,
    "start_time": "2022-04-12T09:35:38.692Z"
   },
   {
    "duration": 5,
    "start_time": "2022-04-12T09:35:40.126Z"
   },
   {
    "duration": 8,
    "start_time": "2022-04-12T09:35:40.132Z"
   },
   {
    "duration": 30,
    "start_time": "2022-04-12T09:35:40.142Z"
   },
   {
    "duration": 422,
    "start_time": "2022-04-12T09:35:40.173Z"
   },
   {
    "duration": 99071,
    "start_time": "2022-04-12T09:35:40.596Z"
   },
   {
    "duration": 3,
    "start_time": "2022-04-12T09:37:19.668Z"
   },
   {
    "duration": 108,
    "start_time": "2022-04-12T09:55:08.679Z"
   },
   {
    "duration": 1018,
    "start_time": "2022-04-12T09:55:16.742Z"
   },
   {
    "duration": 1057,
    "start_time": "2022-04-12T09:56:53.601Z"
   },
   {
    "duration": 96203,
    "start_time": "2022-04-12T10:03:27.295Z"
   },
   {
    "duration": 1385,
    "start_time": "2022-04-12T10:05:14.664Z"
   },
   {
    "duration": 11,
    "start_time": "2022-04-12T10:20:31.479Z"
   },
   {
    "duration": 13,
    "start_time": "2022-04-12T10:20:44.083Z"
   },
   {
    "duration": 3,
    "start_time": "2022-04-12T10:21:16.891Z"
   },
   {
    "duration": 11,
    "start_time": "2022-04-12T10:21:27.055Z"
   },
   {
    "duration": 23999,
    "start_time": "2022-04-12T10:21:44.103Z"
   },
   {
    "duration": 77,
    "start_time": "2022-04-12T10:26:58.676Z"
   },
   {
    "duration": 9,
    "start_time": "2022-04-12T10:27:07.432Z"
   },
   {
    "duration": 1292,
    "start_time": "2022-04-12T10:27:24.458Z"
   },
   {
    "duration": 10,
    "start_time": "2022-04-12T10:27:29.088Z"
   },
   {
    "duration": 1431,
    "start_time": "2022-04-12T10:27:36.171Z"
   },
   {
    "duration": 17,
    "start_time": "2022-04-12T10:27:37.604Z"
   },
   {
    "duration": 4,
    "start_time": "2022-04-12T10:27:37.622Z"
   },
   {
    "duration": 20,
    "start_time": "2022-04-12T10:27:37.628Z"
   },
   {
    "duration": 15,
    "start_time": "2022-04-12T10:27:37.650Z"
   },
   {
    "duration": 44,
    "start_time": "2022-04-12T10:27:37.667Z"
   },
   {
    "duration": 8,
    "start_time": "2022-04-12T10:27:37.712Z"
   },
   {
    "duration": 62,
    "start_time": "2022-04-12T10:27:37.722Z"
   },
   {
    "duration": 39,
    "start_time": "2022-04-12T10:27:37.786Z"
   },
   {
    "duration": 3412,
    "start_time": "2022-04-12T10:27:37.847Z"
   },
   {
    "duration": 1419,
    "start_time": "2022-04-12T10:27:41.261Z"
   },
   {
    "duration": 6,
    "start_time": "2022-04-12T10:27:42.682Z"
   },
   {
    "duration": 12,
    "start_time": "2022-04-12T10:27:42.690Z"
   },
   {
    "duration": 36,
    "start_time": "2022-04-12T10:27:42.703Z"
   },
   {
    "duration": 445,
    "start_time": "2022-04-12T10:27:42.741Z"
   },
   {
    "duration": 97162,
    "start_time": "2022-04-12T10:27:43.188Z"
   },
   {
    "duration": 1399,
    "start_time": "2022-04-12T10:29:20.352Z"
   },
   {
    "duration": 95,
    "start_time": "2022-04-12T10:29:21.753Z"
   },
   {
    "duration": 23771,
    "start_time": "2022-04-12T10:29:21.849Z"
   },
   {
    "duration": 113,
    "start_time": "2022-04-12T10:29:45.622Z"
   },
   {
    "duration": 3,
    "start_time": "2022-04-12T10:31:32.928Z"
   },
   {
    "duration": 1355,
    "start_time": "2022-04-12T10:41:25.693Z"
   },
   {
    "duration": 1482,
    "start_time": "2022-04-12T10:43:18.734Z"
   },
   {
    "duration": 17,
    "start_time": "2022-04-12T10:43:20.217Z"
   },
   {
    "duration": 4,
    "start_time": "2022-04-12T10:43:20.235Z"
   },
   {
    "duration": 13,
    "start_time": "2022-04-12T10:43:20.241Z"
   },
   {
    "duration": 13,
    "start_time": "2022-04-12T10:43:20.256Z"
   },
   {
    "duration": 41,
    "start_time": "2022-04-12T10:43:20.271Z"
   },
   {
    "duration": 38,
    "start_time": "2022-04-12T10:43:20.314Z"
   },
   {
    "duration": 41,
    "start_time": "2022-04-12T10:43:20.353Z"
   },
   {
    "duration": 58,
    "start_time": "2022-04-12T10:43:20.396Z"
   },
   {
    "duration": 3440,
    "start_time": "2022-04-12T10:43:20.458Z"
   },
   {
    "duration": 1429,
    "start_time": "2022-04-12T10:43:23.899Z"
   },
   {
    "duration": 5,
    "start_time": "2022-04-12T10:43:25.330Z"
   },
   {
    "duration": 10,
    "start_time": "2022-04-12T10:43:25.336Z"
   },
   {
    "duration": 30,
    "start_time": "2022-04-12T10:43:25.347Z"
   },
   {
    "duration": 423,
    "start_time": "2022-04-12T10:43:25.378Z"
   },
   {
    "duration": 99285,
    "start_time": "2022-04-12T10:43:25.802Z"
   },
   {
    "duration": 1378,
    "start_time": "2022-04-12T10:45:05.089Z"
   },
   {
    "duration": 4,
    "start_time": "2022-04-12T10:45:06.548Z"
   },
   {
    "duration": 24542,
    "start_time": "2022-04-12T10:45:06.553Z"
   },
   {
    "duration": 34422,
    "start_time": "2022-04-13T10:02:55.573Z"
   },
   {
    "duration": 65,
    "start_time": "2022-04-13T10:03:29.998Z"
   },
   {
    "duration": 5,
    "start_time": "2022-04-13T10:03:30.065Z"
   },
   {
    "duration": 28,
    "start_time": "2022-04-13T10:03:30.074Z"
   },
   {
    "duration": 28,
    "start_time": "2022-04-13T10:03:30.104Z"
   },
   {
    "duration": 73,
    "start_time": "2022-04-13T10:03:30.134Z"
   },
   {
    "duration": 11,
    "start_time": "2022-04-13T10:03:30.210Z"
   },
   {
    "duration": 71,
    "start_time": "2022-04-13T10:03:30.223Z"
   },
   {
    "duration": 88,
    "start_time": "2022-04-13T10:03:30.296Z"
   },
   {
    "duration": 6146,
    "start_time": "2022-04-13T10:03:30.387Z"
   },
   {
    "duration": 2378,
    "start_time": "2022-04-13T10:03:36.535Z"
   },
   {
    "duration": 7,
    "start_time": "2022-04-13T10:03:38.915Z"
   },
   {
    "duration": 12,
    "start_time": "2022-04-13T10:03:38.924Z"
   },
   {
    "duration": 62,
    "start_time": "2022-04-13T10:03:38.939Z"
   },
   {
    "duration": 629,
    "start_time": "2022-04-13T10:03:39.003Z"
   },
   {
    "duration": 168742,
    "start_time": "2022-04-13T10:03:39.634Z"
   },
   {
    "duration": 1394,
    "start_time": "2022-04-13T10:06:28.378Z"
   },
   {
    "duration": 80,
    "start_time": "2022-04-13T10:06:29.774Z"
   },
   {
    "duration": 39831,
    "start_time": "2022-04-13T10:06:29.857Z"
   },
   {
    "duration": 10,
    "start_time": "2022-04-14T07:57:02.082Z"
   },
   {
    "duration": 1983,
    "start_time": "2022-04-14T07:57:22.358Z"
   },
   {
    "duration": 24,
    "start_time": "2022-04-14T07:57:24.344Z"
   },
   {
    "duration": 5,
    "start_time": "2022-04-14T07:57:24.370Z"
   },
   {
    "duration": 21,
    "start_time": "2022-04-14T07:57:24.378Z"
   },
   {
    "duration": 33,
    "start_time": "2022-04-14T07:57:24.402Z"
   },
   {
    "duration": 50,
    "start_time": "2022-04-14T07:57:24.438Z"
   },
   {
    "duration": 37,
    "start_time": "2022-04-14T07:57:24.490Z"
   },
   {
    "duration": 59,
    "start_time": "2022-04-14T07:57:24.530Z"
   },
   {
    "duration": 73,
    "start_time": "2022-04-14T07:57:24.591Z"
   },
   {
    "duration": 5528,
    "start_time": "2022-04-14T07:57:24.667Z"
   },
   {
    "duration": 2462,
    "start_time": "2022-04-14T07:57:30.197Z"
   },
   {
    "duration": 7,
    "start_time": "2022-04-14T07:57:32.662Z"
   },
   {
    "duration": 17,
    "start_time": "2022-04-14T07:57:32.671Z"
   },
   {
    "duration": 51,
    "start_time": "2022-04-14T07:57:32.691Z"
   },
   {
    "duration": 691,
    "start_time": "2022-04-14T07:57:32.744Z"
   },
   {
    "duration": 160015,
    "start_time": "2022-04-14T07:57:33.437Z"
   },
   {
    "duration": 1886,
    "start_time": "2022-04-14T08:00:13.455Z"
   },
   {
    "duration": 5,
    "start_time": "2022-04-14T08:00:15.343Z"
   },
   {
    "duration": 30803,
    "start_time": "2022-04-14T08:00:15.350Z"
   },
   {
    "duration": 6,
    "start_time": "2022-04-14T08:00:46.155Z"
   },
   {
    "duration": 13,
    "start_time": "2022-04-14T08:00:46.163Z"
   },
   {
    "duration": 1660,
    "start_time": "2022-04-14T08:16:27.691Z"
   },
   {
    "duration": 22,
    "start_time": "2022-04-14T08:16:29.354Z"
   },
   {
    "duration": 4,
    "start_time": "2022-04-14T08:16:29.378Z"
   },
   {
    "duration": 16,
    "start_time": "2022-04-14T08:16:29.384Z"
   },
   {
    "duration": 23,
    "start_time": "2022-04-14T08:16:29.402Z"
   },
   {
    "duration": 55,
    "start_time": "2022-04-14T08:16:29.427Z"
   },
   {
    "duration": 9,
    "start_time": "2022-04-14T08:16:29.483Z"
   },
   {
    "duration": 46,
    "start_time": "2022-04-14T08:16:29.517Z"
   },
   {
    "duration": 67,
    "start_time": "2022-04-14T08:16:29.565Z"
   },
   {
    "duration": 3991,
    "start_time": "2022-04-14T08:16:29.635Z"
   },
   {
    "duration": 1650,
    "start_time": "2022-04-14T08:16:33.629Z"
   },
   {
    "duration": 6,
    "start_time": "2022-04-14T08:16:35.282Z"
   },
   {
    "duration": 11,
    "start_time": "2022-04-14T08:16:35.291Z"
   },
   {
    "duration": 43,
    "start_time": "2022-04-14T08:16:35.304Z"
   },
   {
    "duration": 473,
    "start_time": "2022-04-14T08:16:35.349Z"
   },
   {
    "duration": 109066,
    "start_time": "2022-04-14T08:16:35.824Z"
   },
   {
    "duration": 1740,
    "start_time": "2022-04-14T08:18:24.892Z"
   },
   {
    "duration": 4,
    "start_time": "2022-04-14T08:18:26.634Z"
   },
   {
    "duration": 34891,
    "start_time": "2022-04-14T08:18:26.640Z"
   },
   {
    "duration": 5,
    "start_time": "2022-04-14T08:19:01.533Z"
   },
   {
    "duration": 19,
    "start_time": "2022-04-14T08:19:01.540Z"
   },
   {
    "duration": 19,
    "start_time": "2022-04-14T08:19:01.561Z"
   },
   {
    "duration": 109,
    "start_time": "2022-04-14T08:19:01.581Z"
   },
   {
    "duration": 0,
    "start_time": "2022-04-14T08:19:01.691Z"
   },
   {
    "duration": 0,
    "start_time": "2022-04-14T08:19:01.692Z"
   },
   {
    "duration": 6,
    "start_time": "2022-04-14T08:23:46.912Z"
   },
   {
    "duration": 8470,
    "start_time": "2022-04-14T08:24:22.459Z"
   },
   {
    "duration": 3906,
    "start_time": "2022-04-14T08:25:38.248Z"
   },
   {
    "duration": 5,
    "start_time": "2022-04-14T08:27:19.280Z"
   },
   {
    "duration": 224,
    "start_time": "2022-04-14T08:27:27.260Z"
   },
   {
    "duration": 1634,
    "start_time": "2022-04-14T08:29:01.768Z"
   },
   {
    "duration": 23,
    "start_time": "2022-04-14T08:29:03.404Z"
   },
   {
    "duration": 4,
    "start_time": "2022-04-14T08:29:03.430Z"
   },
   {
    "duration": 24,
    "start_time": "2022-04-14T08:29:03.436Z"
   },
   {
    "duration": 21,
    "start_time": "2022-04-14T08:29:03.462Z"
   },
   {
    "duration": 65,
    "start_time": "2022-04-14T08:29:03.485Z"
   },
   {
    "duration": 12,
    "start_time": "2022-04-14T08:29:03.552Z"
   },
   {
    "duration": 65,
    "start_time": "2022-04-14T08:29:03.566Z"
   },
   {
    "duration": 85,
    "start_time": "2022-04-14T08:29:03.634Z"
   },
   {
    "duration": 3927,
    "start_time": "2022-04-14T08:29:03.722Z"
   },
   {
    "duration": 1599,
    "start_time": "2022-04-14T08:29:07.652Z"
   },
   {
    "duration": 6,
    "start_time": "2022-04-14T08:29:09.253Z"
   },
   {
    "duration": 12,
    "start_time": "2022-04-14T08:29:09.261Z"
   },
   {
    "duration": 39,
    "start_time": "2022-04-14T08:29:09.275Z"
   },
   {
    "duration": 489,
    "start_time": "2022-04-14T08:29:09.315Z"
   },
   {
    "duration": 110038,
    "start_time": "2022-04-14T08:29:09.807Z"
   },
   {
    "duration": 1885,
    "start_time": "2022-04-14T08:30:59.847Z"
   },
   {
    "duration": 4,
    "start_time": "2022-04-14T08:31:01.734Z"
   },
   {
    "duration": 33578,
    "start_time": "2022-04-14T08:31:01.741Z"
   },
   {
    "duration": 5,
    "start_time": "2022-04-14T08:31:35.322Z"
   },
   {
    "duration": 12,
    "start_time": "2022-04-14T08:31:35.330Z"
   },
   {
    "duration": 208,
    "start_time": "2022-04-14T08:31:35.344Z"
   },
   {
    "duration": 0,
    "start_time": "2022-04-14T08:31:35.554Z"
   },
   {
    "duration": 4,
    "start_time": "2022-04-14T08:34:37.772Z"
   },
   {
    "duration": 4,
    "start_time": "2022-04-14T08:34:43.904Z"
   },
   {
    "duration": 5,
    "start_time": "2022-04-14T08:34:45.792Z"
   },
   {
    "duration": 8609,
    "start_time": "2022-04-14T08:34:48.076Z"
   },
   {
    "duration": 3982,
    "start_time": "2022-04-14T08:34:56.688Z"
   },
   {
    "duration": 9,
    "start_time": "2022-04-15T09:14:31.200Z"
   },
   {
    "duration": 1608,
    "start_time": "2022-04-15T09:14:36.002Z"
   },
   {
    "duration": 18,
    "start_time": "2022-04-15T09:14:37.612Z"
   },
   {
    "duration": 4,
    "start_time": "2022-04-15T09:14:37.632Z"
   },
   {
    "duration": 13,
    "start_time": "2022-04-15T09:14:37.638Z"
   },
   {
    "duration": 28,
    "start_time": "2022-04-15T09:14:37.653Z"
   },
   {
    "duration": 49,
    "start_time": "2022-04-15T09:14:37.683Z"
   },
   {
    "duration": 12,
    "start_time": "2022-04-15T09:14:37.735Z"
   },
   {
    "duration": 68,
    "start_time": "2022-04-15T09:14:37.749Z"
   },
   {
    "duration": 68,
    "start_time": "2022-04-15T09:14:37.819Z"
   },
   {
    "duration": 3767,
    "start_time": "2022-04-15T09:14:37.890Z"
   },
   {
    "duration": 1547,
    "start_time": "2022-04-15T09:14:41.659Z"
   },
   {
    "duration": 7,
    "start_time": "2022-04-15T09:14:43.208Z"
   },
   {
    "duration": 8,
    "start_time": "2022-04-15T09:14:43.217Z"
   },
   {
    "duration": 38,
    "start_time": "2022-04-15T09:14:43.227Z"
   },
   {
    "duration": 451,
    "start_time": "2022-04-15T09:14:43.267Z"
   },
   {
    "duration": 107460,
    "start_time": "2022-04-15T09:14:43.720Z"
   },
   {
    "duration": 1601,
    "start_time": "2022-04-15T09:16:31.182Z"
   },
   {
    "duration": 4,
    "start_time": "2022-04-15T09:16:32.785Z"
   },
   {
    "duration": 6,
    "start_time": "2022-04-15T09:16:32.790Z"
   },
   {
    "duration": 7,
    "start_time": "2022-04-15T09:16:32.798Z"
   },
   {
    "duration": 7466,
    "start_time": "2022-04-15T09:16:32.806Z"
   },
   {
    "duration": 3653,
    "start_time": "2022-04-15T09:16:40.274Z"
   },
   {
    "duration": 4,
    "start_time": "2022-04-15T09:16:43.928Z"
   },
   {
    "duration": 3646,
    "start_time": "2022-04-15T09:16:43.934Z"
   },
   {
    "duration": 217,
    "start_time": "2022-04-15T09:20:17.731Z"
   },
   {
    "duration": 12,
    "start_time": "2022-04-15T09:22:46.995Z"
   },
   {
    "duration": 83,
    "start_time": "2022-04-15T09:23:46.191Z"
   },
   {
    "duration": 105,
    "start_time": "2022-04-15T09:24:00.211Z"
   },
   {
    "duration": 79,
    "start_time": "2022-04-15T09:24:07.271Z"
   },
   {
    "duration": 76,
    "start_time": "2022-04-15T09:24:23.355Z"
   },
   {
    "duration": 14,
    "start_time": "2022-04-15T09:24:30.699Z"
   },
   {
    "duration": 1312,
    "start_time": "2022-04-15T09:24:54.900Z"
   },
   {
    "duration": 142,
    "start_time": "2022-04-15T09:25:11.199Z"
   },
   {
    "duration": 1585,
    "start_time": "2022-04-15T09:26:09.287Z"
   },
   {
    "duration": 341,
    "start_time": "2022-04-15T09:26:20.075Z"
   },
   {
    "duration": 147,
    "start_time": "2022-04-15T09:27:06.904Z"
   },
   {
    "duration": 144,
    "start_time": "2022-04-15T09:27:14.459Z"
   },
   {
    "duration": 255,
    "start_time": "2022-04-15T09:27:28.320Z"
   },
   {
    "duration": 158,
    "start_time": "2022-04-15T09:27:30.952Z"
   },
   {
    "duration": 138,
    "start_time": "2022-04-15T09:28:04.224Z"
   },
   {
    "duration": 1426,
    "start_time": "2022-04-15T09:31:09.492Z"
   },
   {
    "duration": 17,
    "start_time": "2022-04-15T09:31:10.920Z"
   },
   {
    "duration": 4,
    "start_time": "2022-04-15T09:31:10.938Z"
   },
   {
    "duration": 11,
    "start_time": "2022-04-15T09:31:10.943Z"
   },
   {
    "duration": 21,
    "start_time": "2022-04-15T09:31:10.956Z"
   },
   {
    "duration": 46,
    "start_time": "2022-04-15T09:31:10.979Z"
   },
   {
    "duration": 9,
    "start_time": "2022-04-15T09:31:11.027Z"
   },
   {
    "duration": 64,
    "start_time": "2022-04-15T09:31:11.037Z"
   },
   {
    "duration": 43,
    "start_time": "2022-04-15T09:31:11.102Z"
   },
   {
    "duration": 3658,
    "start_time": "2022-04-15T09:31:11.146Z"
   },
   {
    "duration": 1531,
    "start_time": "2022-04-15T09:31:14.806Z"
   },
   {
    "duration": 5,
    "start_time": "2022-04-15T09:31:16.339Z"
   },
   {
    "duration": 17,
    "start_time": "2022-04-15T09:31:16.346Z"
   },
   {
    "duration": 46,
    "start_time": "2022-04-15T09:31:16.366Z"
   },
   {
    "duration": 433,
    "start_time": "2022-04-15T09:31:16.414Z"
   },
   {
    "duration": 104157,
    "start_time": "2022-04-15T09:31:16.849Z"
   },
   {
    "duration": 1574,
    "start_time": "2022-04-15T09:33:01.008Z"
   },
   {
    "duration": 4,
    "start_time": "2022-04-15T09:33:02.584Z"
   },
   {
    "duration": 22,
    "start_time": "2022-04-15T09:33:02.589Z"
   },
   {
    "duration": 23,
    "start_time": "2022-04-15T09:33:02.613Z"
   },
   {
    "duration": 7447,
    "start_time": "2022-04-15T09:33:02.638Z"
   },
   {
    "duration": 2,
    "start_time": "2022-04-15T09:33:10.087Z"
   },
   {
    "duration": 17,
    "start_time": "2022-04-15T09:33:10.091Z"
   },
   {
    "duration": 151,
    "start_time": "2022-04-15T09:33:10.110Z"
   },
   {
    "duration": 158,
    "start_time": "2022-04-15T09:33:10.263Z"
   },
   {
    "duration": 146,
    "start_time": "2022-04-15T09:33:10.422Z"
   },
   {
    "duration": 151,
    "start_time": "2022-04-15T09:33:10.569Z"
   },
   {
    "duration": 154,
    "start_time": "2022-04-15T09:33:10.721Z"
   },
   {
    "duration": 1448,
    "start_time": "2022-04-15T09:57:51.561Z"
   },
   {
    "duration": 18,
    "start_time": "2022-04-15T09:57:53.011Z"
   },
   {
    "duration": 3,
    "start_time": "2022-04-15T09:57:53.031Z"
   },
   {
    "duration": 14,
    "start_time": "2022-04-15T09:57:53.036Z"
   },
   {
    "duration": 12,
    "start_time": "2022-04-15T09:57:53.052Z"
   },
   {
    "duration": 45,
    "start_time": "2022-04-15T09:57:53.073Z"
   },
   {
    "duration": 8,
    "start_time": "2022-04-15T09:57:53.120Z"
   },
   {
    "duration": 61,
    "start_time": "2022-04-15T09:57:53.129Z"
   },
   {
    "duration": 41,
    "start_time": "2022-04-15T09:57:53.192Z"
   },
   {
    "duration": 3574,
    "start_time": "2022-04-15T09:57:53.236Z"
   },
   {
    "duration": 1493,
    "start_time": "2022-04-15T09:57:56.812Z"
   },
   {
    "duration": 5,
    "start_time": "2022-04-15T09:57:58.307Z"
   },
   {
    "duration": 9,
    "start_time": "2022-04-15T09:57:58.314Z"
   },
   {
    "duration": 34,
    "start_time": "2022-04-15T09:57:58.324Z"
   },
   {
    "duration": 424,
    "start_time": "2022-04-15T09:57:58.359Z"
   },
   {
    "duration": 105388,
    "start_time": "2022-04-15T09:57:58.784Z"
   },
   {
    "duration": 1503,
    "start_time": "2022-04-15T09:59:44.175Z"
   },
   {
    "duration": 4,
    "start_time": "2022-04-15T09:59:45.679Z"
   },
   {
    "duration": 9,
    "start_time": "2022-04-15T09:59:45.684Z"
   },
   {
    "duration": 8,
    "start_time": "2022-04-15T09:59:45.695Z"
   },
   {
    "duration": 7568,
    "start_time": "2022-04-15T09:59:45.705Z"
   },
   {
    "duration": 2,
    "start_time": "2022-04-15T09:59:53.275Z"
   },
   {
    "duration": 17,
    "start_time": "2022-04-15T09:59:53.279Z"
   },
   {
    "duration": 156,
    "start_time": "2022-04-15T09:59:53.298Z"
   },
   {
    "duration": 173,
    "start_time": "2022-04-15T09:59:53.455Z"
   },
   {
    "duration": 161,
    "start_time": "2022-04-15T09:59:53.630Z"
   },
   {
    "duration": 159,
    "start_time": "2022-04-15T09:59:53.793Z"
   },
   {
    "duration": 167,
    "start_time": "2022-04-15T09:59:53.956Z"
   }
  ],
  "kernelspec": {
   "display_name": "Python 3 (ipykernel)",
   "language": "python",
   "name": "python3"
  },
  "language_info": {
   "codemirror_mode": {
    "name": "ipython",
    "version": 3
   },
   "file_extension": ".py",
   "mimetype": "text/x-python",
   "name": "python",
   "nbconvert_exporter": "python",
   "pygments_lexer": "ipython3",
   "version": "3.9.7"
  },
  "toc": {
   "base_numbering": 1,
   "nav_menu": {},
   "number_sections": true,
   "sideBar": true,
   "skip_h1_title": true,
   "title_cell": "Table of Contents",
   "title_sidebar": "Contents",
   "toc_cell": false,
   "toc_position": {},
   "toc_section_display": true,
   "toc_window_display": false
  }
 },
 "nbformat": 4,
 "nbformat_minor": 2
}
